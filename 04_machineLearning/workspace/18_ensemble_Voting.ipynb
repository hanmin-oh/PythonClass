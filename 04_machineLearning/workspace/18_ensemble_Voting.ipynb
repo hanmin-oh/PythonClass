{
 "cells": [
  {
   "cell_type": "code",
   "execution_count": 3,
   "id": "6a0ce1e5",
   "metadata": {},
   "outputs": [],
   "source": [
    "%config Completer.use_jedi = False\n",
    "import warnings\n",
    "warnings.filterwarnings(action='ignore')\n",
    "import pandas as pd\n",
    "import numpy as np\n",
    "import seaborn as sns\n",
    "import matplotlib.pyplot as plt\n",
    "from sklearn.model_selection import train_test_split\n",
    "from sklearn.metrics import accuracy_score\n",
    "from sklearn.metrics import confusion_matrix\n",
    "from sklearn.metrics import classification_report"
   ]
  },
  {
   "cell_type": "code",
   "execution_count": 29,
   "id": "cec586b4",
   "metadata": {},
   "outputs": [],
   "source": [
    "from sklearn.datasets import load_digits # 사이킷런이 제공하는 MNIST 손글씨 데이터를 불러오기 위해 import 한다.\n",
    "from sklearn.neighbors import KNeighborsClassifier # kNN\n",
    "from sklearn.svm import SVC # SVM\n",
    "from sklearn import tree # 의사결정 트리\n",
    "from sklearn.ensemble import VotingClassifier # 하드/소프트 보팅을 계산하기 위해 import 한다."
   ]
  },
  {
   "cell_type": "code",
   "execution_count": 30,
   "id": "3f29498a",
   "metadata": {
    "scrolled": false
   },
   "outputs": [],
   "source": [
    "mnist = load_digits() # 사이킷런이 제공하는 손글씨 데이터를 불러온다.\n",
    "features, labels = mnist.data, mnist.target"
   ]
  },
  {
   "cell_type": "markdown",
   "id": "cd0a64bd",
   "metadata": {},
   "source": [
    "학습 데이터와 테스트 데이터를 나눈다."
   ]
  },
  {
   "cell_type": "code",
   "execution_count": 31,
   "id": "9e029e04",
   "metadata": {},
   "outputs": [
    {
     "name": "stdout",
     "output_type": "stream",
     "text": [
      "[학습 데이터 개수: 1437 , 테스트 데이터 개수 : 360\n"
     ]
    }
   ],
   "source": [
    "X_train, X_test, y_train, y_test = train_test_split(features, labels, train_size=0.8)\n",
    "print('[학습 데이터 개수: {} , 테스트 데이터 개수 : {}'.format(X_train.shape[0], X_test.shape[0]))"
   ]
  },
  {
   "cell_type": "markdown",
   "id": "72e927b1",
   "metadata": {},
   "source": [
    "단일 모델의 정확도 측정  \n",
    "- 앙상블 정확도를 측정하기에 앞서서 단일 모델들의 정확도를 kNN, SVC, 의사 결정 트리 분류기를 만들어 정확도를 계산한다."
   ]
  },
  {
   "cell_type": "code",
   "execution_count": 32,
   "id": "986a20a6",
   "metadata": {},
   "outputs": [
    {
     "name": "stdout",
     "output_type": "stream",
     "text": [
      "정확도: 84.72%\n"
     ]
    }
   ],
   "source": [
    "# 먼저 \n",
    "knn = KNeighborsClassifier(n_neighbors=299).fit(X_train, y_train)\n",
    "knn_predict = knn.predict(X_test)\n",
    "print('정확도: {:6.2%}'.format(accuracy_score(y_test, knn_predict)))"
   ]
  },
  {
   "cell_type": "code",
   "execution_count": 33,
   "id": "88b4ccb0",
   "metadata": {},
   "outputs": [
    {
     "name": "stdout",
     "output_type": "stream",
     "text": [
      "svm accuracy: 90.000000%\n"
     ]
    }
   ],
   "source": [
    "# SVM\n",
    "svm = SVC(C=0.1, gamma=0.003, probability=True, random_state=35).fit(X_train, y_train)\n",
    "svm_predict = svm.predict(X_test)\n",
    "print('svm accuracy: {:%}'.format(accuracy_score(y_test, svm_predict)))"
   ]
  },
  {
   "cell_type": "code",
   "execution_count": 34,
   "id": "7f846741",
   "metadata": {
    "scrolled": true
   },
   "outputs": [
    {
     "name": "stdout",
     "output_type": "stream",
     "text": [
      "dtree accuracy: 82.777778%\n"
     ]
    }
   ],
   "source": [
    "# 의사결정 트리\n",
    "dtree = tree.DecisionTreeClassifier(max_depth=8, random_state=35).fit(X_train, y_train)\n",
    "dtree_predict = dtree.predict(X_test)\n",
    "print('dtree accuracy: {:%}'.format(accuracy_score(y_test, dtree_predict)))"
   ]
  },
  {
   "cell_type": "markdown",
   "id": "4a033b2b",
   "metadata": {},
   "source": [
    "하드 보팅  \n",
    "- 일반적인 투표와 같이 각 분류기의 예측값들을 모아 가장 많은 투표를 받은 예측값으로 최종 결론을 내린다."
   ]
  },
  {
   "cell_type": "code",
   "execution_count": 35,
   "id": "db8960f0",
   "metadata": {},
   "outputs": [
    {
     "name": "stdout",
     "output_type": "stream",
     "text": [
      "hard_voting: 96.388889%\n"
     ]
    }
   ],
   "source": [
    "hv_clf = VotingClassifier(estimators=[('knn', knn), ('svm', svm), ('decision_tree', dtree)], weights=[1, 1, 1],\n",
    "                voting='hard').fit(X_train, y_train)\n",
    "hard_voting_predict = voting_clf.predict(X_test)\n",
    "print('hard_voting: {:%}'.format(accuracy_score(y_test, hard_voting_predict)))"
   ]
  },
  {
   "cell_type": "code",
   "execution_count": 36,
   "id": "4f1db075",
   "metadata": {},
   "outputs": [
    {
     "name": "stdout",
     "output_type": "stream",
     "text": [
      "soft_voting: 96.388889%\n"
     ]
    }
   ],
   "source": [
    "sf_clf = VotingClassifier(estimators=[('knn', knn), ('svm', svm), ('decision_tree', dtree)], weights=[1, 1, 1],\n",
    "                voting='soft').fit(X_train, y_train)\n",
    "soft_voting_predict = voting_clf.predict(X_test)\n",
    "print('soft_voting: {:%}'.format(accuracy_score(y_test, soft_voting_predict)))"
   ]
  },
  {
   "cell_type": "markdown",
   "id": "2a2a6e84",
   "metadata": {},
   "source": [
    "확률 합계"
   ]
  },
  {
   "cell_type": "code",
   "execution_count": 42,
   "id": "90f5feb4",
   "metadata": {},
   "outputs": [
    {
     "name": "stdout",
     "output_type": "stream",
     "text": [
      "확률 합계: 1.0\n"
     ]
    }
   ],
   "source": [
    "# predict_proba() 메소드로 분류 모델이 각 클래스(타겟, 레이블, 실제값)의 확률을 계산한다.\n",
    "knn_proba = knn.predict_proba(X_test)\n",
    "# print(len(knn_proba))\n",
    "# print(knn_proba)\n",
    "print('확률 합계: {}'.format(knn_proba[0].sum()))"
   ]
  },
  {
   "cell_type": "code",
   "execution_count": 44,
   "id": "5f9e5cdc",
   "metadata": {},
   "outputs": [
    {
     "name": "stdout",
     "output_type": "stream",
     "text": [
      "확률 합계: 1.0000000000000002\n"
     ]
    }
   ],
   "source": [
    "svm_proba = svm.predict_proba(X_test)\n",
    "print('확률 합계: {}'.format(svm_proba[0].sum()))"
   ]
  },
  {
   "cell_type": "code",
   "execution_count": 46,
   "id": "663ab719",
   "metadata": {
    "scrolled": false
   },
   "outputs": [
    {
     "name": "stdout",
     "output_type": "stream",
     "text": [
      "확률 합계: 1.0\n"
     ]
    }
   ],
   "source": [
    "dtree_proba = dtree.predict_proba(X_test)\n",
    "print('확률 합계: {}'.format(dtree_proba[0].sum()))"
   ]
  },
  {
   "cell_type": "code",
   "execution_count": 47,
   "id": "7161046a",
   "metadata": {},
   "outputs": [
    {
     "name": "stdout",
     "output_type": "stream",
     "text": [
      "hard_voting: 90.555556%\n"
     ]
    }
   ],
   "source": [
    "voting_clf = VotingClassifier(estimators=[('knn', knn), ('svm', svm), ('decision_tree', dtree)], weights=[1, 1, 1],\n",
    "                voting='hard').fit(X_train, y_train)\n",
    "hard_voting_predict = voting_clf.predict(X_test)\n",
    "print('hard_voting: {:%}'.format(accuracy_score(y_test, hard_voting_predict)))"
   ]
  },
  {
   "cell_type": "code",
   "execution_count": 48,
   "id": "bb352739",
   "metadata": {},
   "outputs": [
    {
     "name": "stdout",
     "output_type": "stream",
     "text": [
      "soft_voting: 88.888889%\n"
     ]
    }
   ],
   "source": [
    "voting_clf = VotingClassifier(estimators=[('knn', knn), ('svm', svm), ('decision_tree', dtree)], weights=[1, 1, 1],\n",
    "                voting='soft').fit(X_train, y_train)\n",
    "soft_voting_predict = voting_clf.predict(X_test)\n",
    "print('soft_voting: {:%}'.format(accuracy_score(y_test, soft_voting_predict)))"
   ]
  },
  {
   "cell_type": "markdown",
   "id": "58d41d60",
   "metadata": {},
   "source": [
    "단일 모델과 앙상블 모델의 정확도 비교 시각화"
   ]
  },
  {
   "cell_type": "code",
   "execution_count": 49,
   "id": "8437ae35",
   "metadata": {},
   "outputs": [
    {
     "data": {
      "image/png": "[encoded data removed]",
      "text/plain": [
       "<Figure size 800x600 with 1 Axes>"
      ]
     },
     "metadata": {},
     "output_type": "display_data"
    }
   ],
   "source": [
    "plt.figure(figsize=(8, 6))\n",
    "x = np.arange(5)\n",
    "plt.bar(x, height=[\n",
    "    accuracy_score(y_test, knn_predict),\n",
    "    accuracy_score(y_test, svm_predict),\n",
    "    accuracy_score(y_test, dtree_predict),\n",
    "    accuracy_score(y_test, hard_voting_predict),\n",
    "    accuracy_score(y_test, soft_voting_predict)\n",
    "])\n",
    "plt.xticks(x, ['knn', 'svm', 'decision_tree', 'hard_voting', 'soft_voting'])\n",
    "plt.show()"
   ]
  },
  {
   "cell_type": "code",
   "execution_count": null,
   "id": "dae12f0a",
   "metadata": {},
   "outputs": [],
   "source": []
  },
  {
   "cell_type": "code",
   "execution_count": null,
   "id": "baf45507",
   "metadata": {},
   "outputs": [],
   "source": []
  },
  {
   "cell_type": "code",
   "execution_count": null,
   "id": "95c83222",
   "metadata": {},
   "outputs": [],
   "source": []
  },
  {
   "cell_type": "code",
   "execution_count": null,
   "id": "68abe0ed",
   "metadata": {},
   "outputs": [],
   "source": []
  },
  {
   "cell_type": "code",
   "execution_count": null,
   "id": "7c7b5aac",
   "metadata": {},
   "outputs": [],
   "source": []
  },
  {
   "cell_type": "code",
   "execution_count": null,
   "id": "2ad7ce5a",
   "metadata": {},
   "outputs": [],
   "source": []
  },
  {
   "cell_type": "code",
   "execution_count": null,
   "id": "6b622dbb",
   "metadata": {},
   "outputs": [],
   "source": []
  },
  {
   "cell_type": "code",
   "execution_count": null,
   "id": "917f1745",
   "metadata": {},
   "outputs": [],
   "source": []
  },
  {
   "cell_type": "code",
   "execution_count": null,
   "id": "27494426",
   "metadata": {},
   "outputs": [],
   "source": []
  },
  {
   "cell_type": "code",
   "execution_count": null,
   "id": "c67a158a",
   "metadata": {},
   "outputs": [],
   "source": []
  },
  {
   "cell_type": "code",
   "execution_count": null,
   "id": "4046d59e",
   "metadata": {},
   "outputs": [],
   "source": []
  },
  {
   "cell_type": "code",
   "execution_count": null,
   "id": "40b924a2",
   "metadata": {},
   "outputs": [],
   "source": []
  },
  {
   "cell_type": "code",
   "execution_count": null,
   "id": "7ad9d041",
   "metadata": {},
   "outputs": [],
   "source": []
  },
  {
   "cell_type": "code",
   "execution_count": null,
   "id": "962de80d",
   "metadata": {},
   "outputs": [],
   "source": []
  },
  {
   "cell_type": "code",
   "execution_count": null,
   "id": "8476a12d",
   "metadata": {},
   "outputs": [],
   "source": []
  },
  {
   "cell_type": "code",
   "execution_count": null,
   "id": "7346b61b",
   "metadata": {},
   "outputs": [],
   "source": []
  },
  {
   "cell_type": "code",
   "execution_count": null,
   "id": "56bcdf4f",
   "metadata": {},
   "outputs": [],
   "source": []
  }
 ],
 "metadata": {
  "kernelspec": {
   "display_name": "Python 3 (ipykernel)",
   "language": "python",
   "name": "python3"
  },
  "language_info": {
   "codemirror_mode": {
    "name": "ipython",
    "version": 3
   },
   "file_extension": ".py",
   "mimetype": "text/x-python",
   "name": "python",
   "nbconvert_exporter": "python",
   "pygments_lexer": "ipython3",
   "version": "3.8.6"
  }
 },
 "nbformat": 4,
 "nbformat_minor": 5
}
