{
 "cells": [
  {
   "cell_type": "markdown",
   "id": "ae14c70e",
   "metadata": {},
   "source": [
    "경사 하강법(Gradient Descent)\n",
    "\n",
    "기울기를 너무 크게 잡으면 오차가 커지고 너무 작게 잡아도 오차가 커진다.  \n",
    "기울기를 무한대로 키우면 오차도 무한대로 커지고 기울기를 무한대로 작게해도 오차는 무한대로 커진다."
   ]
  },
  {
   "cell_type": "code",
   "execution_count": 1,
   "id": "c9930ef6",
   "metadata": {},
   "outputs": [
    {
     "name": "stdout",
     "output_type": "stream",
     "text": [
      "WARNING:tensorflow:From c:\\python\\lib\\site-packages\\tensorflow\\python\\compat\\v2_compat.py:107: disable_resource_variables (from tensorflow.python.ops.variable_scope) is deprecated and will be removed in a future version.\n",
      "Instructions for updating:\n",
      "non-resource variables are not supported in the long term\n"
     ]
    }
   ],
   "source": [
    "import warnings\n",
    "warnings.filterwarnings(action='ignore')\n",
    "%config Completer.use_jedi = False\n",
    "import tensorflow.compat.v1 as tf\n",
    "tf.disable_v2_behavior()\n",
    "import numpy as np\n",
    "import pandas as pd\n"
   ]
  },
  {
   "cell_type": "code",
   "execution_count": 2,
   "id": "89b9ecd7",
   "metadata": {},
   "outputs": [],
   "source": [
    "data = [[2, 81],[4, 93], [6, 91], [8, 97]]\n",
    "x = [i[0] for i in data] # 공부 시간\n",
    "y = [i[1] for i in data] # 시험 성적"
   ]
  },
  {
   "cell_type": "code",
   "execution_count": 23,
   "id": "9d3f148e",
   "metadata": {},
   "outputs": [
    {
     "name": "stdout",
     "output_type": "stream",
     "text": [
      "a : [9.25509], b : [38.788353]\n"
     ]
    }
   ],
   "source": [
    "# 기울기 a와 y절편 b를 임의로 정한다.\n",
    "a = tf.Variable(tf.random_uniform([1], 0, 10)) # 기울기(가중치), -100 ~ 10 사이의 난수\n",
    "b = tf.Variable(tf.random_uniform([1], 0, 100)) # y절편(바이어스), -100 ~ 100 사이의 난수\n",
    "sess = tf.Session()\n",
    "sess.run(tf.global_variables_initializer())\n",
    "print('a : {}, b : {}'.format(sess.run(a), sess.run(b)))"
   ]
  },
  {
   "cell_type": "code",
   "execution_count": 24,
   "id": "5f36681f",
   "metadata": {},
   "outputs": [],
   "source": [
    "# 예측 성적(Y)를 얻기 위한 가설(수식)을 만든다.\n",
    "Y = a * x + b"
   ]
  },
  {
   "cell_type": "code",
   "execution_count": 29,
   "id": "e94bc67d",
   "metadata": {},
   "outputs": [],
   "source": [
    "# tensorflow에서 실행할 RMSE(평균 제곱근 오차) 수식(오차 함수)을 만든다.\n",
    "# np.sqrt(((predict_result - y) ** 2).mean()) # numpy에서의 식\n",
    "# tf.square(Y - y): 예측 성적(Y)과 실제 성적(y)의 편차의 제곱을 계산한다.\n",
    "# tf.sqrt(tf.reduce_mean(tf.square(Y - y))): 예측 성적과 실제 성적의 편차의 제곱의 평균에 대한 제곱근을 계산한다.\n",
    "rmse = tf.sqrt(tf.reduce_mean(tf.square(Y - y)))"
   ]
  },
  {
   "cell_type": "code",
   "execution_count": 30,
   "id": "b0e8154e",
   "metadata": {},
   "outputs": [],
   "source": [
    "# 경사 하강법을 이용해서 RMSE를 최소로 하는 값을 찾는 수식을 만든다.\n",
    "learning_rate = 0.1\n",
    "gradient_descent = tf.train.GradientDescentOptimizer(learning_rate).minimize(rmse)"
   ]
  },
  {
   "cell_type": "code",
   "execution_count": 37,
   "id": "dba03b23",
   "metadata": {},
   "outputs": [
    {
     "name": "stdout",
     "output_type": "stream",
     "text": [
      "epoch:    0, RMSE: 41.1428, 기울기: 2.6048, y절편: 36.4399\n",
      "epoch:  200, RMSE: 14.1124, 기울기: 7.9703, y절편: 45.1624\n",
      "epoch:  400, RMSE: 11.0424, 기울기: 6.6752, y절편: 52.8905\n",
      "epoch:  600, RMSE:  8.1013, 기울기: 5.4077, y절편: 60.4546\n",
      "epoch:  800, RMSE:  5.4724, 기울기: 4.2096, y절편: 67.6041\n",
      "epoch: 1000, RMSE:  3.6397, 기울기: 3.2129, y절편: 73.5522\n",
      "epoch: 1200, RMSE:  2.9932, 기울기: 2.6332, y절편: 77.0116\n",
      "epoch: 1400, RMSE:  2.8933, 기울기: 2.4097, y절편: 78.3454\n",
      "epoch: 1600, RMSE:  2.8823, 기울기: 2.3355, y절편: 78.7879\n",
      "epoch: 1800, RMSE:  2.8811, 기울기: 2.3115, y절편: 78.9314\n",
      "epoch: 2000, RMSE:  2.8810, 기울기: 2.3037, y절편: 78.9778\n",
      "epoch: 2200, RMSE:  2.8810, 기울기: 2.3012, y절편: 78.9928\n",
      "epoch: 2400, RMSE:  2.8810, 기울기: 2.3004, y절편: 78.9977\n",
      "epoch: 2600, RMSE:  2.8810, 기울기: 2.3001, y절편: 78.9993\n",
      "epoch: 2800, RMSE:  2.8810, 기울기: 2.3001, y절편: 78.9994\n",
      "epoch: 3000, RMSE:  2.8810, 기울기: 2.3001, y절편: 78.9994\n"
     ]
    }
   ],
   "source": [
    "# 학습 시킨다.\n",
    "import time\n",
    "sess = tf.Session()\n",
    "sess.run(tf.global_variables_initializer())\n",
    "\n",
    "for epoch in range(3001):\n",
    "    sess.run(gradient_descent)\n",
    "    if epoch % 200 == 0:\n",
    "        print('epoch: {:4d}, RMSE: {:7.4f}, 기울기: {:7.4f}, y절편: {:6.4f}'.format(epoch, sess.run(rmse), sess.run(a)[0], sess.run(b)[0]))\n",
    "        time.sleep(0.5)"
   ]
  },
  {
   "cell_type": "code",
   "execution_count": null,
   "id": "8bc0173b",
   "metadata": {},
   "outputs": [],
   "source": []
  },
  {
   "cell_type": "code",
   "execution_count": null,
   "id": "e7c11bb4",
   "metadata": {},
   "outputs": [],
   "source": []
  },
  {
   "cell_type": "code",
   "execution_count": null,
   "id": "28f6e087",
   "metadata": {},
   "outputs": [],
   "source": []
  },
  {
   "cell_type": "code",
   "execution_count": null,
   "id": "13c2fc70",
   "metadata": {},
   "outputs": [],
   "source": []
  },
  {
   "cell_type": "code",
   "execution_count": null,
   "id": "92eebc76",
   "metadata": {},
   "outputs": [],
   "source": []
  },
  {
   "cell_type": "code",
   "execution_count": null,
   "id": "ee725db2",
   "metadata": {},
   "outputs": [],
   "source": []
  },
  {
   "cell_type": "code",
   "execution_count": null,
   "id": "e485865f",
   "metadata": {},
   "outputs": [],
   "source": []
  },
  {
   "cell_type": "code",
   "execution_count": null,
   "id": "02b18fb0",
   "metadata": {},
   "outputs": [],
   "source": []
  },
  {
   "cell_type": "code",
   "execution_count": null,
   "id": "ec0d78c6",
   "metadata": {},
   "outputs": [],
   "source": []
  },
  {
   "cell_type": "code",
   "execution_count": null,
   "id": "cd449dcd",
   "metadata": {},
   "outputs": [],
   "source": []
  },
  {
   "cell_type": "code",
   "execution_count": null,
   "id": "076074a4",
   "metadata": {},
   "outputs": [],
   "source": []
  },
  {
   "cell_type": "code",
   "execution_count": null,
   "id": "f5bb0fa3",
   "metadata": {},
   "outputs": [],
   "source": []
  },
  {
   "cell_type": "code",
   "execution_count": null,
   "id": "a4c71b30",
   "metadata": {},
   "outputs": [],
   "source": []
  },
  {
   "cell_type": "code",
   "execution_count": null,
   "id": "a4bf1228",
   "metadata": {},
   "outputs": [],
   "source": []
  },
  {
   "cell_type": "code",
   "execution_count": null,
   "id": "e2f3a945",
   "metadata": {},
   "outputs": [],
   "source": []
  },
  {
   "cell_type": "code",
   "execution_count": null,
   "id": "9298b555",
   "metadata": {},
   "outputs": [],
   "source": []
  },
  {
   "cell_type": "code",
   "execution_count": null,
   "id": "c54d44cb",
   "metadata": {},
   "outputs": [],
   "source": []
  },
  {
   "cell_type": "code",
   "execution_count": null,
   "id": "0bc09e4b",
   "metadata": {},
   "outputs": [],
   "source": []
  }
 ],
 "metadata": {
  "kernelspec": {
   "display_name": "Python 3 (ipykernel)",
   "language": "python",
   "name": "python3"
  },
  "language_info": {
   "codemirror_mode": {
    "name": "ipython",
    "version": 3
   },
   "file_extension": ".py",
   "mimetype": "text/x-python",
   "name": "python",
   "nbconvert_exporter": "python",
   "pygments_lexer": "ipython3",
   "version": "3.8.6"
  }
 },
 "nbformat": 4,
 "nbformat_minor": 5
}
