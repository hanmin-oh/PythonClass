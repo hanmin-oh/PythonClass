{
 "cells": [
  {
   "cell_type": "code",
   "execution_count": 1,
   "id": "177f36e7",
   "metadata": {},
   "outputs": [
    {
     "name": "stdout",
     "output_type": "stream",
     "text": [
      "WARNING:tensorflow:From c:\\python\\lib\\site-packages\\tensorflow\\python\\compat\\v2_compat.py:107: disable_resource_variables (from tensorflow.python.ops.variable_scope) is deprecated and will be removed in a future version.\n",
      "Instructions for updating:\n",
      "non-resource variables are not supported in the long term\n"
     ]
    }
   ],
   "source": [
    "import warnings\n",
    "warnings.filterwarnings(action='ignore')\n",
    "%config Computer.use_jedi = False\n",
    "import tensorflow.compat.v1 as tf \n",
    "tf.disable_v2_behavior()"
   ]
  },
  {
   "cell_type": "markdown",
   "id": "34dfd82a",
   "metadata": {},
   "source": [
    "학습 데이터를 만든다."
   ]
  },
  {
   "cell_type": "code",
   "execution_count": 2,
   "id": "1d172927",
   "metadata": {},
   "outputs": [],
   "source": [
    "xData = [1, 2, 3, 4, 5, 6, 7] #1일 근무시간\n",
    "yData = [25000, 55000, 75000, 110000, 120000, 155000, 180000] # 근무시간에 따른 매출 금액. 실제값, 관측값, 답, 레이블"
   ]
  },
  {
   "cell_type": "markdown",
   "id": "326b4f0b",
   "metadata": {},
   "source": [
    "과적합을 방지하기 위해서 난수를 발생시켜 기울기(가중치)와 y절편"
   ]
  },
  {
   "cell_type": "code",
   "execution_count": 5,
   "id": "1fc208c6",
   "metadata": {},
   "outputs": [
    {
     "name": "stdout",
     "output_type": "stream",
     "text": [
      "a=<tf.Variable 'Variable_2:0' shape=(1,) dtype=float32_ref>, b=<tf.Variable 'Variable_3:0' shape=(1,) dtype=float32_ref>\n"
     ]
    }
   ],
   "source": [
    "# random_nuiform(난수의 개수, 최소값, 최대값) : 최대값과 최소값 사이에서 지정한 개수의 난수를 발생시킨다.\n",
    "a = tf.Variable(tf.random_uniform([1], -100, 100)) # 기울기(가중치), -100 ~ 100 사이의 난수\n",
    "b = tf.Variable(tf.random_uniform([1], -100, 100)) # y절편(바이어스), -100 ~ 100 사이의 난수\n",
    "print('a={}, b={}'.format(a, b))"
   ]
  },
  {
   "cell_type": "code",
   "execution_count": 31,
   "id": "a5e2dac1",
   "metadata": {},
   "outputs": [
    {
     "name": "stdout",
     "output_type": "stream",
     "text": [
      "a=[0.86367035], b=[40.542267]\n"
     ]
    }
   ],
   "source": [
    "sess = tf.Session()\n",
    "sess.run(tf.global_variables_initializer())\n",
    "print('a={}, b={}'.format(sess.run(a), sess.run(b)))"
   ]
  },
  {
   "cell_type": "markdown",
   "id": "3bd21b15",
   "metadata": {},
   "source": [
    "근무 시간과 매출 금액을 기억할 tensorflow에서 사용할 자료형(placeholder)를 선언한다."
   ]
  },
  {
   "cell_type": "code",
   "execution_count": 32,
   "id": "50f1d37c",
   "metadata": {},
   "outputs": [],
   "source": [
    "x = tf.placeholder(dtype=tf.float32) # 근무 시간을 기억할 placeholder를 선언한다.\n",
    "y = tf.placeholder(dtype=tf.float32) # 매출 금액을 기억할 placeholder를 선언한다."
   ]
  },
  {
   "cell_type": "markdown",
   "id": "52592889",
   "metadata": {},
   "source": [
    "1차 방정식 형태의 가설을 세우고 오차(손실, 비용) 함수를 정의한다."
   ]
  },
  {
   "cell_type": "code",
   "execution_count": 34,
   "id": "a6603f52",
   "metadata": {},
   "outputs": [],
   "source": [
    "# 1차 방정식 형태의 가설\n",
    "Y = a * x + b\n",
    "# 평균 제곱법을 이용하는 오차 함수\n",
    "# 실제값(yData => y라는 placeholder에 저장한다.)과 예측값(Y)의 편차에 대한 제곱의 평균을 이용한다.\n",
    "# square() : tensorflow에서 제곱값을 계싼한다. \n",
    "# reduce_mean() : tensorflow에서 평균을 계산한다.\n",
    "cost = tf.reduce_mean(tf.square(Y - y)) "
   ]
  },
  {
   "cell_type": "markdown",
   "id": "3bb06f3d",
   "metadata": {},
   "source": [
    "경사 하강법 메소드로 오차 함수의 실행 결과를 가장 작게(최소) 만드는 방향으로 학습하도록 정의한다."
   ]
  },
  {
   "cell_type": "code",
   "execution_count": 47,
   "id": "8c098bc2",
   "metadata": {},
   "outputs": [],
   "source": [
    "# 경사 하강 알고리즘의 학습율(learning rate)설정한다. \n",
    "learning_rate = tf.Variable(0.001)\n",
    "# train.GradientDescentOptimizer(학습율) : 학습율에 따른 오차를 계산한다.\n",
    "# minimize(오차함수) : 경사 하강 알고리즘에 따라 인수로 지정된 오차 함수 실행 결과의 최솟값을 찾는다.\n",
    "train = tf.train.GradientDescentOptimizer(learning_rate).minimize(cost)\n"
   ]
  },
  {
   "cell_type": "markdown",
   "id": "07436e53",
   "metadata": {},
   "source": [
    "학습시킨다."
   ]
  },
  {
   "cell_type": "code",
   "execution_count": 55,
   "id": "93c3516d",
   "metadata": {},
   "outputs": [
    {
     "name": "stdout",
     "output_type": "stream",
     "text": [
      "epoch:    0, 오차: 12123386880.00, 기울기:   990.390, y절편:   262.250\n",
      "epoch:  500, 오차:    21670236.00, 기울기: 24756.113, y절편:  4404.827\n",
      "epoch: 1000, 오차:    21104478.00, 기울기: 24861.242, y절편:  3884.238\n",
      "epoch: 1500, 오차:    20719322.00, 기울기: 24947.980, y절편:  3454.712\n",
      "epoch: 2000, 오차:    20457124.00, 기울기: 25019.547, y절편:  3100.319\n",
      "epoch: 2500, 오차:    20278628.00, 기울기: 25078.586, y절편:  2807.925\n",
      "epoch: 3000, 오차:    20157126.00, 기울기: 25127.305, y절편:  2566.676\n",
      "epoch: 3500, 오차:    20074396.00, 기울기: 25167.502, y절편:  2367.630\n",
      "epoch: 4000, 오차:    20018066.00, 기울기: 25200.660, y절편:  2203.405\n",
      "epoch: 4500, 오차:    19979734.00, 기울기: 25228.033, y절편:  2067.903\n",
      "epoch: 5000, 오차:    19953638.00, 기울기: 25250.594, y절편:  1956.108\n",
      "8시간 근무했을 때 예상 매출 금액: 203,961원\n"
     ]
    }
   ],
   "source": [
    "# Session을 만들고 변수를 초기화시킨다.\n",
    "sess = tf.Session()\n",
    "sess.run(tf.global_variables_initializer())\n",
    "\n",
    "for i in range(5001):\n",
    "    # 오차 함수의 결과를 가장 작게 만드는 학습을 할 수 있도록 placeholder에 데이터를 대입하고 학습시킨다.\n",
    "    # 학습할 데이터는 반드시 placeholder의 feed_dict 속성에 딕셔너리 타입으로 대입시켜야 한다. \n",
    "    # 딕녀서리의 ket에는 placeholder, value에는 placeholder에 저장할 리스트 또는 튜플 타입의 데이터를 지정한다. \n",
    "    sess.run(train, feed_dict={x: xData, y: yData})\n",
    "    \n",
    "    # 일정 에포크(epoch)단위마다 중간 결과를 출력한다.\n",
    "    if i % 500 == 0:\n",
    "        # epoch(i), 오차(cost), 기울기(a), y절편(b)\n",
    "        print('epoch: {:4d}, 오차: {:14.2f}, 기울기: {:9.3f}, y절편: {:9.3f}'\n",
    "              .format(i, sess.run(cost, feed_dict={x: xData, y: yData}), sess.run(a)[0], sess.run(b)[0]))\n",
    "        \n",
    "print('8시간 근무했을 때 예상 매출 금액: {:,.0f}원'.format(sess.run(a)[0] * 8 + sess.run(b)[0]))\n",
    "        "
   ]
  },
  {
   "cell_type": "markdown",
   "id": "382ddca0",
   "metadata": {},
   "source": [
    "학습이 완료된 후 원하는 입력에 대한 예측 결과를 출력한다."
   ]
  },
  {
   "cell_type": "code",
   "execution_count": 59,
   "id": "5731b439",
   "metadata": {},
   "outputs": [
    {
     "ename": "TypeError",
     "evalue": "unsupported format string passed to numpy.ndarray.__format__",
     "output_type": "error",
     "traceback": [
      "\u001b[1;31m---------------------------------------------------------------------------\u001b[0m",
      "\u001b[1;31mTypeError\u001b[0m                                 Traceback (most recent call last)",
      "Cell \u001b[1;32mIn[59], line 3\u001b[0m\n\u001b[0;32m      1\u001b[0m \u001b[38;5;28;01mfor\u001b[39;00m i \u001b[38;5;129;01min\u001b[39;00m \u001b[38;5;28mrange\u001b[39m(\u001b[38;5;241m8\u001b[39m, \u001b[38;5;241m25\u001b[39m):\n\u001b[0;32m      2\u001b[0m     \u001b[38;5;66;03m# print('{:2d}시간 근무했을 때 예상 매출 금액: {:,.0f}원'.format(i, sess.run(a)[0] * i + sess.run(b)[0]))\u001b[39;00m\n\u001b[1;32m----> 3\u001b[0m     \u001b[38;5;28mprint\u001b[39m(\u001b[38;5;124;43m'\u001b[39;49m\u001b[38;5;132;43;01m{:2d}\u001b[39;49;00m\u001b[38;5;124;43m시간 근무했을 때 예상 매출 금액: \u001b[39;49m\u001b[38;5;132;43;01m{:,.0f}\u001b[39;49;00m\u001b[38;5;124;43m원\u001b[39;49m\u001b[38;5;124;43m'\u001b[39;49m\u001b[38;5;241;43m.\u001b[39;49m\u001b[43mformat\u001b[49m\u001b[43m(\u001b[49m\u001b[43mi\u001b[49m\u001b[43m,\u001b[49m\u001b[43m \u001b[49m\u001b[43msess\u001b[49m\u001b[38;5;241;43m.\u001b[39;49m\u001b[43mrun\u001b[49m\u001b[43m(\u001b[49m\u001b[43mY\u001b[49m\u001b[43m,\u001b[49m\u001b[43m \u001b[49m\u001b[43mfeed_dict\u001b[49m\u001b[38;5;241;43m=\u001b[39;49m\u001b[43m{\u001b[49m\u001b[43mx\u001b[49m\u001b[43m:\u001b[49m\u001b[43m \u001b[49m\u001b[43m[\u001b[49m\u001b[43mi\u001b[49m\u001b[43m]\u001b[49m\u001b[43m}\u001b[49m\u001b[43m)\u001b[49m\u001b[43m)\u001b[49m)\n",
      "\u001b[1;31mTypeError\u001b[0m: unsupported format string passed to numpy.ndarray.__format__"
     ]
    }
   ],
   "source": [
    "for i in range(8, 25):\n",
    "    # print('{:2d}시간 근무했을 때 예상 매출 금액: {:,.0f}원'.format(i, sess.run(a)[0] * i + sess.run(b)[0]))\n",
    "    print('{:2d}시간 근무했을 때 예상 매출 금액: {:,.0f}원'.format(i, sess.run(Y, feed_dict={x: [i]})[0]))"
   ]
  },
  {
   "cell_type": "code",
   "execution_count": null,
   "id": "a76c928b",
   "metadata": {},
   "outputs": [],
   "source": []
  },
  {
   "cell_type": "code",
   "execution_count": null,
   "id": "5b93a0ac",
   "metadata": {},
   "outputs": [],
   "source": []
  },
  {
   "cell_type": "code",
   "execution_count": null,
   "id": "ac2accae",
   "metadata": {},
   "outputs": [],
   "source": []
  },
  {
   "cell_type": "code",
   "execution_count": null,
   "id": "42e2e4ff",
   "metadata": {},
   "outputs": [],
   "source": []
  },
  {
   "cell_type": "code",
   "execution_count": null,
   "id": "16152650",
   "metadata": {},
   "outputs": [],
   "source": []
  },
  {
   "cell_type": "code",
   "execution_count": null,
   "id": "5a01e26a",
   "metadata": {},
   "outputs": [],
   "source": []
  },
  {
   "cell_type": "code",
   "execution_count": null,
   "id": "22a9774d",
   "metadata": {},
   "outputs": [],
   "source": []
  },
  {
   "cell_type": "code",
   "execution_count": null,
   "id": "f1bcfc9a",
   "metadata": {},
   "outputs": [],
   "source": []
  },
  {
   "cell_type": "code",
   "execution_count": null,
   "id": "77382aaf",
   "metadata": {},
   "outputs": [],
   "source": []
  },
  {
   "cell_type": "code",
   "execution_count": null,
   "id": "02e4c0e0",
   "metadata": {},
   "outputs": [],
   "source": []
  },
  {
   "cell_type": "code",
   "execution_count": null,
   "id": "a260ecac",
   "metadata": {},
   "outputs": [],
   "source": []
  },
  {
   "cell_type": "code",
   "execution_count": null,
   "id": "3804bc9e",
   "metadata": {},
   "outputs": [],
   "source": []
  },
  {
   "cell_type": "code",
   "execution_count": null,
   "id": "b6597d17",
   "metadata": {},
   "outputs": [],
   "source": []
  }
 ],
 "metadata": {
  "kernelspec": {
   "display_name": "Python 3 (ipykernel)",
   "language": "python",
   "name": "python3"
  },
  "language_info": {
   "codemirror_mode": {
    "name": "ipython",
    "version": 3
   },
   "file_extension": ".py",
   "mimetype": "text/x-python",
   "name": "python",
   "nbconvert_exporter": "python",
   "pygments_lexer": "ipython3",
   "version": "3.8.6"
  }
 },
 "nbformat": 4,
 "nbformat_minor": 5
}
