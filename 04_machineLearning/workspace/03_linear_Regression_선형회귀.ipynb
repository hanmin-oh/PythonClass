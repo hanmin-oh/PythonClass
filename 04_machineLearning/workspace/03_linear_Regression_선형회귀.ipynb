{
 "cells": [
  {
   "cell_type": "code",
   "execution_count": 1,
   "id": "177f36e7",
   "metadata": {},
   "outputs": [
    {
     "name": "stdout",
     "output_type": "stream",
     "text": [
      "WARNING:tensorflow:From c:\\python\\lib\\site-packages\\tensorflow\\python\\compat\\v2_compat.py:107: disable_resource_variables (from tensorflow.python.ops.variable_scope) is deprecated and will be removed in a future version.\n",
      "Instructions for updating:\n",
      "non-resource variables are not supported in the long term\n"
     ]
    }
   ],
   "source": [
    "import warnings\n",
    "warnings.filterwarnings(action='ignore')\n",
    "%config Computer.use_jedi = False\n",
    "import tensorflow.compat.v1 as tf \n",
    "tf.disable_v2_behavior()"
   ]
  },
  {
   "cell_type": "markdown",
   "id": "7b12e096",
   "metadata": {},
   "source": [
    "학습 데이터를 만든다."
   ]
  },
  {
   "cell_type": "code",
   "execution_count": 2,
   "id": "bdc85ec4",
   "metadata": {},
   "outputs": [],
   "source": [
    "xData = [1, 2, 3, 4, 5, 6, 7] #1일 근무시간\n",
    "yData = [25000, 55000, 75000, 110000, 120000, 155000, 180000] # 근무시간에 따른 매출 금액. 실제값, 관측값, 답, 레이블"
   ]
  },
  {
   "cell_type": "markdown",
   "id": "c267ac6c",
   "metadata": {},
   "source": [
    "과적합을 방지하기 위해서 난수를 발생시켜 기울기(가중치)와 y절편"
   ]
  },
  {
   "cell_type": "code",
   "execution_count": 5,
   "id": "3673a0c9",
   "metadata": {},
   "outputs": [
    {
     "name": "stdout",
     "output_type": "stream",
     "text": [
      "a=<tf.Variable 'Variable_2:0' shape=(1,) dtype=float32_ref>, b=<tf.Variable 'Variable_3:0' shape=(1,) dtype=float32_ref>\n"
     ]
    }
   ],
   "source": [
    "# random_nuiform(난수의 개수, 최소값, 최대값) : 최대값과 최소값 사이에서 지정한 개수의 난수를 발생시킨다.\n",
    "a = tf.Variable(tf.random_uniform([1], -100, 100)) # 기울기(가중치), -100 ~ 100 사이의 난수\n",
    "b = tf.Variable(tf.random_uniform([1], -100, 100)) # y절편(바이어스), -100 ~ 100 사이의 난수\n",
    "print('a={}, b={}'.format(a, b))"
   ]
  },
  {
   "cell_type": "code",
   "execution_count": 31,
   "id": "9dccd822",
   "metadata": {},
   "outputs": [
    {
     "name": "stdout",
     "output_type": "stream",
     "text": [
      "a=[0.86367035], b=[40.542267]\n"
     ]
    }
   ],
   "source": [
    "sess = tf.Session()\n",
    "sess.run(tf.global_variables_initializer())\n",
    "print('a={}, b={}'.format(sess.run(a), sess.run(b)))"
   ]
  },
  {
   "cell_type": "markdown",
   "id": "d3af92e1",
   "metadata": {},
   "source": [
    "근무 시간과 매출 금액을 기억할 tensorflow에서 사용할 자료형(placeholder)를 선언한다."
   ]
  },
  {
   "cell_type": "code",
   "execution_count": 32,
   "id": "0b79a842",
   "metadata": {},
   "outputs": [],
   "source": [
    "x = tf.placeholder(dtype=tf.float32) # 근무 시간을 기억할 placeholder를 선언한다.\n",
    "y = tf.placeholder(dtype=tf.float32) # 매출 금액을 기억할 placeholder를 선언한다."
   ]
  },
  {
   "cell_type": "markdown",
   "id": "ba307237",
   "metadata": {},
   "source": [
    "1차 방정식 형태의 가설을 세우고 오차(손실, 비용) 함수를 정의한다."
   ]
  },
  {
   "cell_type": "code",
   "execution_count": 34,
   "id": "6b0a0230",
   "metadata": {},
   "outputs": [],
   "source": [
    "# 1차 방정식 형태의 가설\n",
    "Y = a * x + b\n",
    "# 평균 제곱법을 이용하는 오차 함수\n",
    "# 실제값(yData => y라는 placeholder에 저장한다.)과 예측값(Y)의 편차에 대한 제곱의 평균을 이용한다.\n",
    "# square() : tensorflow에서 제곱값을 계싼한다. \n",
    "# reduce_mean() : tensorflow에서 평균을 계산한다.\n",
    "cost = tf.reduce_mean(tf.square(Y - y)) "
   ]
  },
  {
   "cell_type": "markdown",
   "id": "f4752fe1",
   "metadata": {},
   "source": [
    "경사 하강법 메소드로 오차 함수의 실행 결과를 가장 작게(최소) 만드는 방향으로 학습하도록 정의한다."
   ]
  },
  {
   "cell_type": "code",
   "execution_count": 47,
   "id": "dc77edae",
   "metadata": {},
   "outputs": [],
   "source": [
    "# 경사 하강 알고리즘의 학습율(learning rate)설정한다. \n",
    "learning_rate = tf.Variable(0.001)\n",
    "# train.GradientDescentOptimizer(학습율) : 학습율에 따른 오차를 계산한다.\n",
    "# minimize(오차함수) : 경사 하강 알고리즘에 따라 인수로 지정된 오차 함수 실행 결과의 최솟값을 찾는다.\n",
    "train = tf.train.GradientDescentOptimizer(learning_rate).minimize(cost)\n"
   ]
  },
  {
   "cell_type": "markdown",
   "id": "f8082649",
   "metadata": {},
   "source": [
    "학습시킨다."
   ]
  },
  {
   "cell_type": "code",
   "execution_count": 55,
   "id": "9efe7a48",
   "metadata": {},
   "outputs": [
    {
     "name": "stdout",
     "output_type": "stream",
     "text": [
      "epoch:    0, 오차: 12123386880.00, 기울기:   990.390, y절편:   262.250\n",
      "epoch:  500, 오차:    21670236.00, 기울기: 24756.113, y절편:  4404.827\n",
      "epoch: 1000, 오차:    21104478.00, 기울기: 24861.242, y절편:  3884.238\n",
      "epoch: 1500, 오차:    20719322.00, 기울기: 24947.980, y절편:  3454.712\n",
      "epoch: 2000, 오차:    20457124.00, 기울기: 25019.547, y절편:  3100.319\n",
      "epoch: 2500, 오차:    20278628.00, 기울기: 25078.586, y절편:  2807.925\n",
      "epoch: 3000, 오차:    20157126.00, 기울기: 25127.305, y절편:  2566.676\n",
      "epoch: 3500, 오차:    20074396.00, 기울기: 25167.502, y절편:  2367.630\n",
      "epoch: 4000, 오차:    20018066.00, 기울기: 25200.660, y절편:  2203.405\n",
      "epoch: 4500, 오차:    19979734.00, 기울기: 25228.033, y절편:  2067.903\n",
      "epoch: 5000, 오차:    19953638.00, 기울기: 25250.594, y절편:  1956.108\n",
      "8시간 근무했을 때 예상 매출 금액: 203,961원\n"
     ]
    }
   ],
   "source": [
    "# Session을 만들고 변수를 초기화시킨다.\n",
    "sess = tf.Session()\n",
    "sess.run(tf.global_variables_initializer())\n",
    "\n",
    "for i in range(5001):\n",
    "    # 오차 함수의 결과를 가장 작게 만드는 학습을 할 수 있도록 placeholder에 데이터를 대입하고 학습시킨다.\n",
    "    # 학습할 데이터는 반드시 placeholder의 feed_dict 속성에 딕셔너리 타입으로 대입시켜야 한다. \n",
    "    # 딕녀서리의 ket에는 placeholder, value에는 placeholder에 저장할 리스트 또는 튜플 타입의 데이터를 지정한다. \n",
    "    sess.run(train, feed_dict={x: xData, y: yData})\n",
    "    \n",
    "    # 일정 에포크(epoch)단위마다 중간 결과를 출력한다.\n",
    "    if i % 500 == 0:\n",
    "        # epoch(i), 오차(cost), 기울기(a), y절편(b)\n",
    "        print('epoch: {:4d}, 오차: {:14.2f}, 기울기: {:9.3f}, y절편: {:9.3f}'\n",
    "              .format(i, sess.run(cost, feed_dict={x: xData, y: yData}), sess.run(a)[0], sess.run(b)[0]))\n",
    "        \n",
    "print('8시간 근무했을 때 예상 매출 금액: {:,.0f}원'.format(sess.run(a)[0] * 8 + sess.run(b)[0]))\n",
    "        "
   ]
  },
  {
   "cell_type": "markdown",
   "id": "f2b587fa",
   "metadata": {},
   "source": [
    "학습이 완료된 후 원하는 입력에 대한 예측 결과를 출력한다."
   ]
  },
  {
   "cell_type": "code",
   "execution_count": 60,
   "id": "53de925a",
   "metadata": {},
   "outputs": [
    {
     "name": "stdout",
     "output_type": "stream",
     "text": [
      " 8시간 근무했을 때 예상 매출 금액: 203,961원\n",
      " 9시간 근무했을 때 예상 매출 금액: 229,211원\n",
      "10시간 근무했을 때 예상 매출 금액: 254,462원\n",
      "11시간 근무했을 때 예상 매출 금액: 279,713원\n",
      "12시간 근무했을 때 예상 매출 금액: 304,963원\n",
      "13시간 근무했을 때 예상 매출 금액: 330,214원\n",
      "14시간 근무했을 때 예상 매출 금액: 355,464원\n",
      "15시간 근무했을 때 예상 매출 금액: 380,715원\n",
      "16시간 근무했을 때 예상 매출 금액: 405,966원\n",
      "17시간 근무했을 때 예상 매출 금액: 431,216원\n",
      "18시간 근무했을 때 예상 매출 금액: 456,467원\n",
      "19시간 근무했을 때 예상 매출 금액: 481,717원\n",
      "20시간 근무했을 때 예상 매출 금액: 506,968원\n",
      "21시간 근무했을 때 예상 매출 금액: 532,219원\n",
      "22시간 근무했을 때 예상 매출 금액: 557,469원\n",
      "23시간 근무했을 때 예상 매출 금액: 582,720원\n",
      "24시간 근무했을 때 예상 매출 금액: 607,970원\n"
     ]
    }
   ],
   "source": [
    "for i in range(8, 25):\n",
    "    # print('{:2d}시간 근무했을 때 예상 매출 금액: {:,.0f}원'.format(i, sess.run(a)[0] * i + sess.run(b)[0]))\n",
    "    print('{:2d}시간 근무했을 때 예상 매출 금액: {:,.0f}원'.format(i, sess.run(Y, feed_dict={x: [i]})[0]))"
   ]
  },
  {
   "cell_type": "code",
   "execution_count": null,
   "id": "ff97391d",
   "metadata": {},
   "outputs": [],
   "source": []
  },
  {
   "cell_type": "code",
   "execution_count": null,
   "id": "83abb11d",
   "metadata": {},
   "outputs": [],
   "source": []
  },
  {
   "cell_type": "code",
   "execution_count": null,
   "id": "ac2accae",
   "metadata": {},
   "outputs": [],
   "source": []
  },
  {
   "cell_type": "code",
   "execution_count": null,
   "id": "5a86b93a",
   "metadata": {},
   "outputs": [],
   "source": []
  },
  {
   "cell_type": "code",
   "execution_count": null,
   "id": "16152650",
   "metadata": {},
   "outputs": [],
   "source": []
  },
  {
   "cell_type": "code",
   "execution_count": null,
   "id": "5a01e26a",
   "metadata": {},
   "outputs": [],
   "source": []
  },
  {
   "cell_type": "code",
   "execution_count": null,
   "id": "22a9774d",
   "metadata": {},
   "outputs": [],
   "source": []
  },
  {
   "cell_type": "code",
   "execution_count": null,
   "id": "f1bcfc9a",
   "metadata": {},
   "outputs": [],
   "source": []
  },
  {
   "cell_type": "code",
   "execution_count": null,
   "id": "77382aaf",
   "metadata": {},
   "outputs": [],
   "source": []
  },
  {
   "cell_type": "code",
   "execution_count": null,
   "id": "02e4c0e0",
   "metadata": {},
   "outputs": [],
   "source": []
  },
  {
   "cell_type": "code",
   "execution_count": null,
   "id": "a260ecac",
   "metadata": {},
   "outputs": [],
   "source": []
  },
  {
   "cell_type": "code",
   "execution_count": null,
   "id": "3804bc9e",
   "metadata": {},
   "outputs": [],
   "source": []
  },
  {
   "cell_type": "code",
   "execution_count": null,
   "id": "b6597d17",
   "metadata": {},
   "outputs": [],
   "source": []
  }
 ],
 "metadata": {
  "kernelspec": {
   "display_name": "Python 3 (ipykernel)",
   "language": "python",
   "name": "python3"
  },
  "language_info": {
   "codemirror_mode": {
    "name": "ipython",
    "version": 3
   },
   "file_extension": ".py",
   "mimetype": "text/x-python",
   "name": "python",
   "nbconvert_exporter": "python",
   "pygments_lexer": "ipython3",
   "version": "3.8.6"
  }
 },
 "nbformat": 4,
 "nbformat_minor": 5
}
