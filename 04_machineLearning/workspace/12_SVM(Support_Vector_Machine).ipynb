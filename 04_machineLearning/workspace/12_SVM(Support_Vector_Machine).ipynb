{
 "cells": [
  {
   "cell_type": "markdown",
   "id": "73db0412",
   "metadata": {},
   "source": [
    "kNN 알고리즘은 주변의 가까운 사람들에게 물어봐서 대다수늬 답변과 동일하게 답변하는 방법이다. 만약에 3명에게 물어봤을 때 2이 거짓으로 대답을 한다면 예측은 틀리게 된다. 서포트 벡터 머신은 '지금 현재 이곳이 한강의 북쪽인가요? 남쪽인가요?'와 같이 질문해서 답변을 얻는 방법이다. \n",
    "\n",
    "서포트 벡터라는 개념은 한강의 위치를 찾는데 사용되는 개념으로 한강은 도시가 강북인지 강남인지 구분하는 결정 경계선(decision boundary)이다. 서포트 벡터는 결정 경계선을 찾는데 사용되는 개념이고 벡터는 2차원 공간상에 나타나는 데이터 포인트를 의미한다. 따라서, 서포트 벡터는 결정 경계선과 가장 가까이 맞닿은 데이터 포인트를 의미한다.  \n",
    "\n",
    "서포트 벡터와 결정 경계선 사이의 거리를 마진이라 하고 서포트 벡터 머신의 목표는 마진을 최대로 하는 결정 경계를 찾는 것이다.\n",
    "서포트 벡터 머신에서는 약간의 오류를 허용하기 위해 비용(C)이라는 변수를 사용한다. 비용이 낮을수록 마진을 최대한 높이고 학습 에러율은 증가하는 방향으로 결정 경계선을 만들고 비용이 높을수록 마진은 낮아지고 학습 에러율은 감소하는 방향을 결정 경계를 만든다. 비용이 너무 낮으면 과소 적합의 위험이 있고 너무 높으면 과대 적합의 위험이 있으니 적절한 비용값을 찾는 과정이 상당히 중요하다."
   ]
  },
  {
   "cell_type": "code",
   "execution_count": 1,
   "id": "03c593a2",
   "metadata": {},
   "outputs": [],
   "source": [
    "%config Completer.use_jedi = False\n",
    "import warnings\n",
    "warnings.filterwarnings(action='ignore')\n",
    "import numpy as np\n",
    "import pandas as pd\n",
    "import matplotlib.pyplot as plt\n",
    "import seaborn as sns\n",
    "%matplotlib inline\n",
    "from sklearn.model_selection import train_test_split\n",
    "from sklearn.metrics import accuracy_score"
   ]
  },
  {
   "cell_type": "code",
   "execution_count": 2,
   "id": "5fc34b91",
   "metadata": {},
   "outputs": [],
   "source": [
    "from sklearn.model_selection import GridSearchCV\n",
    "from sklearn.svm import SVC\n",
    "from sklearn.metrics import classification_report"
   ]
  },
  {
   "cell_type": "code",
   "execution_count": 3,
   "id": "c1353b56",
   "metadata": {
    "scrolled": true
   },
   "outputs": [
    {
     "data": {
      "text/html": [
       "<div>\n",
       "<style scoped>\n",
       "    .dataframe tbody tr th:only-of-type {\n",
       "        vertical-align: middle;\n",
       "    }\n",
       "\n",
       "    .dataframe tbody tr th {\n",
       "        vertical-align: top;\n",
       "    }\n",
       "\n",
       "    .dataframe thead th {\n",
       "        text-align: right;\n",
       "    }\n",
       "</style>\n",
       "<table border=\"1\" class=\"dataframe\">\n",
       "  <thead>\n",
       "    <tr style=\"text-align: right;\">\n",
       "      <th></th>\n",
       "      <th>Player</th>\n",
       "      <th>Pos</th>\n",
       "      <th>3P</th>\n",
       "      <th>TRB</th>\n",
       "      <th>BLK</th>\n",
       "    </tr>\n",
       "  </thead>\n",
       "  <tbody>\n",
       "    <tr>\n",
       "      <th>0</th>\n",
       "      <td>Alex Abrines</td>\n",
       "      <td>SG</td>\n",
       "      <td>1.4</td>\n",
       "      <td>1.3</td>\n",
       "      <td>0.1</td>\n",
       "    </tr>\n",
       "    <tr>\n",
       "      <th>1</th>\n",
       "      <td>Steven Adams</td>\n",
       "      <td>C</td>\n",
       "      <td>0.0</td>\n",
       "      <td>7.7</td>\n",
       "      <td>1.0</td>\n",
       "    </tr>\n",
       "    <tr>\n",
       "      <th>2</th>\n",
       "      <td>Alexis Ajinca</td>\n",
       "      <td>C</td>\n",
       "      <td>0.0</td>\n",
       "      <td>4.5</td>\n",
       "      <td>0.6</td>\n",
       "    </tr>\n",
       "    <tr>\n",
       "      <th>3</th>\n",
       "      <td>Chris Andersen</td>\n",
       "      <td>C</td>\n",
       "      <td>0.0</td>\n",
       "      <td>2.6</td>\n",
       "      <td>0.6</td>\n",
       "    </tr>\n",
       "    <tr>\n",
       "      <th>4</th>\n",
       "      <td>Will Barton</td>\n",
       "      <td>SG</td>\n",
       "      <td>1.5</td>\n",
       "      <td>4.3</td>\n",
       "      <td>0.5</td>\n",
       "    </tr>\n",
       "  </tbody>\n",
       "</table>\n",
       "</div>"
      ],
      "text/plain": [
       "           Player Pos   3P  TRB  BLK\n",
       "0    Alex Abrines  SG  1.4  1.3  0.1\n",
       "1    Steven Adams   C  0.0  7.7  1.0\n",
       "2   Alexis Ajinca   C  0.0  4.5  0.6\n",
       "3  Chris Andersen   C  0.0  2.6  0.6\n",
       "4     Will Barton  SG  1.5  4.3  0.5"
      ]
     },
     "execution_count": 3,
     "metadata": {},
     "output_type": "execute_result"
    }
   ],
   "source": [
    "df = pd.read_csv('./data/basketball_stat.csv')\n",
    "df.drop(['2P', 'AST', 'STL'], axis=1, inplace=True)\n",
    "train, test = train_test_split(df, test_size=0.8)\n",
    "df.head()"
   ]
  },
  {
   "cell_type": "markdown",
   "id": "e85758a4",
   "metadata": {},
   "source": [
    "커널 트릭(kernel trick)  \n",
    "저차원 벡터 공간의 데이터를 고차원 벡터 공간으로 옮겨줌으로써 결정 경계를 찾는 방법이다.\n",
    "저처원의 데이터를 고차원의 데이터로 옮겨주는 함수를 매핑 함수라 하고 매핑 함수를 가지고 많은 양의 데이터를 저차원에서 고차원으로 옮기기에는 계산량이 너무 많아져서 현실적으로는 사용하기 어렵다. 실제로 데이터를 고차원으로 보내지는 않지만 보낸 것과 동일한 효과를 줘서 빠른 속도르 결정 경계를 찾는 방법이 고안되었으며 이를 커널 트릭이라 한다.\n",
    "\n",
    "최적의 SVM 파라미터 찾기  \n",
    "SVM에서 RBF(가우시안) 커널을 사용하므로 마진의 너비를 조정하는 파라미터(C)와 결정 경계선의 곡률을 조정하는 파라미터(gamma)를 알아야 한다. 사이킷런의 그리드 서치(grid search)를 개발자자 부여한 비용과 감마의 후보들을 조합해서 최적의 비용과 감마값을 알아낸다."
   ]
  },
  {
   "cell_type": "code",
   "execution_count": 7,
   "id": "9d0020d6",
   "metadata": {},
   "outputs": [],
   "source": [
    "# 사이킷런에서 제공하는 GridSearchCV() 함수를 사용해서 최적의 비용과 감마값을 알아내는 함수\n",
    "def svm_param_selection(x, y, nfold):\n",
    "    # 비용과 감마값의 후보를 정한다.\n",
    "    svm_parameters = [{\n",
    "        'kernel': ['rbf'],\n",
    "        'gamma': [0.00001, 0.0001, 0.001, 0.01, 0.1, 1],\n",
    "        'C': [0.01, 0.1, 1, 10, 100, 1000]\n",
    "    }]\n",
    "    clf = GridSearchCV(SVC(), svm_parameters, cv=nfold) # GridSearchCV 객체를 만든다.\n",
    "    clf.fit(x, y.values.ravel()) # GridSearch를 학습시킨다.\n",
    "    print(clf.best_score_) # 최고 점수\n",
    "    print(clf.best_params_, clf.best_params_['C'], clf.best_params_['gamma']) # 최고 점수를 낸 파라미터\n",
    "    print(clf.best_estimator_)"
   ]
  },
  {
   "cell_type": "code",
   "execution_count": 5,
   "id": "0d726733",
   "metadata": {},
   "outputs": [
    {
     "name": "stdout",
     "output_type": "stream",
     "text": [
      "1.0\n",
      "{'C': 1, 'gamma': 0.1, 'kernel': 'rbf'} 1 0.1\n",
      "SVC(C=1, gamma=0.1)\n"
     ]
    }
   ],
   "source": [
    "x_train = train[['3P', 'BLK']] # 3점슛과 블로킹 횟수를 학습 데이터로 지정한다.\n",
    "y_train = train['Pos'] # 포지션을 실제값으로 지정한다.\n",
    "clf = svm_param_selection(x_train, y_train, 10)"
   ]
  },
  {
   "cell_type": "markdown",
   "id": "830562f0",
   "metadata": {},
   "source": [
    "결정 경계 시각화"
   ]
  },
  {
   "cell_type": "code",
   "execution_count": 6,
   "id": "630547ec",
   "metadata": {},
   "outputs": [
    {
     "ename": "AttributeError",
     "evalue": "'NoneType' object has no attribute 'best_params_'",
     "output_type": "error",
     "traceback": [
      "\u001b[1;31m---------------------------------------------------------------------------\u001b[0m",
      "\u001b[1;31mAttributeError\u001b[0m                            Traceback (most recent call last)",
      "Cell \u001b[1;32mIn[6], line 3\u001b[0m\n\u001b[0;32m      1\u001b[0m \u001b[38;5;66;03m# 최고 점수를 낸 파라미터를 이용해서 시각화 할 비용 후보들을 저장한다.\u001b[39;00m\n\u001b[0;32m      2\u001b[0m C_canditates \u001b[38;5;241m=\u001b[39m []\n\u001b[1;32m----> 3\u001b[0m C_canditates\u001b[38;5;241m.\u001b[39mappend(\u001b[43mclf\u001b[49m\u001b[38;5;241;43m.\u001b[39;49m\u001b[43mbest_params_\u001b[49m[\u001b[38;5;124m'\u001b[39m\u001b[38;5;124mC\u001b[39m\u001b[38;5;124m'\u001b[39m] \u001b[38;5;241m*\u001b[39m \u001b[38;5;241m0.01\u001b[39m)\n\u001b[0;32m      4\u001b[0m C_canditates\u001b[38;5;241m.\u001b[39mappend(clf\u001b[38;5;241m.\u001b[39mbest_params_[\u001b[38;5;124m'\u001b[39m\u001b[38;5;124mC\u001b[39m\u001b[38;5;124m'\u001b[39m]) \u001b[38;5;66;03m# 최적의 'C'값\u001b[39;00m\n\u001b[0;32m      5\u001b[0m C_canditates\u001b[38;5;241m.\u001b[39mappend(clf\u001b[38;5;241m.\u001b[39mbest_params_[\u001b[38;5;124m'\u001b[39m\u001b[38;5;124mC\u001b[39m\u001b[38;5;124m'\u001b[39m] \u001b[38;5;241m*\u001b[39m \u001b[38;5;241m100\u001b[39m)\n",
      "\u001b[1;31mAttributeError\u001b[0m: 'NoneType' object has no attribute 'best_params_'"
     ]
    }
   ],
   "source": [
    "# 최고 점수를 낸 파라미터를 이용해서 시각화 할 비용 후보들을 저장한다.\n",
    "C_canditates = []\n",
    "C_canditates.append(clf.best_params_['C'] * 0.01)\n",
    "C_canditates.append(clf.best_params_['C']) # 최적의 'C'값\n",
    "C_canditates.append(clf.best_params_['C'] * 100)\n",
    "print(C_canditates)\n",
    "\n",
    "# 최고 점수를 낸 파라미터를 이용해서 시각화 할 감마 후보들을 저장한다.\n",
    "gamma_canditates = []\n",
    "gamma_canditates.append(clf.best_params_['gamma'] * 0.01)\n",
    "gamma_canditates.append(clf.best_params_['gamma']) # 최적의 'gamma'값\n",
    "gamma_canditates.append(clf.best_params_['gamma'] * 100)\n",
    "print(gamma_canditates)"
   ]
  },
  {
   "cell_type": "code",
   "execution_count": null,
   "id": "bb4c719e",
   "metadata": {},
   "outputs": [],
   "source": [
    "position = []\n",
    "for i in y_train:\n",
    "    if i == 'C':\n",
    "        position.append(0)\n",
    "    else:\n",
    "        position.append(1)\n",
    "print(position)"
   ]
  },
  {
   "cell_type": "code",
   "execution_count": null,
   "id": "580afd6c",
   "metadata": {},
   "outputs": [],
   "source": [
    "classifiers = []\n",
    "for C in C_canditates:\n",
    "    for gamma in gamma_canditates:\n",
    "        clf = SVC(C=C, gamma=gamma) # 최적의 파라미터 후보들을 조합해서 서포트 벡터 머신 모델을 만든다.\n",
    "        clf.fit(x_train, y_train) # 최적의 파라미터 후보들을 조합해서 서포트 벡터 머신 모델을 학습시킨다.\n",
    "        classifiers.append([C, gamma, clf]) # 최적의 파라미터 후보들을 조합해서 서포트 벡터 머신 모델들을 저장한다.\n",
    "classifiers"
   ]
  },
  {
   "cell_type": "code",
   "execution_count": null,
   "id": "efb9f221",
   "metadata": {},
   "outputs": [],
   "source": [
    "plt.figure(figsize=[20, 20])\n",
    "# np.linspace(0, 4, 100): 0 ~ 4를 100단계로 나눈값을 저장하는 넘파이 배열을 만든다.\n",
    "# print(np.linspace(0, 4, 100))\n",
    "xx, yy = np.meshgrid(np.linspace(0, 4, 100), np.linspace(0, 4, 100))\n",
    "\n",
    "# enumerate(): 인수로 지정된 리스트를 인덱스와 값 형태의 튜플로 리턴한다.\n",
    "for i, (C, gamma, clf) in enumerate(classifiers):\n",
    "    # print(i, (C, gamma, clf))\n",
    "\n",
    "    # 넘파이 배열을 옆으로, 위아래로 붙이기: np.r_(), np.c_()\n",
    "    # np.r_[a, b] => a, b 두 넘파이 배열을 왼쪽에서 오른쪽으로 붙인다.\n",
    "    # np.r_[[a], [b]] => a, b 두 넘파이 배열을 위에서 아래쪽으로 붙인다.\n",
    "    # np.c_[a, b] => 두 개의 1차원 배열을 컬럼으로 세로로 붙여서 2차원 배열을 만든다.\n",
    "    Z = clf.decision_function(np.c_[xx.ravel(), yy.ravel()])\n",
    "    Z = Z.reshape(xx.shape)\n",
    "    \n",
    "    # subplot 그래프: 두 개 이상의 그래프의 상관 관계를 효과적으로 표시할 수 있다.\n",
    "    # subplot을 사용하는 방법은 subplot() 함수를 사용해서 그래프의 위치를 정해주고 그래프는 scatter() 함수로 그리면 된다.\n",
    "    plt.subplot(len(C_canditates), len(gamma_canditates), i + 1)\n",
    "    plt.title('C = {}, gamma = {}'.format(C, gamma))\n",
    "    \n",
    "    # pcolormesh(): cmap으로 지정한 색상을 이용해서 xx, yy로 지정된 단계로 Z에 저장된 결정 경계면을 표시한다.\n",
    "    plt.pcolormesh(xx, yy, -Z, cmap=plt.cm.RdBu)\n",
    "    # x_train['3P']를 x축으로 x_train['BLK']를 y축으로하고 cmap 속성에서 지정한 색상(edgecolors는 테두리 색상)으로 c로\n",
    "    # 구분해서 산점도 그래프를 그린다.\n",
    "    plt.scatter(x=x_train['3P'], y=x_train['BLK'], c=position, edgecolors='k', cmap=plt.cm.RdBu_r)\n",
    "plt.show()"
   ]
  },
  {
   "cell_type": "code",
   "execution_count": null,
   "id": "42134568",
   "metadata": {},
   "outputs": [],
   "source": []
  },
  {
   "cell_type": "code",
   "execution_count": null,
   "id": "f5ec70e7",
   "metadata": {},
   "outputs": [],
   "source": []
  },
  {
   "cell_type": "code",
   "execution_count": null,
   "id": "d525aa89",
   "metadata": {},
   "outputs": [],
   "source": []
  },
  {
   "cell_type": "code",
   "execution_count": null,
   "id": "94f2afaa",
   "metadata": {},
   "outputs": [],
   "source": []
  },
  {
   "cell_type": "code",
   "execution_count": null,
   "id": "ec7a5a5e",
   "metadata": {},
   "outputs": [],
   "source": []
  },
  {
   "cell_type": "code",
   "execution_count": null,
   "id": "96166fac",
   "metadata": {},
   "outputs": [],
   "source": []
  },
  {
   "cell_type": "code",
   "execution_count": null,
   "id": "6922d3b8",
   "metadata": {},
   "outputs": [],
   "source": []
  },
  {
   "cell_type": "code",
   "execution_count": null,
   "id": "72a60c82",
   "metadata": {},
   "outputs": [],
   "source": []
  },
  {
   "cell_type": "code",
   "execution_count": null,
   "id": "4d8c9d27",
   "metadata": {},
   "outputs": [],
   "source": []
  }
 ],
 "metadata": {
  "kernelspec": {
   "display_name": "Python 3 (ipykernel)",
   "language": "python",
   "name": "python3"
  },
  "language_info": {
   "codemirror_mode": {
    "name": "ipython",
    "version": 3
   },
   "file_extension": ".py",
   "mimetype": "text/x-python",
   "name": "python",
   "nbconvert_exporter": "python",
   "pygments_lexer": "ipython3",
   "version": "3.8.6"
  }
 },
 "nbformat": 4,
 "nbformat_minor": 5
}
