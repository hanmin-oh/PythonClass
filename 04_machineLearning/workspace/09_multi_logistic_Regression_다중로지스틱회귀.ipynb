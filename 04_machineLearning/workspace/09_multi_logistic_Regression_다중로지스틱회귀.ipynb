{
 "cells": [
  {
   "cell_type": "code",
   "execution_count": 1,
   "id": "c9930ef6",
   "metadata": {},
   "outputs": [
    {
     "name": "stdout",
     "output_type": "stream",
     "text": [
      "WARNING:tensorflow:From c:\\python\\lib\\site-packages\\tensorflow\\python\\compat\\v2_compat.py:107: disable_resource_variables (from tensorflow.python.ops.variable_scope) is deprecated and will be removed in a future version.\n",
      "Instructions for updating:\n",
      "non-resource variables are not supported in the long term\n"
     ]
    }
   ],
   "source": [
    "import warnings\n",
    "warnings.filterwarnings(action='ignore')\n",
    "%config Completer.use_jedi = False\n",
    "import tensorflow.compat.v1 as tf\n",
    "tf.disable_v2_behavior()\n",
    "import numpy as np\n",
    "import pandas as pd"
   ]
  },
  {
   "cell_type": "markdown",
   "id": "fad89a54",
   "metadata": {},
   "source": [
    "공부 시간, 과괴 시간과 시험 성적 사이의 관계는 좌표로 나타냈을 떄 형태가 직선으로 해결되는 선형 회귀를 사용하기에 적합했었다.   \n",
    "공부 시간에 따른 시험 점수가 아닌 합격 여부로 발표되는 사람이 있을 경우 직선으로 해결하기에는 적합하지 못한 문제가 발생된다.  \n",
    "이럴 때 사용하는 로지스틱 회귀는 참과 거짓중에 하나를 내놓는 과정으로 참과 거짓을 구분한 'S'자를 눕혀놓은 형태의 선을 그어주는 작업이다.  \n",
    "\n",
    "참조   \n",
    "https://devlog.jwgo.kr/2018/04/16/sigmoid-graph-according-to-slope-change/  \n",
    "http://taewan.kim/post/sigmoid_diff/"
   ]
  },
  {
   "cell_type": "code",
   "execution_count": 2,
   "id": "2cdc1e3b",
   "metadata": {},
   "outputs": [
    {
     "name": "stdout",
     "output_type": "stream",
     "text": [
      "[[2, 3], [4, 3], [6, 4], [8, 6], [10, 7], [12, 8], [14, 9]]\n",
      "[[ 2  3]\n",
      " [ 4  3]\n",
      " [ 6  4]\n",
      " [ 8  6]\n",
      " [10  7]\n",
      " [12  8]\n",
      " [14  9]]\n"
     ]
    }
   ],
   "source": [
    "x = [[2, 3],[4, 3], [6, 4], [8, 6], [10, 7], [12, 8], [14, 9]] # 공부 시간 - 과외 시간\n",
    "print(x)\n",
    "xData = np.array(x)\n",
    "print(xData)"
   ]
  },
  {
   "cell_type": "code",
   "execution_count": 3,
   "id": "3f1864a5",
   "metadata": {
    "scrolled": true
   },
   "outputs": [
    {
     "name": "stdout",
     "output_type": "stream",
     "text": [
      "[[0], [0], [0], [1], [1], [1], [1]]\n",
      "[[0]\n",
      " [0]\n",
      " [0]\n",
      " [1]\n",
      " [1]\n",
      " [1]\n",
      " [1]]\n"
     ]
    }
   ],
   "source": [
    "y = [[0], [0], [0], [1], [1], [1], [1]] # 합격 여부\n",
    "print(y)\n",
    "yData = np.array(y)\n",
    "print(yData) # 1행 7열인 넘파이배열을 7행 1열 넘파이 배열로 바꿔야 한다.\n",
    "# yData = np.array(y).reshape(7, 1)\n",
    "# print(yData)"
   ]
  },
  {
   "cell_type": "code",
   "execution_count": 4,
   "id": "f00b0219",
   "metadata": {},
   "outputs": [],
   "source": [
    "# placeholder에 넘파이 배열을 대입하는 경우 shape 속성을 이용해서 대입될 넘파이 배열의 차원을 지정해야 한다. \n",
    "# [None, 2] => placeholder에 대입될 넘파이 배열의 행의 개수는 몇개라도 상관없고 열의 개수는 무조건 2개라는 의미이다.\n",
    "X = tf.placeholder(dtype=tf.float32, shape=[None, 2]) # xData가 대입될 placeholder\n",
    "Y = tf.placeholder(dtype=tf.float32, shape=[None, 1]) # yData가 대입될 placeholder"
   ]
  },
  {
   "cell_type": "markdown",
   "id": "1758ac6b",
   "metadata": {},
   "source": [
    "가중치와 y절편을 임의의 값으로 정한다."
   ]
  },
  {
   "cell_type": "code",
   "execution_count": 21,
   "id": "c56e5755",
   "metadata": {},
   "outputs": [
    {
     "name": "stdout",
     "output_type": "stream",
     "text": [
      "a\n",
      "[[0.77116907]\n",
      " [0.5335381 ]]\n",
      "b\n",
      "[0.764312]\n",
      "--------------------------------------------------\n",
      "a1: 0.771169, a2: 0.533538,  b:0.764312\n"
     ]
    }
   ],
   "source": [
    "a = tf.Variable(tf.random_uniform([2, 1], dtype=tf.float32)) #난수를 2행 1렬로 만든다.\n",
    "b = tf.Variable(tf.random_uniform([1], dtype=tf.float32)) \n",
    "sess = tf.Session()\n",
    "sess.run(tf.global_variables_initializer())\n",
    "print('a\\n', sess.run(a), sep='')\n",
    "print('b\\n', sess.run(b), sep='')\n",
    "print('-' * 50)\n",
    "print('a1: {:f}, a2: {:f},  b:{:f}'.format(sess.run(a)[0][0], sess.run(a)[1][0], sess.run(b)[0]))"
   ]
  },
  {
   "cell_type": "markdown",
   "id": "7ef8f933",
   "metadata": {},
   "source": [
    "시그모이드 방정식, 오차함수, 경사하강"
   ]
  },
  {
   "cell_type": "code",
   "execution_count": 22,
   "id": "15f22000",
   "metadata": {},
   "outputs": [],
   "source": [
    "# # sigmoid(): tensorflow에서 시그모이드 방정식을 계산한다.\n",
    "# # matmul() : tensorflow에서 행렬의 곱(적)을 계산한다.\n",
    "# # Y = 1 / (1 + np.e ** -(a1 * x1 + a2 * x2 + b))\n",
    "# y = tf.sigmoid(tf.matmul(X, a) + b)\n",
    "# print(y)\n",
    "# loss = -tf.reduce_mean(np.array(y) * tf.log(Y) + (1 - np.array(y)) * tf.log(1 - Y))\n",
    "# gradient_descent = tf.train.GradientDescentOptimizer(0.1).minimize(loss) # 경사 하강\n",
    "# sigmoid(): tensorflow에서 시그모이드 방정식을 계산한다.\n",
    "# matmul(): tensorflow에서 행렬의 곱(적)을 계산한다.\n",
    "# Y = 1 / (1 + np.e ** -(a1 * x1 + a2 * x2 + b))\n",
    "y = tf.sigmoid(tf.matmul(X, a) + b) # 시그모이드 방정식, 예측값\n",
    "loss = -tf.reduce_mean(Y * tf.log(y) + (1 - Y) * tf.log(1 - y)) # 오차 함수\n",
    "gradient_descent = tf.train.GradientDescentOptimizer(0.1).minimize(loss) # 경사 하강"
   ]
  },
  {
   "cell_type": "markdown",
   "id": "dc367ddb",
   "metadata": {},
   "source": [
    "sigmoid() 메소드의 실행 결과(y)가 0.5 이상이면 1을 0.5 미만이면 -1을 리턴시킨다."
   ]
  },
  {
   "cell_type": "code",
   "execution_count": 23,
   "id": "56b45208",
   "metadata": {},
   "outputs": [
    {
     "name": "stdout",
     "output_type": "stream",
     "text": [
      "[1 2]\n",
      "[1 0]\n",
      "[1 0]\n"
     ]
    }
   ],
   "source": [
    "sess = tf.Session()\n",
    "# cast(data, dtype): tensorflow에서 데이터(data)를 dtype으로 형변환 한다.\n",
    "predict = tf.cast(tf.constant([1.9, 2.1]), dtype=tf.int32)\n",
    "print(sess.run(predict)) # [1 2]\n",
    "# cast() 메소드는 캐스팅할 데이터가 boolean 타입이면 True는 1로 False는 0으로 형변환 한다.\n",
    "predict = tf.cast(tf.constant([True, False]), dtype=tf.int32)\n",
    "print(sess.run(predict)) # [1 0]\n",
    "predict = tf.cast([0.5 >= 0.5, 0.5 < 0.5], dtype=tf.int32)\n",
    "print(sess.run(predict))"
   ]
  },
  {
   "cell_type": "code",
   "execution_count": 24,
   "id": "0aa05ddc",
   "metadata": {},
   "outputs": [],
   "source": [
    "predict = tf.cast(y >= 0.5, dtype=tf.float32) # 예측값"
   ]
  },
  {
   "cell_type": "markdown",
   "id": "87534d75",
   "metadata": {},
   "source": [
    "예측값(predict)과 실제값(Y)이 일치하는 정도(정확도, accuracy)를 계산한다."
   ]
  },
  {
   "cell_type": "code",
   "execution_count": 25,
   "id": "c50956bb",
   "metadata": {},
   "outputs": [
    {
     "name": "stdout",
     "output_type": "stream",
     "text": [
      "True False\n"
     ]
    }
   ],
   "source": [
    "sess = tf.Session()\n",
    "# equal(): tensorflow에서 인수로 지정한 값이 같으면 True, 다르면 False를 리턴한다.\n",
    "print(sess.run(tf.equal(1, 1)), sess.run(tf.equal(1, 0))) # True False\n",
    "# equal() 메소드로 예측값과 실제값이 같은가 비교 후 True 또는 False를 cast() 메소드로 1 또는 0으로 캐스팅하고 평균을 계산한다.\n",
    "accuracy = tf.reduce_mean(tf.cast(tf.equal(predict, Y), dtype=tf.float32))"
   ]
  },
  {
   "cell_type": "markdown",
   "id": "f72623cf",
   "metadata": {},
   "source": [
    "학습 시킨다."
   ]
  },
  {
   "cell_type": "code",
   "execution_count": 26,
   "id": "22f19e5f",
   "metadata": {},
   "outputs": [
    {
     "name": "stdout",
     "output_type": "stream",
     "text": [
      "epoch:      0, loss:  1.3131, a1:  0.0100, a2:  0.2783, b:  0.9017\n",
      "epoch:    300, loss:  0.2816, a1:  0.8487, a2: -0.6433, b: -2.1968\n",
      "epoch:    600, loss:  0.1994, a1:  0.8529, a2: -0.3672, b: -3.7282\n",
      "epoch:    900, loss:  0.1549, a1:  0.7606, a2: -0.0302, b: -4.8264\n",
      "epoch:   1200, loss:  0.1262, a1:  0.6536, a2:  0.2850, b: -5.6906\n",
      "epoch:   1500, loss:  0.1061, a1:  0.5515, a2:  0.5657, b: -6.4047\n",
      "epoch:   1800, loss:  0.0914, a1:  0.4593, a2:  0.8128, b: -7.0135\n",
      "epoch:   2100, loss:  0.0802, a1:  0.3775, a2:  1.0305, b: -7.5444\n",
      "epoch:   2400, loss:  0.0714, a1:  0.3053, a2:  1.2234, b: -8.0151\n",
      "epoch:   2700, loss:  0.0643, a1:  0.2415, a2:  1.3953, b: -8.4380\n",
      "epoch:   3000, loss:  0.0585, a1:  0.1848, a2:  1.5497, b: -8.8220\n",
      "실제값\n",
      "[[0]\n",
      " [0]\n",
      " [0]\n",
      " [1]\n",
      " [1]\n",
      " [1]\n",
      " [1]]\n",
      "예상값\n",
      "[[0.]\n",
      " [0.]\n",
      " [0.]\n",
      " [1.]\n",
      " [1.]\n",
      " [1.]\n",
      " [1.]]\n",
      "정확도: 100.00%\n"
     ]
    }
   ],
   "source": [
    "sess = tf.Session()\n",
    "sess.run(tf.global_variables_initializer())\n",
    "\n",
    "for epoch in range(3001):\n",
    "    # sess.run([실행할 내용, ...], feed_dict={플레이스홀더 이름: 플레이스홀더에 저장할 데이터, ...})\n",
    "    a_, b_, loss_, _, predict_, accuracy_ = sess.run([a, b, loss, gradient_descent, predict, accuracy], feed_dict={X: xData, Y: yData})\n",
    "    if epoch % 300 == 0:\n",
    "        print('epoch: {:6d}, loss: {:7.4f}, a1: {:7.4f}, a2: {:7.4f}, b: {:7.4f}'.format(epoch, loss_, a_[0][0], a_[1][0], b_[0]))\n",
    "        # print('epoch: %6d, loss: %7.4f, a: %7.4f, b: %7.4f' % (epoch, sess.run(loss), sess.run(a), sess.run(b)))\n",
    "print('실제값\\n', yData, sep='')\n",
    "print('예상값\\n', predict_, sep='')\n",
    "print('정확도: {:6.2%}'.format(accuracy_))"
   ]
  },
  {
   "cell_type": "code",
   "execution_count": null,
   "id": "56daf099",
   "metadata": {},
   "outputs": [],
   "source": []
  },
  {
   "cell_type": "code",
   "execution_count": null,
   "id": "20878cf5",
   "metadata": {},
   "outputs": [],
   "source": []
  },
  {
   "cell_type": "code",
   "execution_count": null,
   "id": "7c93e188",
   "metadata": {},
   "outputs": [],
   "source": []
  },
  {
   "cell_type": "code",
   "execution_count": null,
   "id": "baf4d283",
   "metadata": {},
   "outputs": [],
   "source": []
  },
  {
   "cell_type": "code",
   "execution_count": null,
   "id": "9bf10689",
   "metadata": {},
   "outputs": [],
   "source": []
  },
  {
   "cell_type": "code",
   "execution_count": null,
   "id": "f0e224a2",
   "metadata": {},
   "outputs": [],
   "source": []
  }
 ],
 "metadata": {
  "kernelspec": {
   "display_name": "Python 3 (ipykernel)",
   "language": "python",
   "name": "python3"
  },
  "language_info": {
   "codemirror_mode": {
    "name": "ipython",
    "version": 3
   },
   "file_extension": ".py",
   "mimetype": "text/x-python",
   "name": "python",
   "nbconvert_exporter": "python",
   "pygments_lexer": "ipython3",
   "version": "3.8.6"
  }
 },
 "nbformat": 4,
 "nbformat_minor": 5
}
