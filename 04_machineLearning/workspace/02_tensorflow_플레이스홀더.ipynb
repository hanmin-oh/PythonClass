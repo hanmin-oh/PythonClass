{
 "cells": [
  {
   "cell_type": "code",
   "execution_count": 1,
   "id": "177f36e7",
   "metadata": {},
   "outputs": [
    {
     "name": "stdout",
     "output_type": "stream",
     "text": [
      "WARNING:tensorflow:From c:\\python\\lib\\site-packages\\tensorflow\\python\\compat\\v2_compat.py:107: disable_resource_variables (from tensorflow.python.ops.variable_scope) is deprecated and will be removed in a future version.\n",
      "Instructions for updating:\n",
      "non-resource variables are not supported in the long term\n"
     ]
    }
   ],
   "source": [
    "import warnings\n",
    "warnings.filterwarnings(action='ignore')\n",
    "%config Computer.use_jedi = False\n",
    "import tensorflow.compat.v1 as tf \n",
    "tf.disable_v2_behavior()"
   ]
  },
  {
   "cell_type": "markdown",
   "id": "71837890",
   "metadata": {},
   "source": [
    "placeholder는 tensorflow에서 사용하는 여러건의 데이터를 저장하는 일종의 배열(리스트)이다.  \n",
    "placeholder(dthpe=, shape, name)  \n",
    "dtype : placeholder에 저장되는 데이터의 자료형  \n",
    "shape : placeholder에 저장되는 데이터의 차원, 생략가능  \n",
    "name : placeholder의 이름, 생략 가능  "
   ]
  },
  {
   "cell_type": "code",
   "execution_count": 4,
   "id": "05449557",
   "metadata": {},
   "outputs": [
    {
     "name": "stdout",
     "output_type": "stream",
     "text": [
      "x = Tensor(\"Placeholder_4:0\", dtype=int32)\n",
      "y = Tensor(\"Placeholder_5:0\", dtype=int32)\n",
      "z = Tensor(\"add_2:0\", dtype=int32)\n",
      "[6 6 6 6 6]\n"
     ]
    }
   ],
   "source": [
    "# tensorflow의 placeholder에 저장할 데이터를 선언한다.\n",
    "xData = [1, 2, 3, 4, 5]\n",
    "yData = [5, 4, 3, 2, 1]\n",
    "\n",
    "# placeholder를 선언한다.\n",
    "x = tf.placeholder(dtype=tf.int32) # xData의 내용을 기억할 placeholder를 선언한다.\n",
    "y = tf.placeholder(dtype=tf.int32) # yData의 내용을 기억할 placeholder를 선언한다.\n",
    "print('x = {}'.format(x))\n",
    "print('y = {}'.format(y))\n",
    "\n",
    "z = x + y # placeholder를 사용하는 수식을 선언한다.\n",
    "print('z = {}'.format(z))\n",
    "\n",
    "sess = tf.Session()\n",
    "\n",
    "# 수식에 사용할 데이터를 placeholder에 대입한다.\n",
    "# z라고 정의한 수식을 실행한다. => x, y placeholder에 데이터가 채워져 있지 않으면 에러가 발생된다.\n",
    "# 반드시 feed_dict 속성에 딕셔너리 타입을 사용해서 placeholder에 데이터를 채우고 연산을 실행해야 한다.\n",
    "result = sess.run(z, feed_dict={x: xData, y: yData})\n",
    "print(result)"
   ]
  },
  {
   "cell_type": "code",
   "execution_count": null,
   "id": "ac2accae",
   "metadata": {},
   "outputs": [],
   "source": []
  },
  {
   "cell_type": "code",
   "execution_count": null,
   "id": "16152650",
   "metadata": {},
   "outputs": [],
   "source": []
  },
  {
   "cell_type": "code",
   "execution_count": null,
   "id": "5a01e26a",
   "metadata": {},
   "outputs": [],
   "source": []
  },
  {
   "cell_type": "code",
   "execution_count": null,
   "id": "22a9774d",
   "metadata": {},
   "outputs": [],
   "source": []
  },
  {
   "cell_type": "code",
   "execution_count": null,
   "id": "f1bcfc9a",
   "metadata": {},
   "outputs": [],
   "source": []
  },
  {
   "cell_type": "code",
   "execution_count": null,
   "id": "77382aaf",
   "metadata": {},
   "outputs": [],
   "source": []
  },
  {
   "cell_type": "code",
   "execution_count": null,
   "id": "02e4c0e0",
   "metadata": {},
   "outputs": [],
   "source": []
  },
  {
   "cell_type": "code",
   "execution_count": null,
   "id": "a260ecac",
   "metadata": {},
   "outputs": [],
   "source": []
  },
  {
   "cell_type": "code",
   "execution_count": null,
   "id": "3804bc9e",
   "metadata": {},
   "outputs": [],
   "source": []
  },
  {
   "cell_type": "code",
   "execution_count": null,
   "id": "b6597d17",
   "metadata": {},
   "outputs": [],
   "source": []
  }
 ],
 "metadata": {
  "kernelspec": {
   "display_name": "Python 3 (ipykernel)",
   "language": "python",
   "name": "python3"
  },
  "language_info": {
   "codemirror_mode": {
    "name": "ipython",
    "version": 3
   },
   "file_extension": ".py",
   "mimetype": "text/x-python",
   "name": "python",
   "nbconvert_exporter": "python",
   "pygments_lexer": "ipython3",
   "version": "3.8.6"
  }
 },
 "nbformat": 4,
 "nbformat_minor": 5
}
