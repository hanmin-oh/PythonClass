{
 "cells": [
  {
   "cell_type": "markdown",
   "id": "fb95bec8",
   "metadata": {},
   "source": [
    "평균 제곱근 오차(Root Mean Squared Error, RMSE)  \n",
    "\n",
    "임의의 선을 그리고 난 후 이 선이 얼마나 잘 그려졌는지 평가해서 조금씩 수정해나간다.  \n",
    "이를 위해서 주어진 선의 오차를 평가하는 알고리즘이 필요한데 그 중에서 가장 많이 사용되는 방법이 평균 제곱근 오차이다."
   ]
  },
  {
   "cell_type": "code",
   "execution_count": 7,
   "id": "c9930ef6",
   "metadata": {},
   "outputs": [],
   "source": [
    "import warnings\n",
    "warnings.filterwarnings(action='ignore')\n",
    "%config Completer.use_jedi = False\n",
    "import tensorflow.compat.v1 as tf\n",
    "tf.disable_v2_behavior()\n",
    "import numpy as np\n",
    "import pandas as pd\n"
   ]
  },
  {
   "cell_type": "code",
   "execution_count": 31,
   "id": "89b9ecd7",
   "metadata": {},
   "outputs": [
    {
     "name": "stdout",
     "output_type": "stream",
     "text": [
      "공부 시간 2, 시험 성적 81\n",
      "공부 시간 4, 시험 성적 93\n",
      "공부 시간 6, 시험 성적 91\n",
      "공부 시간 8, 시험 성적 97\n"
     ]
    }
   ],
   "source": [
    "# 앞의 예제 데이터에서 [x(공부시간), y(시험성적)]\n",
    "data = [[2, 81],[4, 93], [6, 91], [8, 97]]\n",
    "# 기울기 a와 y절편 b를 임의로 정한다. => [기울기, y절편]\n",
    "ab = [3, 76] # 2.3, 79\n",
    "\n",
    "for i in data:\n",
    "    print('공부 시간 {}, 시험 성적 {}'.format(i[0], i[1]))"
   ]
  },
  {
   "cell_type": "code",
   "execution_count": 32,
   "id": "4a625f1f",
   "metadata": {},
   "outputs": [
    {
     "name": "stdout",
     "output_type": "stream",
     "text": [
      "공부 시간: 2, 시험 성적: 81\n",
      "공부 시간: 4, 시험 성적: 93\n",
      "공부 시간: 6, 시험 성적: 91\n",
      "공부 시간: 8, 시험 성적: 97\n"
     ]
    }
   ],
   "source": [
    "# x, y의 데이터 값이 1건씩 저장된 리스트 data에서 공부 시간(x), 시험 성적(y)을 뽑아내서 별도의 리스트에 저장한다.\n",
    "x = [i[0] for i in data]\n",
    "y = [i[1] for i in data]\n",
    "\n",
    "for i in range(len(data)):\n",
    "    print('공부 시간: {}, 시험 성적: {}'.format(x[i], y[i]))"
   ]
  },
  {
   "cell_type": "code",
   "execution_count": 33,
   "id": "06a03b5a",
   "metadata": {},
   "outputs": [],
   "source": [
    "# Y = ax + b 수식에 a(기울기) b(y절편) 값을 대입해서 결과(예측 성적)를 계산하는 함수\n",
    "def predict(x):\n",
    "    return ab[0] * x + ab[1]"
   ]
  },
  {
   "cell_type": "code",
   "execution_count": 34,
   "id": "2edf72e4",
   "metadata": {},
   "outputs": [
    {
     "name": "stdout",
     "output_type": "stream",
     "text": [
      "공부 시간: 2, 시험 성적: 81, 예측 성적 : 82\n",
      "공부 시간: 4, 시험 성적: 93, 예측 성적 : 88\n",
      "공부 시간: 6, 시험 성적: 91, 예측 성적 : 94\n",
      "공부 시간: 8, 시험 성적: 97, 예측 성적 : 100\n"
     ]
    }
   ],
   "source": [
    "# 임의로 정한 기울기와 y절편으로 예측 성적을 계산한다.\n",
    "predict_result = [] # 예측 성적을 저장할 빈 리스트\n",
    "# 모든 공부 시간(x) 값을 한 번씩 대입해서 예측 성적 리스트(predict_result)에 추가한다.\n",
    "for i in range(len(x)):\n",
    "    predict_result.append(predict(x[i]))\n",
    "    print('공부 시간: {}, 시험 성적: {}, 예측 성적 : {}'.format(x[i], y[i], predict_result[i]))"
   ]
  },
  {
   "cell_type": "code",
   "execution_count": 35,
   "id": "07303e83",
   "metadata": {},
   "outputs": [],
   "source": [
    "# 평균 제곱근 오차를 계산하는 함수\n",
    "# rmse(예측 성적, 실제 성적) => 인수로 넘겨받는 데이터는 넘파이 배열 타입의 데이터이다. 일반적인 리스트는 반복문 통해 넣어야 한다. \n",
    "def rmse(predict_result, y):\n",
    "    return np.sqrt(((predict_result - y) ** 2 ).mean())"
   ]
  },
  {
   "cell_type": "code",
   "execution_count": 36,
   "id": "0d09feb2",
   "metadata": {},
   "outputs": [],
   "source": [
    "# 평균 제곱근 오차를 계산할 데이터를 넘파이 배열로 만들어 평균 제곱근 오차를 계산하는 함수 rmse()를 호출하는 함수\n",
    "def rmse_val(predict_result , y):\n",
    "    return rmse(np.array(predict_result), np.array(y))"
   ]
  },
  {
   "cell_type": "code",
   "execution_count": 37,
   "id": "f4a14322",
   "metadata": {},
   "outputs": [
    {
     "name": "stdout",
     "output_type": "stream",
     "text": [
      "RMSE: 3.3166247903554\n"
     ]
    }
   ],
   "source": [
    "# 평균 제곱근 오차를 계산해서 출력한다.\n",
    "rmse_result = rmse_val(predict_result, y)\n",
    "print('RMSE: {}'.format(rmse_result))"
   ]
  },
  {
   "cell_type": "markdown",
   "id": "0c7b93fe",
   "metadata": {},
   "source": [
    "기울기 2.1, y절편 82일 경우 RMSE는 3.535533905932736가 계산되는 것을 확인할 수 있다.  \n",
    "기울기 3, y절편 76일 경우 RMSE는 3.3166247903554가 계산되는 것을 확인할 수 있다.  \n",
    "이 오차를 줄이면서 새로운 선을 긋는 작업을 해야한다.   \n",
    "이를 위해서는 기울기와 y절편을 적절히 조절하면서 오차의 변화를 살펴보고 오차가 최소가 되는 기울기와 y 절편을 찾아야 한다.  \n",
    "\n",
    "기울기 2.3, y절편 79일 경우 RMSE는 2.880972058177584가 계산되는 것을 확인할 수 있다.  "
   ]
  },
  {
   "cell_type": "code",
   "execution_count": null,
   "id": "b0635665",
   "metadata": {},
   "outputs": [],
   "source": []
  }
 ],
 "metadata": {
  "kernelspec": {
   "display_name": "Python 3 (ipykernel)",
   "language": "python",
   "name": "python3"
  },
  "language_info": {
   "codemirror_mode": {
    "name": "ipython",
    "version": 3
   },
   "file_extension": ".py",
   "mimetype": "text/x-python",
   "name": "python",
   "nbconvert_exporter": "python",
   "pygments_lexer": "ipython3",
   "version": "3.7.16"
  }
 },
 "nbformat": 4,
 "nbformat_minor": 5
}
