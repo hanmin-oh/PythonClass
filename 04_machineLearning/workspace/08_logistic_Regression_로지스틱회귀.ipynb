{
 "cells": [
  {
   "cell_type": "code",
   "execution_count": 20,
   "id": "c9930ef6",
   "metadata": {},
   "outputs": [],
   "source": [
    "import warnings\n",
    "warnings.filterwarnings(action='ignore')\n",
    "%config Completer.use_jedi = False\n",
    "import tensorflow.compat.v1 as tf\n",
    "tf.disable_v2_behavior()\n",
    "import numpy as np\n",
    "import pandas as pd"
   ]
  },
  {
   "cell_type": "markdown",
   "id": "fad89a54",
   "metadata": {},
   "source": [
    "공부 시간, 과괴 시간과 시험 성적 사이의 관계는 좌표로 나타냈을 떄 형태가 직선으로 해결되는 선형 회귀를 사용하기에 적합했었다.   \n",
    "공부 시간에 따른 시험 점수가 아닌 합격 여부로 발표되는 사람이 있을 경우 직선으로 해결하기에는 적합하지 못한 문제가 발생된다.  \n",
    "이럴 때 사용하는 로지스틱 회귀는 참과 거짓중에 하나를 내놓는 과정으로 참과 거짓을 구분한 'S'자를 눕혀놓은 형태의 선을 그어주는 작업이다.  \n",
    "\n",
    "참조   \n",
    "https://devlog.jwgo.kr/2018/04/16/sigmoid-graph-according-to-slope-change/  \n",
    "http://taewan.kim/post/sigmoid_diff/"
   ]
  },
  {
   "cell_type": "code",
   "execution_count": 21,
   "id": "3f1864a5",
   "metadata": {},
   "outputs": [
    {
     "name": "stdout",
     "output_type": "stream",
     "text": [
      "공부 시간: [2, 4, 6, 8, 10, 12, 14], 합격 여부: [0, 0, 0, 1, 1, 1, 1]\n"
     ]
    }
   ],
   "source": [
    "data = [[2, 0],[4, 0], [6, 0], [8, 1], [10, 1], [12, 1], [14, 1]] # 공부 시간 - 합격 여부\n",
    "x = [i[0] for i in data] # 공부 시간\n",
    "y = [i[1] for i in data] # 합격 여부\n",
    "print('공부 시간: {}, 합격 여부: {}'.format(x, y))"
   ]
  },
  {
   "cell_type": "code",
   "execution_count": 29,
   "id": "458a5106",
   "metadata": {
    "scrolled": true
   },
   "outputs": [
    {
     "name": "stdout",
     "output_type": "stream",
     "text": [
      "a : [0.89765334], b : [0.54571545]\n"
     ]
    }
   ],
   "source": [
    "# 기울기 a와 y절편 b를 임의로 정한다.\n",
    "a = tf.Variable(tf.random_uniform([1])) # 기울기(가중치)\n",
    "b = tf.Variable(tf.random_uniform([1])) # y절편(바이어스)\n",
    "sess = tf.Session()\n",
    "sess.run(tf.global_variables_initializer())\n",
    "print('a : {}, b : {}'.format(sess.run(a), sess.run(b)))"
   ]
  },
  {
   "cell_type": "markdown",
   "id": "7ef8f933",
   "metadata": {},
   "source": [
    "시그모이드 방정식"
   ]
  },
  {
   "cell_type": "code",
   "execution_count": 30,
   "id": "9eac7170",
   "metadata": {},
   "outputs": [],
   "source": [
    "# print(np.e) # 넘파이에서 지수 값을 의미하는 상수 - 2.718281828459045\n",
    "Y = 1 / (1 + np.e ** -(a * x + b))"
   ]
  },
  {
   "cell_type": "markdown",
   "id": "a8e0694b",
   "metadata": {},
   "source": [
    "시그모이드 방정식의 오차를 계산하는 수식을 만든다.  \n",
    "시그모이드 함수의 특성은 예측값(Y)이 항상 0 아니면 1이다."
   ]
  },
  {
   "cell_type": "code",
   "execution_count": 31,
   "id": "a51c9f2a",
   "metadata": {},
   "outputs": [],
   "source": [
    "loss = -tf.reduce_mean(np.array(y) * tf.log(Y) + (1 - np.array(y)) * tf.log(1 - Y))"
   ]
  },
  {
   "cell_type": "markdown",
   "id": "ada41330",
   "metadata": {},
   "source": [
    "오차를 최소로 하는 값을 찾는다."
   ]
  },
  {
   "cell_type": "code",
   "execution_count": 32,
   "id": "594c63e4",
   "metadata": {},
   "outputs": [],
   "source": [
    "gradient_descent = tf.train.GradientDescentOptimizer(0.1).minimize(loss)"
   ]
  },
  {
   "cell_type": "code",
   "execution_count": 33,
   "id": "59a4eb78",
   "metadata": {},
   "outputs": [
    {
     "name": "stdout",
     "output_type": "stream",
     "text": [
      "epoch :      0, loss :  0.7481, 기울기:  0.2412, y절편 : 0.4963\n",
      "epoch :   5000, loss :  0.0583, 기울기:  1.5554, y절편 : -10.6997\n",
      "epoch :  10000, loss :  0.0371, 기울기:  2.0081, y절편 : -13.8906\n",
      "epoch :  15000, loss :  0.0274, 기울기:  2.3169, y절편 : -16.0603\n",
      "epoch :  20000, loss :     nan, 기울기:     nan, y절편 :    nan\n",
      "epoch :  25000, loss :     nan, 기울기:     nan, y절편 :    nan\n",
      "epoch :  30000, loss :     nan, 기울기:     nan, y절편 :    nan\n",
      "epoch :  35000, loss :     nan, 기울기:     nan, y절편 :    nan\n",
      "epoch :  40000, loss :     nan, 기울기:     nan, y절편 :    nan\n",
      "epoch :  45000, loss :     nan, 기울기:     nan, y절편 :    nan\n",
      "epoch :  50000, loss :     nan, 기울기:     nan, y절편 :    nan\n",
      "epoch :  55000, loss :     nan, 기울기:     nan, y절편 :    nan\n",
      "epoch :  60000, loss :     nan, 기울기:     nan, y절편 :    nan\n",
      "epoch :  65000, loss :     nan, 기울기:     nan, y절편 :    nan\n",
      "epoch :  70000, loss :     nan, 기울기:     nan, y절편 :    nan\n",
      "epoch :  75000, loss :     nan, 기울기:     nan, y절편 :    nan\n",
      "epoch :  80000, loss :     nan, 기울기:     nan, y절편 :    nan\n",
      "epoch :  85000, loss :     nan, 기울기:     nan, y절편 :    nan\n",
      "epoch :  90000, loss :     nan, 기울기:     nan, y절편 :    nan\n",
      "epoch :  95000, loss :     nan, 기울기:     nan, y절편 :    nan\n",
      "epoch : 100000, loss :     nan, 기울기:     nan, y절편 :    nan\n",
      "epoch : 105000, loss :     nan, 기울기:     nan, y절편 :    nan\n",
      "epoch : 110000, loss :     nan, 기울기:     nan, y절편 :    nan\n",
      "epoch : 115000, loss :     nan, 기울기:     nan, y절편 :    nan\n",
      "epoch : 120000, loss :     nan, 기울기:     nan, y절편 :    nan\n",
      "epoch : 125000, loss :     nan, 기울기:     nan, y절편 :    nan\n",
      "epoch : 130000, loss :     nan, 기울기:     nan, y절편 :    nan\n",
      "epoch : 135000, loss :     nan, 기울기:     nan, y절편 :    nan\n",
      "epoch : 140000, loss :     nan, 기울기:     nan, y절편 :    nan\n",
      "epoch : 145000, loss :     nan, 기울기:     nan, y절편 :    nan\n",
      "epoch : 150000, loss :     nan, 기울기:     nan, y절편 :    nan\n",
      "epoch : 155000, loss :     nan, 기울기:     nan, y절편 :    nan\n",
      "epoch : 160000, loss :     nan, 기울기:     nan, y절편 :    nan\n",
      "epoch : 165000, loss :     nan, 기울기:     nan, y절편 :    nan\n",
      "epoch : 170000, loss :     nan, 기울기:     nan, y절편 :    nan\n",
      "epoch : 175000, loss :     nan, 기울기:     nan, y절편 :    nan\n",
      "epoch : 180000, loss :     nan, 기울기:     nan, y절편 :    nan\n",
      "epoch : 185000, loss :     nan, 기울기:     nan, y절편 :    nan\n",
      "epoch : 190000, loss :     nan, 기울기:     nan, y절편 :    nan\n",
      "epoch : 195000, loss :     nan, 기울기:     nan, y절편 :    nan\n",
      "epoch : 200000, loss :     nan, 기울기:     nan, y절편 :    nan\n",
      "epoch : 205000, loss :     nan, 기울기:     nan, y절편 :    nan\n",
      "epoch : 210000, loss :     nan, 기울기:     nan, y절편 :    nan\n",
      "epoch : 215000, loss :     nan, 기울기:     nan, y절편 :    nan\n",
      "epoch : 220000, loss :     nan, 기울기:     nan, y절편 :    nan\n",
      "epoch : 225000, loss :     nan, 기울기:     nan, y절편 :    nan\n",
      "epoch : 230000, loss :     nan, 기울기:     nan, y절편 :    nan\n",
      "epoch : 235000, loss :     nan, 기울기:     nan, y절편 :    nan\n",
      "epoch : 240000, loss :     nan, 기울기:     nan, y절편 :    nan\n",
      "epoch : 245000, loss :     nan, 기울기:     nan, y절편 :    nan\n",
      "epoch : 250000, loss :     nan, 기울기:     nan, y절편 :    nan\n",
      "epoch : 255000, loss :     nan, 기울기:     nan, y절편 :    nan\n",
      "epoch : 260000, loss :     nan, 기울기:     nan, y절편 :    nan\n",
      "epoch : 265000, loss :     nan, 기울기:     nan, y절편 :    nan\n",
      "epoch : 270000, loss :     nan, 기울기:     nan, y절편 :    nan\n",
      "epoch : 275000, loss :     nan, 기울기:     nan, y절편 :    nan\n",
      "epoch : 280000, loss :     nan, 기울기:     nan, y절편 :    nan\n",
      "epoch : 285000, loss :     nan, 기울기:     nan, y절편 :    nan\n",
      "epoch : 290000, loss :     nan, 기울기:     nan, y절편 :    nan\n",
      "epoch : 295000, loss :     nan, 기울기:     nan, y절편 :    nan\n",
      "epoch : 300000, loss :     nan, 기울기:     nan, y절편 :    nan\n"
     ]
    }
   ],
   "source": [
    "# 학습 시킨다.\n",
    "# import time\n",
    "sess = tf.Session()\n",
    "sess.run(tf.global_variables_initializer())\n",
    "\n",
    "for epoch in range(300001):\n",
    "    sess.run(gradient_descent)\n",
    "    if epoch % 5000 == 0:\n",
    "        print('epoch : {:6d}, loss : {:7.4f}, 기울기: {:7.4f}, y절편 : {:6.4f}'\n",
    "              .format(epoch, sess.run(loss),  sess.run(a)[0], sess.run(b)[0]))\n",
    "#         time.sleep(0.5)"
   ]
  },
  {
   "cell_type": "code",
   "execution_count": null,
   "id": "6ac935b4",
   "metadata": {},
   "outputs": [],
   "source": []
  },
  {
   "cell_type": "code",
   "execution_count": null,
   "id": "235d3a00",
   "metadata": {},
   "outputs": [],
   "source": []
  },
  {
   "cell_type": "code",
   "execution_count": null,
   "id": "1e190be4",
   "metadata": {},
   "outputs": [],
   "source": []
  },
  {
   "cell_type": "code",
   "execution_count": null,
   "id": "6ec68460",
   "metadata": {},
   "outputs": [],
   "source": []
  },
  {
   "cell_type": "code",
   "execution_count": null,
   "id": "ebcad799",
   "metadata": {},
   "outputs": [],
   "source": []
  },
  {
   "cell_type": "code",
   "execution_count": null,
   "id": "a1de72fc",
   "metadata": {},
   "outputs": [],
   "source": []
  },
  {
   "cell_type": "code",
   "execution_count": null,
   "id": "be8f258b",
   "metadata": {},
   "outputs": [],
   "source": []
  },
  {
   "cell_type": "code",
   "execution_count": null,
   "id": "3b6569a3",
   "metadata": {},
   "outputs": [],
   "source": []
  },
  {
   "cell_type": "code",
   "execution_count": null,
   "id": "996b3683",
   "metadata": {},
   "outputs": [],
   "source": []
  },
  {
   "cell_type": "code",
   "execution_count": null,
   "id": "31da1a15",
   "metadata": {},
   "outputs": [],
   "source": []
  },
  {
   "cell_type": "code",
   "execution_count": null,
   "id": "b53dba22",
   "metadata": {},
   "outputs": [],
   "source": []
  },
  {
   "cell_type": "code",
   "execution_count": null,
   "id": "5e413094",
   "metadata": {},
   "outputs": [],
   "source": []
  },
  {
   "cell_type": "code",
   "execution_count": null,
   "id": "a60e3b58",
   "metadata": {},
   "outputs": [],
   "source": []
  },
  {
   "cell_type": "code",
   "execution_count": null,
   "id": "9f14862c",
   "metadata": {},
   "outputs": [],
   "source": []
  },
  {
   "cell_type": "code",
   "execution_count": null,
   "id": "01d0a0be",
   "metadata": {},
   "outputs": [],
   "source": []
  },
  {
   "cell_type": "code",
   "execution_count": null,
   "id": "46648b96",
   "metadata": {},
   "outputs": [],
   "source": []
  },
  {
   "cell_type": "code",
   "execution_count": null,
   "id": "f0e224a2",
   "metadata": {},
   "outputs": [],
   "source": []
  }
 ],
 "metadata": {
  "kernelspec": {
   "display_name": "Python 3 (ipykernel)",
   "language": "python",
   "name": "python3"
  },
  "language_info": {
   "codemirror_mode": {
    "name": "ipython",
    "version": 3
   },
   "file_extension": ".py",
   "mimetype": "text/x-python",
   "name": "python",
   "nbconvert_exporter": "python",
   "pygments_lexer": "ipython3",
   "version": "3.8.6"
  }
 },
 "nbformat": 4,
 "nbformat_minor": 5
}
