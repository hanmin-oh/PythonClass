{
 "cells": [
  {
   "cell_type": "markdown",
   "id": "b0e37aee",
   "metadata": {},
   "source": [
    "베르누이 나이브 베이즈를 활용한 스팸 메일 분류  \n",
    "이메일 제목과 레이블(스팸 여부) 데이터를 활용해 베르누이 나이브 베이즈 분류로 스팸 메일을 분류한다."
   ]
  },
  {
   "cell_type": "code",
   "execution_count": 1,
   "id": "9d7ca3d5",
   "metadata": {},
   "outputs": [],
   "source": [
    "%config Completer.use_jedi = False\n",
    "import warnings\n",
    "warnings.filterwarnings(action='ignore')\n",
    "import pandas as pd\n",
    "import numpy as np\n",
    "\n",
    "# 베르누이 나이브 베이즈를 사용하기 위한 라이브러리를 import 한다.\n",
    "from sklearn.naive_bayes import BernoulliNB\n",
    "# 데이터에 출현한 모든 단어 개수 만큼의 크기를 가진 벡터를 만들고 고정된 벡터로 표현하기 위해 import 한다. \n",
    "from sklearn.feature_extraction.text import CountVectorizer\n",
    "# 모델 정확도 평가를 위한 라이브러리를 import 한다.\n",
    "from sklearn.metrics import accuracy_score\n",
    "from sklearn.metrics import classification_report"
   ]
  },
  {
   "cell_type": "markdown",
   "id": "b80b11f4",
   "metadata": {},
   "source": [
    "데이터 획득  \n",
    "간단한 스팸 메일 분류를 위해 다음과 같이 이메일 제목과 스팸 메일 레이블이 있는 데이터를 사용한다.  \n",
    "email title: 이메일 제목, spam: 스팸 메일 여부(True => 스팸 메일, False => 스팸 메일 아님)  "
   ]
  },
  {
   "cell_type": "code",
   "execution_count": 2,
   "id": "e5c39d5c",
   "metadata": {},
   "outputs": [
    {
     "data": {
      "text/html": [
       "<div>\n",
       "<style scoped>\n",
       "    .dataframe tbody tr th:only-of-type {\n",
       "        vertical-align: middle;\n",
       "    }\n",
       "\n",
       "    .dataframe tbody tr th {\n",
       "        vertical-align: top;\n",
       "    }\n",
       "\n",
       "    .dataframe thead th {\n",
       "        text-align: right;\n",
       "    }\n",
       "</style>\n",
       "<table border=\"1\" class=\"dataframe\">\n",
       "  <thead>\n",
       "    <tr style=\"text-align: right;\">\n",
       "      <th></th>\n",
       "      <th>email title</th>\n",
       "      <th>spam</th>\n",
       "    </tr>\n",
       "  </thead>\n",
       "  <tbody>\n",
       "    <tr>\n",
       "      <th>0</th>\n",
       "      <td>free game only today</td>\n",
       "      <td>True</td>\n",
       "    </tr>\n",
       "    <tr>\n",
       "      <th>1</th>\n",
       "      <td>cheapest flight deal</td>\n",
       "      <td>True</td>\n",
       "    </tr>\n",
       "    <tr>\n",
       "      <th>2</th>\n",
       "      <td>limited time offer only today only today</td>\n",
       "      <td>True</td>\n",
       "    </tr>\n",
       "    <tr>\n",
       "      <th>3</th>\n",
       "      <td>today meeting schedule</td>\n",
       "      <td>False</td>\n",
       "    </tr>\n",
       "    <tr>\n",
       "      <th>4</th>\n",
       "      <td>your flight schedule attached</td>\n",
       "      <td>False</td>\n",
       "    </tr>\n",
       "    <tr>\n",
       "      <th>5</th>\n",
       "      <td>your credit card statement</td>\n",
       "      <td>False</td>\n",
       "    </tr>\n",
       "  </tbody>\n",
       "</table>\n",
       "</div>"
      ],
      "text/plain": [
       "                                email title   spam\n",
       "0                      free game only today   True\n",
       "1                      cheapest flight deal   True\n",
       "2  limited time offer only today only today   True\n",
       "3                    today meeting schedule  False\n",
       "4             your flight schedule attached  False\n",
       "5                your credit card statement  False"
      ]
     },
     "execution_count": 2,
     "metadata": {},
     "output_type": "execute_result"
    }
   ],
   "source": [
    "# 학습 데이터 준비\n",
    "email_list = [\n",
    "    {'email title': 'free game only today', 'spam': True},\n",
    "    {'email title': 'cheapest flight deal', 'spam': True},\n",
    "    {'email title': 'limited time offer only today only today', 'spam': True},\n",
    "    {'email title': 'today meeting schedule', 'spam': False},\n",
    "    {'email title': 'your flight schedule attached', 'spam': False},\n",
    "    {'email title': 'your credit card statement', 'spam': False}\n",
    "]\n",
    "df = pd.DataFrame(email_list)\n",
    "df"
   ]
  },
  {
   "cell_type": "markdown",
   "id": "bcbd831f",
   "metadata": {},
   "source": [
    "학습 데이터 다듬기  \n",
    "사이킷런의 베르누이 나이브 베이즈 분류기는 숫자만 다루기 때문에 True와 False를 1과 0으로 치환한다.  \n",
    "이메일 제목(email title)으로 학습을 진행하고 레이블은 label을 사용해서 스팸 메일 여부를 판단한다."
   ]
  },
  {
   "cell_type": "code",
   "execution_count": 3,
   "id": "b802e94d",
   "metadata": {},
   "outputs": [
    {
     "data": {
      "text/html": [
       "<div>\n",
       "<style scoped>\n",
       "    .dataframe tbody tr th:only-of-type {\n",
       "        vertical-align: middle;\n",
       "    }\n",
       "\n",
       "    .dataframe tbody tr th {\n",
       "        vertical-align: top;\n",
       "    }\n",
       "\n",
       "    .dataframe thead th {\n",
       "        text-align: right;\n",
       "    }\n",
       "</style>\n",
       "<table border=\"1\" class=\"dataframe\">\n",
       "  <thead>\n",
       "    <tr style=\"text-align: right;\">\n",
       "      <th></th>\n",
       "      <th>email title</th>\n",
       "      <th>spam</th>\n",
       "      <th>label</th>\n",
       "    </tr>\n",
       "  </thead>\n",
       "  <tbody>\n",
       "    <tr>\n",
       "      <th>0</th>\n",
       "      <td>free game only today</td>\n",
       "      <td>True</td>\n",
       "      <td>1</td>\n",
       "    </tr>\n",
       "    <tr>\n",
       "      <th>1</th>\n",
       "      <td>cheapest flight deal</td>\n",
       "      <td>True</td>\n",
       "      <td>1</td>\n",
       "    </tr>\n",
       "    <tr>\n",
       "      <th>2</th>\n",
       "      <td>limited time offer only today only today</td>\n",
       "      <td>True</td>\n",
       "      <td>1</td>\n",
       "    </tr>\n",
       "    <tr>\n",
       "      <th>3</th>\n",
       "      <td>today meeting schedule</td>\n",
       "      <td>False</td>\n",
       "      <td>0</td>\n",
       "    </tr>\n",
       "    <tr>\n",
       "      <th>4</th>\n",
       "      <td>your flight schedule attached</td>\n",
       "      <td>False</td>\n",
       "      <td>0</td>\n",
       "    </tr>\n",
       "    <tr>\n",
       "      <th>5</th>\n",
       "      <td>your credit card statement</td>\n",
       "      <td>False</td>\n",
       "      <td>0</td>\n",
       "    </tr>\n",
       "  </tbody>\n",
       "</table>\n",
       "</div>"
      ],
      "text/plain": [
       "                                email title   spam  label\n",
       "0                      free game only today   True      1\n",
       "1                      cheapest flight deal   True      1\n",
       "2  limited time offer only today only today   True      1\n",
       "3                    today meeting schedule  False      0\n",
       "4             your flight schedule attached  False      0\n",
       "5                your credit card statement  False      0"
      ]
     },
     "execution_count": 3,
     "metadata": {},
     "output_type": "execute_result"
    }
   ],
   "source": [
    "# df['label'] = df.get('spam').map({True: 1, False: 0})\n",
    "# df['label'] = df['spam'].map({True: 1, False: 0})\n",
    "df['label'] = df.spam.map({True: 1, False: 0})\n",
    "df"
   ]
  },
  {
   "cell_type": "code",
   "execution_count": 4,
   "id": "284ac6ad",
   "metadata": {},
   "outputs": [
    {
     "data": {
      "text/plain": [
       "email title    object\n",
       "spam             bool\n",
       "label           int64\n",
       "dtype: object"
      ]
     },
     "execution_count": 4,
     "metadata": {},
     "output_type": "execute_result"
    }
   ],
   "source": [
    "df.dtypes"
   ]
  },
  {
   "cell_type": "markdown",
   "id": "7c147e0f",
   "metadata": {},
   "source": [
    "학습에 사용할 데이터와 레이블(클래스, 타겟, 답)로 분리한다."
   ]
  },
  {
   "cell_type": "code",
   "execution_count": 5,
   "id": "0b7e39b1",
   "metadata": {},
   "outputs": [
    {
     "data": {
      "text/plain": [
       "0                        free game only today\n",
       "1                        cheapest flight deal\n",
       "2    limited time offer only today only today\n",
       "3                      today meeting schedule\n",
       "4               your flight schedule attached\n",
       "5                  your credit card statement\n",
       "Name: email title, dtype: object"
      ]
     },
     "execution_count": 5,
     "metadata": {},
     "output_type": "execute_result"
    }
   ],
   "source": [
    "df_x = df['email title']\n",
    "df_x"
   ]
  },
  {
   "cell_type": "code",
   "execution_count": 6,
   "id": "0ab42d5b",
   "metadata": {
    "scrolled": true
   },
   "outputs": [
    {
     "data": {
      "text/plain": [
       "0    1\n",
       "1    1\n",
       "2    1\n",
       "3    0\n",
       "4    0\n",
       "5    0\n",
       "Name: label, dtype: int64"
      ]
     },
     "execution_count": 6,
     "metadata": {},
     "output_type": "execute_result"
    }
   ],
   "source": [
    "df_y = df['label']\n",
    "df_y"
   ]
  },
  {
   "cell_type": "code",
   "execution_count": 7,
   "id": "c7d4ff2f",
   "metadata": {},
   "outputs": [
    {
     "data": {
      "text/plain": [
       "dtype('int64')"
      ]
     },
     "execution_count": 7,
     "metadata": {},
     "output_type": "execute_result"
    }
   ],
   "source": [
    "df_y.dtype"
   ]
  },
  {
   "cell_type": "markdown",
   "id": "93f40056",
   "metadata": {},
   "source": [
    "베르누이 나이브 베이즈의 입력 데이터는 고정된 크기의 벡터이어야 한다.  \n",
    "사이킷런의 CountVectorizer() 함수를 사용하면 데이터에 출현한 모든 단어의 개수 만큼의 크기를 가진 벡터를 만들고 고정된 벡터로 표현한다."
   ]
  },
  {
   "cell_type": "code",
   "execution_count": 8,
   "id": "ee2029de",
   "metadata": {},
   "outputs": [
    {
     "name": "stdout",
     "output_type": "stream",
     "text": [
      "17\n",
      "{'flight', 'cheapest', 'limited', 'schedule', 'time', 'only', 'credit', 'free', 'statement', 'attached', 'offer', 'today', 'meeting', 'your', 'deal', 'card', 'game'}\n"
     ]
    }
   ],
   "source": [
    "string = 'free game only today cheapest flight deal limited time offer only today only today today meeting schedule ' \\\n",
    "    'your flight schedule attached  your credit card statement'\n",
    "string = set(string.split())\n",
    "print(len(string))\n",
    "print(string)"
   ]
  },
  {
   "cell_type": "code",
   "execution_count": 9,
   "id": "e71da886",
   "metadata": {
    "scrolled": true
   },
   "outputs": [
    {
     "name": "stdout",
     "output_type": "stream",
     "text": [
      "<class 'scipy.sparse._csr.csr_matrix'>\n",
      "<class 'numpy.ndarray'>\n",
      "[[0 0 0 0 0 0 1 1 0 0 0 1 0 0 0 1 0]\n",
      " [0 0 1 0 1 1 0 0 0 0 0 0 0 0 0 0 0]\n",
      " [0 0 0 0 0 0 0 0 1 0 1 1 0 0 1 1 0]\n",
      " [0 0 0 0 0 0 0 0 0 1 0 0 1 0 0 1 0]\n",
      " [1 0 0 0 0 1 0 0 0 0 0 0 1 0 0 0 1]\n",
      " [0 1 0 1 0 0 0 0 0 0 0 0 0 1 0 0 1]]\n"
     ]
    }
   ],
   "source": [
    "# CountVectorizer 객체는 문자열에 출현한 단어를 오름차순으로 정렬해 단어의 위치로 행렬을 만들어 리턴한다.\n",
    "# CountVectorizer() 함수는 이메일 제목에 출현한 단어를 오름차순으로 정렬해 단어의 위치로 행렬을 만들어 리턴한다.\n",
    "# 특정 단어가 출현할 경우 출현한 단어의 개수를 리턴하고 출현하지 않으면 0을 리턴한다.\n",
    "# CountVectorizer() 함수의 옵션으로 binary=True를 지정하면 같은 단어가 여러번 출현하더라도 무조건 1을 리턴한다.\n",
    "cv = CountVectorizer(binary=True) #CountVectorizer 객체를 만든다.\n",
    "x_train = cv.fit_transform(df_x)\n",
    "# print(x_train)\n",
    "print(type(x_train)) #<class 'scipy.sparse._csr.csr_matrix'>\n",
    "encoded_input = x_train.toarray() # 넘파이 타입의 배열 데이터로 변환한다.\n",
    "print(type(encoded_input))\n",
    "print(encoded_input)"
   ]
  },
  {
   "cell_type": "markdown",
   "id": "3e4338a3",
   "metadata": {},
   "source": [
    "위의 행렬에서 볼 수 있듯이 이메일 제목에서 총 17개의 단어가 발견되어 각 이메일 제목이 17개 크기의 벡터로 표현(인코딩)된 것을 확인할 수 있다.  \n",
    "베르누이 나이브 베이즈에서 사용하기 위해 이메일 제목에 중복되서 출현한 단어가 있더라도 출현한 횟수로 표현되는 것이 아니라 단순히 1로 표현된 것을 알 수 있다."
   ]
  },
  {
   "cell_type": "code",
   "execution_count": 10,
   "id": "3d027df3",
   "metadata": {
    "scrolled": true
   },
   "outputs": [
    {
     "ename": "NameError",
     "evalue": "name 'encoding_input' is not defined",
     "output_type": "error",
     "traceback": [
      "\u001b[1;31m---------------------------------------------------------------------------\u001b[0m",
      "\u001b[1;31mNameError\u001b[0m                                 Traceback (most recent call last)",
      "Cell \u001b[1;32mIn[10], line 3\u001b[0m\n\u001b[0;32m      1\u001b[0m \u001b[38;5;66;03m# inverse_transform() 메소드로 고정된 크기의 벡터에 포함된 단어를 확인할 수 있다.\u001b[39;00m\n\u001b[0;32m      2\u001b[0m \u001b[38;5;66;03m# print(cv.inverse_transform(encoding_input))\u001b[39;00m\n\u001b[1;32m----> 3\u001b[0m \u001b[38;5;28;01mfor\u001b[39;00m s \u001b[38;5;129;01min\u001b[39;00m cv\u001b[38;5;241m.\u001b[39minverse_transform(\u001b[43mencoding_input\u001b[49m):\n\u001b[0;32m      4\u001b[0m     \u001b[38;5;28mprint\u001b[39m(s)\n",
      "\u001b[1;31mNameError\u001b[0m: name 'encoding_input' is not defined"
     ]
    }
   ],
   "source": [
    "# inverse_transform() 메소드로 고정된 크기의 벡터에 포함된 단어를 확인할 수 있다.\n",
    "# print(cv.inverse_transform(encoding_input))\n",
    "for s in cv.inverse_transform(encoding_input):\n",
    "    print(s)"
   ]
  },
  {
   "cell_type": "code",
   "execution_count": null,
   "id": "0d0511b5",
   "metadata": {},
   "outputs": [],
   "source": [
    "# get_feature_names() 메소드로 고정된 벡터의 각 열(피쳐)이 어떤 단어를 의미하는지 확인할 수 있다.\n",
    "print(cv.get_feature_names())"
   ]
  },
  {
   "cell_type": "markdown",
   "id": "ad0ca056",
   "metadata": {},
   "source": [
    "베르누이 나이브 베이즈 모델 학습하기  \n",
    "사이킷런의 베르누이 나이브 베이즈 분류기는 기본적으로 스무딩을 지원하므로 학습 데이터에 없던 단어가 테스트 데이터에 있어도 분류가 잘 진행된다.\n",
    "\n",
    "라플라스 스무딩(Laplace Smoothing)  \n",
    "0이라는 수는 곱셈과 나눗셈을 무력화시키는 값이므로 그 전에 아무리 의미있는 값이 도출된다 하더라도 마지막에 0을 곱해버리면 값은 0이 나온다. 이런 경우가 상당히 빈번하기 때문에 값이 0이 아닌 최소값(1회 등장)으로 보정을 하게되는데 이를 라플라스 스무딩이라 한다."
   ]
  },
  {
   "cell_type": "code",
   "execution_count": null,
   "id": "ed81dfa2",
   "metadata": {},
   "outputs": [],
   "source": [
    "bnb = BernoulliNB() # 베르누이 니이브 베이즈 모델을 만든다.\n",
    "# y_train = \n",
    "bnb.fit(x_train, df_y) # 베르누이 나이브 베이즈 모델을 학습시킨다. "
   ]
  },
  {
   "cell_type": "markdown",
   "id": "1e8bef02",
   "metadata": {},
   "source": [
    "테스트 데이터를 다듬고 테스트 실행"
   ]
  },
  {
   "cell_type": "code",
   "execution_count": null,
   "id": "8f11d239",
   "metadata": {},
   "outputs": [],
   "source": [
    "test_email_list = [\n",
    "    {'email title': 'free game only today', 'spam': True},\n",
    "    {'email title': 'cheapest flight deal', 'spam': True},\n",
    "    {'email title': 'limited time offer only today only today', 'spam': True},\n",
    "    {'email title': 'today meeting schedule', 'spam': False},\n",
    "    {'email title': 'your flight schedule attached', 'spam': False},\n",
    "    {'email title': 'your credit card statement', 'spam': False}\n",
    "]\n",
    "test_df = pd.DataFrame(test_email_list)\n",
    "test_df['label'] = test_df.spam.map({True : 1, False : 0})\n",
    "test_df"
   ]
  },
  {
   "cell_type": "code",
   "execution_count": null,
   "id": "c520a803",
   "metadata": {},
   "outputs": [],
   "source": [
    "test_x = df['email title']\n",
    "test_x"
   ]
  },
  {
   "cell_type": "code",
   "execution_count": null,
   "id": "45d39877",
   "metadata": {
    "scrolled": false
   },
   "outputs": [],
   "source": [
    "test_y = df['label'] # 타겟\n",
    "test_y"
   ]
  },
  {
   "cell_type": "code",
   "execution_count": null,
   "id": "f37f66e0",
   "metadata": {},
   "outputs": [],
   "source": [
    "x_test = cv.transform(test_x)\n",
    "# print(x_test)\n",
    "y_test = test_y.astype('int')"
   ]
  },
  {
   "cell_type": "markdown",
   "id": "9fa8217b",
   "metadata": {},
   "source": [
    "모델 테스트"
   ]
  },
  {
   "cell_type": "code",
   "execution_count": null,
   "id": "f0255af1",
   "metadata": {
    "scrolled": true
   },
   "outputs": [],
   "source": [
    "predict = bnb.predict(x_test)\n",
    "print(classification_report(y_test, predict))"
   ]
  },
  {
   "cell_type": "code",
   "execution_count": null,
   "id": "bb4dcc9c",
   "metadata": {},
   "outputs": [],
   "source": [
    "print('정확도(accuracy): {:.2f}'.format(accuracy_score(y_test, predict)))"
   ]
  },
  {
   "cell_type": "code",
   "execution_count": null,
   "id": "6429eeec",
   "metadata": {},
   "outputs": [],
   "source": [
    "comparison = pd.DataFrame({'실제값': y_test, '예측값': predict})\n",
    "comparison"
   ]
  },
  {
   "cell_type": "code",
   "execution_count": null,
   "id": "1e00062f",
   "metadata": {},
   "outputs": [],
   "source": []
  },
  {
   "cell_type": "code",
   "execution_count": null,
   "id": "5b22c537",
   "metadata": {},
   "outputs": [],
   "source": []
  },
  {
   "cell_type": "code",
   "execution_count": null,
   "id": "e44f6114",
   "metadata": {},
   "outputs": [],
   "source": []
  },
  {
   "cell_type": "code",
   "execution_count": null,
   "id": "345c183a",
   "metadata": {},
   "outputs": [],
   "source": []
  },
  {
   "cell_type": "code",
   "execution_count": null,
   "id": "3e75148a",
   "metadata": {},
   "outputs": [],
   "source": []
  },
  {
   "cell_type": "code",
   "execution_count": null,
   "id": "aaa6a589",
   "metadata": {},
   "outputs": [],
   "source": []
  },
  {
   "cell_type": "code",
   "execution_count": null,
   "id": "445ff12c",
   "metadata": {},
   "outputs": [],
   "source": []
  },
  {
   "cell_type": "code",
   "execution_count": null,
   "id": "da94a9ea",
   "metadata": {},
   "outputs": [],
   "source": []
  },
  {
   "cell_type": "code",
   "execution_count": null,
   "id": "8ee4fd44",
   "metadata": {},
   "outputs": [],
   "source": []
  },
  {
   "cell_type": "code",
   "execution_count": null,
   "id": "e924d928",
   "metadata": {},
   "outputs": [],
   "source": []
  },
  {
   "cell_type": "code",
   "execution_count": null,
   "id": "92c16350",
   "metadata": {},
   "outputs": [],
   "source": []
  },
  {
   "cell_type": "code",
   "execution_count": null,
   "id": "3df15114",
   "metadata": {},
   "outputs": [],
   "source": []
  }
 ],
 "metadata": {
  "kernelspec": {
   "display_name": "Python 3 (ipykernel)",
   "language": "python",
   "name": "python3"
  },
  "language_info": {
   "codemirror_mode": {
    "name": "ipython",
    "version": 3
   },
   "file_extension": ".py",
   "mimetype": "text/x-python",
   "name": "python",
   "nbconvert_exporter": "python",
   "pygments_lexer": "ipython3",
   "version": "3.8.6"
  }
 },
 "nbformat": 4,
 "nbformat_minor": 5
}
