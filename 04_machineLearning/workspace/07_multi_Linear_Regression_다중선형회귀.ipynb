{
 "cells": [
  {
   "cell_type": "code",
   "execution_count": 1,
   "id": "c9930ef6",
   "metadata": {},
   "outputs": [
    {
     "name": "stdout",
     "output_type": "stream",
     "text": [
      "WARNING:tensorflow:From c:\\python\\lib\\site-packages\\tensorflow\\python\\compat\\v2_compat.py:107: disable_resource_variables (from tensorflow.python.ops.variable_scope) is deprecated and will be removed in a future version.\n",
      "Instructions for updating:\n",
      "non-resource variables are not supported in the long term\n"
     ]
    }
   ],
   "source": [
    "import warnings\n",
    "warnings.filterwarnings(action='ignore')\n",
    "%config Completer.use_jedi = False\n",
    "import tensorflow.compat.v1 as tf\n",
    "tf.disable_v2_behavior()\n",
    "import numpy as np\n",
    "import pandas as pd\n"
   ]
  },
  {
   "cell_type": "code",
   "execution_count": 3,
   "id": "89b9ecd7",
   "metadata": {},
   "outputs": [],
   "source": [
    "data = [[2, 0, 81],[4, 4, 93], [6, 2, 91], [8, 3, 97]] # 과외 시간\n",
    "x1 = [i[0] for i in data] # 공부 시간\n",
    "x2 = [i[1] for i in data] # 공부 시간\n",
    "y = [i[2] for i in data] # 시험 성적"
   ]
  },
  {
   "cell_type": "code",
   "execution_count": 5,
   "id": "458a5106",
   "metadata": {},
   "outputs": [
    {
     "name": "stdout",
     "output_type": "stream",
     "text": [
      "a1 : [0.1203084], a2 : [9.584377],b : [5.0096393]\n"
     ]
    }
   ],
   "source": [
    "# 기울기 a와 y절편 b를 임의로 정한다.\n",
    "a1 = tf.Variable(tf.random_uniform([1], 0, 10)) # 기울기(가중치), -100 ~ 10 사이의 난수\n",
    "a2 = tf.Variable(tf.random_uniform([1], 0, 10)) # 기울기(가중치), -100 ~ 10 사이의 난수\n",
    "b = tf.Variable(tf.random_uniform([1], 0, 100)) # y절편(바이어스), -100 ~ 100 사이의 난수\n",
    "sess = tf.Session()\n",
    "sess.run(tf.global_variables_initializer())\n",
    "print('a1 : {}, a2 : {},b : {}'.format(sess.run(a1),sess.run(a2), sess.run(b)))"
   ]
  },
  {
   "cell_type": "code",
   "execution_count": 8,
   "id": "1fdebce6",
   "metadata": {},
   "outputs": [],
   "source": [
    "# 예측 성적(Y)를 얻기 위한 가설(수식)을 만든다.\n",
    "Y = a1 * x1 + a2* x2 + b\n",
    "# tensorflow에서 실행할 RMSE(평균 제곱근 오차) 수식(오차 함수)을 만든다.\n",
    "rmse = tf.sqrt(tf.reduce_mean(tf.square(Y - y)))\n",
    "# 경사 하강법을 이용하여 RMSE를 최소로 하는 값을 찾는 수식을 만든다.\n",
    "gradient_descent = tf.train.GradientDescentOptimizer(0.1).minimize(rmse)"
   ]
  },
  {
   "cell_type": "code",
   "execution_count": 11,
   "id": "59a4eb78",
   "metadata": {},
   "outputs": [
    {
     "name": "stdout",
     "output_type": "stream",
     "text": [
      "epoch:    0, RMSE:  5.5199, 기울기1:  2.6372, 기울기2:  4.7939, y절편: 66.9605\n",
      "epoch:  200, RMSE:  1.3273, 기울기1:  1.9409, 기울기2:  2.4353, y절편: 74.6538\n",
      "epoch:  400, RMSE:  1.8369, 기울기1:  1.3134, 기울기2:  2.1922, y절편: 77.2547\n",
      "epoch:  600, RMSE:  1.8370, 기울기1:  1.2445, 기울기2:  2.1682, y절편: 77.7133\n",
      "epoch:  800, RMSE:  1.8370, 기울기1:  1.2326, 기울기2:  2.1641, y절편: 77.7943\n",
      "epoch: 1000, RMSE:  1.8370, 기울기1:  1.2305, 기울기2:  2.1634, y절편: 77.8086\n",
      "epoch: 1200, RMSE:  1.8370, 기울기1:  1.2302, 기울기2:  2.1633, y절편: 77.8112\n",
      "epoch: 1400, RMSE:  1.8371, 기울기1:  1.2301, 기울기2:  2.1633, y절편: 77.8113\n",
      "epoch: 1600, RMSE:  1.8371, 기울기1:  1.2301, 기울기2:  2.1633, y절편: 77.8113\n",
      "epoch: 1800, RMSE:  1.8371, 기울기1:  1.2301, 기울기2:  2.1633, y절편: 77.8113\n",
      "epoch: 2000, RMSE:  1.8371, 기울기1:  1.2301, 기울기2:  2.1633, y절편: 77.8113\n",
      "epoch: 2200, RMSE:  1.8371, 기울기1:  1.2301, 기울기2:  2.1633, y절편: 77.8113\n",
      "epoch: 2400, RMSE:  1.8371, 기울기1:  1.2301, 기울기2:  2.1633, y절편: 77.8113\n",
      "epoch: 2600, RMSE:  1.8371, 기울기1:  1.2301, 기울기2:  2.1633, y절편: 77.8113\n",
      "epoch: 2800, RMSE:  1.8371, 기울기1:  1.2301, 기울기2:  2.1633, y절편: 77.8113\n",
      "epoch: 3000, RMSE:  1.8371, 기울기1:  1.2301, 기울기2:  2.1633, y절편: 77.8113\n"
     ]
    }
   ],
   "source": [
    "# 학습 시킨다.\n",
    "import time\n",
    "sess = tf.Session()\n",
    "sess.run(tf.global_variables_initializer())\n",
    "\n",
    "for epoch in range(3001):\n",
    "    sess.run(gradient_descent)\n",
    "    if epoch % 200 == 0:\n",
    "        print('epoch : {:4d}, RMSE : {:7.4f}, 기울기1 : {:7.4f}, 기울기2 : {:7.4f}, y절편 : {:6.4f}'\n",
    "              .format(epoch, sess.run(rmse), sess.run(a1)[0], sess.run(a2)[0], sess.run(b)[0]))\n",
    "        time.sleep(0.5)"
   ]
  },
  {
   "cell_type": "markdown",
   "id": "9f25e860",
   "metadata": {},
   "source": [
    "<img src=\"./images/gradient_descent.png\">"
   ]
  },
  {
   "cell_type": "code",
   "execution_count": null,
   "id": "6ac935b4",
   "metadata": {},
   "outputs": [],
   "source": []
  },
  {
   "cell_type": "code",
   "execution_count": null,
   "id": "235d3a00",
   "metadata": {},
   "outputs": [],
   "source": []
  },
  {
   "cell_type": "code",
   "execution_count": null,
   "id": "1e190be4",
   "metadata": {},
   "outputs": [],
   "source": []
  },
  {
   "cell_type": "code",
   "execution_count": null,
   "id": "6ec68460",
   "metadata": {},
   "outputs": [],
   "source": []
  },
  {
   "cell_type": "code",
   "execution_count": null,
   "id": "ebcad799",
   "metadata": {},
   "outputs": [],
   "source": []
  },
  {
   "cell_type": "code",
   "execution_count": null,
   "id": "a1de72fc",
   "metadata": {},
   "outputs": [],
   "source": []
  },
  {
   "cell_type": "code",
   "execution_count": null,
   "id": "be8f258b",
   "metadata": {},
   "outputs": [],
   "source": []
  },
  {
   "cell_type": "code",
   "execution_count": null,
   "id": "3b6569a3",
   "metadata": {},
   "outputs": [],
   "source": []
  },
  {
   "cell_type": "code",
   "execution_count": null,
   "id": "996b3683",
   "metadata": {},
   "outputs": [],
   "source": []
  },
  {
   "cell_type": "code",
   "execution_count": null,
   "id": "31da1a15",
   "metadata": {},
   "outputs": [],
   "source": []
  },
  {
   "cell_type": "code",
   "execution_count": null,
   "id": "b53dba22",
   "metadata": {},
   "outputs": [],
   "source": []
  },
  {
   "cell_type": "code",
   "execution_count": null,
   "id": "5e413094",
   "metadata": {},
   "outputs": [],
   "source": []
  },
  {
   "cell_type": "code",
   "execution_count": null,
   "id": "a60e3b58",
   "metadata": {},
   "outputs": [],
   "source": []
  },
  {
   "cell_type": "code",
   "execution_count": null,
   "id": "9f14862c",
   "metadata": {},
   "outputs": [],
   "source": []
  },
  {
   "cell_type": "code",
   "execution_count": null,
   "id": "01d0a0be",
   "metadata": {},
   "outputs": [],
   "source": []
  },
  {
   "cell_type": "code",
   "execution_count": null,
   "id": "46648b96",
   "metadata": {},
   "outputs": [],
   "source": []
  },
  {
   "cell_type": "code",
   "execution_count": null,
   "id": "f0e224a2",
   "metadata": {},
   "outputs": [],
   "source": []
  }
 ],
 "metadata": {
  "kernelspec": {
   "display_name": "Python 3 (ipykernel)",
   "language": "python",
   "name": "python3"
  },
  "language_info": {
   "codemirror_mode": {
    "name": "ipython",
    "version": 3
   },
   "file_extension": ".py",
   "mimetype": "text/x-python",
   "name": "python",
   "nbconvert_exporter": "python",
   "pygments_lexer": "ipython3",
   "version": "3.7.16"
  }
 },
 "nbformat": 4,
 "nbformat_minor": 5
}
