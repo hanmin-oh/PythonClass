{
 "cells": [
  {
   "cell_type": "code",
   "execution_count": 1,
   "id": "177f36e7",
   "metadata": {},
   "outputs": [],
   "source": [
    "import warnings\n",
    "warnings.filterwarnings(action='ignore')\n",
    "%config Computer.use_jedi = False"
   ]
  },
  {
   "cell_type": "code",
   "execution_count": 2,
   "id": "f0400e13",
   "metadata": {
    "scrolled": true
   },
   "outputs": [
    {
     "name": "stdout",
     "output_type": "stream",
     "text": [
      "WARNING:tensorflow:From c:\\python\\lib\\site-packages\\tensorflow\\python\\compat\\v2_compat.py:107: disable_resource_variables (from tensorflow.python.ops.variable_scope) is deprecated and will be removed in a future version.\n",
      "Instructions for updating:\n",
      "non-resource variables are not supported in the long term\n",
      "2.13.0\n"
     ]
    }
   ],
   "source": [
    "# !pip install tensorflow\n",
    "# import tensorflow as tf # tensorflow 2.x 버전을 사용한다. \n",
    "import tensorflow.compat.v1 as tf  # tensorflow 1.x 버전을 사용한다. \n",
    "tf.disable_v2_behavior() # tensorflow 2.x 버전의 문법을 사용하지 않겠다고 선언한다.\n",
    "print(tf.__version__)"
   ]
  },
  {
   "cell_type": "markdown",
   "id": "71837890",
   "metadata": {},
   "source": [
    "변수, 상수, 수식을 만든다. => 세션에 넣는다. => 변수일 경우 초기화 시킨다. => 실행한다.\n",
    "\n",
    "tesorflow 상수"
   ]
  },
  {
   "cell_type": "code",
   "execution_count": 41,
   "id": "910b2282",
   "metadata": {},
   "outputs": [
    {
     "name": "stdout",
     "output_type": "stream",
     "text": [
      "a = Tensor(\"Const_21:0\", shape=(), dtype=int32)\n",
      "Tensor(\"Const_22:0\", shape=(), dtype=int32)\n",
      "Tensor(\"add_20:0\", shape=(), dtype=int32)\n",
      "Tensor(\"Add_21:0\", shape=(), dtype=int32)\n",
      "500\n",
      "200\n",
      "700\n",
      "700\n"
     ]
    }
   ],
   "source": [
    "# constant(): tensorflow에서 사용할 상수를 정의한다.\n",
    "a = tf.constant(500) # tensorflow 상수 정의\n",
    "print('a = {}'.format(a))\n",
    "b = tf.constant(200)\n",
    "print(b)\n",
    "c = a + b\n",
    "print(c)\n",
    "d = tf.add(a, b) # tensorflow 함수식 정의\n",
    "print(d)\n",
    "\n",
    "# tensorflow 1.x 버전은 반드시 Session이라는 작업 영역을 만들고 만든 후 변수, 상수, 수식을 대입한 다음 실행해야 한다.\n",
    "sess = tf.Session() # tensorflow Session을 만든다.\n",
    "# run() : tensorflow Session의 내용을 실행한다. \n",
    "print(sess.run(a))\n",
    "print(sess.run(b))\n",
    "print(sess.run(c))\n",
    "print(sess.run(d))"
   ]
  },
  {
   "cell_type": "code",
   "execution_count": 43,
   "id": "eaae78c4",
   "metadata": {},
   "outputs": [
    {
     "name": "stdout",
     "output_type": "stream",
     "text": [
      "a = <tf.Variable 'Variable_36:0' shape=() dtype=int32_ref>\n",
      "a = <tf.Variable 'Variable_37:0' shape=() dtype=int32_ref>\n",
      "a = Tensor(\"mul_26:0\", shape=(), dtype=int32)\n",
      "a = Tensor(\"Mul_27:0\", shape=(), dtype=int32)\n",
      "5\n",
      "3\n",
      "15\n",
      "15\n",
      "15\n",
      "Tensor(\"add_24:0\", shape=(), dtype=int32)\n",
      "18\n",
      "None\n"
     ]
    }
   ],
   "source": [
    "# Variable() : tensorflow에서 사용할 변수를 정의하고 초기화 시킨다.\n",
    "a = tf.Variable(5) # tensorflow 변수 정의 및 초기화\n",
    "print('a = {}'.format(a))\n",
    "b = tf.Variable(3) # tensorflow 변수 정의 및 초기화\n",
    "print('a = {}'.format(b))\n",
    "c = a * b\n",
    "print('a = {}'.format(c))\n",
    "d = tf.multiply(a, b)\n",
    "print('a = {}'.format(d))\n",
    "\n",
    "sess = tf.Session()\n",
    "\n",
    "# global_variables_initializer() : tensorflow에서 사용할 변수를 초기화시킨다.\n",
    "# Variable() 메소드를 사용해 생성한 tensorflow 변수는 사용하기 전에 반드시 초기화시켜야 한다.\n",
    "# tensorflow 변수 초기화는 연산을 실행(변수 사용) 전에만 해주면 된다.\n",
    "\n",
    "# tensorflow 변수 초기화\n",
    "# init = tf.global_variables_initializer()\n",
    "# sess.run(init)\n",
    "# 위의 2줄로 사용한 tensorflow 변수 초기화는 아래와 같이 1줄로 줄여서 사용할 수 있다.\n",
    "sess.run(tf.global_variables_initializer())\n",
    "\n",
    "print(sess.run(a))\n",
    "print(sess.run(b))\n",
    "print(sess.run(c))\n",
    "print(sess.run(d))\n",
    "\n",
    "a = tf.Variable(15)\n",
    "sess.run(tf.global_variables_initializer())\n",
    "print(sess.run(a))\n",
    "c = a + b\n",
    "print(c) # c라는 수식을 실행한 것이 아니라 만들기만 했다. - Tensor(\"mul_18:0\", shape=(), dtype=int32)\n",
    "print(print(sess.run(c)))"
   ]
  },
  {
   "cell_type": "code",
   "execution_count": null,
   "id": "05449557",
   "metadata": {},
   "outputs": [],
   "source": []
  },
  {
   "cell_type": "code",
   "execution_count": null,
   "id": "22a9774d",
   "metadata": {},
   "outputs": [],
   "source": []
  },
  {
   "cell_type": "code",
   "execution_count": null,
   "id": "f1bcfc9a",
   "metadata": {},
   "outputs": [],
   "source": []
  },
  {
   "cell_type": "code",
   "execution_count": null,
   "id": "77382aaf",
   "metadata": {},
   "outputs": [],
   "source": []
  },
  {
   "cell_type": "code",
   "execution_count": null,
   "id": "02e4c0e0",
   "metadata": {},
   "outputs": [],
   "source": []
  },
  {
   "cell_type": "code",
   "execution_count": null,
   "id": "a260ecac",
   "metadata": {},
   "outputs": [],
   "source": []
  },
  {
   "cell_type": "code",
   "execution_count": null,
   "id": "3804bc9e",
   "metadata": {},
   "outputs": [],
   "source": []
  },
  {
   "cell_type": "code",
   "execution_count": null,
   "id": "b6597d17",
   "metadata": {},
   "outputs": [],
   "source": []
  }
 ],
 "metadata": {
  "kernelspec": {
   "display_name": "Python 3 (ipykernel)",
   "language": "python",
   "name": "python3"
  },
  "language_info": {
   "codemirror_mode": {
    "name": "ipython",
    "version": 3
   },
   "file_extension": ".py",
   "mimetype": "text/x-python",
   "name": "python",
   "nbconvert_exporter": "python",
   "pygments_lexer": "ipython3",
   "version": "3.7.16"
  }
 },
 "nbformat": 4,
 "nbformat_minor": 5
}
