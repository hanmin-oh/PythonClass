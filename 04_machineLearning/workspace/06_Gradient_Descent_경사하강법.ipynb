{
 "cells": [
  {
   "cell_type": "markdown",
   "id": "ae14c70e",
   "metadata": {},
   "source": [
    "경사 하강법(Gradient Descent)\n",
    "\n",
    "기울기를 너무 크게 잡으면 오차가 커지고 너무 작게 잡아도 오차가 커진다.  \n",
    "기울기를 무한대로 키우면 오차도 무한대로 커지고 기울기를 무한대로 작게해도 오차는 무한대로 커진다."
   ]
  },
  {
   "cell_type": "code",
   "execution_count": 1,
   "id": "c9930ef6",
   "metadata": {},
   "outputs": [
    {
     "name": "stdout",
     "output_type": "stream",
     "text": [
      "WARNING:tensorflow:From c:\\python\\lib\\site-packages\\tensorflow\\python\\compat\\v2_compat.py:107: disable_resource_variables (from tensorflow.python.ops.variable_scope) is deprecated and will be removed in a future version.\n",
      "Instructions for updating:\n",
      "non-resource variables are not supported in the long term\n"
     ]
    }
   ],
   "source": [
    "import warnings\n",
    "warnings.filterwarnings(action='ignore')\n",
    "%config Completer.use_jedi = False\n",
    "import tensorflow.compat.v1 as tf\n",
    "tf.disable_v2_behavior()\n",
    "import numpy as np\n",
    "import pandas as pd\n"
   ]
  },
  {
   "cell_type": "code",
   "execution_count": 2,
   "id": "89b9ecd7",
   "metadata": {},
   "outputs": [],
   "source": [
    "data = [[2, 81],[4, 93], [6, 91], [8, 97]]\n",
    "x = [i[0] for i in data] # 공부 시간\n",
    "y = [i[1] for i in data] # 시험 성적"
   ]
  },
  {
   "cell_type": "code",
   "execution_count": 23,
   "id": "458a5106",
   "metadata": {},
   "outputs": [
    {
     "name": "stdout",
     "output_type": "stream",
     "text": [
      "a : [9.25509], b : [38.788353]\n"
     ]
    }
   ],
   "source": [
    "# 기울기 a와 y절편 b를 임의로 정한다.\n",
    "a = tf.Variable(tf.random_uniform([1], 0, 10)) # 기울기(가중치), -100 ~ 10 사이의 난수\n",
    "b = tf.Variable(tf.random_uniform([1], 0, 100)) # y절편(바이어스), -100 ~ 100 사이의 난수\n",
    "sess = tf.Session()\n",
    "sess.run(tf.global_variables_initializer())\n",
    "print('a : {}, b : {}'.format(sess.run(a), sess.run(b)))"
   ]
  },
  {
   "cell_type": "code",
   "execution_count": 24,
   "id": "1fdebce6",
   "metadata": {},
   "outputs": [],
   "source": [
    "# 예측 성적(Y)를 얻기 위한 가설(수식)을 만든다.\n",
    "Y = a * x + b"
   ]
  },
  {
   "cell_type": "code",
   "execution_count": 29,
   "id": "a210d308",
   "metadata": {},
   "outputs": [],
   "source": [
    "# tensorflow에서 실행할 RMSE(평균 제곱근 오차) 수식(오차 함수)을 만든다.\n",
    "# np.sqrt(((predict_result - y) ** 2).mean()) # numpy에서의 식\n",
    "# tf.square(Y - y): 예측 성적(Y)과 실제 성적(y)의 편차의 제곱을 계산한다.\n",
    "# tf.sqrt(tf.reduce_mean(tf.square(Y - y))): 예측 성적과 실제 성적의 편차의 제곱의 평균에 대한 제곱근을 계산한다.\n",
    "rmse = tf.sqrt(tf.reduce_mean(tf.square(Y - y)))"
   ]
  },
  {
   "cell_type": "code",
   "execution_count": 30,
   "id": "b98c61ed",
   "metadata": {},
   "outputs": [],
   "source": [
    "# 경사 하강법을 이용해서 RMSE를 최소로 하는 값을 찾는 수식을 만든다.\n",
    "learning_rate = 0.1\n",
    "gradient_descent = tf.train.GradientDescentOptimizer(learning_rate).minimize(rmse)"
   ]
  },
  {
   "cell_type": "code",
   "execution_count": 41,
   "id": "59a4eb78",
   "metadata": {},
   "outputs": [
    {
     "name": "stdout",
     "output_type": "stream",
     "text": [
      "epoch:    0, RMSE: 63.7450, 기울기:  0.9997, y절편: 21.8879\n",
      "epoch:  200, RMSE: 19.7337, 기울기: 10.3126, y절편: 31.1839\n",
      "epoch:  400, RMSE: 16.5732, 기울기:  8.9987, y절편: 39.0251\n",
      "epoch:  600, RMSE: 13.4512, 기울기:  7.6927, y절편: 46.8184\n",
      "epoch:  800, RMSE: 10.4010, 기울기:  6.4019, y절편: 54.5216\n",
      "epoch: 1000, RMSE:  7.5042, 기울기:  5.1440, y절편: 62.0283\n",
      "epoch: 1200, RMSE:  4.9912, 기울기:  3.9728, y절편: 69.0172\n",
      "epoch: 1400, RMSE:  3.4114, 기울기:  3.0498, y절편: 74.5252\n",
      "epoch: 1600, RMSE:  2.9518, 기울기:  2.5639, y절편: 77.4254\n",
      "epoch: 1800, RMSE:  2.8886, 기울기:  2.3863, y절편: 78.4850\n",
      "epoch: 2000, RMSE:  2.8818, 기울기:  2.3279, y절편: 78.8332\n",
      "epoch: 2200, RMSE:  2.8811, 기울기:  2.3090, y절편: 78.9460\n",
      "epoch: 2400, RMSE:  2.8810, 기울기:  2.3029, y절편: 78.9825\n",
      "epoch: 2600, RMSE:  2.8810, 기울기:  2.3010, y절편: 78.9943\n",
      "epoch: 2800, RMSE:  2.8810, 기울기:  2.3003, y절편: 78.9981\n",
      "epoch: 3000, RMSE:  2.8810, 기울기:  2.3001, y절편: 78.9994\n"
     ]
    }
   ],
   "source": [
    "# 학습 시킨다.\n",
    "import time\n",
    "sess = tf.Session()\n",
    "sess.run(tf.global_variables_initializer())\n",
    "\n",
    "for epoch in range(3001):\n",
    "    sess.run(gradient_descent)\n",
    "    if epoch % 200 == 0:\n",
    "        print('epoch: {:4d}, RMSE: {:7.4f}, 기울기: {:7.4f}, y절편: {:6.4f}'.format(epoch, sess.run(rmse), sess.run(a)[0], sess.run(b)[0]))\n",
    "        time.sleep(0.5)"
   ]
  },
  {
   "cell_type": "markdown",
   "id": "9f25e860",
   "metadata": {},
   "source": [
    "<img src=\"./images/gradient_descent.png\">"
   ]
  },
  {
   "cell_type": "code",
   "execution_count": null,
   "id": "6ac935b4",
   "metadata": {},
   "outputs": [],
   "source": []
  },
  {
   "cell_type": "code",
   "execution_count": null,
   "id": "235d3a00",
   "metadata": {},
   "outputs": [],
   "source": []
  },
  {
   "cell_type": "code",
   "execution_count": null,
   "id": "1e190be4",
   "metadata": {},
   "outputs": [],
   "source": []
  },
  {
   "cell_type": "code",
   "execution_count": null,
   "id": "6ec68460",
   "metadata": {},
   "outputs": [],
   "source": []
  },
  {
   "cell_type": "code",
   "execution_count": null,
   "id": "ebcad799",
   "metadata": {},
   "outputs": [],
   "source": []
  },
  {
   "cell_type": "code",
   "execution_count": null,
   "id": "a1de72fc",
   "metadata": {},
   "outputs": [],
   "source": []
  },
  {
   "cell_type": "code",
   "execution_count": null,
   "id": "be8f258b",
   "metadata": {},
   "outputs": [],
   "source": []
  },
  {
   "cell_type": "code",
   "execution_count": null,
   "id": "3b6569a3",
   "metadata": {},
   "outputs": [],
   "source": []
  },
  {
   "cell_type": "code",
   "execution_count": null,
   "id": "996b3683",
   "metadata": {},
   "outputs": [],
   "source": []
  },
  {
   "cell_type": "code",
   "execution_count": null,
   "id": "31da1a15",
   "metadata": {},
   "outputs": [],
   "source": []
  },
  {
   "cell_type": "code",
   "execution_count": null,
   "id": "b53dba22",
   "metadata": {},
   "outputs": [],
   "source": []
  },
  {
   "cell_type": "code",
   "execution_count": null,
   "id": "5e413094",
   "metadata": {},
   "outputs": [],
   "source": []
  },
  {
   "cell_type": "code",
   "execution_count": null,
   "id": "a60e3b58",
   "metadata": {},
   "outputs": [],
   "source": []
  },
  {
   "cell_type": "code",
   "execution_count": null,
   "id": "9f14862c",
   "metadata": {},
   "outputs": [],
   "source": []
  },
  {
   "cell_type": "code",
   "execution_count": null,
   "id": "01d0a0be",
   "metadata": {},
   "outputs": [],
   "source": []
  },
  {
   "cell_type": "code",
   "execution_count": null,
   "id": "46648b96",
   "metadata": {},
   "outputs": [],
   "source": []
  },
  {
   "cell_type": "code",
   "execution_count": null,
   "id": "f0e224a2",
   "metadata": {},
   "outputs": [],
   "source": []
  }
 ],
 "metadata": {
  "kernelspec": {
   "display_name": "Python 3 (ipykernel)",
   "language": "python",
   "name": "python3"
  },
  "language_info": {
   "codemirror_mode": {
    "name": "ipython",
    "version": 3
   },
   "file_extension": ".py",
   "mimetype": "text/x-python",
   "name": "python",
   "nbconvert_exporter": "python",
   "pygments_lexer": "ipython3",
   "version": "3.8.6"
  }
 },
 "nbformat": 4,
 "nbformat_minor": 5
}
