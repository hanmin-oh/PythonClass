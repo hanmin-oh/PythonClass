{
 "cells": [
  {
   "cell_type": "code",
   "execution_count": 35,
   "id": "244c86d6",
   "metadata": {
    "ExecuteTime": {
     "start_time": "2023-08-10T15:04:05.751182Z",
     "end_time": "2023-08-10T15:04:05.766712Z"
    }
   },
   "outputs": [],
   "source": [
    "import random\n",
    "import time"
   ]
  },
  {
   "cell_type": "code",
   "execution_count": null,
   "outputs": [],
   "source": [
    "%%time\n",
    "# %%time 매직 명령은 쥬피터 노트북 한 셀이 실행되는 시간을 출력한다.\n",
    "\n",
    "# 로또 추첨기로 사용할 리스트를 만들고 1 ~ 45로 초기화시킨다.\n",
    "# lotto = []\n",
    "# for i in range(45):\n",
    "    # lotto.append(i + 1)\n",
    "lotto = [i for i in range(1, 46)]\n",
    "# print(lotto)\n",
    "\n",
    "# 섞기 전 상태를 출력한다. => 1줄에 10개씩 출력한다.\n",
    "for i in range(len(lotto)):\n",
    "    print('{:2d}'.format(lotto[i]), end=' ')\n",
    "    if (i + 1 ) % 10 == 0:\n",
    "        print()\n",
    "print('\\n' + '=' *  30 + '섞기전')\n",
    "\n",
    "# 섞는다.\n",
    "# lotto[0]와(고정) lotto[1] ~ lotto[44]중에서 랜덤한 위치의 값을 선택해서 두 기억장소의 값을 교환한다.\n",
    "\"\"\"\n",
    "for i in range(1000000):\n",
    "    # 1 ~ 44 중에서 랜덤한 값을 발생시킨다.\n",
    "    r = random.randint(1 , 44)\n",
    "    # lotto[0]와 lotto[r]에 저장된 값을 교환한다.\n",
    "    # temp = lotto[0]\n",
    "    # lotto[0] = lotto[r]\n",
    "    # lotto[r] = temp\n",
    "    lotto[0] , lotto[r] = lotto[r] , lotto[0]\n",
    "\"\"\"\n",
    "# shuffle() 메소드로 데이터를 섞을 수 있다. => 반복 처리보다 속도도 월등히 빠르다.\n",
    "random.shuffle(lotto)\n",
    "\n",
    "# 섞은 후 상태를 출력한다. => 1중레 숫자 10개씩 출력한다.\n",
    "for i in range(len(lotto)):\n",
    "    print('{:2d}'.format(lotto[i]) , end=' ')\n",
    "    if(i + 1) % 10 == 0:\n",
    "        print()\n",
    "print('\\n' + '=' *  30 + '섞은후')\n",
    "\n",
    "#1등 번호와 보너스 번호를 출력한다.\n",
    "print('1등 번호: ' , end='')\n",
    "for i in range(6) :\n",
    "    print('{:02d}'.format(lotto[i]), end=' ')\n",
    "    #time 모듈의 sleep() 메소드는 인수로 지정한 시간만큼 프로그램을 멈춘다.\n",
    "    time.sleep(1)\n",
    "print('보너스 번호: {:02d}'.format(lotto[6]))"
   ],
   "metadata": {
    "collapsed": false
   }
  },
  {
   "cell_type": "code",
   "execution_count": 33,
   "outputs": [
    {
     "name": "stdout",
     "output_type": "stream",
     "text": [
      "[14, 32, 4, 24, 3, 23]\n",
      "CPU times: total: 0 ns\n",
      "Wall time: 0 ns\n"
     ]
    }
   ],
   "source": [
    "%%time\n",
    "lotto = [i for i in range(1, 46)]\n",
    "\n",
    "# sample(리스트 , 개수) 메소드는 데이터 중에서 무작위로 지정한 개수만큼 샘플링한다.\n",
    "print(random.sample(lotto, 6))"
   ],
   "metadata": {
    "collapsed": false,
    "ExecuteTime": {
     "start_time": "2023-08-10T15:00:10.469350Z",
     "end_time": "2023-08-10T15:00:10.485133Z"
    }
   }
  },
  {
   "cell_type": "code",
   "execution_count": null,
   "outputs": [],
   "source": [],
   "metadata": {
    "collapsed": false
   }
  }
 ],
 "metadata": {
  "kernelspec": {
   "display_name": "Python 3 (ipykernel)",
   "language": "python",
   "name": "python3"
  },
  "language_info": {
   "codemirror_mode": {
    "name": "ipython",
    "version": 3
   },
   "file_extension": ".py",
   "mimetype": "text/x-python",
   "name": "python",
   "nbconvert_exporter": "python",
   "pygments_lexer": "ipython3",
   "version": "3.8.6"
  }
 },
 "nbformat": 4,
 "nbformat_minor": 5
}
