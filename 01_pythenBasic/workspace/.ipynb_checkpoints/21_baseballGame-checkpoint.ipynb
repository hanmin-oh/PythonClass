{
 "cells": [
  {
   "cell_type": "code",
   "execution_count": 1,
   "id": "8507a20a",
   "metadata": {},
   "outputs": [],
   "source": [
    "import random"
   ]
  },
  {
   "cell_type": "code",
   "execution_count": 2,
   "id": "68b61987",
   "metadata": {},
   "outputs": [
    {
     "ename": "SyntaxError",
     "evalue": "unexpected EOF while parsing (1497505526.py, line 22)",
     "output_type": "error",
     "traceback": [
      "\u001b[1;36m  Cell \u001b[1;32mIn[2], line 22\u001b[1;36m\u001b[0m\n\u001b[1;33m    \u001b[0m\n\u001b[1;37m    ^\u001b[0m\n\u001b[1;31mSyntaxError\u001b[0m\u001b[1;31m:\u001b[0m unexpected EOF while parsing\n"
     ]
    }
   ],
   "source": [
    "# 1 ~ 9 사이의 숫자가 채워진 리스트 또는 튜플을 만든다.\n",
    "baseball = [i for i in range(1 , 10)]\n",
    "# print(baseball)\n",
    "\n",
    "# 섞는다\n",
    "# random.simple(baseball, level)\n",
    "# print(baseball)\n",
    "\n",
    "# 레벨을 입력받는다.\n",
    "level = int(input('레벨을 입력하세요(1~9) : '))\n",
    "# cpu = baseball[:level]\n",
    "cpu = random.simple(baseball, level)\n",
    "print(cpu)\n",
    "\n",
    "# ========================\n",
    "\n",
    "# 몇 번 만에 맞출지 모르기 때문에 무한 루프를 돌려서 처리한다. \n",
    "while True :\n",
    "    \n",
    "    \n",
    "    \n",
    "# ===== while\n",
    "print('맞춤')\n",
    "    \n",
    "    \n",
    "    "
   ]
  }
 ],
 "metadata": {
  "kernelspec": {
   "display_name": "Python 3 (ipykernel)",
   "language": "python",
   "name": "python3"
  },
  "language_info": {
   "codemirror_mode": {
    "name": "ipython",
    "version": 3
   },
   "file_extension": ".py",
   "mimetype": "text/x-python",
   "name": "python",
   "nbconvert_exporter": "python",
   "pygments_lexer": "ipython3",
   "version": "3.8.6"
  }
 },
 "nbformat": 4,
 "nbformat_minor": 5
}
