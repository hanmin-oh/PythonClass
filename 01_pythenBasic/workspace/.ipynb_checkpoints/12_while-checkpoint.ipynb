{
 "cells": [
  {
   "cell_type": "markdown",
   "id": "77d3e85d",
   "metadata": {},
   "source": [
    "# while\n",
    "\n",
    "while은 조건이 참인동안 반복하고 조건이 거짓이 되는 순간 반복을 종료한다.  \n",
    "while의 최초 진입 조건이 거짓이면 while 블록을 한 번도 실행하지 않는다.  \n",
    "for는 반복 횟수를 알고있는 경우 사용하고 while은 반복을 하기는 해야겠는데 몇 번 반복해야하는지 모를 때 사용한다.   \n",
    "while 조건식 :   \n",
    "&nbsp;&nbsp;&nbsp;&nbsp;&nbsp;조건식이 참일 경우 실행할 문장  \n",
    "&nbsp;&nbsp;&nbsp;&nbsp;&nbsp;    ...\n",
    "    "
   ]
  },
  {
   "cell_type": "code",
   "execution_count": 4,
   "id": "0d677725",
   "metadata": {},
   "outputs": [
    {
     "name": "stdout",
     "output_type": "stream",
     "text": [
      "55\n"
     ]
    }
   ],
   "source": [
    "# 1~10의 합계\n",
    "i = 0\n",
    "total = 0\n",
    "while i<10 :\n",
    "    i +=1\n",
    "    total +=i\n",
    "# ======= while\n",
    "print(total)"
   ]
  },
  {
   "cell_type": "code",
   "execution_count": 6,
   "id": "4150af1f",
   "metadata": {},
   "outputs": [
    {
     "name": "stdout",
     "output_type": "stream",
     "text": [
      "25\n"
     ]
    }
   ],
   "source": [
    "# break 명령은 반복 범위에 남아있는 문장을 실행하지 않고 반복을 탈출하고 continue 명령은 반복 범위에 남아있는 문장들을 실행하지 않고 \n",
    "# 다음 반복을 실행한다. \n",
    "i = 0\n",
    "total = 0\n",
    "while i<10 :\n",
    "    i +=1\n",
    "    if i % 2 == 0 :\n",
    "        continue\n",
    "    total += i\n",
    "    # ======= if\n",
    "# ====== while\n",
    "print(total)"
   ]
  },
  {
   "cell_type": "code",
   "execution_count": 38,
   "id": "28850766",
   "metadata": {},
   "outputs": [
    {
     "name": "stdout",
     "output_type": "stream",
     "text": [
      "========================================\n",
      " 1. 입력 2. 보기 3. 수정 4. 삭제 5. 종료 \n",
      "========================================\n",
      "1부터 5까지 중 하나를 입력하세요 : 2\n",
      "보기\n",
      "========================================\n",
      " 1. 입력 2. 보기 3. 수정 4. 삭제 5. 종료 \n",
      "========================================\n",
      "1부터 5까지 중 하나를 입력하세요 : 1\n",
      "입력\n",
      "========================================\n",
      " 1. 입력 2. 보기 3. 수정 4. 삭제 5. 종료 \n",
      "========================================\n",
      "1부터 5까지 중 하나를 입력하세요 : 5\n",
      "종료\n"
     ]
    }
   ],
   "source": [
    "i == 0\n",
    "while i != 5 :\n",
    "    while True :\n",
    "        print('=' * 40)\n",
    "        print(' 1. 입력 2. 보기 3. 수정 4. 삭제 5. 종료 ')\n",
    "        print('=' * 40)\n",
    "        i = int(input('1부터 5까지 중 하나를 입력하세요 : ' ))\n",
    "\n",
    "        # 메뉴가 1 ~ 5 사이의 값이 입력되었다면 무한루프를 탈출시킨다.\n",
    "        if 1 <= i <= 5 :\n",
    "            break\n",
    "        else :\n",
    "            print('1~5 사이를 입력하세요')\n",
    "        # ===== if\n",
    "    # ===== while\n",
    "\n",
    "    # 여기까지 넘어왔으면 menu에는 1 ~ 5 사이의 정수가 입력한 것이다.\n",
    "    if i == 1 :\n",
    "        print('입력')\n",
    "    elif i == 2 :\n",
    "        print('보기')\n",
    "    elif i == 3 :\n",
    "        print('수정')\n",
    "    elif i == 4 :\n",
    "        print('삭제')\n",
    "    elif i == 5 :\n",
    "        print('종료')\n",
    "        break\n"
   ]
  },
  {
   "cell_type": "code",
   "execution_count": null,
   "id": "5658c8d7",
   "metadata": {},
   "outputs": [],
   "source": []
  },
  {
   "cell_type": "code",
   "execution_count": null,
   "id": "166f9aa3",
   "metadata": {},
   "outputs": [],
   "source": []
  }
 ],
 "metadata": {
  "kernelspec": {
   "display_name": "Python 3 (ipykernel)",
   "language": "python",
   "name": "python3"
  },
  "language_info": {
   "codemirror_mode": {
    "name": "ipython",
    "version": 3
   },
   "file_extension": ".py",
   "mimetype": "text/x-python",
   "name": "python",
   "nbconvert_exporter": "python",
   "pygments_lexer": "ipython3",
   "version": "3.8.6"
  }
 },
 "nbformat": 4,
 "nbformat_minor": 5
}
