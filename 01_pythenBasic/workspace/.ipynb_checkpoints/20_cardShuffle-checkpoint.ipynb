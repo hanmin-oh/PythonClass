{
 "cells": [
  {
   "cell_type": "code",
   "execution_count": 9,
   "id": "5b3f7691",
   "metadata": {},
   "outputs": [],
   "source": [
    "import random"
   ]
  },
  {
   "cell_type": "code",
   "execution_count": 14,
   "id": "560bb789",
   "metadata": {},
   "outputs": [],
   "source": [
    "# 카드 출력에 사용할 숫자와 무늬를 기억하는 리스트 또는 튜플을 만든다.\n",
    "number = ['A' , '2' , '3' , '4' , '5' , '6' , '7' , '8' , '9' , '10' , 'J' , 'Q' , 'K']\n",
    "symbol = ['♥' , '♤' , '♠' , '◇']"
   ]
  },
  {
   "cell_type": "code",
   "execution_count": 46,
   "id": "4fa35387",
   "metadata": {},
   "outputs": [
    {
     "name": "stdout",
     "output_type": "stream",
     "text": [
      "♥A  ♥2  ♥3  ♥4  ♥5  ♥6  ♥7  ♥8  ♥9  ♥10 ♥J  ♥Q  ♥K  \n",
      "♤A  ♤2  ♤3  ♤4  ♤5  ♤6  ♤7  ♤8  ♤9  ♤10 ♤J  ♤Q  ♤K  \n",
      "♠A  ♠2  ♠3  ♠4  ♠5  ♠6  ♠7  ♠8  ♠9  ♠10 ♠J  ♠Q  ♠K  \n",
      "◇A  ◇2  ◇3  ◇4  ◇5  ◇6  ◇7  ◇8  ◇9  ◇10 ◇J  ◇Q  ◇K  \n",
      "============================== 섞기전\n",
      "◇10 ♤6  ♤K  ♤7  ♥A  ♤4  ♠9  ♤A  ♥10 ◇A  ♠6  ♠8  ◇3  \n",
      "♠4  ♠Q  ♥K  ◇4  ♠A  ♠K  ♠7  ♥5  ♠5  ♤8  ◇Q  ♥6  ◇7  \n",
      "♥J  ♤Q  ♥4  ♤3  ♥7  ◇K  ♠10 ♠J  ◇5  ◇8  ◇J  ♠3  ◇9  \n",
      "♤9  ♤5  ♤J  ◇2  ♥3  ♠2  ♥8  ♥Q  ♤2  ◇6  ♤10 ♥9  ♥2  \n",
      "============================== 섞기후\n"
     ]
    }
   ],
   "source": [
    "# 0 ~ 51 사이의 숫자가 채워진 리스트를 만든다.\n",
    "cards = [i for i in range(52)]\n",
    "\n",
    "\n",
    "# 섞기전 상태를 출력한다. => 1줄 숫자 13개씩 출력한다. \n",
    "for i in range(len(cards)):\n",
    "    # print('{:>2s}'.format(number[cards[i] % 13]), end=' ') #숫자만\n",
    "    # print('{:s}'.format(symbol[cards[i] // 13]), end=' ') \n",
    "    print('{:s}{:2s}'.format(symbol[cards[i] // 13], number[cards[i] % 13]), end=' ') \n",
    "    if (i + 1) % 13 == 0:\n",
    "        print()\n",
    "print('=' * 30 + ' 섞기전')\n",
    "\n",
    "random.shuffle(cards)\n",
    "\n",
    "#섞은 후 상태 출력\n",
    "for i in range(len(cards)):\n",
    "    # print('{:>2s}'.format(number[cards[i] % 13]), end=' ') #숫자만\n",
    "    # print('{:s}'.format(symbol[cards[i] // 13]), end=' ') \n",
    "    print('{:s}{:2s}'.format(symbol[cards[i] // 13], number[cards[i] % 13]), end=' ') \n",
    "    if (i + 1) % 13 == 0:\n",
    "        print()\n",
    "print('=' * 30 + ' 섞기후')"
   ]
  },
  {
   "cell_type": "code",
   "execution_count": null,
   "id": "866a10c3",
   "metadata": {},
   "outputs": [],
   "source": []
  },
  {
   "cell_type": "code",
   "execution_count": null,
   "id": "d2494b64",
   "metadata": {},
   "outputs": [],
   "source": []
  },
  {
   "cell_type": "code",
   "execution_count": null,
   "id": "31dbcc86",
   "metadata": {},
   "outputs": [],
   "source": []
  },
  {
   "cell_type": "code",
   "execution_count": null,
   "id": "1cdb8906",
   "metadata": {},
   "outputs": [],
   "source": []
  },
  {
   "cell_type": "code",
   "execution_count": null,
   "id": "c802d327",
   "metadata": {},
   "outputs": [],
   "source": []
  },
  {
   "cell_type": "code",
   "execution_count": null,
   "id": "36030e92",
   "metadata": {},
   "outputs": [],
   "source": []
  },
  {
   "cell_type": "code",
   "execution_count": null,
   "id": "0785c348",
   "metadata": {},
   "outputs": [],
   "source": []
  },
  {
   "cell_type": "code",
   "execution_count": null,
   "id": "76ca183e",
   "metadata": {},
   "outputs": [],
   "source": []
  },
  {
   "cell_type": "code",
   "execution_count": null,
   "id": "ef3209e7",
   "metadata": {},
   "outputs": [],
   "source": []
  },
  {
   "cell_type": "code",
   "execution_count": null,
   "id": "f8383ab8",
   "metadata": {},
   "outputs": [],
   "source": []
  },
  {
   "cell_type": "code",
   "execution_count": null,
   "id": "85786861",
   "metadata": {},
   "outputs": [],
   "source": []
  },
  {
   "cell_type": "code",
   "execution_count": null,
   "id": "00947118",
   "metadata": {},
   "outputs": [],
   "source": []
  }
 ],
 "metadata": {
  "kernelspec": {
   "display_name": "Python 3 (ipykernel)",
   "language": "python",
   "name": "python3"
  },
  "language_info": {
   "codemirror_mode": {
    "name": "ipython",
    "version": 3
   },
   "file_extension": ".py",
   "mimetype": "text/x-python",
   "name": "python",
   "nbconvert_exporter": "python",
   "pygments_lexer": "ipython3",
   "version": "3.8.6"
  }
 },
 "nbformat": 4,
 "nbformat_minor": 5
}
