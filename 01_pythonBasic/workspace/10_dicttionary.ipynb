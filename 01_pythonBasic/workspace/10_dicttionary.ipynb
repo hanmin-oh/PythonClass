{
 "cells": [
  {
   "cell_type": "markdown",
   "id": "1143b391",
   "metadata": {},
   "source": [
    "딕셔너리 만들기\n",
    "\n",
    "딕셔너리르 key와 value가 1:1로 대응되는 관계를 나타내는 자료형으로 key와 key에 할당되는 데이터(value)가 한 쌍이 되는 자료형이다.  \n",
    "일반적으로 key는 string 타입을 사용하고 value에는 저장할 데이터를 적는다."
   ]
  },
  {
   "cell_type": "code",
   "execution_count": 4,
   "id": "7018083c",
   "metadata": {},
   "outputs": [
    {
     "name": "stdout",
     "output_type": "stream",
     "text": [
      "<class 'dict'>\n",
      "{}\n",
      "================================================================================\n",
      "{}\n"
     ]
    }
   ],
   "source": [
    "# 빈 딕셔너리 만들기\n",
    "a = {}\n",
    "print(type(a))\n",
    "print(a)\n",
    "print('=' * 80)\n",
    "\n",
    "#빈 딕셔너리는 생성자 함수를 사용해서도 만들 수 있다.\n",
    "b = dict()\n",
    "print(b)"
   ]
  },
  {
   "cell_type": "code",
   "execution_count": 6,
   "id": "8a9dc520",
   "metadata": {},
   "outputs": [
    {
     "name": "stdout",
     "output_type": "stream",
     "text": [
      "{'name': '이순신', 'phone': '010-5063-3143', 'age': 20, 'gender': '남자'}\n",
      "dict_items([('name', '이순신'), ('phone', '010-5063-3143'), ('age', 20), ('gender', '남자')])\n"
     ]
    }
   ],
   "source": [
    "a = {'name' : '이순신' , 'phone' : '010-5063-3143' , 'age' : 20 , 'gender' : '남자'}\n",
    "print(a)\n",
    "\n",
    "# key() 메소드로 딕셔너리에 저장된 key 목록만 얻어올 수 있다.\n",
    "# values() 메소드로 딕셔너리에 저장된 value 목록만 얻어올 수 있다.\n",
    "# items() 메소드로 딕셔너리에 저장된 key와 value를 한 쌍으로 묶은 목록을 튜플로 얻어올 수 있다.\n",
    "print(a.items())"
   ]
  },
  {
   "cell_type": "code",
   "execution_count": null,
   "id": "a46c1898",
   "metadata": {},
   "outputs": [],
   "source": []
  },
  {
   "cell_type": "code",
   "execution_count": null,
   "id": "4f662d96",
   "metadata": {},
   "outputs": [],
   "source": []
  },
  {
   "cell_type": "code",
   "execution_count": null,
   "id": "dad3fa9b",
   "metadata": {},
   "outputs": [],
   "source": []
  },
  {
   "cell_type": "code",
   "execution_count": null,
   "id": "6ced8e3a",
   "metadata": {},
   "outputs": [],
   "source": []
  },
  {
   "cell_type": "code",
   "execution_count": null,
   "id": "806db12a",
   "metadata": {},
   "outputs": [],
   "source": []
  },
  {
   "cell_type": "code",
   "execution_count": null,
   "id": "0e461b64",
   "metadata": {},
   "outputs": [],
   "source": []
  }
 ],
 "metadata": {
  "kernelspec": {
   "display_name": "Python 3 (ipykernel)",
   "language": "python",
   "name": "python3"
  },
  "language_info": {
   "codemirror_mode": {
    "name": "ipython",
    "version": 3
   },
   "file_extension": ".py",
   "mimetype": "text/x-python",
   "name": "python",
   "nbconvert_exporter": "python",
   "pygments_lexer": "ipython3",
   "version": "3.8.6"
  }
 },
 "nbformat": 4,
 "nbformat_minor": 5
}
