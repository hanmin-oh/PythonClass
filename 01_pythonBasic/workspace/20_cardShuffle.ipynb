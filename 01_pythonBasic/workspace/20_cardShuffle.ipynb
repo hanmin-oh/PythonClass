{
 "cells": [
  {
   "cell_type": "code",
   "execution_count": 1,
   "metadata": {
    "collapsed": true,
    "ExecuteTime": {
     "start_time": "2023-08-10T15:35:57.512779Z",
     "end_time": "2023-08-10T15:35:57.528260Z"
    }
   },
   "outputs": [],
   "source": [
    "import random"
   ]
  },
  {
   "cell_type": "code",
   "execution_count": 43,
   "outputs": [],
   "source": [
    "#카드 출력에 사용할 숫자와 무늬를 기억하는 리스트 또는 튜플을 만든다.\n",
    "number = ['A' , '2' , '3' , '4', '5', '6' , '7', '8', '9' , '10' , 'J' , 'Q' , 'K']\n",
    "symbol = ['♠' , '◇' , '♥' , '♧']"
   ],
   "metadata": {
    "collapsed": false,
    "ExecuteTime": {
     "start_time": "2023-08-10T15:52:48.073205Z",
     "end_time": "2023-08-10T15:52:48.089162Z"
    }
   }
  },
  {
   "cell_type": "code",
   "execution_count": 67,
   "outputs": [
    {
     "name": "stdout",
     "output_type": "stream",
     "text": [
      "♠A  ♠2  ♠3  ♠4  ♠5  ♠6  ♠7  ♠8  ♠9  ♠10 ♠J  ♠Q  ♠K  \n",
      "◇A  ◇2  ◇3  ◇4  ◇5  ◇6  ◇7  ◇8  ◇9  ◇10 ◇J  ◇Q  ◇K  \n",
      "♥A  ♥2  ♥3  ♥4  ♥5  ♥6  ♥7  ♥8  ♥9  ♥10 ♥J  ♥Q  ♥K  \n",
      "♧A  ♧2  ♧3  ♧4  ♧5  ♧6  ♧7  ♧8  ♧9  ♧10 ♧J  ♧Q  ♧K  \n",
      "==============================섞기전\n",
      "42  4 34 28 10 11 19 14 50 43 15 17 38 \n",
      "18 46  2 12  9 23  6 31 44 35 21 24  1 \n",
      " 5  0 37 36 48 13 26 27 47 33 25 51 39 \n",
      "16 32  8 30 49 45 41  3  7 29 40 20 22 \n",
      "==============================섞은후\n"
     ]
    }
   ],
   "source": [
    "# 0 ~ 51 사이의 숫자가 채워진 리스트를 만든다.\n",
    "cards = [i for i in range(52)]\n",
    "# print(cards)\n",
    "\n",
    "# 섞기 전 상태를 출력한다. => 1줄에 13개씩 출력한다.\n",
    "for i in range(len(cards)):\n",
    "    # print('{:2d}'.format(cards[i]), end=' ')\n",
    "    # print('{:2s}'.format(number[cards[i] % 13 ]), end=' ') #숫자만\n",
    "    # print('{:s}'.format(symbol[cards[i] // 13]), end=' ') # 무늬만\n",
    "    print('{:s}{:2s}'.format(symbol[cards[i] // 13] , number[cards[i] % 13]), end=' ')\n",
    "    if (i + 1) % 13 == 0:\n",
    "        print()\n",
    "print('=' *  30 + '섞기전')\n",
    "\n",
    "random.shuffle(cards)\n",
    "# 섞기 후 상태를 출력한다.\n",
    "for i in range(len(cards)):\n",
    "    print('{:2d}'.format(cards[i]), end=' ')\n",
    "    if (i + 1 ) % 13 == 0:\n",
    "        print()\n",
    "print('=' *  30 + '섞은후')"
   ],
   "metadata": {
    "collapsed": false,
    "ExecuteTime": {
     "start_time": "2023-08-10T16:30:49.402699Z",
     "end_time": "2023-08-10T16:30:49.418728Z"
    }
   }
  },
  {
   "cell_type": "code",
   "execution_count": 68,
   "outputs": [
    {
     "data": {
      "text/plain": "1"
     },
     "execution_count": 68,
     "metadata": {},
     "output_type": "execute_result"
    }
   ],
   "source": [
    "cards[6] // 13"
   ],
   "metadata": {
    "collapsed": false,
    "ExecuteTime": {
     "start_time": "2023-08-10T16:30:52.321076Z",
     "end_time": "2023-08-10T16:30:52.331091Z"
    }
   }
  },
  {
   "cell_type": "code",
   "execution_count": 54,
   "outputs": [
    {
     "name": "stdout",
     "output_type": "stream",
     "text": [
      "♠A  ♠2  ♠3  ♠4  ♠5  ♠6  ♠7  ♠8  ♠9  ♠10 ♠J  ♠Q  ♠K  \n",
      "◇A  ◇2  ◇3  ◇4  ◇5  ◇6  ◇7  ◇8  ◇9  ◇10 ◇J  ◇Q  ◇K  \n",
      "♥A  ♥2  ♥3  ♥4  ♥5  ♥6  ♥7  ♥8  ♥9  ♥10 ♥J  ♥Q  ♥K  \n",
      "♧A  ♧2  ♧3  ♧4  ♧5  ♧6  ♧7  ♧8  ♧9  ♧10 ♧J  ♧Q  ♧K  \n",
      "============================================================ 섞기전\n",
      "♠7  ◇K  ♥Q  ♥4  ♠8  ♥2  ◇8  ♧K  ♧9  ♠J  ♠A  ♥A  ♧2  \n",
      "♠4  ◇9  ♥6  ◇7  ◇6  ♥8  ♥5  ♧5  ◇2  ♧4  ♠10 ♥9  ♥7  \n",
      "♥3  ♥K  ♧3  ♧J  ♧6  ♥10 ◇5  ♧8  ◇4  ◇J  ◇A  ♥J  ♠9  \n",
      "♧Q  ♠2  ♠6  ♠5  ♧10 ♧A  ◇10 ♠3  ◇3  ◇Q  ♠Q  ♠K  ♧7  \n",
      "============================================================ 섞은후\n"
     ]
    }
   ],
   "source": [
    "# 0 ~ 51 사이의 숫자가 채워진 리스트를 만든다.\n",
    "cards = [i for i in range(52)]\n",
    "# print(cards)\n",
    "\n",
    "# 섞기전 상태를 출력한다. => 1줄 숫자 13개씩 출력한다.\n",
    "for i in range(len(cards)):\n",
    "    # print('{:2d}'.format(cards[i]), end=' ')\n",
    "    # print('{:>2s}'.format(number[cards[i] % 13]), end=' ') # 숫자만\n",
    "    # print('{:s}'.format(symbol[cards[i] // 13]), end=' ') # 무늬만\n",
    "    print('{:s}{:2s}'.format(symbol[cards[i] // 13] , number[cards[i] % 13]), end=' ')\n",
    "    if (i + 1) % 13 == 0:\n",
    "        print()\n",
    "print('=' * 60 + ' 섞기전')\n",
    "\n",
    "random.shuffle(cards)\n",
    "\n",
    "# 섞은후 상태를 출력한다.\n",
    "for i in range(len(cards)):\n",
    "    print('{:s}{:2s}'.format(symbol[cards[i] // 13], number[cards[i] % 13]), end=' ')\n",
    "    if (i + 1) % 13 == 0:\n",
    "        print()\n",
    "print('=' * 60 + ' 섞은후')"
   ],
   "metadata": {
    "collapsed": false,
    "ExecuteTime": {
     "start_time": "2023-08-10T16:29:34.536431Z",
     "end_time": "2023-08-10T16:29:34.543439Z"
    }
   }
  }
 ],
 "metadata": {
  "kernelspec": {
   "display_name": "Python 3",
   "language": "python",
   "name": "python3"
  },
  "language_info": {
   "codemirror_mode": {
    "name": "ipython",
    "version": 2
   },
   "file_extension": ".py",
   "mimetype": "text/x-python",
   "name": "python",
   "nbconvert_exporter": "python",
   "pygments_lexer": "ipython2",
   "version": "2.7.6"
  }
 },
 "nbformat": 4,
 "nbformat_minor": 0
}
