{
 "cells": [
  {
   "cell_type": "code",
   "execution_count": 2,
   "metadata": {
    "collapsed": true,
    "ExecuteTime": {
     "start_time": "2023-08-10T15:19:12.492362Z",
     "end_time": "2023-08-10T15:19:12.508080Z"
    }
   },
   "outputs": [],
   "source": [
    "import random\n",
    "lotto = [i for i in range(1, 46)]"
   ]
  },
  {
   "cell_type": "code",
   "execution_count": 9,
   "outputs": [
    {
     "name": "stdout",
     "output_type": "stream",
     "text": [
      "  1 game: 01 05 19 25 29 33 \n",
      "  2 game: 02 09 12 16 41 43 \n",
      "  3 game: 09 29 32 35 40 44 \n",
      "  4 game: 04 06 18 27 37 39 \n",
      "  5 game: 02 14 16 35 36 37 \n"
     ]
    }
   ],
   "source": [
    "#로또 복권 구매 금액을 입력받아 입력받은 금액만큼 로또 번호를 생성하는 프로그램을 만든다.\n",
    "#로또 복권 구매 금액을 입력받는다.\n",
    "money = int(input('로또 복권 구매 금액을 입력하세요: '))\n",
    "#로또 복권 구매 금액만큼 반복하며 로또 번호를 생성한다.\n",
    "for i in range(money // 1000):\n",
    "    random.shuffle(lotto)\n",
    "    print('{:3d} game: '.format(i + 1), end='')\n",
    "    result = lotto[:6]\n",
    "    result.sort()\n",
    "    for j in range(6):\n",
    "        print('{:02d} '.format(result[j]), end='')\n",
    "    print()"
   ],
   "metadata": {
    "collapsed": false,
    "ExecuteTime": {
     "start_time": "2023-08-10T15:33:38.710857Z",
     "end_time": "2023-08-10T15:33:40.197335Z"
    }
   }
  },
  {
   "cell_type": "markdown",
   "source": [],
   "metadata": {
    "collapsed": false
   }
  },
  {
   "cell_type": "code",
   "execution_count": 10,
   "outputs": [
    {
     "name": "stdout",
     "output_type": "stream",
     "text": [
      "  1 game: 01 05 12 39 41 44 \n",
      "  2 game: 08 17 28 32 34 37 \n",
      "  3 game: 13 15 21 24 38 43 \n",
      "  4 game: 03 10 14 15 16 24 \n",
      "  5 game: 10 11 17 21 37 40 \n"
     ]
    }
   ],
   "source": [
    "money = int(input('로또 복권 구매 금액을 입력하세요: '))\n",
    "#로또 복권 구매 금액만큼 반복하며 로또 번호를 생성한다.\n",
    "for i in range(money // 1000):\n",
    "    # random.shuffle(lotto)\n",
    "    print('{:3d} game: '.format(i + 1), end='')\n",
    "    # result = lotto[:6]\n",
    "    result = random.sample(lotto , 6)\n",
    "    result.sort()\n",
    "    for j in range(6):\n",
    "        print('{:02d} '.format(result[j]), end='')\n",
    "    print()"
   ],
   "metadata": {
    "collapsed": false,
    "ExecuteTime": {
     "start_time": "2023-08-10T15:34:37.948771Z",
     "end_time": "2023-08-10T15:34:39.967189Z"
    }
   }
  },
  {
   "cell_type": "code",
   "execution_count": null,
   "outputs": [],
   "source": [
    "\n"
   ],
   "metadata": {
    "collapsed": false
   }
  },
  {
   "cell_type": "code",
   "execution_count": null,
   "outputs": [],
   "source": [],
   "metadata": {
    "collapsed": false
   }
  }
 ],
 "metadata": {
  "kernelspec": {
   "display_name": "Python 3",
   "language": "python",
   "name": "python3"
  },
  "language_info": {
   "codemirror_mode": {
    "name": "ipython",
    "version": 2
   },
   "file_extension": ".py",
   "mimetype": "text/x-python",
   "name": "python",
   "nbconvert_exporter": "python",
   "pygments_lexer": "ipython2",
   "version": "2.7.6"
  }
 },
 "nbformat": 4,
 "nbformat_minor": 0
}
