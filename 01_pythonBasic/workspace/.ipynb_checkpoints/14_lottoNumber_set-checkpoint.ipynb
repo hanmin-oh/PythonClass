{
 "cells": [
  {
   "cell_type": "code",
   "execution_count": 2,
   "id": "3fc21d2f",
   "metadata": {},
   "outputs": [],
   "source": [
    "import random"
   ]
  },
  {
   "cell_type": "code",
   "execution_count": 3,
   "id": "39ce7aed",
   "metadata": {},
   "outputs": [
    {
     "name": "stdout",
     "output_type": "stream",
     "text": [
      "1등 번호 : {32, 5, 38, 15, 16, 22}\n",
      "15\n",
      "16\n",
      "1\n",
      "1등 번호 : {32, 5, 38, 15, 16, 22} , 보너스 번호 : 1\n"
     ]
    }
   ],
   "source": [
    "# 로또 1등 번호를 기억할 빈 리스트를 만든다.\n",
    "lotto = set()\n",
    "# 1등 번호\n",
    "while True :\n",
    "    # 1 ~ 45 사이의 난수를 발생시킨다. \n",
    "    number = random.randint(1, 45)\n",
    "    if number not in lotto:\n",
    "        lotto.add(number)\n",
    "    # if =====\n",
    "    # set에 중복되지 않는 숫자가 6개 저장되면 무한 루프를 탈출시킨다.\n",
    "    if len(lotto) == 6 :\n",
    "        break\n",
    "    # if ====\n",
    "# while =====\n",
    "\n",
    "\n",
    "print('1등 번호 : {}'.format(lotto))    \n",
    "# 보너스 번호\n",
    "while True : \n",
    "    bonus = random.randint(1, 45)\n",
    "    if bonus not in lotto :\n",
    "        break\n",
    "print('1등 번호 : {} , 보너스 번호 : {}'.format(lotto, bonus)) \n"
   ]
  },
  {
   "cell_type": "code",
   "execution_count": null,
   "id": "1384e1be",
   "metadata": {},
   "outputs": [],
   "source": []
  },
  {
   "cell_type": "code",
   "execution_count": null,
   "id": "ae484849",
   "metadata": {},
   "outputs": [],
   "source": []
  },
  {
   "cell_type": "code",
   "execution_count": null,
   "id": "1fddee76",
   "metadata": {},
   "outputs": [],
   "source": []
  }
 ],
 "metadata": {
  "kernelspec": {
   "display_name": "Python 3 (ipykernel)",
   "language": "python",
   "name": "python3"
  },
  "language_info": {
   "codemirror_mode": {
    "name": "ipython",
    "version": 3
   },
   "file_extension": ".py",
   "mimetype": "text/x-python",
   "name": "python",
   "nbconvert_exporter": "python",
   "pygments_lexer": "ipython3",
   "version": "3.8.6"
  }
 },
 "nbformat": 4,
 "nbformat_minor": 5
}
