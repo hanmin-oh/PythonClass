{
 "cells": [
  {
   "cell_type": "markdown",
   "id": "cf548932",
   "metadata": {},
   "source": [
    "튜플 만들기\n",
    "\n",
    "튜플은 리스트와 거의 비슷하지만 약간의 차이가 있다.  \n",
    "리스트는 데이터를 []로 감싸지만 튜플은 ()로 감싼다.  \n",
    "리스트는 데이터 요소의 수정 및 삭제가 가능하지만 튜플은 불가능하다."
   ]
  },
  {
   "cell_type": "code",
   "execution_count": 1,
   "id": "75597918",
   "metadata": {},
   "outputs": [
    {
     "name": "stdout",
     "output_type": "stream",
     "text": [
      "<class 'tuple'>\n",
      "()\n",
      "================================================================================\n",
      "<class 'tuple'>\n",
      "()\n"
     ]
    }
   ],
   "source": [
    "# 빈 튜플 만들기\n",
    "a = ()\n",
    "print(type(a))\n",
    "print(a)\n",
    "print('=' * 80)\n",
    "\n",
    "# 빈 튜플은 생성자 함수를 사용해서도 만들 수 있다.\n",
    "b = tuple()\n",
    "print(type(b))\n",
    "print(b)"
   ]
  },
  {
   "cell_type": "code",
   "execution_count": 2,
   "id": "c1faff00",
   "metadata": {},
   "outputs": [
    {
     "name": "stdout",
     "output_type": "stream",
     "text": [
      "<class 'list'>\n",
      "[1]\n",
      "================================================================================\n",
      "<class 'int'>\n",
      "1\n",
      "================================================================================\n",
      "<class 'tuple'>\n",
      "(1,)\n"
     ]
    }
   ],
   "source": [
    "# 데이터가 1개인 리스트\n",
    "a = [1]\n",
    "print(type(a))\n",
    "print(a)\n",
    "print('=' * 80)\n",
    "\n",
    "# 데이터가 1개인 튜플을 만들려는 경우 ()만 사용하면 ()를 튜플로 인식하는 것이 아니고 일반 연산식의 우선순위 지정에\n",
    "# 사용하는 ()로 인식한다.\n",
    "b = (1)\n",
    "print(type(b))\n",
    "print(b)\n",
    "print('=' * 80)\n",
    "\n",
    "# 데이터가 1개인 튜플\n",
    "# 데이터가 1개인 튜플을 만들려면 ()안의 데이터 뒤에 ','를 반드시 써야한다.\n",
    "c = (1,)\n",
    "print(type(c))\n",
    "print(c)"
   ]
  },
  {
   "cell_type": "code",
   "execution_count": null,
   "id": "5e298d54",
   "metadata": {},
   "outputs": [],
   "source": []
  },
  {
   "cell_type": "markdown",
   "id": "710f44cb",
   "metadata": {},
   "source": [
    "튜플을 만들 때 ()로 데이터를 묶지 않고 하나의 변수에 ','로 여러개의 데이터를 구분해서 넣으면 튜플로 인식한다."
   ]
  },
  {
   "cell_type": "code",
   "execution_count": 3,
   "id": "255bea50",
   "metadata": {},
   "outputs": [],
   "source": [
    "a = 1, 2, 3, 4, 5"
   ]
  },
  {
   "cell_type": "markdown",
   "id": "75ef5e8e",
   "metadata": {},
   "source": [
    "튜플은 리스트와 다르게 이터의 수정 및 삭제를 할 수 없으므로 에러가 발생된다. "
   ]
  },
  {
   "cell_type": "code",
   "execution_count": 5,
   "id": "b25da145",
   "metadata": {
    "scrolled": true
   },
   "outputs": [
    {
     "ename": "TypeError",
     "evalue": "'tuple' object does not support item assignment",
     "output_type": "error",
     "traceback": [
      "\u001b[1;31m---------------------------------------------------------------------------\u001b[0m",
      "\u001b[1;31mTypeError\u001b[0m                                 Traceback (most recent call last)",
      "Cell \u001b[1;32mIn[5], line 2\u001b[0m\n\u001b[0;32m      1\u001b[0m a \u001b[38;5;241m=\u001b[39m \u001b[38;5;241m1\u001b[39m, \u001b[38;5;241m2\u001b[39m, \u001b[38;5;241m3\u001b[39m, \u001b[38;5;241m4\u001b[39m, \u001b[38;5;241m5\u001b[39m\n\u001b[1;32m----> 2\u001b[0m \u001b[43ma\u001b[49m\u001b[43m[\u001b[49m\u001b[38;5;241;43m0\u001b[39;49m\u001b[43m]\u001b[49m \u001b[38;5;241m=\u001b[39m \u001b[38;5;241m999\u001b[39m\n\u001b[0;32m      3\u001b[0m \u001b[38;5;28;01mdel\u001b[39;00m a[\u001b[38;5;241m0\u001b[39m]\n",
      "\u001b[1;31mTypeError\u001b[0m: 'tuple' object does not support item assignment"
     ]
    }
   ],
   "source": [
    "a = 1, 2, 3, 4, 5\n",
    "a[0] = 999\n",
    "del a[0]"
   ]
  },
  {
   "cell_type": "code",
   "execution_count": 6,
   "id": "f380abfd",
   "metadata": {},
   "outputs": [
    {
     "name": "stdout",
     "output_type": "stream",
     "text": [
      "(1, 2, 3, 4, 5)\n"
     ]
    },
    {
     "ename": "NameError",
     "evalue": "name 'a' is not defined",
     "output_type": "error",
     "traceback": [
      "\u001b[1;31m---------------------------------------------------------------------------\u001b[0m",
      "\u001b[1;31mNameError\u001b[0m                                 Traceback (most recent call last)",
      "Cell \u001b[1;32mIn[6], line 5\u001b[0m\n\u001b[0;32m      3\u001b[0m \u001b[38;5;28mprint\u001b[39m(a)\n\u001b[0;32m      4\u001b[0m \u001b[38;5;28;01mdel\u001b[39;00m a\n\u001b[1;32m----> 5\u001b[0m \u001b[38;5;28mprint\u001b[39m(\u001b[43ma\u001b[49m)\n",
      "\u001b[1;31mNameError\u001b[0m: name 'a' is not defined"
     ]
    }
   ],
   "source": [
    "# del 명령을 사용해서 튜플 자체를 삭제하는 것은 가능하다.\n",
    "a = 1, 2, 3, 4, 5\n",
    "print(a)\n",
    "del a\n",
    "print(a)"
   ]
  },
  {
   "cell_type": "code",
   "execution_count": null,
   "id": "0f9a15e6",
   "metadata": {},
   "outputs": [],
   "source": []
  },
  {
   "cell_type": "code",
   "execution_count": null,
   "id": "14368d4a",
   "metadata": {},
   "outputs": [],
   "source": []
  },
  {
   "cell_type": "code",
   "execution_count": null,
   "id": "f328fb0b",
   "metadata": {},
   "outputs": [],
   "source": []
  },
  {
   "cell_type": "code",
   "execution_count": null,
   "id": "bd937310",
   "metadata": {},
   "outputs": [],
   "source": []
  },
  {
   "cell_type": "code",
   "execution_count": null,
   "id": "53200baf",
   "metadata": {},
   "outputs": [],
   "source": []
  },
  {
   "cell_type": "code",
   "execution_count": null,
   "id": "e7843746",
   "metadata": {},
   "outputs": [],
   "source": []
  },
  {
   "cell_type": "code",
   "execution_count": null,
   "id": "c8364b8d",
   "metadata": {},
   "outputs": [],
   "source": []
  },
  {
   "cell_type": "code",
   "execution_count": null,
   "id": "c6e891ce",
   "metadata": {},
   "outputs": [],
   "source": []
  },
  {
   "cell_type": "code",
   "execution_count": null,
   "id": "2e56ca67",
   "metadata": {},
   "outputs": [],
   "source": []
  },
  {
   "cell_type": "code",
   "execution_count": null,
   "id": "951f630c",
   "metadata": {},
   "outputs": [],
   "source": []
  }
 ],
 "metadata": {
  "kernelspec": {
   "display_name": "Python 3 (ipykernel)",
   "language": "python",
   "name": "python3"
  },
  "language_info": {
   "codemirror_mode": {
    "name": "ipython",
    "version": 3
   },
   "file_extension": ".py",
   "mimetype": "text/x-python",
   "name": "python",
   "nbconvert_exporter": "python",
   "pygments_lexer": "ipython3",
   "version": "3.8.6"
  }
 },
 "nbformat": 4,
 "nbformat_minor": 5
}
