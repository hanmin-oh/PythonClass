{
 "cells": [
  {
   "cell_type": "markdown",
   "id": "c319d002",
   "metadata": {},
   "source": [
    "if 명령 형식\n",
    "\n",
    "if 조건식:   \n",
    "&nbsp;&nbsp;&nbsp;&nbsp;조건식일 참일 경우 실행할 문장  \n",
    "&nbsp;&nbsp;&nbsp;&nbsp;...  \n",
    "else :   \n",
    "&nbsp;&nbsp;&nbsp;&nbsp;조건식이 거짓일 경우 실행할 문장   \n",
    "&nbsp;&nbsp;&nbsp;&nbsp;...  \n",
    "\n",
    "조건식을 만족하지 않을 때 아무런 일도 할 필요가 없다면 else 이하를 생략할 수 있다.  \n",
    "조건식을 만족하는 경우 또는 만족하지 않는 경우에 실행할 문장이 없다면 pass를 입력하면 된다.  \n"
   ]
  },
  {
   "cell_type": "markdown",
   "id": "f75d2638",
   "metadata": {},
   "source": [
    "논리 연산자\n",
    "\n",
    "and : 논리곱, 두 조건이 모두 참, ~이고, ~이면서, ~중에서  \n",
    "or&nbsp;&nbsp; : 논리합, 두 조건 중에서 한 개 이상 참일 경우에 참, ~또는 , ~이거나  \n",
    "not&nbsp;&nbsp; :논리부정\n",
    "<img src=\"./images/andOrNot.png\">\n"
   ]
  },
  {
   "cell_type": "markdown",
   "id": "ccdde702",
   "metadata": {},
   "source": [
    "연산자 우선순위  \n",
    "단항 연산자 => 이항 연산자 => 삼항 연산자 => 대입 연산자('='와 같이 사용한다.)  \n",
    "이항 연산자&nbsp;&nbsp; ** => *, /, //, % => + , - => 관계연산자 => 논리연산자\n",
    "\n"
   ]
  },
  {
   "cell_type": "code",
   "execution_count": 1,
   "id": "b14813f5",
   "metadata": {},
   "outputs": [
    {
     "name": "stdout",
     "output_type": "stream",
     "text": [
      "나이을 입력하세요: 15\n",
      "투표권 없음\n"
     ]
    }
   ],
   "source": [
    "#나이를 입력받아 투표권이 있나 없나 판단한다.\n",
    "age = int(input('나이을 입력하세요: '))\n",
    "if age >= 18:\n",
    "  print(\"투표권 있음\")\n",
    "else:\n",
    "  print(\"투표권 없음\")\n"
   ]
  },
  {
   "cell_type": "code",
   "execution_count": 14,
   "id": "c3a590ec",
   "metadata": {},
   "outputs": [
    {
     "name": "stdout",
     "output_type": "stream",
     "text": [
      "주민등록번호 13자리를 \"-\" 없이 입력하세요 :9507071124511\n",
      "남자\n",
      "남자\n",
      "남자\n",
      "================================================================================\n",
      "남자\n"
     ]
    }
   ],
   "source": [
    "# 주민등록번호를 입력받아 성별을 판단한다.\n",
    "jumin = input('주민등록번호 13자리를 \"-\" 없이 입력하세요 :')\n",
    "if jumin[6] == '1' or '3':\n",
    "    print('남자')\n",
    "else :\n",
    "    print('여자')\n",
    "\n",
    "if jumin[6] in['1' , '3' , '5']: # in 연산자 <=> not in 연산자\n",
    "    print('남자')\n",
    "else :\n",
    "    print('여자')\n",
    "    \n",
    "#숫자로 비교\n",
    "if int(jumin[6]) in [1, 3 , 5] :\n",
    "    print('남자')\n",
    "else :\n",
    "    print('여자')\n",
    "    \n",
    "print('=' * 80)\n",
    "\n",
    "#성별이 홀수면 남자, 짝수면 여자로 비교\n",
    "if int(jumin[6]) % 2 == 1:\n",
    "    print('남자')\n",
    "else :\n",
    "    print('여자')"
   ]
  },
  {
   "cell_type": "code",
   "execution_count": 24,
   "id": "3fa374a0",
   "metadata": {},
   "outputs": [
    {
     "name": "stdout",
     "output_type": "stream",
     "text": [
      "주민등록번호 13자리를 \"-\" 없이 입력하세요 :005155335189\n",
      "00\n",
      "00\n",
      "나이 :  24\n"
     ]
    }
   ],
   "source": [
    "#주민등록번호를 입력받아 나이를 출력한다.\n",
    "jumin = input('주민등록번호 13자리를 \"-\" 없이 입력하세요 :')\n",
    "print(jumin[0:2])\n",
    "print(jumin[:2])\n",
    "age = int(jumin[:2])\n",
    "if jumin[6] in['1' , '2' ]:\n",
    "    print(\"나이 : \" , 124 - age)\n",
    "else :\n",
    "    print(\"나이 : \" , 24 - age)\n",
    "    \n"
   ]
  }
 ],
 "metadata": {
  "kernelspec": {
   "display_name": "Python 3 (ipykernel)",
   "language": "python",
   "name": "python3"
  },
  "language_info": {
   "codemirror_mode": {
    "name": "ipython",
    "version": 3
   },
   "file_extension": ".py",
   "mimetype": "text/x-python",
   "name": "python",
   "nbconvert_exporter": "python",
   "pygments_lexer": "ipython3",
   "version": "3.8.6"
  }
 },
 "nbformat": 4,
 "nbformat_minor": 5
}
