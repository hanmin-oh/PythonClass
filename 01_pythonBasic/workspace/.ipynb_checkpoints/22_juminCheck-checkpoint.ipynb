{
 "cells": [
  {
   "cell_type": "markdown",
   "id": "19289ae3",
   "metadata": {},
   "source": [
    "주민등록번호 유효성 검사\n",
    "\n",
    "주민등록번호와 각 자리 숫자와 가중치(234567892345)를 곱한 합계를 계산한다.  \n",
    "위의 결과를 11로 나눈 나머지를 계산해서 11에서 뺀다.  \n",
    "11에서 나머지를 뺀 결과가 2자리 숫자가 나오면 10의 자리는 버리고 1의 자리만 취한다.   \n",
    "1의 자리가 주민등록번호의 마지막 자리와 같으면 정상적인 주민등록번호이고 다르면 오류가 있는 주민등록번호이다.\n",
    "***\n",
    "<img src=\"./images/juminCheck.png\" width=\"1000\" align=\"left\" title=\"주민등록번호 유효성 검사\"/>"
   ]
  },
  {
   "cell_type": "code",
   "execution_count": 11,
   "id": "8bc89f23",
   "metadata": {},
   "outputs": [
    {
     "name": "stdout",
     "output_type": "stream",
     "text": [
      "주민등록번호 13자리를 \"-\" 없이 입력하세요: 45415811123454\n",
      "187\n",
      "1\n",
      "오류\n"
     ]
    }
   ],
   "source": [
    "jumin = input('주민등록번호 13자리를 \"-\" 없이 입력하세요: ')\n",
    "\n",
    "# 주민등록번호의 각 자리 숫자와 가중치(234567892345)의 각 자리 숫자와 곱한 결과를 더한다.\n",
    "check = '234567892345'\n",
    "total = 0\n",
    "for i in range(12):\n",
    "    total += int(jumin[i]) * int(check[i])\n",
    "print(total)    \n",
    "\n",
    "# 주민등록번호와 가중치를 곱한 결과를 11로 나눈 나머지를 11에서 뺀다. => 결과\n",
    "result = (11 - total % 11) % 10\n",
    "print(result)\n",
    "\n",
    "# 위 연산 결과와 주민등록번호의 마지막 자리와 비교한다 \n",
    "if str(result) == jumin[-1]:\n",
    "    print('정상')\n",
    "else :\n",
    "    print('오류')"
   ]
  },
  {
   "cell_type": "markdown",
   "id": "cbb90a5d",
   "metadata": {},
   "source": [
    "주민등록번호 유효성 검사\n",
    "\n",
    "주민등록번호와 각 자리 숫자와 가중치(234567892345)를 곱한 합계를 계산한다.  \n",
    "위의 결과를 11로 나눈 나머지를 계산해서 11에서 뺀다.  \n",
    "11에서 나머지를 뺀 결과가 2자리 숫자가 나오면 10의 자리는 버리고 1의 자리만 취한다.   \n",
    "1의 자리가 주민등록번호의 마지막 자리와 같으면 정상적인 주민등록번호이고 다르면 오류가 있는 주민등록번호이다.\n",
    "***\n",
    "<img src=\"./images/juminCheck.png\" width=\"1000\" align=\"left\" title=\"주민등록번호 유효성 검사\"/>"
   ]
  },
  {
   "cell_type": "code",
   "execution_count": 13,
   "id": "ce15f040",
   "metadata": {},
   "outputs": [
    {
     "name": "stdout",
     "output_type": "stream",
     "text": [
      "주민등록번호 13자리를 \"-\" 없이 입력하세요: 9507071124511\n",
      "189\n",
      "9\n",
      "오류\n",
      "오류\n"
     ]
    }
   ],
   "source": [
    "jumin = input('주민등록번호 13자리를 \"-\" 없이 입력하세요: ')\n",
    "total = 0\n",
    "for i in range(12):\n",
    "    total += int(jumin[i]) * (i * 2 if i < 8 else i - 6)\n",
    "\n",
    "# 주민등록번호와 가중치를 곱한 결과를 11로 나눈 나머지를 11에서 뺀다. => 결과\n",
    "result = (11 - total % 11) % 10\n",
    "\n",
    "# 위 연산 결과와 주민등록번호의 마지막 자리와 비교한다 \n",
    "print('정상' if str(result) == jumin[-1] else '오류')"
   ]
  }
 ],
 "metadata": {
  "kernelspec": {
   "display_name": "Python 3 (ipykernel)",
   "language": "python",
   "name": "python3"
  },
  "language_info": {
   "codemirror_mode": {
    "name": "ipython",
    "version": 3
   },
   "file_extension": ".py",
   "mimetype": "text/x-python",
   "name": "python",
   "nbconvert_exporter": "python",
   "pygments_lexer": "ipython3",
   "version": "3.8.6"
  }
 },
 "nbformat": 4,
 "nbformat_minor": 5
}
