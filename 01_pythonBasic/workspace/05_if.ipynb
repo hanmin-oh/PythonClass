{
 "cells": [
  {
   "cell_type": "markdown",
   "id": "c319d002",
   "metadata": {},
   "source": [
    "if 명령 형식\n",
    "\n",
    "if 조건식:   \n",
    "&nbsp;&nbsp;&nbsp;&nbsp;조건식일 참일 경우 실행할 문장  \n",
    "&nbsp;&nbsp;&nbsp;&nbsp;...  \n",
    "else :   \n",
    "&nbsp;&nbsp;&nbsp;&nbsp;조건식이 거짓일 경우 실행할 문장   \n",
    "&nbsp;&nbsp;&nbsp;&nbsp;...  \n",
    "\n",
    "조건식을 만족하지 않을 때 아무런 일도 할 필요가 없다면 else 이하를 생략할 수 있다.  \n",
    "조건식을 만족하는 경우 또는 만족하지 않는 경우에 실행할 문장이 없다면 pass를 입력하면 된다.  \n"
   ]
  },
  {
   "cell_type": "markdown",
   "id": "f75d2638",
   "metadata": {},
   "source": [
    "논리 연산자\n",
    "\n",
    "and : 논리곱, 두 조건이 모두 참, ~이고, ~이면서, ~중에서  \n",
    "or&nbsp;&nbsp; : 논리합, 두 조건 중에서 한 개 이상 참일 경우에 참, ~또는 , ~이거나  \n",
    "not&nbsp;&nbsp; :논리부정\n",
    "<img src=\"./images/andOrNot.png\">\n"
   ]
  },
  {
   "cell_type": "markdown",
   "id": "ccdde702",
   "metadata": {},
   "source": [
    "연산자 우선순위  \n",
    "단항 연산자 => 이항 연산자 => 삼항 연산자 => 대입 연산자('='와 같이 사용한다.)  \n",
    "이항 연산자&nbsp;&nbsp; ** => *, /, //, % => + , - => 관계연산자 => 논리연산자\n",
    "\n"
   ]
  },
  {
   "cell_type": "code",
   "execution_count": 1,
   "id": "b14813f5",
   "metadata": {},
   "outputs": [
    {
     "name": "stdout",
     "output_type": "stream",
     "text": [
      "나이을 입력하세요: 15\n",
      "투표권 없음\n"
     ]
    }
   ],
   "source": [
    "#나이를 입력받아 투표권이 있나 없나 판단한다.\n",
    "age = int(input('나이을 입력하세요: '))\n",
    "if age >= 18:\n",
    "  print(\"투표권 있음\")\n",
    "else:\n",
    "  print(\"투표권 없음\")\n"
   ]
  },
  {
   "cell_type": "code",
   "execution_count": 14,
   "id": "c3a590ec",
   "metadata": {},
   "outputs": [
    {
     "name": "stdout",
     "output_type": "stream",
     "text": [
      "주민등록번호 13자리를 \"-\" 없이 입력하세요 :9507071124511\n",
      "남자\n",
      "남자\n",
      "남자\n",
      "================================================================================\n",
      "남자\n"
     ]
    }
   ],
   "source": [
    "# 주민등록번호를 입력받아 성별을 판단한다.\n",
    "jumin = input('주민등록번호 13자리를 \"-\" 없이 입력하세요 :')\n",
    "if jumin[6] == '1' or '3':\n",
    "    print('남자')\n",
    "else :\n",
    "    print('여자')\n",
    "\n",
    "if jumin[6] in['1' , '3' , '5']: # in 연산자 <=> not in 연산자\n",
    "    print('남자')\n",
    "else :\n",
    "    print('여자')\n",
    "    \n",
    "#숫자로 비교\n",
    "if int(jumin[6]) in [1, 3 , 5] :\n",
    "    print('남자')\n",
    "else :\n",
    "    print('여자')\n",
    "    \n",
    "print('=' * 80)\n",
    "\n",
    "#성별이 홀수면 남자, 짝수면 여자로 비교\n",
    "if int(jumin[6]) % 2 == 1:\n",
    "    print('남자')\n",
    "else :\n",
    "    print('여자')"
   ]
  },
  {
   "cell_type": "code",
   "execution_count": 40,
   "id": "3fa374a0",
   "metadata": {},
   "outputs": [
    {
     "name": "stdout",
     "output_type": "stream",
     "text": [
      "주민등록번호 13자리를 \"-\" 없이 입력하세요 :9507071124511\n",
      "95\n",
      "95\n",
      "나이 :  28\n",
      "2023\n",
      "나이 :  28\n",
      "당신의 출생 년도는 1995년 이고 나이는 28세 입니다.\n"
     ]
    }
   ],
   "source": [
    "1900#주민등록번호를 입력받아 나이를 출력한다.\n",
    "jumin = input('주민등록번호 13자리를 \"-\" 없이 입력하세요 :')\n",
    "print(jumin[0:2])\n",
    "print(jumin[:2])\n",
    "age = int(jumin[:2])\n",
    "if jumin[6] in['1' , '2' ]:\n",
    "    print(\"나이 : \" , 123 - age)\n",
    "else :\n",
    "    print(\"나이 : \" , 23 - age)\n",
    "from datetime import datetime as dt\n",
    "today = dt.now()\n",
    "print(today.year)    \n",
    "if jumin[6] in['1' , '2' ]:\n",
    "    print(\"나이 : \" , today.year - 1900 - age)\n",
    "else :\n",
    "    print(\"나이 : \" , today.year - 2000- age)\n",
    "\n",
    "'''\n",
    "year = today.year - 1900\n",
    "if jumin[6] in['1' , '2' ]:\n",
    "    year += 1900\n",
    "else :\n",
    "    year += 2000\n",
    "    \n",
    "\n",
    "'''\n",
    "year = int(jumin[0:2])\n",
    "#삼항 연산자(간단한 if ~ else) => C/C++이나 java는 '?'를 사용한다.\n",
    "#형식 => 조건이 참일 때 실행할 문장 if  조건식 else 조건이 거짓일 떄 실행할 문장\n",
    "#year라는 변수에 1900을 더할건데 만약에 jumin[6] <= '2' 조건을 만족하지 않는다면 \n",
    "year += 1900 if jumin[6] <= '2' else 2000\n",
    "\n",
    "print('당신의 출생 년도는 {}년 이고 나이는 {}세 입니다.' .format(year, today.year- year))"
   ]
  },
  {
   "cell_type": "code",
   "execution_count": 54,
   "id": "b3d64c00",
   "metadata": {
    "scrolled": true
   },
   "outputs": [
    {
     "name": "stdout",
     "output_type": "stream",
     "text": [
      "윤년/평년을 판단할 년도를 입력하세요: 1600\n",
      "윤년\n"
     ]
    }
   ],
   "source": [
    "# 윤년, 평년 판단하기\n",
    "# 년도가 4로 나눠 떨어지고 (and) 100으로 나눠 떨어지지 않거나 (or) 400으로 나눠 떨어지면 윤년, 그렇지 않으면 평년\n",
    "year = int(input(\"윤년/평년을 판단할 년도를 입력하세요: \"))\n",
    "print(\"윤년\") if year % 4 == 0 and year % 100 != 0 or year % 400 == 0 else print(\"평년\")"
   ]
  },
  {
   "cell_type": "code",
   "execution_count": 55,
   "id": "620b27d4",
   "metadata": {},
   "outputs": [
    {
     "name": "stdout",
     "output_type": "stream",
     "text": [
      "3과목 평균 점수를 입력하세요: 100 100 99\n"
     ]
    }
   ],
   "source": [
    "#세 과목 점수를 입력받아 평균 점수가 90점 이상이면 A, 80점 이상이면 B, 70점 이상이면 C, 80점 이상이면 D\n",
    "#그 이외의 경우 F를 출력한다.\n",
    "java , jsp, python = map(int, input('3과목 평균 점수를 입력하세요: ').split())"
   ]
  }
 ],
 "metadata": {
  "kernelspec": {
   "display_name": "Python 3 (ipykernel)",
   "language": "python",
   "name": "python3"
  },
  "language_info": {
   "codemirror_mode": {
    "name": "ipython",
    "version": 3
   },
   "file_extension": ".py",
   "mimetype": "text/x-python",
   "name": "python",
   "nbconvert_exporter": "python",
   "pygments_lexer": "ipython3",
   "version": "3.8.6"
  }
 },
 "nbformat": 4,
 "nbformat_minor": 5
}
