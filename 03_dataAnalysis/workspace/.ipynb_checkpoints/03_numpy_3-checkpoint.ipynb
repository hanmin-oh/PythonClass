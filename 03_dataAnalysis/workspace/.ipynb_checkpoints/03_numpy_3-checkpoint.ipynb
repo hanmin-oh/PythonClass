{
 "cells": [
  {
   "cell_type": "code",
   "execution_count": 1,
   "id": "38ade873",
   "metadata": {},
   "outputs": [],
   "source": [
    "import warnings\n",
    "warnings.filterwarnings(action='ignore')\n",
    "%config Computer.use_jedi = False\n",
    "import numpy as np\n",
    "\n",
    "def pprint(arr):\n",
    "    print('type: {}'.format(type(arr)))\n",
    "    print('shape: {}, dimension: {}, dtype: {}'.format(arr.shape, arr.ndim, arr.dtype))\n",
    "    print('numpy 배열의 데이터\\n', arr, sep='')"
   ]
  },
  {
   "cell_type": "markdown",
   "id": "49f04157",
   "metadata": {},
   "source": [
    "인덱싱\n",
    "\n",
    "배열의 각 요소는 axis 인덱스 배열로 참조할 수 있다.  \n",
    "1차원 배열은 1개의 인덱스, 2차원 배열은 2개의 인덱스, 3차원 배열은 3개의 인덱스로 요소를 참조할 수 있다.  \n",
    "인덱싱 작업시 [행][열]과 같이 인덱스를 지정하거나 [행,열]과 같이 인덱스를 지정할 수 있다. "
   ]
  },
  {
   "cell_type": "code",
   "execution_count": null,
   "id": "5e03d045",
   "metadata": {},
   "outputs": [],
   "source": [
    "a = np.arange(24)\n",
    "pprint(a)\n",
    "b = np.arange(0, 24).reshape(4, 6)\n",
    "pprint(b)\n",
    "c = np.arange(3, 5, 6)\n",
    "pprint(c)"
   ]
  },
  {
   "cell_type": "code",
   "execution_count": null,
   "id": "1f417826",
   "metadata": {},
   "outputs": [],
   "source": [
    "print(a[5])\n",
    "a[5] = 10000\n",
    "pprint(a)"
   ]
  },
  {
   "cell_type": "code",
   "execution_count": null,
   "id": "36ac05ab",
   "metadata": {},
   "outputs": [],
   "source": [
    "# 2차원 배열 요소 참조 및 변경\n"
   ]
  },
  {
   "cell_type": "code",
   "execution_count": null,
   "id": "6534e9f2",
   "metadata": {},
   "outputs": [],
   "source": [
    "pprint(b)\n",
    "print('=' * 80)\n",
    "print(b[1:3])\n",
    "print('=' * 80)\n"
   ]
  },
  {
   "cell_type": "code",
   "execution_count": null,
   "id": "fdc81f3d",
   "metadata": {},
   "outputs": [],
   "source": [
    "# 음수 인덱싱을 이용한 범위 설정\n",
    "# 음수 인덱스는 지정한 axis의 마지막 요소부터 반대 방향의 인덱스이고 -1은 마지막 요소의 인덱스를 의미한다.\n",
    "print(b[1:3, 1:5])\n",
    "print(b[1:-1, 1:-1])"
   ]
  },
  {
   "cell_type": "code",
   "execution_count": null,
   "id": "4fa06e75",
   "metadata": {},
   "outputs": [],
   "source": [
    "# 슬라이싱을 이용한 데이터 수정\n",
    "pprint(b)\n",
    "print('=' * 80)\n",
    "# 슬라이싱을 이용한 배열 생성\n",
    "slide_arr = b[1:3, 1:5]\n",
    "print(slide_arr)\n",
    "print('=' * 80)\n",
    "print(slide_arr[:, 1:3])\n",
    "slide_arr[:, 1:3] = 9999\n",
    "print(slide_arr)\n",
    "print('=' * 80)\n",
    "print(slide_arr)\n",
    "print('=' * 80)\n",
    "print(b)"
   ]
  },
  {
   "cell_type": "markdown",
   "id": "28b1fd08",
   "metadata": {},
   "source": [
    "불린 인덱싱\n",
    "\n",
    "numpy의 불린 인덱싱인 배열의 각 요소 선택 여부를 True, False로 지정하는 방식이다. => True가 선택된다. "
   ]
  },
  {
   "cell_type": "code",
   "execution_count": null,
   "id": "4651231c",
   "metadata": {},
   "outputs": [],
   "source": [
    "a = np.arange(0, 24).reshape(4, 6)\n",
    "pprint(a)"
   ]
  },
  {
   "cell_type": "code",
   "execution_count": null,
   "id": "0226a8be",
   "metadata": {},
   "outputs": [],
   "source": [
    "# a 배열에서 요소의 값이 짝수인 요소의 전체 합계\n",
    "# numpy의 브로드캐스팅 기능을 이용해서 배열의 요소 중에서 짝수인 요소를 확인한다.\n",
    "even_arr1 = a % 2 # 브로드캐스팅\n",
    "print(even_arr1)\n",
    "print('=' * 80)\n",
    "even_arr2 = a % 2 == 0\n",
    "print(even_arr2)"
   ]
  },
  {
   "cell_type": "code",
   "execution_count": null,
   "id": "1da57823",
   "metadata": {},
   "outputs": [],
   "source": [
    "# 불린 인덱싱은 브로드캐스팅 결과가 True인 요소들만 추출한다.\n",
    "print(a[even_arr2])\n",
    "print(a[a%2 == 0])"
   ]
  },
  {
   "cell_type": "code",
   "execution_count": null,
   "id": "5398e21a",
   "metadata": {},
   "outputs": [],
   "source": [
    "print(np.sum(a))\n",
    "print(a[a % 2 == 0].sum())\n",
    "print(np.sum(a[a%2 == 0]))\n",
    "print(np.sum(a[a%2 == 1]))\n",
    "print(a[a%2 != 0].sum())"
   ]
  },
  {
   "cell_type": "markdown",
   "id": "948a56c4",
   "metadata": {},
   "source": [
    "불린 인덱싱 응용\n",
    "\n",
    "데이터 파일 => 2014년 시애틀 강수량 데이터 => ./data/seattle2014.csv  \n",
    "2014년 1월 시애틀 평균 강수량?  "
   ]
  },
  {
   "cell_type": "code",
   "execution_count": 5,
   "id": "1bab3ddc",
   "metadata": {},
   "outputs": [],
   "source": [
    "import pandas as pd"
   ]
  },
  {
   "cell_type": "code",
   "execution_count": 6,
   "id": "74416c1d",
   "metadata": {},
   "outputs": [
    {
     "name": "stdout",
     "output_type": "stream",
     "text": [
      "<class 'pandas.core.frame.DataFrame'>\n"
     ]
    },
    {
     "data": {
      "text/html": [
       "<div>\n",
       "<style scoped>\n",
       "    .dataframe tbody tr th:only-of-type {\n",
       "        vertical-align: middle;\n",
       "    }\n",
       "\n",
       "    .dataframe tbody tr th {\n",
       "        vertical-align: top;\n",
       "    }\n",
       "\n",
       "    .dataframe thead th {\n",
       "        text-align: right;\n",
       "    }\n",
       "</style>\n",
       "<table border=\"1\" class=\"dataframe\">\n",
       "  <thead>\n",
       "    <tr style=\"text-align: right;\">\n",
       "      <th></th>\n",
       "      <th>STATION</th>\n",
       "      <th>STATION_NAME</th>\n",
       "      <th>DATE</th>\n",
       "      <th>PRCP</th>\n",
       "      <th>SNWD</th>\n",
       "      <th>SNOW</th>\n",
       "      <th>TMAX</th>\n",
       "      <th>TMIN</th>\n",
       "      <th>AWND</th>\n",
       "      <th>WDF2</th>\n",
       "      <th>WDF5</th>\n",
       "      <th>WSF2</th>\n",
       "      <th>WSF5</th>\n",
       "      <th>WT01</th>\n",
       "      <th>WT05</th>\n",
       "      <th>WT02</th>\n",
       "      <th>WT03</th>\n",
       "    </tr>\n",
       "  </thead>\n",
       "  <tbody>\n",
       "    <tr>\n",
       "      <th>0</th>\n",
       "      <td>GHCND:USW00024233</td>\n",
       "      <td>SEATTLE TACOMA INTERNATIONAL AIRPORT WA US</td>\n",
       "      <td>20140101</td>\n",
       "      <td>0</td>\n",
       "      <td>0</td>\n",
       "      <td>0</td>\n",
       "      <td>72</td>\n",
       "      <td>33</td>\n",
       "      <td>12</td>\n",
       "      <td>340</td>\n",
       "      <td>310</td>\n",
       "      <td>36</td>\n",
       "      <td>40</td>\n",
       "      <td>-9999</td>\n",
       "      <td>-9999</td>\n",
       "      <td>-9999</td>\n",
       "      <td>-9999</td>\n",
       "    </tr>\n",
       "    <tr>\n",
       "      <th>1</th>\n",
       "      <td>GHCND:USW00024233</td>\n",
       "      <td>SEATTLE TACOMA INTERNATIONAL AIRPORT WA US</td>\n",
       "      <td>20140102</td>\n",
       "      <td>41</td>\n",
       "      <td>0</td>\n",
       "      <td>0</td>\n",
       "      <td>106</td>\n",
       "      <td>61</td>\n",
       "      <td>32</td>\n",
       "      <td>190</td>\n",
       "      <td>200</td>\n",
       "      <td>94</td>\n",
       "      <td>116</td>\n",
       "      <td>-9999</td>\n",
       "      <td>-9999</td>\n",
       "      <td>-9999</td>\n",
       "      <td>-9999</td>\n",
       "    </tr>\n",
       "    <tr>\n",
       "      <th>2</th>\n",
       "      <td>GHCND:USW00024233</td>\n",
       "      <td>SEATTLE TACOMA INTERNATIONAL AIRPORT WA US</td>\n",
       "      <td>20140103</td>\n",
       "      <td>15</td>\n",
       "      <td>0</td>\n",
       "      <td>0</td>\n",
       "      <td>89</td>\n",
       "      <td>28</td>\n",
       "      <td>26</td>\n",
       "      <td>30</td>\n",
       "      <td>50</td>\n",
       "      <td>63</td>\n",
       "      <td>72</td>\n",
       "      <td>1</td>\n",
       "      <td>-9999</td>\n",
       "      <td>-9999</td>\n",
       "      <td>-9999</td>\n",
       "    </tr>\n",
       "    <tr>\n",
       "      <th>3</th>\n",
       "      <td>GHCND:USW00024233</td>\n",
       "      <td>SEATTLE TACOMA INTERNATIONAL AIRPORT WA US</td>\n",
       "      <td>20140104</td>\n",
       "      <td>0</td>\n",
       "      <td>0</td>\n",
       "      <td>0</td>\n",
       "      <td>78</td>\n",
       "      <td>6</td>\n",
       "      <td>27</td>\n",
       "      <td>40</td>\n",
       "      <td>40</td>\n",
       "      <td>45</td>\n",
       "      <td>58</td>\n",
       "      <td>1</td>\n",
       "      <td>-9999</td>\n",
       "      <td>-9999</td>\n",
       "      <td>-9999</td>\n",
       "    </tr>\n",
       "    <tr>\n",
       "      <th>4</th>\n",
       "      <td>GHCND:USW00024233</td>\n",
       "      <td>SEATTLE TACOMA INTERNATIONAL AIRPORT WA US</td>\n",
       "      <td>20140105</td>\n",
       "      <td>0</td>\n",
       "      <td>0</td>\n",
       "      <td>0</td>\n",
       "      <td>83</td>\n",
       "      <td>-5</td>\n",
       "      <td>37</td>\n",
       "      <td>10</td>\n",
       "      <td>10</td>\n",
       "      <td>67</td>\n",
       "      <td>76</td>\n",
       "      <td>-9999</td>\n",
       "      <td>-9999</td>\n",
       "      <td>-9999</td>\n",
       "      <td>-9999</td>\n",
       "    </tr>\n",
       "    <tr>\n",
       "      <th>...</th>\n",
       "      <td>...</td>\n",
       "      <td>...</td>\n",
       "      <td>...</td>\n",
       "      <td>...</td>\n",
       "      <td>...</td>\n",
       "      <td>...</td>\n",
       "      <td>...</td>\n",
       "      <td>...</td>\n",
       "      <td>...</td>\n",
       "      <td>...</td>\n",
       "      <td>...</td>\n",
       "      <td>...</td>\n",
       "      <td>...</td>\n",
       "      <td>...</td>\n",
       "      <td>...</td>\n",
       "      <td>...</td>\n",
       "      <td>...</td>\n",
       "    </tr>\n",
       "    <tr>\n",
       "      <th>360</th>\n",
       "      <td>GHCND:USW00024233</td>\n",
       "      <td>SEATTLE TACOMA INTERNATIONAL AIRPORT WA US</td>\n",
       "      <td>20141227</td>\n",
       "      <td>33</td>\n",
       "      <td>0</td>\n",
       "      <td>0</td>\n",
       "      <td>94</td>\n",
       "      <td>44</td>\n",
       "      <td>49</td>\n",
       "      <td>210</td>\n",
       "      <td>210</td>\n",
       "      <td>112</td>\n",
       "      <td>161</td>\n",
       "      <td>1</td>\n",
       "      <td>-9999</td>\n",
       "      <td>-9999</td>\n",
       "      <td>-9999</td>\n",
       "    </tr>\n",
       "    <tr>\n",
       "      <th>361</th>\n",
       "      <td>GHCND:USW00024233</td>\n",
       "      <td>SEATTLE TACOMA INTERNATIONAL AIRPORT WA US</td>\n",
       "      <td>20141228</td>\n",
       "      <td>41</td>\n",
       "      <td>0</td>\n",
       "      <td>0</td>\n",
       "      <td>67</td>\n",
       "      <td>28</td>\n",
       "      <td>18</td>\n",
       "      <td>50</td>\n",
       "      <td>30</td>\n",
       "      <td>58</td>\n",
       "      <td>72</td>\n",
       "      <td>1</td>\n",
       "      <td>-9999</td>\n",
       "      <td>-9999</td>\n",
       "      <td>-9999</td>\n",
       "    </tr>\n",
       "    <tr>\n",
       "      <th>362</th>\n",
       "      <td>GHCND:USW00024233</td>\n",
       "      <td>SEATTLE TACOMA INTERNATIONAL AIRPORT WA US</td>\n",
       "      <td>20141229</td>\n",
       "      <td>0</td>\n",
       "      <td>0</td>\n",
       "      <td>0</td>\n",
       "      <td>61</td>\n",
       "      <td>6</td>\n",
       "      <td>43</td>\n",
       "      <td>350</td>\n",
       "      <td>350</td>\n",
       "      <td>76</td>\n",
       "      <td>103</td>\n",
       "      <td>1</td>\n",
       "      <td>-9999</td>\n",
       "      <td>-9999</td>\n",
       "      <td>-9999</td>\n",
       "    </tr>\n",
       "    <tr>\n",
       "      <th>363</th>\n",
       "      <td>GHCND:USW00024233</td>\n",
       "      <td>SEATTLE TACOMA INTERNATIONAL AIRPORT WA US</td>\n",
       "      <td>20141230</td>\n",
       "      <td>0</td>\n",
       "      <td>0</td>\n",
       "      <td>0</td>\n",
       "      <td>33</td>\n",
       "      <td>-21</td>\n",
       "      <td>36</td>\n",
       "      <td>90</td>\n",
       "      <td>70</td>\n",
       "      <td>63</td>\n",
       "      <td>76</td>\n",
       "      <td>-9999</td>\n",
       "      <td>-9999</td>\n",
       "      <td>-9999</td>\n",
       "      <td>-9999</td>\n",
       "    </tr>\n",
       "    <tr>\n",
       "      <th>364</th>\n",
       "      <td>GHCND:USW00024233</td>\n",
       "      <td>SEATTLE TACOMA INTERNATIONAL AIRPORT WA US</td>\n",
       "      <td>20141231</td>\n",
       "      <td>0</td>\n",
       "      <td>0</td>\n",
       "      <td>0</td>\n",
       "      <td>33</td>\n",
       "      <td>-27</td>\n",
       "      <td>30</td>\n",
       "      <td>30</td>\n",
       "      <td>-9999</td>\n",
       "      <td>58</td>\n",
       "      <td>-9999</td>\n",
       "      <td>-9999</td>\n",
       "      <td>-9999</td>\n",
       "      <td>-9999</td>\n",
       "      <td>-9999</td>\n",
       "    </tr>\n",
       "  </tbody>\n",
       "</table>\n",
       "<p>365 rows × 17 columns</p>\n",
       "</div>"
      ],
      "text/plain": [
       "               STATION                                STATION_NAME      DATE  \\\n",
       "0    GHCND:USW00024233  SEATTLE TACOMA INTERNATIONAL AIRPORT WA US  20140101   \n",
       "1    GHCND:USW00024233  SEATTLE TACOMA INTERNATIONAL AIRPORT WA US  20140102   \n",
       "2    GHCND:USW00024233  SEATTLE TACOMA INTERNATIONAL AIRPORT WA US  20140103   \n",
       "3    GHCND:USW00024233  SEATTLE TACOMA INTERNATIONAL AIRPORT WA US  20140104   \n",
       "4    GHCND:USW00024233  SEATTLE TACOMA INTERNATIONAL AIRPORT WA US  20140105   \n",
       "..                 ...                                         ...       ...   \n",
       "360  GHCND:USW00024233  SEATTLE TACOMA INTERNATIONAL AIRPORT WA US  20141227   \n",
       "361  GHCND:USW00024233  SEATTLE TACOMA INTERNATIONAL AIRPORT WA US  20141228   \n",
       "362  GHCND:USW00024233  SEATTLE TACOMA INTERNATIONAL AIRPORT WA US  20141229   \n",
       "363  GHCND:USW00024233  SEATTLE TACOMA INTERNATIONAL AIRPORT WA US  20141230   \n",
       "364  GHCND:USW00024233  SEATTLE TACOMA INTERNATIONAL AIRPORT WA US  20141231   \n",
       "\n",
       "     PRCP  SNWD  SNOW  TMAX  TMIN  AWND  WDF2  WDF5  WSF2  WSF5  WT01  WT05  \\\n",
       "0       0     0     0    72    33    12   340   310    36    40 -9999 -9999   \n",
       "1      41     0     0   106    61    32   190   200    94   116 -9999 -9999   \n",
       "2      15     0     0    89    28    26    30    50    63    72     1 -9999   \n",
       "3       0     0     0    78     6    27    40    40    45    58     1 -9999   \n",
       "4       0     0     0    83    -5    37    10    10    67    76 -9999 -9999   \n",
       "..    ...   ...   ...   ...   ...   ...   ...   ...   ...   ...   ...   ...   \n",
       "360    33     0     0    94    44    49   210   210   112   161     1 -9999   \n",
       "361    41     0     0    67    28    18    50    30    58    72     1 -9999   \n",
       "362     0     0     0    61     6    43   350   350    76   103     1 -9999   \n",
       "363     0     0     0    33   -21    36    90    70    63    76 -9999 -9999   \n",
       "364     0     0     0    33   -27    30    30 -9999    58 -9999 -9999 -9999   \n",
       "\n",
       "     WT02  WT03  \n",
       "0   -9999 -9999  \n",
       "1   -9999 -9999  \n",
       "2   -9999 -9999  \n",
       "3   -9999 -9999  \n",
       "4   -9999 -9999  \n",
       "..    ...   ...  \n",
       "360 -9999 -9999  \n",
       "361 -9999 -9999  \n",
       "362 -9999 -9999  \n",
       "363 -9999 -9999  \n",
       "364 -9999 -9999  \n",
       "\n",
       "[365 rows x 17 columns]"
      ]
     },
     "execution_count": 6,
     "metadata": {},
     "output_type": "execute_result"
    }
   ],
   "source": [
    "# pandas의 read_csv() 메소드로 csv 파일을 데이터프레임으로 리턴한다.\n",
    "rain_in_seattle = pd.read_csv('./data/seattle2014.csv')\n",
    "print(type(rain_in_seattle))\n",
    "rain_in_seattle\n"
   ]
  },
  {
   "cell_type": "code",
   "execution_count": 7,
   "id": "7c8e3e8a",
   "metadata": {},
   "outputs": [
    {
     "name": "stdout",
     "output_type": "stream",
     "text": [
      "0       0\n",
      "1      41\n",
      "2      15\n",
      "3       0\n",
      "4       0\n",
      "       ..\n",
      "360    33\n",
      "361    41\n",
      "362     0\n",
      "363     0\n",
      "364     0\n",
      "Name: PRCP, Length: 365, dtype: int64\n"
     ]
    }
   ],
   "source": [
    "# 2014년 시애틀 강수량 데이터의 강수량 열(PRCP)의 데이터만 추출한다. \n",
    "# 데이터프레임의 특정 열 1개(시리즈) 추출하기\n",
    "# rain_arr = rain_in_seattle['PRCP']\n",
    "# rain_arr = rain_in_seattle.get('PRCP')\n",
    "rain_arr = rain_in_seattle.PRCP #3가지 모두 동일한 결과\n",
    "print(rain_arr)"
   ]
  },
  {
   "cell_type": "code",
   "execution_count": 10,
   "id": "c35b9d89",
   "metadata": {
    "collapsed": true
   },
   "outputs": [
    {
     "name": "stdout",
     "output_type": "stream",
     "text": [
      "[  0  41  15   0   0   3 122  97  58  43 213  15   0   0   0   0   0   0\n",
      "   0   0   0   5   0   0   0   0   0  89 216   0  23  20   0   0   0   0\n",
      "   0   0  51   5 183 170  46  18  94 117 264 145 152  10  30  28  25  61\n",
      " 130   3   0   0   0   5 191 107 165 467  30   0 323  43 188   0   0   5\n",
      "  69  81 277   3   0   5   0   0   0   0   0  41  36   3 221 140   0   0\n",
      "   0   0  25   0  46   0   0  46   0   0   0   0   0   0   5 109 185   0\n",
      " 137   0  51 142  89 124   0  33  69   0   0   0   0   0 333 160  51   0\n",
      "   0 137  20   5   0   0   0   0   0   0   0   0   0   0   0   0  38   0\n",
      "  56   0   0   0   0   0   0   0   0   0   0   0   0   0   0   0   0   0\n",
      "  18  64   0   5  36  13   0   8   3   0   0   0   0   0   0  18  23   0\n",
      "   0   0   0   0   0   0   0   0   0   0   0   0   0   0   0   0   0   0\n",
      "   0   0   0   0   3 193   0   0   0   0   0   0   0   0   0   5   0   0\n",
      "   0   0   0   0   0   0   5 127 216   0  10   0   0   0   0   0   0   0\n",
      "   0   0   0   0   0   0   0  84  13   0  30   0   0   0   0   0   0   0\n",
      "   0   0   0   0   0   0   0   5   3   0   0   0   3 183 203  43  89   0\n",
      "   0   8   0   0   0   0   0   0   0   0   0   0   3  74   0  76  71  86\n",
      "   0  33 150   0 117  10 320  94  41  61  15   8 127   5 254 170   0  18\n",
      " 109  41  48  41   0   0  51   0   0   0   0   0   0   0   0   0   0  36\n",
      " 152   5 119  13 183   3  33 343  36   0   0   0   0   8  30  74   0  91\n",
      "  99 130  69   0   0   0   0   0  28 130  30 196   0   0 206  53   0   0\n",
      "  33  41   0   0   0]\n",
      "data size: 365\n"
     ]
    }
   ],
   "source": [
    "# 데이터만 얻어오기 위해서는 values 속성을 사용하고 인덱스만 얻어오려면 index 속성을 사용한다.\n",
    "rain_arr = rain_in_seattle['PRCP'].values\n",
    "# rain_arr = rain_in_seattle.get('PRCP')\n",
    "# rain_arr = rain_in_seattle.PRCP #3가지 모두 동일한 결과\n",
    "print(rain_arr)\n",
    "print('data size:' , len(rain_arr))"
   ]
  },
  {
   "cell_type": "code",
   "execution_count": 28,
   "id": "9fe63e34",
   "metadata": {},
   "outputs": [
    {
     "name": "stdout",
     "output_type": "stream",
     "text": [
      "[ 0  1  2  3  4  5  6  7  8  9 10 11 12 13 14 15 16 17 18 19 20 21 22 23\n",
      " 24 25 26 27 28 29 30 31 32 33 34 35 36 37 38 39]\n",
      "[ True  True  True  True  True  True  True  True  True  True  True  True\n",
      "  True  True  True  True  True  True  True  True  True  True  True  True\n",
      "  True  True  True  True  True  True  True False False False False False\n",
      " False False False False]\n"
     ]
    }
   ],
   "source": [
    "days_arr = np.arange(365) # 날짜 배열\n",
    "print(days_arr[:40])\n",
    "# 1월의 날 수 만큼 불린 인덱스를 생성한다.\n",
    "condition_jan = days_arr < 31\n",
    "print(condition_jan[:40])"
   ]
  },
  {
   "cell_type": "code",
   "execution_count": 31,
   "id": "b4fd4289",
   "metadata": {},
   "outputs": [
    {
     "name": "stdout",
     "output_type": "stream",
     "text": [
      "[  0  41  15   0   0   3 122  97  58  43 213  15   0   0   0   0   0   0\n",
      "   0   0   0   5   0   0   0   0   0  89 216   0  23]\n",
      "31\n"
     ]
    }
   ],
   "source": [
    "rain_jan = rain_arr[condition_jan]\n",
    "print(rain_jan)\n",
    "print(len(rain_jan))"
   ]
  },
  {
   "cell_type": "code",
   "execution_count": 33,
   "id": "25d407b1",
   "metadata": {},
   "outputs": [
    {
     "name": "stdout",
     "output_type": "stream",
     "text": [
      "1월 강수량 합계: 940\n",
      "1월 강수량 평균: 30.3\n"
     ]
    }
   ],
   "source": [
    "print('1월 강수량 합계: {}'.format(np.sum(rain_jan)))\n",
    "print('1월 강수량 평균: {:4.1f}'.format(np.mean(rain_jan)))"
   ]
  },
  {
   "cell_type": "markdown",
   "id": "52eb613c",
   "metadata": {},
   "source": [
    "팬시 인덱싱\n",
    "\n",
    "배열에 인덱스 배열을 전달해 요소를 참조하는 방법이다."
   ]
  },
  {
   "cell_type": "code",
   "execution_count": 34,
   "id": "8bfeaaf4",
   "metadata": {},
   "outputs": [
    {
     "name": "stdout",
     "output_type": "stream",
     "text": [
      "[[ 1  2  3  4  5  6]\n",
      " [ 7  8  9 10 11 12]\n",
      " [13 14 15 16 17 18]\n",
      " [19 20 21 22 23 24]]\n"
     ]
    }
   ],
   "source": [
    "a = np.arange(1, 25).reshape(4, 6)\n",
    "print(a)"
   ]
  },
  {
   "cell_type": "code",
   "execution_count": 39,
   "id": "6e938090",
   "metadata": {},
   "outputs": [
    {
     "name": "stdout",
     "output_type": "stream",
     "text": [
      "1 8 15 22\n",
      "(1, 8, 15, 22)\n",
      "<class 'tuple'>\n",
      "[1, 8, 15, 22]\n",
      "<class 'list'>\n"
     ]
    }
   ],
   "source": [
    "print(a[0, 0], a[1,1], a[2,2], a[3,3])\n",
    "arr = a[0, 0], a[1,1], a[2,2], a[3,3]\n",
    "print(arr)\n",
    "print(type(arr))\n",
    "arr = [a[0, 0], a[1,1], a[2,2], a[3,3]]\n",
    "print(arr)\n",
    "print(type(arr))"
   ]
  },
  {
   "cell_type": "markdown",
   "id": "b917c627",
   "metadata": {},
   "source": [
    "배열 변환\n",
    "\n",
    "배열을 변환하는 방법은 전치, 배열의 shape 변경, 배열 요소 추가, 배열 결합, 배열 분리 등이 있다.\n",
    "\n",
    "전치는 행렬의 인덱스가 바뀌는 변환이다. \n",
    "\n",
    "<img src='./images/numpyImage08.jpg' align=left width=300>"
   ]
  },
  {
   "cell_type": "code",
   "execution_count": 75,
   "id": "990a3dd2",
   "metadata": {},
   "outputs": [
    {
     "name": "stdout",
     "output_type": "stream",
     "text": [
      "[[7 5]\n",
      " [2 5]\n",
      " [9 6]]\n",
      "[[7 2 9]\n",
      " [5 5 6]]\n"
     ]
    }
   ],
   "source": [
    "# numpy에서 행렬 전치하기 위해서 넘파이배열.T 속성을 사용한다.\n",
    "a = np.random.randint(1, 10, (3, 2))\n",
    "print(a)\n",
    "print(a.T)"
   ]
  },
  {
   "cell_type": "markdown",
   "id": "ef97f3bd",
   "metadata": {},
   "source": [
    "배열의 shape 변경\n",
    "\n",
    "numpy는 배열의 형태를 변경하는 reshape() 메소드와 ravel() 메소드를 제공한다.  \n",
    "reshape() 메소드는 데이터 변경없이 지정한 shape으로 배열의 형태를 변환하지만 ravel() 메소드는 배열의 shape을 무조건 1차원으로 변환한다.  "
   ]
  },
  {
   "cell_type": "code",
   "execution_count": 85,
   "id": "30143ff2",
   "metadata": {},
   "outputs": [
    {
     "name": "stdout",
     "output_type": "stream",
     "text": [
      "[[2 8]\n",
      " [3 7]\n",
      " [7 6]]\n",
      "[2 8 3 7 7 6]\n",
      "[[2 8]\n",
      " [3 7]\n",
      " [7 6]]\n"
     ]
    }
   ],
   "source": [
    "a = np.random.randint(1, 10, (3, 2))\n",
    "print(a)\n",
    "print(a.ravel()) # 1차원으로 변경된 결과를 리턴한다.\n",
    "print(a)"
   ]
  },
  {
   "cell_type": "code",
   "execution_count": 86,
   "id": "8daaa919",
   "metadata": {},
   "outputs": [
    {
     "name": "stdout",
     "output_type": "stream",
     "text": [
      "[2 8 3 7 7 6]\n",
      "[  2   8   3   7 999   6]\n",
      "[[  2   8]\n",
      " [  3   7]\n",
      " [999   6]]\n"
     ]
    }
   ],
   "source": [
    "# ravel() 메소드는 원본 배열의 view를 반환한다.\n",
    "# ravel() 메소드가 반환한 배열을 수정하면 원본 배열의 내용이 같이 수정된다.\n",
    "b = a.ravel()\n",
    "print(b)\n",
    "b[4] = 999\n",
    "print(b)\n",
    "print(a) # 원본 손상 없이 진행하려면 copied로 복사해서 진행한다."
   ]
  },
  {
   "cell_type": "markdown",
   "id": "017d74ce",
   "metadata": {},
   "source": [
    "resize() 메소드로 배열의 shape과 크기를 변경할 수 있다.\n",
    "넘파이배열.resize(new_shape), np.resize(넘파이배열, new_shape)\n",
    "resize() 메소드와 reshape() 메소드는 shape을 변경하는 부분에서는 유사하지만 reshape() 메소드는 배열을 구성하는 요소의 개수를 변경하지 못하는 반면에 resize() 메소드는 shape을 변경하는 과정에서 배열을 구성하는 요소의 개수를 줄이거나 늘릴 수 있다."
   ]
  },
  {
   "cell_type": "code",
   "execution_count": 101,
   "id": "28fae933",
   "metadata": {
    "collapsed": true
   },
   "outputs": [
    {
     "name": "stdout",
     "output_type": "stream",
     "text": [
      "[[9 4 9 4 9 3]\n",
      " [5 3 6 1 1 3]]\n"
     ]
    },
    {
     "data": {
      "text/plain": [
       "array([[9],\n",
       "       [4],\n",
       "       [9],\n",
       "       [4],\n",
       "       [9],\n",
       "       [3],\n",
       "       [5],\n",
       "       [3],\n",
       "       [6],\n",
       "       [1]])"
      ]
     },
     "execution_count": 101,
     "metadata": {},
     "output_type": "execute_result"
    }
   ],
   "source": [
    "a = np.random.randint(1, 10 ,(2, 6))\n",
    "print(a)\n",
    "np.resize(a, (10, 1)) # shape이 변경된 결과를 리턴한다.\n",
    "# print(a)"
   ]
  },
  {
   "cell_type": "markdown",
   "id": "0f35b9ad",
   "metadata": {},
   "source": [
    "append() 메소드는 배열 끝에 데이터(배열)를 추가한다. axis로 데이터가 추가되는 방향을 지정할 수 있다."
   ]
  },
  {
   "cell_type": "code",
   "execution_count": 104,
   "id": "d18e74b2",
   "metadata": {},
   "outputs": [
    {
     "name": "stdout",
     "output_type": "stream",
     "text": [
      "[[2 1 6]\n",
      " [7 3 2]\n",
      " [6 7 8]]\n",
      "[[17 10 10]\n",
      " [10 17 18]\n",
      " [16 12 11]]\n"
     ]
    }
   ],
   "source": [
    "a = np.random.randint(1, 10 ,(3, 3))\n",
    "print(a)\n",
    "b = np.random.randint(10, 19 ,(3, 3))\n",
    "print(b)"
   ]
  },
  {
   "cell_type": "code",
   "execution_count": 111,
   "id": "937ed996",
   "metadata": {},
   "outputs": [
    {
     "name": "stdout",
     "output_type": "stream",
     "text": [
      "[ 2  1  6  7  3  2  6  7  8 17 10 10 10 17 18 16 12 11]\n",
      "[[2 1 6]\n",
      " [7 3 2]\n",
      " [6 7 8]]\n",
      "[[17 10 10]\n",
      " [10 17 18]\n",
      " [16 12 11]]\n",
      "[ 2  1  6  7  3  2  6  7  8 17 10 10 10 17 18 16 12 11]\n"
     ]
    }
   ],
   "source": [
    "# axis=None\n",
    "# axis를 지정하지 않았을 경우 배열은 1차원으로 변환되서 결합된다. \n",
    "print(np.append(a, b))\n",
    "print(a)\n",
    "print(b)\n",
    "result = np.append(a, b)\n",
    "print(result)"
   ]
  },
  {
   "cell_type": "code",
   "execution_count": 114,
   "id": "c17e3660",
   "metadata": {
    "collapsed": true
   },
   "outputs": [
    {
     "name": "stdout",
     "output_type": "stream",
     "text": [
      "[[ 2  1  6]\n",
      " [ 7  3  2]\n",
      " [ 6  7  8]\n",
      " [17 10 10]\n",
      " [10 17 18]\n",
      " [16 12 11]]\n"
     ]
    }
   ],
   "source": [
    "# axis=0\n",
    "print(np.append(a, b, axis=0)) # a 배열 아래쪽(열방향)에 b 배열이 추가된다."
   ]
  },
  {
   "cell_type": "code",
   "execution_count": null,
   "id": "67a72680",
   "metadata": {},
   "outputs": [],
   "source": [
    "# axis=0인 경우"
   ]
  },
  {
   "cell_type": "code",
   "execution_count": 117,
   "id": "fee0d23c",
   "metadata": {
    "collapsed": true
   },
   "outputs": [
    {
     "name": "stdout",
     "output_type": "stream",
     "text": [
      "[[ 2  1  6 17 10 10]\n",
      " [ 7  3  2 10 17 18]\n",
      " [ 6  7  8 16 12 11]]\n"
     ]
    }
   ],
   "source": [
    "# axis=1\n",
    "print(np.append(a, b, axis=1)) # a 배열 오른쪽(행방향)에 b 배열이 추가된다."
   ]
  },
  {
   "cell_type": "markdown",
   "id": "5ca0c655",
   "metadata": {},
   "source": [
    "index() 메소드는 지정한 index에 데이터를 삽입한다. axis"
   ]
  },
  {
   "cell_type": "markdown",
   "id": "f35b19aa",
   "metadata": {},
   "source": [
    "배열 결합\n",
    "\n",
    "numpy는 배열과 배열을 결합하는 concatenate(), vstack(), hstack() 메소드를 제공한다.\n",
    "\n",
    "np.concatenate() 메소드는 axis로 결합할 방향을 지정해서 배열을 결합한다.  \n",
    "np.concatenate(배열1, 배열2, ..., axis)"
   ]
  },
  {
   "cell_type": "code",
   "execution_count": 119,
   "id": "207e926b",
   "metadata": {},
   "outputs": [
    {
     "name": "stdout",
     "output_type": "stream",
     "text": [
      "[[9 4 2]\n",
      " [2 6 1]\n",
      " [8 1 6]]\n",
      "[[17 18 11]\n",
      " [15 17 13]\n",
      " [17 15 13]]\n"
     ]
    }
   ],
   "source": [
    "a = np.random.randint(1, 10 ,(3, 3))\n",
    "print(a)\n",
    "b = np.random.randint(10, 19 ,(3, 3))\n",
    "print(b)"
   ]
  },
  {
   "cell_type": "code",
   "execution_count": 127,
   "id": "649f1b08",
   "metadata": {},
   "outputs": [
    {
     "name": "stdout",
     "output_type": "stream",
     "text": [
      "[ 9  4  2  2  6  1  8  1  6 17 18 11 15 17 13 17 15 13]\n"
     ]
    }
   ],
   "source": [
    "# axis를 None으로 지정하면 1차원 배열로 변환한 후 배열을 결합한다.\n",
    "print(np.concatenate((a, b), axis=None))"
   ]
  },
  {
   "cell_type": "code",
   "execution_count": 130,
   "id": "011e8870",
   "metadata": {},
   "outputs": [
    {
     "name": "stdout",
     "output_type": "stream",
     "text": [
      "[ 9  4  2  2  6  1  8  1  6 17 18 11 15 17 13 17 15 13]\n",
      "[[ 9  4  2]\n",
      " [ 2  6  1]\n",
      " [ 8  1  6]\n",
      " [17 18 11]\n",
      " [15 17 13]\n",
      " [17 15 13]]\n",
      "[[ 9  4  2]\n",
      " [ 2  6  1]\n",
      " [ 8  1  6]\n",
      " [17 18 11]\n",
      " [15 17 13]\n",
      " [17 15 13]]\n"
     ]
    },
    {
     "ename": "TypeError",
     "evalue": "unhashable type: 'numpy.ndarray'",
     "output_type": "error",
     "traceback": [
      "\u001b[1;31m---------------------------------------------------------------------------\u001b[0m",
      "\u001b[1;31mTypeError\u001b[0m                                 Traceback (most recent call last)",
      "Cell \u001b[1;32mIn[130], line 5\u001b[0m\n\u001b[0;32m      3\u001b[0m \u001b[38;5;28mprint\u001b[39m(np\u001b[38;5;241m.\u001b[39mconcatenate((a, b)))\n\u001b[0;32m      4\u001b[0m \u001b[38;5;28mprint\u001b[39m(np\u001b[38;5;241m.\u001b[39mconcatenate(([a, b])))\n\u001b[1;32m----> 5\u001b[0m \u001b[38;5;28mprint\u001b[39m(np\u001b[38;5;241m.\u001b[39mconcatenate(({a, b})))\n",
      "\u001b[1;31mTypeError\u001b[0m: unhashable type: 'numpy.ndarray'"
     ]
    }
   ],
   "source": [
    "# axis를 지정하지 않으면 0이 기본값이고 아래쪽으로 배열을 결합한다. 결합하려는 배열들의 열의 개수가 다르면 에러가 발생된다.\n",
    "print(np.concatenate((a, b), axis=None))\n",
    "print(np.concatenate((a, b)))\n",
    "print(np.concatenate(([a, b])))"
   ]
  },
  {
   "cell_type": "code",
   "execution_count": null,
   "id": "72e29fb5",
   "metadata": {},
   "outputs": [],
   "source": []
  },
  {
   "cell_type": "code",
   "execution_count": null,
   "id": "1085aac9",
   "metadata": {},
   "outputs": [],
   "source": []
  },
  {
   "cell_type": "code",
   "execution_count": null,
   "id": "eb82d2c9",
   "metadata": {},
   "outputs": [],
   "source": []
  },
  {
   "cell_type": "code",
   "execution_count": null,
   "id": "755f3b53",
   "metadata": {},
   "outputs": [],
   "source": []
  },
  {
   "cell_type": "code",
   "execution_count": null,
   "id": "885df45f",
   "metadata": {},
   "outputs": [],
   "source": []
  },
  {
   "cell_type": "code",
   "execution_count": null,
   "id": "22cb001f",
   "metadata": {},
   "outputs": [],
   "source": []
  },
  {
   "cell_type": "code",
   "execution_count": null,
   "id": "6c1fde93",
   "metadata": {},
   "outputs": [],
   "source": []
  },
  {
   "cell_type": "code",
   "execution_count": null,
   "id": "59f28676",
   "metadata": {},
   "outputs": [],
   "source": []
  },
  {
   "cell_type": "code",
   "execution_count": null,
   "id": "76f4b5cb",
   "metadata": {},
   "outputs": [],
   "source": []
  },
  {
   "cell_type": "code",
   "execution_count": null,
   "id": "bb7a2865",
   "metadata": {},
   "outputs": [],
   "source": []
  },
  {
   "cell_type": "code",
   "execution_count": null,
   "id": "da3e2a11",
   "metadata": {},
   "outputs": [],
   "source": []
  },
  {
   "cell_type": "code",
   "execution_count": null,
   "id": "69c6428c",
   "metadata": {},
   "outputs": [],
   "source": []
  }
 ],
 "metadata": {
  "kernelspec": {
   "display_name": "Python 3 (ipykernel)",
   "language": "python",
   "name": "python3"
  },
  "language_info": {
   "codemirror_mode": {
    "name": "ipython",
    "version": 3
   },
   "file_extension": ".py",
   "mimetype": "text/x-python",
   "name": "python",
   "nbconvert_exporter": "python",
   "pygments_lexer": "ipython3",
   "version": "3.8.6"
  }
 },
 "nbformat": 4,
 "nbformat_minor": 5
}
