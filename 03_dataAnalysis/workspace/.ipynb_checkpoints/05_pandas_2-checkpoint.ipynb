{
 "cells": [
  {
   "cell_type": "code",
   "execution_count": 1,
   "id": "fe0710d3",
   "metadata": {},
   "outputs": [],
   "source": [
    "import warnings\n",
    "warnings.filterwarnings(action='ignore')\n",
    "%config Computer.use_jedi = False\n",
    "import numpy as np\n",
    "import pandas as pd\n",
    "import matplotlib.pyplot as plt"
   ]
  },
  {
   "cell_type": "markdown",
   "id": "1d79ac96",
   "metadata": {},
   "source": [
    "pandas의 데이터프레임과 시리즈\n",
    "\n",
    "데이터프레임과 시리즈는 파이썬의 리스트나 딕셔너리와 비슷하지만 데이터를 다루는 데 더 특화되어 있다.   \n",
    "리스트와 딕셔너리는 많은 양의 데이터를 저장하거나 데이터를 조직할 수 있는 메소드가 많지 않은 반면에 pandas의 데이터프레임과 시리즈는 많은 양의 데이터를 저장할 수 있을 뿐만 아니라 스프레드시트 계열의 프로그램을 사용하는 것 처럼 행과 열 단위로 데이터를 조작할 수 있는 다양한 메소드와 속성들을 제공한다.  \n",
    "\n",
    "시리즈 만들기  \n",
    "\n",
    "시리즈를 만들기 위해서는 리스트를 Series() 메소드의 인수로 전달하면 된다. "
   ]
  },
  {
   "cell_type": "code",
   "execution_count": 2,
   "id": "a95d9d1f",
   "metadata": {},
   "outputs": [
    {
     "name": "stdout",
     "output_type": "stream",
     "text": [
      "<class 'pandas.core.series.Series'>\n",
      "0    apple\n",
      "1       42\n",
      "dtype: object\n"
     ]
    }
   ],
   "source": [
    "s = pd.Series(['apple', 42])\n",
    "print(type(s))\n",
    "print(s)"
   ]
  },
  {
   "cell_type": "code",
   "execution_count": 3,
   "id": "25bcee4c",
   "metadata": {},
   "outputs": [
    {
     "name": "stdout",
     "output_type": "stream",
     "text": [
      "0     이순신\n",
      "1    을지문덕\n",
      "dtype: object\n",
      "이순신\n"
     ]
    }
   ],
   "source": [
    "s = pd.Series(['이순신', '을지문덕'])\n",
    "print(s)\n",
    "print(s.loc[0])"
   ]
  },
  {
   "cell_type": "code",
   "execution_count": 4,
   "id": "4060309f",
   "metadata": {},
   "outputs": [
    {
     "name": "stdout",
     "output_type": "stream",
     "text": [
      "chosun     이순신\n",
      "korea     을지문덕\n",
      "dtype: object\n",
      "이순신\n",
      "이순신\n"
     ]
    }
   ],
   "source": [
    "# 시리즈를 생성할 떄 문자열을 인덱스로 지정할 수 있다.\n",
    "# 문자열을 인덱스로 저장하려면 index 속성으로 인덱스로 사용하려는 문자열을 리스트에 담아서 전달하면 된다. \n",
    "s = pd.Series(['이순신', '을지문덕'], index=['chosun','korea'])\n",
    "print(s)\n",
    "print(s.loc['chosun'])\n",
    "print(s.iloc[0])"
   ]
  },
  {
   "cell_type": "markdown",
   "id": "8fca0fdd",
   "metadata": {},
   "source": [
    "데이터프레임 만들기\n",
    "\n",
    "데이터프레임을 만들기 위해서는 딕녀러리를 DataFrame() 메소드의 인수로 전달하면 된다.  \n",
    "딕셔너리의 key가 데이터프레임의 열 이름이 되고 value는 데이터가 된다. "
   ]
  },
  {
   "cell_type": "code",
   "execution_count": 5,
   "id": "843db9ad",
   "metadata": {},
   "outputs": [
    {
     "name": "stdout",
     "output_type": "stream",
     "text": [
      "<class 'pandas.core.frame.DataFrame'>\n"
     ]
    },
    {
     "data": {
      "text/html": [
       "<div>\n",
       "<style scoped>\n",
       "    .dataframe tbody tr th:only-of-type {\n",
       "        vertical-align: middle;\n",
       "    }\n",
       "\n",
       "    .dataframe tbody tr th {\n",
       "        vertical-align: top;\n",
       "    }\n",
       "\n",
       "    .dataframe thead th {\n",
       "        text-align: right;\n",
       "    }\n",
       "</style>\n",
       "<table border=\"1\" class=\"dataframe\">\n",
       "  <thead>\n",
       "    <tr style=\"text-align: right;\">\n",
       "      <th></th>\n",
       "      <th>name</th>\n",
       "      <th>area</th>\n",
       "      <th>born</th>\n",
       "      <th>fight</th>\n",
       "      <th>age</th>\n",
       "    </tr>\n",
       "  </thead>\n",
       "  <tbody>\n",
       "    <tr>\n",
       "      <th>0</th>\n",
       "      <td>이순신</td>\n",
       "      <td>조선</td>\n",
       "      <td>2001-05-15</td>\n",
       "      <td>명량해전</td>\n",
       "      <td>23</td>\n",
       "    </tr>\n",
       "    <tr>\n",
       "      <th>1</th>\n",
       "      <td>을지문덕</td>\n",
       "      <td>고려</td>\n",
       "      <td>1995-07-07</td>\n",
       "      <td>살수대첩</td>\n",
       "      <td>29</td>\n",
       "    </tr>\n",
       "  </tbody>\n",
       "</table>\n",
       "</div>"
      ],
      "text/plain": [
       "   name area        born fight  age\n",
       "0   이순신   조선  2001-05-15  명량해전   23\n",
       "1  을지문덕   고려  1995-07-07  살수대첩   29"
      ]
     },
     "execution_count": 5,
     "metadata": {},
     "output_type": "execute_result"
    }
   ],
   "source": [
    "data = {\n",
    "    'name' : ['이순신', '을지문덕'],\n",
    "    'area' : ['조선', '고려'],\n",
    "    'born' : ['2001-05-15' , '1995-07-07'],\n",
    "    'fight' : ['명량해전' , '살수대첩'],\n",
    "    'age' : [23, 29]\n",
    "}\n",
    "df = pd.DataFrame(data)\n",
    "print(type(df))\n",
    "df"
   ]
  },
  {
   "cell_type": "code",
   "execution_count": 6,
   "id": "a9883767",
   "metadata": {},
   "outputs": [
    {
     "name": "stdout",
     "output_type": "stream",
     "text": [
      "<class 'pandas.core.frame.DataFrame'>\n"
     ]
    },
    {
     "data": {
      "text/html": [
       "<div>\n",
       "<style scoped>\n",
       "    .dataframe tbody tr th:only-of-type {\n",
       "        vertical-align: middle;\n",
       "    }\n",
       "\n",
       "    .dataframe tbody tr th {\n",
       "        vertical-align: top;\n",
       "    }\n",
       "\n",
       "    .dataframe thead th {\n",
       "        text-align: right;\n",
       "    }\n",
       "</style>\n",
       "<table border=\"1\" class=\"dataframe\">\n",
       "  <thead>\n",
       "    <tr style=\"text-align: right;\">\n",
       "      <th></th>\n",
       "      <th>area</th>\n",
       "      <th>fight</th>\n",
       "    </tr>\n",
       "  </thead>\n",
       "  <tbody>\n",
       "    <tr>\n",
       "      <th>이순신</th>\n",
       "      <td>조선</td>\n",
       "      <td>명량해전</td>\n",
       "    </tr>\n",
       "    <tr>\n",
       "      <th>을지문덕</th>\n",
       "      <td>고려</td>\n",
       "      <td>살수대첩</td>\n",
       "    </tr>\n",
       "  </tbody>\n",
       "</table>\n",
       "</div>"
      ],
      "text/plain": [
       "     area fight\n",
       "이순신    조선  명량해전\n",
       "을지문덕   고려  살수대첩"
      ]
     },
     "execution_count": 6,
     "metadata": {},
     "output_type": "execute_result"
    }
   ],
   "source": [
    "# - 데이터프레임을 생성할 때 문자열을 index로 지정할 수 있다. \n",
    "# - 문자열을 인덱스로 지정하려면 index 속성으로 인덱스를 사용하려는 문자열을 리스트에 담아서 전달하면 된다. \n",
    "# - columns 속성으로 data 속성에 지정된 딕셔너리에 데이터프레임을 만들 key를 지정할 수 있다. \n",
    "data = {\n",
    "    'area' : ['조선', '고려'],\n",
    "    'fight' : ['명량해전' , '살수대첩'],\n",
    "    'current' : ['충무로' , '을지로']\n",
    "}\n",
    "df = pd.DataFrame(data, index=['이순신','을지문덕'], columns=['area' , 'fight'])\n",
    "print(type(df))\n",
    "df"
   ]
  },
  {
   "cell_type": "code",
   "execution_count": 7,
   "id": "849d7d0d",
   "metadata": {},
   "outputs": [
    {
     "name": "stdout",
     "output_type": "stream",
     "text": [
      "<class 'pandas.core.frame.DataFrame'>\n"
     ]
    },
    {
     "data": {
      "text/html": [
       "<div>\n",
       "<style scoped>\n",
       "    .dataframe tbody tr th:only-of-type {\n",
       "        vertical-align: middle;\n",
       "    }\n",
       "\n",
       "    .dataframe tbody tr th {\n",
       "        vertical-align: top;\n",
       "    }\n",
       "\n",
       "    .dataframe thead th {\n",
       "        text-align: right;\n",
       "    }\n",
       "</style>\n",
       "<table border=\"1\" class=\"dataframe\">\n",
       "  <thead>\n",
       "    <tr style=\"text-align: right;\">\n",
       "      <th></th>\n",
       "      <th>area</th>\n",
       "      <th>fight</th>\n",
       "      <th>current</th>\n",
       "      <th>age</th>\n",
       "    </tr>\n",
       "  </thead>\n",
       "  <tbody>\n",
       "    <tr>\n",
       "      <th>이순신</th>\n",
       "      <td>조선</td>\n",
       "      <td>명량해전</td>\n",
       "      <td>충무로</td>\n",
       "      <td>56</td>\n",
       "    </tr>\n",
       "    <tr>\n",
       "      <th>을지문덕</th>\n",
       "      <td>고려</td>\n",
       "      <td>살수대첩</td>\n",
       "      <td>을지로</td>\n",
       "      <td>46</td>\n",
       "    </tr>\n",
       "  </tbody>\n",
       "</table>\n",
       "</div>"
      ],
      "text/plain": [
       "     area fight current  age\n",
       "이순신    조선  명량해전     충무로   56\n",
       "을지문덕   고려  살수대첩     을지로   46"
      ]
     },
     "execution_count": 7,
     "metadata": {},
     "output_type": "execute_result"
    }
   ],
   "source": [
    "# 딕셔너리리는 key와 value로 이루어진 한 쌍의 데이터로 입력되는 데이터들의 순서를 보장하지 않는다.\n",
    "# 순서가 보장되는 딕셔너리를 전달하려면 collections 모듈의 OrderedDict 객체를 import 하고  \n",
    "from collections import OrderedDict\n",
    "data = OrderedDict([\n",
    "     ('area' , ['조선', '고려']),\n",
    "   ( 'fight' , ['명량해전' , '살수대첩']),\n",
    "   ( 'current' , ['충무로' , '을지로']),\n",
    "    ('age' , [56 , 46])\n",
    "])\n",
    "df = pd.DataFrame(data, index=['이순신','을지문덕'])\n",
    "print(type(df))\n",
    "df"
   ]
  },
  {
   "cell_type": "code",
   "execution_count": 8,
   "id": "50844623",
   "metadata": {},
   "outputs": [
    {
     "name": "stdout",
     "output_type": "stream",
     "text": [
      "<class 'pandas.core.series.Series'>\n",
      "area         조선\n",
      "fight      명량해전\n",
      "current     충무로\n",
      "age          56\n",
      "Name: 이순신, dtype: object\n"
     ]
    }
   ],
   "source": [
    "# 데이터프레임에서 시리즈를 선택하려면 \n",
    "row = df.iloc[0]\n",
    "print(type(row))\n",
    "print(row)"
   ]
  },
  {
   "cell_type": "code",
   "execution_count": 9,
   "id": "074aeac5",
   "metadata": {},
   "outputs": [
    {
     "name": "stdout",
     "output_type": "stream",
     "text": [
      "<class 'pandas.core.series.Series'>\n",
      "이순신     조선\n",
      "을지문덕    고려\n",
      "Name: area, dtype: object\n"
     ]
    }
   ],
   "source": [
    "# 데이터프레임에서 시리즈를 선택하려면 \n",
    "col = df.loc[: ,'area']\n",
    "print(type(col))\n",
    "print(col)"
   ]
  },
  {
   "cell_type": "code",
   "execution_count": 10,
   "id": "bad43efd",
   "metadata": {},
   "outputs": [
    {
     "name": "stdout",
     "output_type": "stream",
     "text": [
      "area         조선\n",
      "fight      명량해전\n",
      "current     충무로\n",
      "age          56\n",
      "Name: 이순신, dtype: object\n",
      "Index(['area', 'fight', 'current', 'age'], dtype='object')\n",
      "<class 'pandas.core.indexes.base.Index'>\n",
      "['조선' '명량해전' '충무로' 56]\n"
     ]
    }
   ],
   "source": [
    "# index 속성은 시리즈의 인덱스를 얻어오고 values 속성은 시리즈의 데이터를 numpy 배열로 얻어온다.\n",
    "print(row)\n",
    "print(row.index)\n",
    "print(type(row.index))\n",
    "print(row.values)"
   ]
  },
  {
   "cell_type": "code",
   "execution_count": 11,
   "id": "92dcca0f",
   "metadata": {},
   "outputs": [
    {
     "name": "stdout",
     "output_type": "stream",
     "text": [
      "이순신     조선\n",
      "을지문덕    고려\n",
      "Name: area, dtype: object\n",
      "Index(['이순신', '을지문덕'], dtype='object')\n",
      "<class 'pandas.core.indexes.base.Index'>\n",
      "['조선' '고려']\n",
      "area\n"
     ]
    }
   ],
   "source": [
    "print(col)\n",
    "print(col.index)\n",
    "print(type(col.index))\n",
    "print(col.values)\n",
    "# index 속성의 결과에서 특정 값 추출하기\n",
    "print(row.index[0])\n"
   ]
  },
  {
   "cell_type": "code",
   "execution_count": 12,
   "id": "53b20ddf",
   "metadata": {},
   "outputs": [
    {
     "name": "stdout",
     "output_type": "stream",
     "text": [
      "Index(['area', 'fight', 'current', 'age'], dtype='object')\n",
      "Index(['area', 'fight', 'current', 'age'], dtype='object')\n"
     ]
    }
   ],
   "source": [
    "print(row.index)\n",
    "print(row.keys())"
   ]
  },
  {
   "cell_type": "markdown",
   "id": "4aa8ec87",
   "metadata": {},
   "source": [
    "시리즈 기초 통계 함수"
   ]
  },
  {
   "cell_type": "code",
   "execution_count": 13,
   "id": "7250581b",
   "metadata": {},
   "outputs": [
    {
     "data": {
      "text/plain": [
       "이순신     56\n",
       "을지문덕    46\n",
       "Name: age, dtype: int64"
      ]
     },
     "execution_count": 13,
     "metadata": {},
     "output_type": "execute_result"
    }
   ],
   "source": [
    "# ages = df['age']\n",
    "# ages = df.get('age')\n",
    "ages = df.age\n",
    "ages"
   ]
  },
  {
   "cell_type": "code",
   "execution_count": 14,
   "id": "f3b763b7",
   "metadata": {},
   "outputs": [
    {
     "data": {
      "text/html": [
       "<div>\n",
       "<style scoped>\n",
       "    .dataframe tbody tr th:only-of-type {\n",
       "        vertical-align: middle;\n",
       "    }\n",
       "\n",
       "    .dataframe tbody tr th {\n",
       "        vertical-align: top;\n",
       "    }\n",
       "\n",
       "    .dataframe thead th {\n",
       "        text-align: right;\n",
       "    }\n",
       "</style>\n",
       "<table border=\"1\" class=\"dataframe\">\n",
       "  <thead>\n",
       "    <tr style=\"text-align: right;\">\n",
       "      <th></th>\n",
       "      <th>Name</th>\n",
       "      <th>Born</th>\n",
       "      <th>Died</th>\n",
       "      <th>Age</th>\n",
       "      <th>Occupation</th>\n",
       "    </tr>\n",
       "  </thead>\n",
       "  <tbody>\n",
       "    <tr>\n",
       "      <th>0</th>\n",
       "      <td>Rosaline Franklin</td>\n",
       "      <td>1920-07-25</td>\n",
       "      <td>1958-04-16</td>\n",
       "      <td>37</td>\n",
       "      <td>Chemist</td>\n",
       "    </tr>\n",
       "    <tr>\n",
       "      <th>1</th>\n",
       "      <td>William Gosset</td>\n",
       "      <td>1876-06-13</td>\n",
       "      <td>1937-10-16</td>\n",
       "      <td>61</td>\n",
       "      <td>Statistician</td>\n",
       "    </tr>\n",
       "    <tr>\n",
       "      <th>2</th>\n",
       "      <td>Florence Nightingale</td>\n",
       "      <td>1820-05-12</td>\n",
       "      <td>1910-08-13</td>\n",
       "      <td>90</td>\n",
       "      <td>Nurse</td>\n",
       "    </tr>\n",
       "    <tr>\n",
       "      <th>3</th>\n",
       "      <td>Marie Curie</td>\n",
       "      <td>1867-11-07</td>\n",
       "      <td>1934-07-04</td>\n",
       "      <td>66</td>\n",
       "      <td>Chemist</td>\n",
       "    </tr>\n",
       "    <tr>\n",
       "      <th>4</th>\n",
       "      <td>Rachel Carson</td>\n",
       "      <td>1907-05-27</td>\n",
       "      <td>1964-04-14</td>\n",
       "      <td>56</td>\n",
       "      <td>Biologist</td>\n",
       "    </tr>\n",
       "    <tr>\n",
       "      <th>5</th>\n",
       "      <td>John Snow</td>\n",
       "      <td>1813-03-15</td>\n",
       "      <td>1858-06-16</td>\n",
       "      <td>45</td>\n",
       "      <td>Physician</td>\n",
       "    </tr>\n",
       "    <tr>\n",
       "      <th>6</th>\n",
       "      <td>Alan Turing</td>\n",
       "      <td>1912-06-23</td>\n",
       "      <td>1954-06-07</td>\n",
       "      <td>41</td>\n",
       "      <td>Computer Scientist</td>\n",
       "    </tr>\n",
       "    <tr>\n",
       "      <th>7</th>\n",
       "      <td>Johann Gauss</td>\n",
       "      <td>1777-04-30</td>\n",
       "      <td>1855-02-23</td>\n",
       "      <td>77</td>\n",
       "      <td>Mathematician</td>\n",
       "    </tr>\n",
       "  </tbody>\n",
       "</table>\n",
       "</div>"
      ],
      "text/plain": [
       "                   Name        Born        Died  Age          Occupation\n",
       "0     Rosaline Franklin  1920-07-25  1958-04-16   37             Chemist\n",
       "1        William Gosset  1876-06-13  1937-10-16   61        Statistician\n",
       "2  Florence Nightingale  1820-05-12  1910-08-13   90               Nurse\n",
       "3           Marie Curie  1867-11-07  1934-07-04   66             Chemist\n",
       "4         Rachel Carson  1907-05-27  1964-04-14   56           Biologist\n",
       "5             John Snow  1813-03-15  1858-06-16   45           Physician\n",
       "6           Alan Turing  1912-06-23  1954-06-07   41  Computer Scientist\n",
       "7          Johann Gauss  1777-04-30  1855-02-23   77       Mathematician"
      ]
     },
     "execution_count": 14,
     "metadata": {},
     "output_type": "execute_result"
    }
   ],
   "source": [
    "scientists = pd.read_csv('./data/scientists.csv')\n",
    "scientists"
   ]
  },
  {
   "cell_type": "code",
   "execution_count": 15,
   "id": "8cb0e3df",
   "metadata": {},
   "outputs": [
    {
     "name": "stdout",
     "output_type": "stream",
     "text": [
      "<class 'pandas.core.series.Series'>\n",
      "0    37\n",
      "1    61\n",
      "2    90\n",
      "3    66\n",
      "4    56\n",
      "5    45\n",
      "6    41\n",
      "7    77\n",
      "Name: Age, dtype: int64\n"
     ]
    }
   ],
   "source": [
    "ages = scientists.Age\n",
    "print(type(ages))\n",
    "print(ages)"
   ]
  },
  {
   "cell_type": "markdown",
   "id": "85063d5e",
   "metadata": {},
   "source": [
    "브로드캐스팅\n",
    "\n",
    "시리즈나 데이터프레임에서 모든 데이터에 대해 한 번에 연산하는 것을 브로드캐스팅이라 한다. "
   ]
  },
  {
   "cell_type": "code",
   "execution_count": 16,
   "id": "ebfb876f",
   "metadata": {},
   "outputs": [
    {
     "name": "stdout",
     "output_type": "stream",
     "text": [
      "0    False\n",
      "1     True\n",
      "2     True\n",
      "3     True\n",
      "4    False\n",
      "5    False\n",
      "6    False\n",
      "7     True\n",
      "Name: Age, dtype: bool\n"
     ]
    }
   ],
   "source": [
    "# 평균 나이(59.125)보다 나이가 많은 사람의 데이터만 추출한다.\n",
    "bool_value = ages > ages.mean()\n",
    "print(bool_value)"
   ]
  },
  {
   "cell_type": "code",
   "execution_count": 17,
   "id": "871e67a4",
   "metadata": {},
   "outputs": [
    {
     "name": "stdout",
     "output_type": "stream",
     "text": [
      "1    61\n",
      "2    90\n",
      "3    66\n",
      "7    77\n",
      "Name: Age, dtype: int64\n"
     ]
    }
   ],
   "source": [
    "print(ages[bool_value])"
   ]
  },
  {
   "cell_type": "code",
   "execution_count": 18,
   "id": "b2698896",
   "metadata": {},
   "outputs": [
    {
     "name": "stdout",
     "output_type": "stream",
     "text": [
      "  37   61   90   66   56   45   41   77 \n",
      "1369 3721 8100 4356 3136 2025 1681 5929 "
     ]
    }
   ],
   "source": [
    "for age in ages :\n",
    "    print('{:4d}'.format(age), end=' ')\n",
    "print()\n",
    "for age in ages * ages :\n",
    "   print('{:4d}'.format(age), end=' ')"
   ]
  },
  {
   "cell_type": "code",
   "execution_count": 19,
   "id": "dd8a8cbf",
   "metadata": {},
   "outputs": [
    {
     "name": "stdout",
     "output_type": "stream",
     "text": [
      "3700 6100 9000 6600 5600 4500 4100 7700 "
     ]
    }
   ],
   "source": [
    "# 백터에 스칼라 값을 연산하면 각각의 벡터 값에 스칼라 값이 연산된 결과가 출력된다. \n",
    "for age in ages * 100 :\n",
    "    print('{:4d}'.format(age), end=' ')"
   ]
  },
  {
   "cell_type": "code",
   "execution_count": 20,
   "id": "a4a20980",
   "metadata": {},
   "outputs": [
    {
     "name": "stdout",
     "output_type": "stream",
     "text": [
      "0      1\n",
      "1    100\n",
      "dtype: int64\n",
      "0      37.0\n",
      "1    6100.0\n",
      "2       NaN\n",
      "3       NaN\n",
      "4       NaN\n",
      "5       NaN\n",
      "6       NaN\n",
      "7       NaN\n",
      "dtype: float64\n"
     ]
    }
   ],
   "source": [
    "print(pd.Series([1,100]))\n",
    "# print(pd.Series([1,100]))의 0 , 1 인덱스만 계산되고 나머지는 계산할 수 없으므로 누락값(NaN, nan, NA, na, 결측치)\n",
    "print(ages * pd.Series([1,100]))"
   ]
  },
  {
   "cell_type": "markdown",
   "id": "f95f592b",
   "metadata": {},
   "source": [
    "시리즈 정렬\n",
    "\n",
    "sort_index() 메소드는 인덱스를 정렬하고 sort_value() 메소드는 데이터를 정렬한다."
   ]
  },
  {
   "cell_type": "code",
   "execution_count": 26,
   "id": "a3eb3596",
   "metadata": {},
   "outputs": [
    {
     "name": "stdout",
     "output_type": "stream",
     "text": [
      "0    37\n",
      "1    61\n",
      "2    90\n",
      "3    66\n",
      "4    56\n",
      "5    45\n",
      "6    41\n",
      "7    77\n",
      "Name: Age, dtype: int64\n",
      "0    37\n",
      "6    41\n",
      "5    45\n",
      "4    56\n",
      "1    61\n",
      "3    66\n",
      "7    77\n",
      "2    90\n",
      "Name: Age, dtype: int64\n",
      "0    37\n",
      "1    61\n",
      "2    90\n",
      "3    66\n",
      "4    56\n",
      "5    45\n",
      "6    41\n",
      "7    77\n",
      "Name: Age, dtype: int64\n"
     ]
    }
   ],
   "source": [
    "print(ages)\n",
    "print(ages.sort_values())\n",
    "print(ages.sort_index())"
   ]
  },
  {
   "cell_type": "code",
   "execution_count": 29,
   "id": "f4f8ba78",
   "metadata": {
    "scrolled": true
   },
   "outputs": [
    {
     "name": "stdout",
     "output_type": "stream",
     "text": [
      "0    37\n",
      "1    61\n",
      "2    90\n",
      "3    66\n",
      "4    56\n",
      "5    45\n",
      "6    41\n",
      "7    77\n",
      "Name: Age, dtype: int64\n",
      "7    77\n",
      "6    41\n",
      "5    45\n",
      "4    56\n",
      "3    66\n",
      "2    90\n",
      "1    61\n",
      "0    37\n",
      "Name: Age, dtype: int64\n",
      "  74  122  180  132  112   90   82  154 \n",
      "  74  122  180  132  112   90   82  154 "
     ]
    }
   ],
   "source": [
    "print(ages)\n",
    "rev_ages = ages.sort_index(ascending=False)\n",
    "print(rev_ages)\n",
    "# 벡터와 벡터의 연산은 같은 인덱스를 가지는 값끼리 수행하기 때문에 ages + rev_ages는 ages * 2와 같은 결과가 계산된다.\n",
    "for age in ages + rev_ages :\n",
    "    print('{:4d}'.format(age), end=' ')\n",
    "print()\n",
    "for age in ages * 2 :\n",
    "    print('{:4d}'.format(age), end=' ')"
   ]
  },
  {
   "cell_type": "markdown",
   "id": "cb8549ff",
   "metadata": {},
   "source": [
    "데이터프레임도 시리즈와 마찬가지로 브로드캐스팅"
   ]
  },
  {
   "cell_type": "code",
   "execution_count": 33,
   "id": "2062bd8d",
   "metadata": {},
   "outputs": [
    {
     "data": {
      "text/html": [
       "<div>\n",
       "<style scoped>\n",
       "    .dataframe tbody tr th:only-of-type {\n",
       "        vertical-align: middle;\n",
       "    }\n",
       "\n",
       "    .dataframe tbody tr th {\n",
       "        vertical-align: top;\n",
       "    }\n",
       "\n",
       "    .dataframe thead th {\n",
       "        text-align: right;\n",
       "    }\n",
       "</style>\n",
       "<table border=\"1\" class=\"dataframe\">\n",
       "  <thead>\n",
       "    <tr style=\"text-align: right;\">\n",
       "      <th></th>\n",
       "      <th>Name</th>\n",
       "      <th>Born</th>\n",
       "      <th>Died</th>\n",
       "      <th>Age</th>\n",
       "      <th>Occupation</th>\n",
       "    </tr>\n",
       "  </thead>\n",
       "  <tbody>\n",
       "    <tr>\n",
       "      <th>1</th>\n",
       "      <td>William Gosset</td>\n",
       "      <td>1876-06-13</td>\n",
       "      <td>1937-10-16</td>\n",
       "      <td>61</td>\n",
       "      <td>Statistician</td>\n",
       "    </tr>\n",
       "    <tr>\n",
       "      <th>2</th>\n",
       "      <td>Florence Nightingale</td>\n",
       "      <td>1820-05-12</td>\n",
       "      <td>1910-08-13</td>\n",
       "      <td>90</td>\n",
       "      <td>Nurse</td>\n",
       "    </tr>\n",
       "    <tr>\n",
       "      <th>3</th>\n",
       "      <td>Marie Curie</td>\n",
       "      <td>1867-11-07</td>\n",
       "      <td>1934-07-04</td>\n",
       "      <td>66</td>\n",
       "      <td>Chemist</td>\n",
       "    </tr>\n",
       "    <tr>\n",
       "      <th>7</th>\n",
       "      <td>Johann Gauss</td>\n",
       "      <td>1777-04-30</td>\n",
       "      <td>1855-02-23</td>\n",
       "      <td>77</td>\n",
       "      <td>Mathematician</td>\n",
       "    </tr>\n",
       "  </tbody>\n",
       "</table>\n",
       "</div>"
      ],
      "text/plain": [
       "                   Name        Born        Died  Age     Occupation\n",
       "1        William Gosset  1876-06-13  1937-10-16   61   Statistician\n",
       "2  Florence Nightingale  1820-05-12  1910-08-13   90          Nurse\n",
       "3           Marie Curie  1867-11-07  1934-07-04   66        Chemist\n",
       "7          Johann Gauss  1777-04-30  1855-02-23   77  Mathematician"
      ]
     },
     "execution_count": 33,
     "metadata": {},
     "output_type": "execute_result"
    }
   ],
   "source": [
    "scientists[scientists.Age > scientists.Age.mean()]"
   ]
  },
  {
   "cell_type": "markdown",
   "id": "8bfa3366",
   "metadata": {},
   "source": [
    "시리즈에 스칼라 연산을 적용할 때 모든 요소에 스칼라 연산이 실행되는 것 처럼 데이터프레임도 마찬가지로 데이터프레임에 2를 곱하면 숫자 데이터는 2를 곱한 숫자가 되고 문자열 데이터는 2회 반복된다.\n"
   ]
  },
  {
   "cell_type": "code",
   "execution_count": 36,
   "id": "6ecb8b03",
   "metadata": {},
   "outputs": [
    {
     "data": {
      "text/html": [
       "<div>\n",
       "<style scoped>\n",
       "    .dataframe tbody tr th:only-of-type {\n",
       "        vertical-align: middle;\n",
       "    }\n",
       "\n",
       "    .dataframe tbody tr th {\n",
       "        vertical-align: top;\n",
       "    }\n",
       "\n",
       "    .dataframe thead th {\n",
       "        text-align: right;\n",
       "    }\n",
       "</style>\n",
       "<table border=\"1\" class=\"dataframe\">\n",
       "  <thead>\n",
       "    <tr style=\"text-align: right;\">\n",
       "      <th></th>\n",
       "      <th>Name</th>\n",
       "      <th>Born</th>\n",
       "      <th>Died</th>\n",
       "      <th>Age</th>\n",
       "      <th>Occupation</th>\n",
       "    </tr>\n",
       "  </thead>\n",
       "  <tbody>\n",
       "    <tr>\n",
       "      <th>0</th>\n",
       "      <td>Rosaline FranklinRosaline Franklin</td>\n",
       "      <td>1920-07-251920-07-25</td>\n",
       "      <td>1958-04-161958-04-16</td>\n",
       "      <td>74</td>\n",
       "      <td>ChemistChemist</td>\n",
       "    </tr>\n",
       "    <tr>\n",
       "      <th>1</th>\n",
       "      <td>William GossetWilliam Gosset</td>\n",
       "      <td>1876-06-131876-06-13</td>\n",
       "      <td>1937-10-161937-10-16</td>\n",
       "      <td>122</td>\n",
       "      <td>StatisticianStatistician</td>\n",
       "    </tr>\n",
       "    <tr>\n",
       "      <th>2</th>\n",
       "      <td>Florence NightingaleFlorence Nightingale</td>\n",
       "      <td>1820-05-121820-05-12</td>\n",
       "      <td>1910-08-131910-08-13</td>\n",
       "      <td>180</td>\n",
       "      <td>NurseNurse</td>\n",
       "    </tr>\n",
       "    <tr>\n",
       "      <th>3</th>\n",
       "      <td>Marie CurieMarie Curie</td>\n",
       "      <td>1867-11-071867-11-07</td>\n",
       "      <td>1934-07-041934-07-04</td>\n",
       "      <td>132</td>\n",
       "      <td>ChemistChemist</td>\n",
       "    </tr>\n",
       "    <tr>\n",
       "      <th>4</th>\n",
       "      <td>Rachel CarsonRachel Carson</td>\n",
       "      <td>1907-05-271907-05-27</td>\n",
       "      <td>1964-04-141964-04-14</td>\n",
       "      <td>112</td>\n",
       "      <td>BiologistBiologist</td>\n",
       "    </tr>\n",
       "    <tr>\n",
       "      <th>5</th>\n",
       "      <td>John SnowJohn Snow</td>\n",
       "      <td>1813-03-151813-03-15</td>\n",
       "      <td>1858-06-161858-06-16</td>\n",
       "      <td>90</td>\n",
       "      <td>PhysicianPhysician</td>\n",
       "    </tr>\n",
       "    <tr>\n",
       "      <th>6</th>\n",
       "      <td>Alan TuringAlan Turing</td>\n",
       "      <td>1912-06-231912-06-23</td>\n",
       "      <td>1954-06-071954-06-07</td>\n",
       "      <td>82</td>\n",
       "      <td>Computer ScientistComputer Scientist</td>\n",
       "    </tr>\n",
       "    <tr>\n",
       "      <th>7</th>\n",
       "      <td>Johann GaussJohann Gauss</td>\n",
       "      <td>1777-04-301777-04-30</td>\n",
       "      <td>1855-02-231855-02-23</td>\n",
       "      <td>154</td>\n",
       "      <td>MathematicianMathematician</td>\n",
       "    </tr>\n",
       "  </tbody>\n",
       "</table>\n",
       "</div>"
      ],
      "text/plain": [
       "                                       Name                  Born  \\\n",
       "0        Rosaline FranklinRosaline Franklin  1920-07-251920-07-25   \n",
       "1              William GossetWilliam Gosset  1876-06-131876-06-13   \n",
       "2  Florence NightingaleFlorence Nightingale  1820-05-121820-05-12   \n",
       "3                    Marie CurieMarie Curie  1867-11-071867-11-07   \n",
       "4                Rachel CarsonRachel Carson  1907-05-271907-05-27   \n",
       "5                        John SnowJohn Snow  1813-03-151813-03-15   \n",
       "6                    Alan TuringAlan Turing  1912-06-231912-06-23   \n",
       "7                  Johann GaussJohann Gauss  1777-04-301777-04-30   \n",
       "\n",
       "                   Died  Age                            Occupation  \n",
       "0  1958-04-161958-04-16   74                        ChemistChemist  \n",
       "1  1937-10-161937-10-16  122              StatisticianStatistician  \n",
       "2  1910-08-131910-08-13  180                            NurseNurse  \n",
       "3  1934-07-041934-07-04  132                        ChemistChemist  \n",
       "4  1964-04-141964-04-14  112                    BiologistBiologist  \n",
       "5  1858-06-161858-06-16   90                    PhysicianPhysician  \n",
       "6  1954-06-071954-06-07   82  Computer ScientistComputer Scientist  \n",
       "7  1855-02-231855-02-23  154            MathematicianMathematician  "
      ]
     },
     "execution_count": 36,
     "metadata": {},
     "output_type": "execute_result"
    }
   ],
   "source": [
    "scientists * 2"
   ]
  },
  {
   "cell_type": "markdown",
   "id": "45faa3dc",
   "metadata": {},
   "source": [
    "  \n",
    "  \n",
    "  \n",
    "데이터프레임 열의 자료형 바꾸기"
   ]
  },
  {
   "cell_type": "code",
   "execution_count": 39,
   "id": "e7f7522c",
   "metadata": {},
   "outputs": [
    {
     "name": "stdout",
     "output_type": "stream",
     "text": [
      "Name          object\n",
      "Born          object\n",
      "Died          object\n",
      "Age            int64\n",
      "Occupation    object\n",
      "dtype: object\n"
     ]
    }
   ],
   "source": [
    "print(scientists.dtypes)"
   ]
  },
  {
   "cell_type": "code",
   "execution_count": 46,
   "id": "1afc46f3",
   "metadata": {
    "scrolled": true
   },
   "outputs": [
    {
     "name": "stdout",
     "output_type": "stream",
     "text": [
      "0   1920-07-25\n",
      "1   1876-06-13\n",
      "2   1820-05-12\n",
      "3   1867-11-07\n",
      "4   1907-05-27\n",
      "5   1813-03-15\n",
      "6   1912-06-23\n",
      "7   1777-04-30\n",
      "Name: Born, dtype: datetime64[ns]\n",
      "0   1958-04-16\n",
      "1   1937-10-16\n",
      "2   1910-08-13\n",
      "3   1934-07-04\n",
      "4   1964-04-14\n",
      "5   1858-06-16\n",
      "6   1954-06-07\n",
      "7   1855-02-23\n",
      "Name: Died, dtype: datetime64[ns]\n"
     ]
    }
   ],
   "source": [
    "# 날짜를 문자열 형태로 저장한 데이터는 날짜 및 시간에 관련한 작업을 할 수 있도록 to_datetime() 메소드로 object 타입을 datetime 타입으로 바꾸는 것이 좋다.\n",
    "# to_datetime(날짜 시리즈,format='날짜 서식')\n",
    "# %Y => 년도 4자리, %y => 년도 2자리, %m => 월(숫자), %B => 월(영어, 전체), $b => 월(영어, 앞3글자), $d => 일, %A => 요일(영어, 전체) \n",
    "# %a => 요일(영어, 앞 3글자), %H => 시간(24시각), tI => 시간(12시각), %M => 분, %S => 초 %p => AM/PM\n",
    "born_datatime = pd.to_datetime(scientists.Born, format='%Y-%m-%d')\n",
    "print(born_datatime)\n",
    "died_datatime = pd.to_datetime(scientists.Died)\n",
    "print(died_datatime)"
   ]
  },
  {
   "cell_type": "code",
   "execution_count": 47,
   "id": "660f3dd8",
   "metadata": {},
   "outputs": [
    {
     "name": "stdout",
     "output_type": "stream",
     "text": [
      "(8, 5)\n"
     ]
    }
   ],
   "source": [
    "# object 타입을 datetime 타입으로 변경한 born_datetime, died_datetime를 데이터프레임에 추가한다. \n",
    "print(scientists.shape)\n",
    "# "
   ]
  },
  {
   "cell_type": "code",
   "execution_count": 48,
   "id": "4636294e",
   "metadata": {},
   "outputs": [],
   "source": [
    "import random as r"
   ]
  },
  {
   "cell_type": "code",
   "execution_count": 50,
   "id": "abb6409b",
   "metadata": {
    "scrolled": true
   },
   "outputs": [
    {
     "data": {
      "text/html": [
       "<div>\n",
       "<style scoped>\n",
       "    .dataframe tbody tr th:only-of-type {\n",
       "        vertical-align: middle;\n",
       "    }\n",
       "\n",
       "    .dataframe tbody tr th {\n",
       "        vertical-align: top;\n",
       "    }\n",
       "\n",
       "    .dataframe thead th {\n",
       "        text-align: right;\n",
       "    }\n",
       "</style>\n",
       "<table border=\"1\" class=\"dataframe\">\n",
       "  <thead>\n",
       "    <tr style=\"text-align: right;\">\n",
       "      <th></th>\n",
       "      <th>Name</th>\n",
       "      <th>Born</th>\n",
       "      <th>Died</th>\n",
       "      <th>Age</th>\n",
       "      <th>Occupation</th>\n",
       "    </tr>\n",
       "  </thead>\n",
       "  <tbody>\n",
       "    <tr>\n",
       "      <th>0</th>\n",
       "      <td>Rosaline Franklin</td>\n",
       "      <td>1920-07-25</td>\n",
       "      <td>1958-04-16</td>\n",
       "      <td>41</td>\n",
       "      <td>Chemist</td>\n",
       "    </tr>\n",
       "    <tr>\n",
       "      <th>1</th>\n",
       "      <td>William Gosset</td>\n",
       "      <td>1876-06-13</td>\n",
       "      <td>1937-10-16</td>\n",
       "      <td>37</td>\n",
       "      <td>Statistician</td>\n",
       "    </tr>\n",
       "    <tr>\n",
       "      <th>2</th>\n",
       "      <td>Florence Nightingale</td>\n",
       "      <td>1820-05-12</td>\n",
       "      <td>1910-08-13</td>\n",
       "      <td>45</td>\n",
       "      <td>Nurse</td>\n",
       "    </tr>\n",
       "    <tr>\n",
       "      <th>3</th>\n",
       "      <td>Marie Curie</td>\n",
       "      <td>1867-11-07</td>\n",
       "      <td>1934-07-04</td>\n",
       "      <td>56</td>\n",
       "      <td>Chemist</td>\n",
       "    </tr>\n",
       "    <tr>\n",
       "      <th>4</th>\n",
       "      <td>Rachel Carson</td>\n",
       "      <td>1907-05-27</td>\n",
       "      <td>1964-04-14</td>\n",
       "      <td>90</td>\n",
       "      <td>Biologist</td>\n",
       "    </tr>\n",
       "    <tr>\n",
       "      <th>5</th>\n",
       "      <td>John Snow</td>\n",
       "      <td>1813-03-15</td>\n",
       "      <td>1858-06-16</td>\n",
       "      <td>61</td>\n",
       "      <td>Physician</td>\n",
       "    </tr>\n",
       "    <tr>\n",
       "      <th>6</th>\n",
       "      <td>Alan Turing</td>\n",
       "      <td>1912-06-23</td>\n",
       "      <td>1954-06-07</td>\n",
       "      <td>77</td>\n",
       "      <td>Computer Scientist</td>\n",
       "    </tr>\n",
       "    <tr>\n",
       "      <th>7</th>\n",
       "      <td>Johann Gauss</td>\n",
       "      <td>1777-04-30</td>\n",
       "      <td>1855-02-23</td>\n",
       "      <td>66</td>\n",
       "      <td>Mathematician</td>\n",
       "    </tr>\n",
       "  </tbody>\n",
       "</table>\n",
       "</div>"
      ],
      "text/plain": [
       "                   Name        Born        Died  Age          Occupation\n",
       "0     Rosaline Franklin  1920-07-25  1958-04-16   41             Chemist\n",
       "1        William Gosset  1876-06-13  1937-10-16   37        Statistician\n",
       "2  Florence Nightingale  1820-05-12  1910-08-13   45               Nurse\n",
       "3           Marie Curie  1867-11-07  1934-07-04   56             Chemist\n",
       "4         Rachel Carson  1907-05-27  1964-04-14   90           Biologist\n",
       "5             John Snow  1813-03-15  1858-06-16   61           Physician\n",
       "6           Alan Turing  1912-06-23  1954-06-07   77  Computer Scientist\n",
       "7          Johann Gauss  1777-04-30  1855-02-23   66       Mathematician"
      ]
     },
     "execution_count": 50,
     "metadata": {},
     "output_type": "execute_result"
    }
   ],
   "source": [
    "# 파이썬 random 모듈의 shuffle() 메소드는 데이터를 무작위로 섞어준다.\n",
    "r.shuffle(scientists.Age) # scientists 데이터 프레임의 Age 열만 섞는다. \n",
    "scientists"
   ]
  },
  {
   "cell_type": "markdown",
   "id": "6c1aa95f",
   "metadata": {},
   "source": [
    "시리즈나 데이터프레임을 피클(pickle), csv, tsv 파일로 저장하고 불러오기\n",
    "\n",
    "피클은 데이터를 바이너리(2진) 형태로 직렬화한 객체로 저장하는 방법으로 데이터를 오래 보관할 수 있다는 뜻으로 피클이라 이름이 붙여졋다.  \n",
    "피클로 저장하면 스프레드시트 보다 더 작은 용량으로 데이터를 저장할 수 있다."
   ]
  },
  {
   "cell_type": "code",
   "execution_count": 54,
   "id": "7dc25560",
   "metadata": {},
   "outputs": [
    {
     "name": "stdout",
     "output_type": "stream",
     "text": [
      "<class 'pandas.core.series.Series'>\n",
      "0       Rosaline Franklin\n",
      "1          William Gosset\n",
      "2    Florence Nightingale\n",
      "3             Marie Curie\n",
      "4           Rachel Carson\n",
      "5               John Snow\n",
      "6             Alan Turing\n",
      "7            Johann Gauss\n",
      "Name: Name, dtype: object\n"
     ]
    }
   ],
   "source": [
    "names = scientists.Name\n",
    "print(type(names))\n",
    "print(names)\n",
    "\n",
    "# 시리즈나 데이터프레임을 피클로 저장하려면 to_pickle() 메소드를 사용한다. \n",
    "names.to_pickle('./output/scientists_name_serise.pickle')"
   ]
  },
  {
   "cell_type": "code",
   "execution_count": 55,
   "id": "0753a053",
   "metadata": {},
   "outputs": [],
   "source": [
    "# 데이터프레임도 피클 파일로 저장할 수 있다. \n",
    "scientists.to_pickle('./output/scientists_df.pickle')"
   ]
  },
  {
   "cell_type": "markdown",
   "id": "b4c87baf",
   "metadata": {},
   "source": [
    "시리즈를 피클 파일로 저장하기"
   ]
  },
  {
   "cell_type": "code",
   "execution_count": 56,
   "id": "caaf2a8d",
   "metadata": {},
   "outputs": [
    {
     "name": "stdout",
     "output_type": "stream",
     "text": [
      "0       Rosaline Franklin\n",
      "1          William Gosset\n",
      "2    Florence Nightingale\n",
      "3             Marie Curie\n",
      "4           Rachel Carson\n",
      "5               John Snow\n",
      "6             Alan Turing\n",
      "7            Johann Gauss\n",
      "Name: Name, dtype: object\n"
     ]
    }
   ],
   "source": [
    "# 피클 파일을 읽어오려면 read_pcikle() 메소드를 사용한다. \n",
    "print(pd.read_pickle('./output/scientists_name_serise.pickle'))\n",
    "print(pd.read_pickle('./output/scientists_df.pickle'))"
   ]
  },
  {
   "cell_type": "code",
   "execution_count": null,
   "id": "942dc105",
   "metadata": {},
   "outputs": [],
   "source": []
  },
  {
   "cell_type": "code",
   "execution_count": null,
   "id": "35cee2ad",
   "metadata": {},
   "outputs": [],
   "source": []
  },
  {
   "cell_type": "code",
   "execution_count": null,
   "id": "9b41d271",
   "metadata": {},
   "outputs": [],
   "source": []
  },
  {
   "cell_type": "code",
   "execution_count": null,
   "id": "c7d193e6",
   "metadata": {},
   "outputs": [],
   "source": []
  }
 ],
 "metadata": {
  "kernelspec": {
   "display_name": "Python 3 (ipykernel)",
   "language": "python",
   "name": "python3"
  },
  "language_info": {
   "codemirror_mode": {
    "name": "ipython",
    "version": 3
   },
   "file_extension": ".py",
   "mimetype": "text/x-python",
   "name": "python",
   "nbconvert_exporter": "python",
   "pygments_lexer": "ipython3",
   "version": "3.8.6"
  }
 },
 "nbformat": 4,
 "nbformat_minor": 5
}
