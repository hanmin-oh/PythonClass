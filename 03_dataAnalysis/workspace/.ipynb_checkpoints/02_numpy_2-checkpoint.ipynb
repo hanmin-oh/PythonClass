{
 "cells": [
  {
   "cell_type": "code",
   "execution_count": 2,
   "id": "bd0d6ca4",
   "metadata": {},
   "outputs": [],
   "source": [
    "import warnings\n",
    "warnings.filterwarnings(action='ignore')\n",
    "%config Computer.use_jedi = False\n",
    "import numpy as np\n",
    "\n",
    "def pprint(arr):\n",
    "    print('type: {}'.format(type(arr)))\n",
    "    print('shpqe  {}, dimension: {}, dtype: {}'.format(arr.shape , arr.ndim, arr.dtype))\n",
    "    print('numpy 배열의 데이터\\n', arr, sep='')"
   ]
  },
  {
   "cell_type": "markdown",
   "id": "04a65e37",
   "metadata": {},
   "source": [
    "numpy 파일 입출력  \n",
    "\n",
    "numpy는 배열 객체를 바이너리(2진)파일 또는 텍스프 파일에 저장하고 로딩하는 기능을 제공한다."
   ]
  },
  {
   "cell_type": "code",
   "execution_count": null,
   "id": "2c0128a6",
   "metadata": {},
   "outputs": [],
   "source": []
  }
 ],
 "metadata": {
  "kernelspec": {
   "display_name": "Python 3 (ipykernel)",
   "language": "python",
   "name": "python3"
  },
  "language_info": {
   "codemirror_mode": {
    "name": "ipython",
    "version": 3
   },
   "file_extension": ".py",
   "mimetype": "text/x-python",
   "name": "python",
   "nbconvert_exporter": "python",
   "pygments_lexer": "ipython3",
   "version": "3.8.6"
  }
 },
 "nbformat": 4,
 "nbformat_minor": 5
}
