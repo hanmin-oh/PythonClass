{
 "cells": [
  {
   "cell_type": "code",
   "execution_count": 1,
   "id": "d6b205e1",
   "metadata": {},
   "outputs": [],
   "source": [
    "import warnings\n",
    "warnings.filterwarnings(action='ignore')\n",
    "%config Computer.use_jedi = False\n",
    "import numpy as np\n",
    "import pandas as pd\n",
    "import matplotlib.pyplot as plt\n",
    "import matplotlib as mpl\n",
    "import seaborn as sns\n",
    "import missingno as msno\n",
    "plt.rc('font', family='D2Coding')\n",
    "from plotnine import *"
   ]
  },
  {
   "cell_type": "code",
   "execution_count": 7,
   "id": "8d3e83b3",
   "metadata": {
    "scrolled": true
   },
   "outputs": [
    {
     "data": {
      "text/html": [
       "<div>\n",
       "<style scoped>\n",
       "    .dataframe tbody tr th:only-of-type {\n",
       "        vertical-align: middle;\n",
       "    }\n",
       "\n",
       "    .dataframe tbody tr th {\n",
       "        vertical-align: top;\n",
       "    }\n",
       "\n",
       "    .dataframe thead th {\n",
       "        text-align: right;\n",
       "    }\n",
       "</style>\n",
       "<table border=\"1\" class=\"dataframe\">\n",
       "  <thead>\n",
       "    <tr style=\"text-align: right;\">\n",
       "      <th></th>\n",
       "      <th>접수년도</th>\n",
       "      <th>자치구코드</th>\n",
       "      <th>자치구명</th>\n",
       "      <th>법정동코드</th>\n",
       "      <th>법정동명</th>\n",
       "      <th>지번구분코드</th>\n",
       "      <th>지번구분</th>\n",
       "      <th>본번</th>\n",
       "      <th>부번</th>\n",
       "      <th>층</th>\n",
       "      <th>...</th>\n",
       "      <th>보증금(만원)</th>\n",
       "      <th>임대료(만원)</th>\n",
       "      <th>건물명</th>\n",
       "      <th>건축년도</th>\n",
       "      <th>건물용도</th>\n",
       "      <th>계약기간</th>\n",
       "      <th>신규계약구분</th>\n",
       "      <th>갱신청구권사용</th>\n",
       "      <th>종전보증금</th>\n",
       "      <th>종전임대료</th>\n",
       "    </tr>\n",
       "  </thead>\n",
       "  <tbody>\n",
       "    <tr>\n",
       "      <th>0</th>\n",
       "      <td>2022</td>\n",
       "      <td>11560</td>\n",
       "      <td>영등포구</td>\n",
       "      <td>12600</td>\n",
       "      <td>양평동2가</td>\n",
       "      <td>1.0</td>\n",
       "      <td>대지</td>\n",
       "      <td>1.0</td>\n",
       "      <td>3.0</td>\n",
       "      <td>6.0</td>\n",
       "      <td>...</td>\n",
       "      <td>16000</td>\n",
       "      <td>0</td>\n",
       "      <td>힘멜하임</td>\n",
       "      <td>2014.0</td>\n",
       "      <td>오피스텔</td>\n",
       "      <td>22.01~24.01</td>\n",
       "      <td>신규</td>\n",
       "      <td>NaN</td>\n",
       "      <td>0.0</td>\n",
       "      <td>NaN</td>\n",
       "    </tr>\n",
       "    <tr>\n",
       "      <th>1</th>\n",
       "      <td>2022</td>\n",
       "      <td>11560</td>\n",
       "      <td>영등포구</td>\n",
       "      <td>11800</td>\n",
       "      <td>도림동</td>\n",
       "      <td>NaN</td>\n",
       "      <td>NaN</td>\n",
       "      <td>NaN</td>\n",
       "      <td>NaN</td>\n",
       "      <td>NaN</td>\n",
       "      <td>...</td>\n",
       "      <td>300</td>\n",
       "      <td>30</td>\n",
       "      <td>NaN</td>\n",
       "      <td>1986.0</td>\n",
       "      <td>단독다가구</td>\n",
       "      <td>NaN</td>\n",
       "      <td>NaN</td>\n",
       "      <td>NaN</td>\n",
       "      <td>NaN</td>\n",
       "      <td>NaN</td>\n",
       "    </tr>\n",
       "    <tr>\n",
       "      <th>2</th>\n",
       "      <td>2022</td>\n",
       "      <td>11215</td>\n",
       "      <td>광진구</td>\n",
       "      <td>10700</td>\n",
       "      <td>화양동</td>\n",
       "      <td>1.0</td>\n",
       "      <td>대지</td>\n",
       "      <td>111.0</td>\n",
       "      <td>12.0</td>\n",
       "      <td>19.0</td>\n",
       "      <td>...</td>\n",
       "      <td>10000</td>\n",
       "      <td>135</td>\n",
       "      <td>NaN</td>\n",
       "      <td>2021.0</td>\n",
       "      <td>오피스텔</td>\n",
       "      <td>22.01~24.01</td>\n",
       "      <td>신규</td>\n",
       "      <td>NaN</td>\n",
       "      <td>0.0</td>\n",
       "      <td>0.0</td>\n",
       "    </tr>\n",
       "    <tr>\n",
       "      <th>3</th>\n",
       "      <td>2022</td>\n",
       "      <td>11620</td>\n",
       "      <td>관악구</td>\n",
       "      <td>10100</td>\n",
       "      <td>봉천동</td>\n",
       "      <td>NaN</td>\n",
       "      <td>NaN</td>\n",
       "      <td>NaN</td>\n",
       "      <td>NaN</td>\n",
       "      <td>NaN</td>\n",
       "      <td>...</td>\n",
       "      <td>4000</td>\n",
       "      <td>40</td>\n",
       "      <td>NaN</td>\n",
       "      <td>2019.0</td>\n",
       "      <td>단독다가구</td>\n",
       "      <td>22.02~23.02</td>\n",
       "      <td>신규</td>\n",
       "      <td>NaN</td>\n",
       "      <td>0.0</td>\n",
       "      <td>0.0</td>\n",
       "    </tr>\n",
       "    <tr>\n",
       "      <th>4</th>\n",
       "      <td>2022</td>\n",
       "      <td>11620</td>\n",
       "      <td>관악구</td>\n",
       "      <td>10100</td>\n",
       "      <td>봉천동</td>\n",
       "      <td>NaN</td>\n",
       "      <td>NaN</td>\n",
       "      <td>NaN</td>\n",
       "      <td>NaN</td>\n",
       "      <td>NaN</td>\n",
       "      <td>...</td>\n",
       "      <td>13000</td>\n",
       "      <td>0</td>\n",
       "      <td>NaN</td>\n",
       "      <td>2019.0</td>\n",
       "      <td>단독다가구</td>\n",
       "      <td>22.01~24.01</td>\n",
       "      <td>신규</td>\n",
       "      <td>NaN</td>\n",
       "      <td>0.0</td>\n",
       "      <td>NaN</td>\n",
       "    </tr>\n",
       "  </tbody>\n",
       "</table>\n",
       "<p>5 rows × 23 columns</p>\n",
       "</div>"
      ],
      "text/plain": [
       "   접수년도  자치구코드  자치구명  법정동코드   법정동명  지번구분코드 지번구분     본번    부번     층  ...  \\\n",
       "0  2022  11560  영등포구  12600  양평동2가     1.0   대지    1.0   3.0   6.0  ...   \n",
       "1  2022  11560  영등포구  11800    도림동     NaN  NaN    NaN   NaN   NaN  ...   \n",
       "2  2022  11215   광진구  10700    화양동     1.0   대지  111.0  12.0  19.0  ...   \n",
       "3  2022  11620   관악구  10100    봉천동     NaN  NaN    NaN   NaN   NaN  ...   \n",
       "4  2022  11620   관악구  10100    봉천동     NaN  NaN    NaN   NaN   NaN  ...   \n",
       "\n",
       "   보증금(만원) 임대료(만원)   건물명    건축년도   건물용도         계약기간  신규계약구분 갱신청구권사용 종전보증금  \\\n",
       "0    16000       0  힘멜하임  2014.0   오피스텔  22.01~24.01      신규     NaN   0.0   \n",
       "1      300      30   NaN  1986.0  단독다가구          NaN     NaN     NaN   NaN   \n",
       "2    10000     135   NaN  2021.0   오피스텔  22.01~24.01      신규     NaN   0.0   \n",
       "3     4000      40   NaN  2019.0  단독다가구  22.02~23.02      신규     NaN   0.0   \n",
       "4    13000       0   NaN  2019.0  단독다가구  22.01~24.01      신규     NaN   0.0   \n",
       "\n",
       "  종전임대료  \n",
       "0   NaN  \n",
       "1   NaN  \n",
       "2   0.0  \n",
       "3   0.0  \n",
       "4   NaN  \n",
       "\n",
       "[5 rows x 23 columns]"
      ]
     },
     "execution_count": 7,
     "metadata": {},
     "output_type": "execute_result"
    }
   ],
   "source": [
    "house = pd.read_csv('./data/서울특별시_전월세가_2022.csv')\n",
    "house.head()"
   ]
  },
  {
   "cell_type": "code",
   "execution_count": 8,
   "id": "230a36c1",
   "metadata": {
    "scrolled": false
   },
   "outputs": [
    {
     "data": {
      "text/plain": [
       "Index(['접수년도', '자치구코드', '자치구명', '법정동코드', '법정동명', '지번구분코드', '지번구분', '본번', '부번',\n",
       "       '층', '계약일', '전월세구분', '임대면적', '보증금(만원)', '임대료(만원)', '건물명', '건축년도',\n",
       "       '건물용도', '계약기간', '신규계약구분', '갱신청구권사용', '종전보증금', '종전임대료'],\n",
       "      dtype='object')"
      ]
     },
     "execution_count": 8,
     "metadata": {},
     "output_type": "execute_result"
    }
   ],
   "source": [
    "house.columns"
   ]
  },
  {
   "cell_type": "code",
   "execution_count": 9,
   "id": "665ded9c",
   "metadata": {},
   "outputs": [
    {
     "data": {
      "text/plain": [
       "Index(['접수년도', '자치구코드', '자치구명', '법정동코드', '법정동명', '계약일', '전월세구분', '임대면적',\n",
       "       '보증금(만원)', '임대료(만원)', '건물명'],\n",
       "      dtype='object')"
      ]
     },
     "execution_count": 9,
     "metadata": {},
     "output_type": "execute_result"
    }
   ],
   "source": [
    "house.drop(['지번구분코드', '지번구분', '본번', '부번','층', '건축년도', '건물용도', '계약기간', '신규계약구분',\n",
    "       '갱신청구권사용', '종전보증금', '종전임대료'] ,axis=1, inplace=True)\n",
    "house.columns"
   ]
  },
  {
   "cell_type": "code",
   "execution_count": 10,
   "id": "f824ff20",
   "metadata": {},
   "outputs": [
    {
     "data": {
      "image/png": "[encoded data removed]",
      "text/plain": [
       "<Figure size 3000x1200 with 2 Axes>"
      ]
     },
     "metadata": {},
     "output_type": "display_data"
    }
   ],
   "source": [
    "msno.matrix(house , figsize=(30, 12))\n",
    "plt.show()"
   ]
  },
  {
   "cell_type": "code",
   "execution_count": null,
   "id": "94b48bd3",
   "metadata": {},
   "outputs": [],
   "source": [
    "value_columns = ['상호명', '지점명', '상권업종대분류명', '상권업종중분류명',  '상권업종소분류명',  '시도명','시군구명', '행정동명','법정동명', '지번주소', \n",
    "                 '도로명주소',  '경도', '위도']\n",
    "house_col = house[value_columns]\n",
    "house_col"
   ]
  },
  {
   "cell_type": "code",
   "execution_count": null,
   "id": "3cc7fa57",
   "metadata": {},
   "outputs": [],
   "source": [
    "del house"
   ]
  },
  {
   "cell_type": "code",
   "execution_count": null,
   "id": "01065aa8",
   "metadata": {},
   "outputs": [],
   "source": [
    "house_col.isnull().sum()"
   ]
  },
  {
   "cell_type": "markdown",
   "id": "55f5fd6d",
   "metadata": {},
   "source": [
    "# 데이터프레임에서 서울 데이터만 추출한다."
   ]
  },
  {
   "cell_type": "code",
   "execution_count": null,
   "id": "1197eab3",
   "metadata": {},
   "outputs": [],
   "source": [
    "# 서울만 시각화해보면 서울 지도하고 비슷하게 나온다. \n",
    "(\n",
    "    ggplot(house_col, aes(x='경도', y='위도'))\n",
    "        + geom_point(size=0.2, alpha=0.2)\n",
    "        + theme(text=element_text(family='D2Coding') , figure_size=(10,7))\n",
    ")"
   ]
  },
  {
   "cell_type": "markdown",
   "id": "5e258283",
   "metadata": {},
   "source": [
    "# 데이터프레임의 도로명주소 열을 활용해서 '시도', '구군', '도로명' 열을 만든다."
   ]
  },
  {
   "cell_type": "code",
   "execution_count": null,
   "id": "1488bf1f",
   "metadata": {},
   "outputs": [],
   "source": [
    "# split() 메소드에 expend=True 옵션을 지정해서 공백을 경계로 문자열을 서로 다른 열(데이터프레임)로 구분해서 '시도''구군''도로명 열을 만든다.\n",
    "print(type(house_col[:1].도로명주소.str)) #Series에는 split속성이 없다. - 스트링으로 형변환\n",
    "print(type(house_col[:1].도로명주소.str.split(' '))) # 다시 시리즈로 변환\n",
    "print('-' * 80)\n",
    "print(type(house_col[:1].도로명주소.str.split(' ' , expand=True))) # 데이터프레임으로 속성 변환\n",
    "print(house_col[:1].도로명주소.str.split(' ' , expand=True)[0]) # 데이터프레임의 열 이름을 추가\n",
    "print(house_col[:1].도로명주소.str.split(' ' , expand=True)[1])\n",
    "print(house_col[:1].도로명주소.str.split(' ' , expand=True)[2])"
   ]
  },
  {
   "cell_type": "code",
   "execution_count": null,
   "id": "f88f48ba",
   "metadata": {},
   "outputs": [],
   "source": [
    "house_col['시도'] = house_col.도로명주소.str.split(' ' , expand=True)[0]\n",
    "house_col['구군'] = house_col.도로명주소.str.split(' ' , expand=True)[1]\n",
    "house_col['도로명'] = house_col.도로명주소.str.split(' ' , expand=True)[2]\n",
    "house_col"
   ]
  },
  {
   "cell_type": "code",
   "execution_count": null,
   "id": "236048cb",
   "metadata": {},
   "outputs": [],
   "source": [
    "(\n",
    "    ggplot(house_col, aes(x='경도', y='위도', color='구군'))\n",
    "        + geom_point(size=0.2, alpha=0.2)\n",
    "        + theme(text=element_text(family='D2Coding') , figure_size=(10,7))\n",
    ")"
   ]
  },
  {
   "cell_type": "code",
   "execution_count": null,
   "id": "20e1e726",
   "metadata": {},
   "outputs": [],
   "source": [
    "plt.figure(figsize=(16,12))\n",
    "sns.scatterplot(data=house_col, x = '경도', y = '위도', hue='구군')\n",
    "plt.show()"
   ]
  },
  {
   "cell_type": "code",
   "execution_count": null,
   "id": "b009c6f9",
   "metadata": {
    "scrolled": false
   },
   "outputs": [],
   "source": [
    "plt.figure(figsize=(16,12))\n",
    "sns.scatterplot(data=house_col, x = '경도', y = '위도', hue='상권업종대분류명')\n",
    "plt.show()"
   ]
  },
  {
   "cell_type": "code",
   "execution_count": null,
   "id": "496f7c1d",
   "metadata": {},
   "outputs": [],
   "source": [
    "house_col = house_col[house_col.상권업종대분류명 == '교육']\n",
    "house_col"
   ]
  },
  {
   "cell_type": "code",
   "execution_count": null,
   "id": "520932b1",
   "metadata": {},
   "outputs": [],
   "source": [
    "plt.figure(figsize=(16,12))\n",
    "sns.scatterplot(data=house_col, x = '경도', y = '위도', hue='상권업종중분류명', s=15)\n",
    "plt.show()"
   ]
  },
  {
   "cell_type": "markdown",
   "id": "73e3135c",
   "metadata": {},
   "source": [
    "# 입시 학원"
   ]
  },
  {
   "cell_type": "code",
   "execution_count": null,
   "id": "63c1c95c",
   "metadata": {},
   "outputs": [],
   "source": [
    "house_col_edu = house_col[house_col.상권업종소분류명 == '입시·교과학원']\n",
    "house_col_edu"
   ]
  },
  {
   "cell_type": "code",
   "execution_count": null,
   "id": "d8087484",
   "metadata": {},
   "outputs": [],
   "source": [
    "plt.figure(figsize=(16,12))\n",
    "sns.scatterplot(data=house_col_edu, x = '경도', y = '위도', hue='구군', s=15)\n",
    "plt.show()"
   ]
  },
  {
   "cell_type": "code",
   "execution_count": null,
   "id": "19673d51",
   "metadata": {},
   "outputs": [],
   "source": []
  },
  {
   "cell_type": "code",
   "execution_count": null,
   "id": "3ddfa5eb",
   "metadata": {},
   "outputs": [],
   "source": []
  },
  {
   "cell_type": "code",
   "execution_count": null,
   "id": "dfe98723",
   "metadata": {},
   "outputs": [],
   "source": []
  },
  {
   "cell_type": "code",
   "execution_count": null,
   "id": "ec4c8d7f",
   "metadata": {},
   "outputs": [],
   "source": []
  },
  {
   "cell_type": "code",
   "execution_count": null,
   "id": "c5e61c8a",
   "metadata": {},
   "outputs": [],
   "source": []
  },
  {
   "cell_type": "code",
   "execution_count": null,
   "id": "504e3fb9",
   "metadata": {},
   "outputs": [],
   "source": []
  },
  {
   "cell_type": "code",
   "execution_count": null,
   "id": "8ac17dbd",
   "metadata": {},
   "outputs": [],
   "source": []
  },
  {
   "cell_type": "code",
   "execution_count": null,
   "id": "666a1551",
   "metadata": {},
   "outputs": [],
   "source": []
  },
  {
   "cell_type": "code",
   "execution_count": null,
   "id": "8dabed56",
   "metadata": {},
   "outputs": [],
   "source": []
  },
  {
   "cell_type": "code",
   "execution_count": null,
   "id": "cd9648e5",
   "metadata": {},
   "outputs": [],
   "source": []
  },
  {
   "cell_type": "code",
   "execution_count": null,
   "id": "1d1361b8",
   "metadata": {},
   "outputs": [],
   "source": []
  },
  {
   "cell_type": "code",
   "execution_count": null,
   "id": "56faaf4a",
   "metadata": {},
   "outputs": [],
   "source": []
  }
 ],
 "metadata": {
  "kernelspec": {
   "display_name": "Python 3 (ipykernel)",
   "language": "python",
   "name": "python3"
  },
  "language_info": {
   "codemirror_mode": {
    "name": "ipython",
    "version": 3
   },
   "file_extension": ".py",
   "mimetype": "text/x-python",
   "name": "python",
   "nbconvert_exporter": "python",
   "pygments_lexer": "ipython3",
   "version": "3.8.6"
  }
 },
 "nbformat": 4,
 "nbformat_minor": 5
}
