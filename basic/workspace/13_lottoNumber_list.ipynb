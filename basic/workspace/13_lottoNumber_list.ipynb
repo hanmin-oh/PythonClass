{
 "cells": [
  {
   "cell_type": "code",
   "execution_count": 2,
   "id": "3fc21d2f",
   "metadata": {
    "ExecuteTime": {
     "start_time": "2023-07-17T17:12:22.205759Z",
     "end_time": "2023-07-17T17:12:22.222024Z"
    }
   },
   "outputs": [],
   "source": [
    "import random"
   ]
  },
  {
   "cell_type": "code",
   "execution_count": 3,
   "id": "39ce7aed",
   "metadata": {
    "ExecuteTime": {
     "start_time": "2023-07-17T17:12:24.306049Z",
     "end_time": "2023-07-17T17:12:24.369796Z"
    }
   },
   "outputs": [
    {
     "name": "stdout",
     "output_type": "stream",
     "text": [
      "1등 번호 : [10, 31, 43, 28, 21, 44]\n",
      "22\n",
      "1등 번호 : [10, 31, 43, 28, 21, 44] , 보너스 번호 : 22\n"
     ]
    }
   ],
   "source": [
    "# 로또 1등 번호를 기억할 빈 리스트를 만든다.\n",
    "lotto = list()\n",
    "# 1등 번호\n",
    "while True :\n",
    "    # 1 ~ 45 사이의 난수를 발생시킨다. \n",
    "    number = random.randint(1, 45)\n",
    "    if number not in lotto:\n",
    "        lotto.append(number)\n",
    "    # if =====\n",
    "    # 리스트에 중복되지 않는 숫자가 6개 저장되면 무한 루프를 탈출시킨다.\n",
    "    if len(lotto) == 6 :\n",
    "        break\n",
    "    # if ====\n",
    "# while =====\n",
    "\n",
    "\n",
    "print('1등 번호 : {}'.format(lotto))    \n",
    "# 보너스 번호\n",
    "while True : \n",
    "    bonus = random.randint(1, 45)\n",
    "    print(bonus)\n",
    "    if bonus not in lotto :\n",
    "        break\n",
    "print('1등 번호 : {} , 보너스 번호 : {}'.format(lotto, bonus)) \n"
   ]
  },
  {
   "cell_type": "code",
   "execution_count": null,
   "id": "1384e1be",
   "metadata": {},
   "outputs": [],
   "source": []
  },
  {
   "cell_type": "code",
   "execution_count": null,
   "id": "ae484849",
   "metadata": {},
   "outputs": [],
   "source": []
  },
  {
   "cell_type": "code",
   "execution_count": null,
   "id": "1fddee76",
   "metadata": {},
   "outputs": [],
   "source": []
  }
 ],
 "metadata": {
  "kernelspec": {
   "display_name": "Python 3 (ipykernel)",
   "language": "python",
   "name": "python3"
  },
  "language_info": {
   "codemirror_mode": {
    "name": "ipython",
    "version": 3
   },
   "file_extension": ".py",
   "mimetype": "text/x-python",
   "name": "python",
   "nbconvert_exporter": "python",
   "pygments_lexer": "ipython3",
   "version": "3.8.6"
  }
 },
 "nbformat": 4,
 "nbformat_minor": 5
}
