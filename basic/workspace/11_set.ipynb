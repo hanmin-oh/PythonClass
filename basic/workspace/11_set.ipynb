{
 "cells": [
  {
   "cell_type": "markdown",
   "id": "db282ea0",
   "metadata": {},
   "source": [
    "### set 만들기\n",
    "\n",
    "set은 수학의 집합과 비슷한 형태로 중복되는 데이터의 입력을 허용하지 않고 입력하는 데이터의 순서와 실제로 저장되는 데이터의 순서가 달라서 인덱싱과 슬라이싱을 사용할 수 없다.  \n",
    "딕녀서리처럼 {}를 사용해서 데이터를 감싸주지만 key가 존재하지 않고 value들만 존재한다."
   ]
  },
  {
   "cell_type": "code",
   "execution_count": 2,
   "id": "5aba2a60",
   "metadata": {},
   "outputs": [
    {
     "name": "stdout",
     "output_type": "stream",
     "text": [
      "<class 'dict'>\n",
      "<class 'set'>\n",
      "set()\n"
     ]
    }
   ],
   "source": [
    "# 빈 set 만들기\n",
    "a = {} # 빈 set은 {}를 사용해서 만들 수 없다. => 딕셔너리로 인식한다.\n",
    "print(type(a))\n",
    "\n",
    "# 빈 set을 만들 때 {}만 사용하면 딕셔너리가 생성되기 때문에 반드시 생성자 함수를 사용해서 만들어 사용한다. \n",
    "b = set()\n",
    "print(type(b))\n",
    "print(b)\n"
   ]
  },
  {
   "cell_type": "code",
   "execution_count": 5,
   "id": "14807d3b",
   "metadata": {},
   "outputs": [
    {
     "name": "stdout",
     "output_type": "stream",
     "text": [
      "{1, 2, 3, 5, 7, 8}\n"
     ]
    }
   ],
   "source": [
    "#set은 중복되는 데이터의 입력을 허용하지 않는다.\n",
    "a = {1, 3, 2, 5, 1, 1, 1, 2, 7, 8, 1}\n",
    "print(a)\n",
    "\n"
   ]
  },
  {
   "cell_type": "code",
   "execution_count": 8,
   "id": "491d7fce",
   "metadata": {},
   "outputs": [
    {
     "name": "stdout",
     "output_type": "stream",
     "text": [
      "set()\n",
      "{'이순신'}\n"
     ]
    }
   ],
   "source": [
    "#add() 메소드로 데이터를 1개씩 추가할 수 있다.\n",
    "a = set()\n",
    "print(a)\n",
    "a.add('이순신')\n",
    "print(a)\n",
    "a"
   ]
  },
  {
   "cell_type": "code",
   "execution_count": null,
   "id": "cd6fced8",
   "metadata": {},
   "outputs": [],
   "source": []
  },
  {
   "cell_type": "code",
   "execution_count": null,
   "id": "66e9a7bb",
   "metadata": {},
   "outputs": [],
   "source": []
  },
  {
   "cell_type": "code",
   "execution_count": null,
   "id": "15b194f4",
   "metadata": {},
   "outputs": [],
   "source": []
  },
  {
   "cell_type": "code",
   "execution_count": null,
   "id": "fc74cb63",
   "metadata": {},
   "outputs": [],
   "source": []
  },
  {
   "cell_type": "code",
   "execution_count": null,
   "id": "ed5947e8",
   "metadata": {},
   "outputs": [],
   "source": []
  },
  {
   "cell_type": "code",
   "execution_count": null,
   "id": "966edf2f",
   "metadata": {},
   "outputs": [],
   "source": []
  },
  {
   "cell_type": "code",
   "execution_count": null,
   "id": "b30d1928",
   "metadata": {},
   "outputs": [],
   "source": []
  },
  {
   "cell_type": "code",
   "execution_count": null,
   "id": "9c156d6d",
   "metadata": {},
   "outputs": [],
   "source": []
  },
  {
   "cell_type": "code",
   "execution_count": null,
   "id": "ca0c26de",
   "metadata": {},
   "outputs": [],
   "source": []
  },
  {
   "cell_type": "code",
   "execution_count": null,
   "id": "f1ce8e1a",
   "metadata": {},
   "outputs": [],
   "source": []
  }
 ],
 "metadata": {
  "kernelspec": {
   "display_name": "Python 3 (ipykernel)",
   "language": "python",
   "name": "python3"
  },
  "language_info": {
   "codemirror_mode": {
    "name": "ipython",
    "version": 3
   },
   "file_extension": ".py",
   "mimetype": "text/x-python",
   "name": "python",
   "nbconvert_exporter": "python",
   "pygments_lexer": "ipython3",
   "version": "3.8.6"
  }
 },
 "nbformat": 4,
 "nbformat_minor": 5
}
