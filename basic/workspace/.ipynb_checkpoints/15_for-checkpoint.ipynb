{
 "cells": [
  {
   "cell_type": "markdown",
   "id": "db5859eb",
   "metadata": {},
   "source": [
    "range() 함수  \n",
    "\n",
    "range() 함수는 지정한 초기치, 최종치 ,증가치에 따른 숫자 리스트를 만든다.\n",
    "range() 함수는 초기치 부터 증가치 만큼씩 증가하며 최종치를 넘어가지 않는 숫자 리스트를 만든다.\n",
    "***\n",
    "형식\n",
    "range([초기치, ]최종치[, 증가치])  \n",
    "초기치와 증가치는 생략할 수 있고 초기치가 생략되면 0이 증가치가 생략되면 1이 기본값으로 사용된다.  \n",
    "즉, range(0 , 10 , 1)과 range(10)은 같은 표현이다."
   ]
  },
  {
   "cell_type": "code",
   "execution_count": 2,
   "id": "910fbe8d",
   "metadata": {},
   "outputs": [
    {
     "name": "stdout",
     "output_type": "stream",
     "text": [
      "range(0, 10)\n",
      "[0, 1, 2, 3, 4, 5, 6, 7, 8, 9]\n"
     ]
    }
   ],
   "source": [
    "print(range(0 , 10 , 1))\n",
    "# range() 함수가 실행된 결과(리스트)는 list() 생성자 함수를 사용해서 확인한다.\n",
    "print(list(range(0 , 10 , 1)))"
   ]
  },
  {
   "cell_type": "markdown",
   "id": "50ab46b8",
   "metadata": {},
   "source": [
    "for\n",
    "\n",
    "제어 변수에 리스트, 튜플, 딕셔너리, set에 저장된 데이터가 처음부터 마지막까지 차례대로 대입되면 반복한다.\n",
    "***\n",
    "for 변수 in 리스트 or 튜플 or 딕셔너리 or set :  \n",
    "&nbsp;&nbsp;&nbsp;&nbsp;반복할 문장  \n",
    "&nbsp;&nbsp;&nbsp;&nbsp;..."
   ]
  },
  {
   "cell_type": "code",
   "execution_count": 8,
   "id": "2c02c452",
   "metadata": {},
   "outputs": [
    {
     "name": "stdout",
     "output_type": "stream",
     "text": [
      "0\n",
      "1\n",
      "2\n",
      "3\n",
      "4\n"
     ]
    }
   ],
   "source": [
    "# print(list(range(5)))\n",
    "# for i in [0, 1, 2, 3, 4]:\n",
    "for i in range(5):    \n",
    "    print(i)\n",
    "    "
   ]
  },
  {
   "cell_type": "code",
   "execution_count": 9,
   "id": "a34859cc",
   "metadata": {},
   "outputs": [
    {
     "name": "stdout",
     "output_type": "stream",
     "text": [
      "55\n"
     ]
    }
   ],
   "source": [
    "# 1~10까지의 합 - while 사용\n",
    "i = 0 \n",
    "total = 0\n",
    "while i < 10 :\n",
    "    i += 1\n",
    "    total += i\n",
    "# ===== while\n",
    "print(total)"
   ]
  },
  {
   "cell_type": "code",
   "execution_count": 11,
   "id": "057d3e1d",
   "metadata": {},
   "outputs": [
    {
     "name": "stdout",
     "output_type": "stream",
     "text": [
      "55\n"
     ]
    }
   ],
   "source": [
    "# 1 ~ 10의 합계 - for 사용\n",
    "total = 0\n",
    "for i in range(1, 11) :\n",
    "    total += i\n",
    "# ===== for\n",
    "print(total)"
   ]
  },
  {
   "cell_type": "markdown",
   "id": "5c343b66",
   "metadata": {},
   "source": [
    "주사위를 10번 굴려서 출현한 눈의 개수를 센다. => 변수 사용  \n"
   ]
  },
  {
   "cell_type": "code",
   "execution_count": 4,
   "id": "51abd7ff",
   "metadata": {
    "pycharm": {
     "is_executing": true
    }
   },
   "outputs": [],
   "source": [
    "import random "
   ]
  },
  {
   "cell_type": "code",
   "execution_count": 23,
   "id": "5ba846e8",
   "metadata": {},
   "outputs": [
    {
     "name": "stdout",
     "output_type": "stream",
     "text": [
      "1 6 1 6 3 6 2 1 2 2 \n",
      "================================================================================\n",
      "3\n",
      "3\n",
      "1\n",
      "0\n",
      "0\n",
      "3\n"
     ]
    }
   ],
   "source": [
    "# 1부터 6사이의 주사위 눈과 개수를 기억할 변수를 선언하고 각각 0으로 초기화시킨다.\n",
    "num1 = 0; num2 = 0; num3 = 0; num4 = 0; num5 = 0; num6 = 0\n",
    "# 주사위를 10번 굴린다.\n",
    "for i in range(10) :\n",
    "    # 주사위를 굴린다\n",
    "    dice = random.randint(1,6);\n",
    "    print(dice , end=' ')\n",
    "    # 주사위를 굴려 발생한 눈의 개수를 증가시킨다.\n",
    "    if dice == 1 :\n",
    "        num1 += 1\n",
    "    elif dice == 2 :\n",
    "        num2 += 1\n",
    "    elif dice == 3 :\n",
    "        num3 += 1\n",
    "    elif dice == 4 :\n",
    "        num4 += 1\n",
    "    elif dice == 5 :\n",
    "        num5 += 1\n",
    "    else :\n",
    "        num6 += 1\n",
    "    # ==== if\n",
    "# ==== for\n",
    "print('\\n' + '=' * 80)\n",
    "\n",
    "# 주사위의 눈의 개수를 출력한다.\n",
    "print(num1)\n",
    "print(num2)\n",
    "print(num3)\n",
    "print(num4)\n",
    "print(num5)\n",
    "print(num6)"
   ]
  },
  {
   "cell_type": "code",
   "execution_count": 28,
   "id": "b7adb210",
   "metadata": {},
   "outputs": [
    {
     "name": "stdout",
     "output_type": "stream",
     "text": [
      "[0, 2, 4]\n"
     ]
    }
   ],
   "source": [
    "# 1. 주사위 눈의 개수를 기억할 크기가 6인 0으로 초기화된 리스트를 만든다. \n",
    "# count = [0, 0, 0, 0, 0, 0]\n",
    "# count = [0] * 6\n",
    "# 2. 빈 리스트를 선언하고 append() 메소드로 0을 넣어준다. \n",
    "# count = []\n",
    "# for i in range(6):\n",
    "#     count.append(0)\n",
    "# 3. 반복문을 사용해서 리스트를 만든다\n",
    "count = [0 for i in range(6) if]\n",
    "#print(count)\n",
    "for i in range(10) :\n",
    "    # 주사위를 굴린다\n",
    "    dice = random.randint(1,6);\n",
    "    print(dice , end=' ')\n",
    "    # 주사위를 굴려 발생한 눈의 개수를 증가시킨다.\n",
    "    if dice == 1 :\n",
    "        count[0] += 1\n",
    "    elif dice == 2 :\n",
    "        count[1] += 1\n",
    "    elif dice == 3 :\n",
    "        count[2] += 1\n",
    "    elif dice == 4 :\n",
    "        count[3] += 1\n",
    "    elif dice == 5 :\n",
    "        count[4] += 1\n",
    "    else :\n",
    "        count[5] += 1\n",
    "    # ==== if\n",
    "# ==== for"
   ]
  },
  {
   "cell_type": "code",
   "execution_count": 37,
   "id": "1a58b7d4",
   "metadata": {},
   "outputs": [
    {
     "name": "stdout",
     "output_type": "stream",
     "text": [
      "3 3 1 2 5 1 5 5 3 6 \n",
      "================================================================================\n",
      "1의 개수 : 2\n",
      "2의 개수 : 1\n",
      "3의 개수 : 3\n",
      "4의 개수 : 0\n",
      "5의 개수 : 3\n",
      "6의 개수 : 1\n"
     ]
    }
   ],
   "source": [
    "count = [0 for i in range(6)]\n",
    "#print(count)\n",
    "for i in range(10) :\n",
    "    # 주사위를 굴린다\n",
    "    dice = random.randint(1,6);\n",
    "    print(dice , end=' ')\n",
    "    # 주사위를 굴려 발생한 눈의 개수를 증가시킨다.\n",
    "    if dice == 1 :\n",
    "        count[0] += 1\n",
    "    elif dice == 2 :\n",
    "        count[1] += 1\n",
    "    elif dice == 3 :\n",
    "        count[2] += 1\n",
    "    elif dice == 4 :\n",
    "        count[3] += 1\n",
    "    elif dice == 5 :\n",
    "        count[4] += 1\n",
    "    else :\n",
    "        count[5] += 1\n",
    "    # ==== if\n",
    "# ==== for\n",
    "print('\\n' + '=' * 80)\n",
    "for i in range(len(count)):\n",
    "    #print(i + 1,'의 개수 : ' , count[i])\n",
    "    print(f'{i + 1}의 개수 : {count[i]}')"
   ]
  },
  {
   "cell_type": "code",
   "execution_count": null,
   "id": "767b74fa",
   "metadata": {},
   "outputs": [],
   "source": [
    "\n"
   ]
  },
  {
   "cell_type": "code",
   "execution_count": null,
   "id": "c2638959",
   "metadata": {},
   "outputs": [],
   "source": []
  },
  {
   "cell_type": "code",
   "execution_count": null,
   "id": "1a37fd57",
   "metadata": {},
   "outputs": [],
   "source": []
  }
 ],
 "metadata": {
  "kernelspec": {
   "display_name": "Python 3 (ipykernel)",
   "language": "python",
   "name": "python3"
  },
  "language_info": {
   "codemirror_mode": {
    "name": "ipython",
    "version": 3
   },
   "file_extension": ".py",
   "mimetype": "text/x-python",
   "name": "python",
   "nbconvert_exporter": "python",
   "pygments_lexer": "ipython3",
   "version": "3.8.6"
  }
 },
 "nbformat": 4,
 "nbformat_minor": 5
}
