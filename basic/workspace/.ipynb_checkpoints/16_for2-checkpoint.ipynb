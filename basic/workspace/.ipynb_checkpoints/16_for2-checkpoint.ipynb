{
 "cells": [
  {
   "cell_type": "markdown",
   "id": "1101175c",
   "metadata": {},
   "source": [
    "리스트와 함께 사용하는 for"
   ]
  },
  {
   "cell_type": "code",
   "execution_count": 4,
   "id": "20f5f7ef",
   "metadata": {},
   "outputs": [
    {
     "name": "stdout",
     "output_type": "stream",
     "text": [
      "['Life', 'is', 'too', 'Good']\n",
      "================================================================================\n",
      "Life\n",
      "is\n",
      "too\n",
      "Good\n",
      "================================================================================\n",
      "Life\n",
      "is\n",
      "too\n",
      "Good\n",
      "================================================================================\n",
      "is\n",
      "too\n"
     ]
    }
   ],
   "source": [
    "a = ['Life' , 'is' , 'too' , 'Good']\n",
    "print(a)\n",
    "print('=' * 80)\n",
    "\n",
    "for i in a :\n",
    "    print(i)\n",
    "print('=' * 80)\n",
    "\n",
    "for i in range(len(a)) :\n",
    "    print(a[i])\n",
    "print('=' * 80)\n",
    "\n",
    "for i in a[1:3] :\n",
    "    print(i)"
   ]
  },
  {
   "cell_type": "markdown",
   "id": "13159756",
   "metadata": {},
   "source": [
    "set과 함게 사용하는 for\n",
    "\n"
   ]
  },
  {
   "cell_type": "code",
   "execution_count": 7,
   "id": "990189e5",
   "metadata": {},
   "outputs": [
    {
     "name": "stdout",
     "output_type": "stream",
     "text": [
      "{'too', 'is', 'Life', 'Good'}\n",
      "================================================================================\n",
      "too\n",
      "is\n",
      "Life\n",
      "Good\n",
      "================================================================================\n"
     ]
    }
   ],
   "source": [
    "a = {'Life' , 'is' , 'too' , 'Good'}\n",
    "print(a)\n",
    "print('=' * 80)\n",
    "\n",
    "for i in a :\n",
    "    print(i)\n",
    "print('=' * 80)\n",
    "'''\n",
    "for i in range(len(a)) :\n",
    "    print(a[i]) #set은 입력되는 순서와 저장되는 순서가 달라서 인덱싱을 사용할 수 없으므로 에러가 발생한다.\n",
    "print('=' * 80)\n",
    "\n",
    "\n",
    "for i in a[1:3] :\n",
    "    print(i) #set은 입력되는 순서와 저장되는 순서가 달라서 슬라이싱을 사용할 수 없으므로 에러가 발생한다.\n",
    "'''\n",
    "pass\n"
   ]
  },
  {
   "cell_type": "markdown",
   "id": "277a1343",
   "metadata": {},
   "source": [
    "딕셔너리와 함께 사용하는 for"
   ]
  },
  {
   "cell_type": "code",
   "execution_count": 12,
   "id": "8f992a4e",
   "metadata": {},
   "outputs": [
    {
     "name": "stdout",
     "output_type": "stream",
     "text": [
      "{'apple': 1000, 'banana': 3500, 'starwbarry': 1500, 'persimmon': 3000}\n",
      "dict_keys(['apple', 'banana', 'starwbarry', 'persimmon'])\n",
      "dict_values([1000, 3500, 1500, 3000])\n",
      "dict_items([('apple', 1000), ('banana', 3500), ('starwbarry', 1500), ('persimmon', 3000)])\n"
     ]
    }
   ],
   "source": [
    "a = {'apple' : 1000 , 'banana' : 3500 , 'starwberry' : 1500 , 'persimmon' : 3000}\n",
    "print(a)\n",
    "print(a.keys())\n",
    "print(a.values())\n",
    "print(a.items())"
   ]
  },
  {
   "cell_type": "code",
   "execution_count": 14,
   "id": "0c31272f",
   "metadata": {},
   "outputs": [
    {
     "name": "stdout",
     "output_type": "stream",
     "text": [
      "apple\n",
      "banana\n",
      "starwbarry\n",
      "persimmon\n",
      "================================================================================\n",
      "apple\n",
      "banana\n",
      "starwbarry\n",
      "persimmon\n",
      "================================================================================\n",
      "1000\n",
      "3500\n",
      "1500\n",
      "3000\n",
      "================================================================================\n",
      "('apple', 1000)\n",
      "('banana', 3500)\n",
      "('starwbarry', 1500)\n",
      "('persimmon', 3000)\n",
      "================================================================================\n"
     ]
    }
   ],
   "source": [
    "for key in a : #딕셔너리 이름만 쓰면 딕셔너리이름.keys()와 같은 의미로 사용된다.\n",
    "    print(key)\n",
    "print('=' * 80)\n",
    "\n",
    "for key in a.keys():\n",
    "    print(key)\n",
    "print('=' * 80)\n",
    "\n",
    "for value in a.values() :\n",
    "    print(value)\n",
    "print('=' * 80)\n",
    "\n",
    "for item in a.items() :\n",
    "    print(item)\n",
    "print('=' * 80)"
   ]
  },
  {
   "cell_type": "code",
   "execution_count": 18,
   "id": "9a8160c8",
   "metadata": {},
   "outputs": [
    {
     "name": "stdout",
     "output_type": "stream",
     "text": [
      "1000\n",
      "3500\n",
      "1500\n",
      "3000\n",
      "================================================================================\n",
      "1000\n",
      "3500\n",
      "1500\n",
      "3000\n"
     ]
    }
   ],
   "source": [
    "#key 값을 이용해서 value 얻어오기\n",
    "for key in a.keys() :\n",
    "    print(a[key]) #딕셔너리이름[key]\n",
    "print('=' * 80)\n",
    "\n",
    "for key in a.keys() :\n",
    "    print(a.get(key)) #딕셔너리이름.get(key)\n",
    "    "
   ]
  },
  {
   "cell_type": "code",
   "execution_count": 19,
   "id": "77eec489",
   "metadata": {},
   "outputs": [
    {
     "name": "stdout",
     "output_type": "stream",
     "text": [
      "('apple', 1000)\n",
      "('banana', 3500)\n",
      "('starwbarry', 1500)\n",
      "('persimmon', 3000)\n"
     ]
    }
   ],
   "source": [
    "#item 값을 이용해서 key, value 얻어오기\n",
    "for item  in a.items() :\n",
    "    print(item)\n",
    "print('=' * 80)\n",
    "\n",
    "for item  in a.items() :\n",
    "    print(f'{}')"
   ]
  },
  {
   "cell_type": "code",
   "execution_count": null,
   "id": "7d79efc8",
   "metadata": {},
   "outputs": [],
   "source": []
  },
  {
   "cell_type": "code",
   "execution_count": null,
   "id": "93e1095f",
   "metadata": {},
   "outputs": [],
   "source": []
  },
  {
   "cell_type": "code",
   "execution_count": null,
   "id": "3736e7fa",
   "metadata": {},
   "outputs": [],
   "source": []
  },
  {
   "cell_type": "code",
   "execution_count": null,
   "id": "0e87b450",
   "metadata": {},
   "outputs": [],
   "source": []
  },
  {
   "cell_type": "code",
   "execution_count": null,
   "id": "09e8b611",
   "metadata": {},
   "outputs": [],
   "source": []
  },
  {
   "cell_type": "code",
   "execution_count": null,
   "id": "7ee4242b",
   "metadata": {},
   "outputs": [],
   "source": []
  }
 ],
 "metadata": {
  "kernelspec": {
   "display_name": "Python 3 (ipykernel)",
   "language": "python",
   "name": "python3"
  },
  "language_info": {
   "codemirror_mode": {
    "name": "ipython",
    "version": 3
   },
   "file_extension": ".py",
   "mimetype": "text/x-python",
   "name": "python",
   "nbconvert_exporter": "python",
   "pygments_lexer": "ipython3",
   "version": "3.8.6"
  }
 },
 "nbformat": 4,
 "nbformat_minor": 5
}
