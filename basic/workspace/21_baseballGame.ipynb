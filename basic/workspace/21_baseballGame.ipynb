{
 "cells": [
  {
   "cell_type": "code",
   "execution_count": 1,
   "metadata": {
    "collapsed": true,
    "ExecuteTime": {
     "start_time": "2023-08-10T16:15:37.523115Z",
     "end_time": "2023-08-10T16:15:37.538737Z"
    }
   },
   "outputs": [],
   "source": [
    "import random\n",
    "from bdb import bar"
   ]
  },
  {
   "cell_type": "code",
   "execution_count": 10,
   "outputs": [
    {
     "name": "stdout",
     "output_type": "stream",
     "text": [
      "[1, 2, 3, 4, 5, 6, 7, 8, 9]\n",
      "[3, 6, 5, 9, 2, 4, 8, 7, 1]\n",
      "[6, 2, 3, 5, 8]\n"
     ]
    }
   ],
   "source": [
    "# 1 ~ 9 사이의 숫자가 채워진 리스트 또는 튜플을 만든다.\n",
    "baseball = [i for i in range(1, 10)]\n",
    "print(baseball)\n",
    "\n",
    "#섞는다\n",
    "# random.shuffle(baseball)\n",
    "# print(baseball)\n",
    "\n",
    "# 레벨을 입력받는다.\n",
    "level = int(input('레벨을 입력하세요(1~9) : '))\n",
    "# cpu = baseball[:level]\n",
    "cpu = random.sample(baseball , level)\n",
    "print(cpu)\n",
    "\n",
    "# ============================================\n",
    "\n",
    "# 몇 번 만에 맞출지 모르기 때문에 무한 루프를 돌려서 처리한다.\n",
    "\n",
    "while True:\n",
    "\n",
    "\n",
    "\n",
    "\n",
    "\n",
    "\n",
    "\n",
    "# ===== while\n",
    "print('맞췄다.')\n",
    "\n",
    "\n",
    "\n",
    "\n",
    "\n"
   ],
   "metadata": {
    "collapsed": false,
    "ExecuteTime": {
     "start_time": "2023-08-10T16:32:50.135955Z",
     "end_time": "2023-08-10T16:32:51.406122Z"
    }
   }
  }
 ],
 "metadata": {
  "kernelspec": {
   "display_name": "Python 3",
   "language": "python",
   "name": "python3"
  },
  "language_info": {
   "codemirror_mode": {
    "name": "ipython",
    "version": 2
   },
   "file_extension": ".py",
   "mimetype": "text/x-python",
   "name": "python",
   "nbconvert_exporter": "python",
   "pygments_lexer": "ipython2",
   "version": "2.7.6"
  }
 },
 "nbformat": 4,
 "nbformat_minor": 0
}
