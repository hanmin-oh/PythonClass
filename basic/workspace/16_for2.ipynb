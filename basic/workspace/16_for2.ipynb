{
 "cells": [
  {
   "cell_type": "markdown",
   "id": "620e3c40",
   "metadata": {},
   "source": [
    "리스트와 함께 사용하는 for"
   ]
  },
  {
   "cell_type": "code",
   "execution_count": 4,
   "id": "32be6d03",
   "metadata": {},
   "outputs": [
    {
     "name": "stdout",
     "output_type": "stream",
     "text": [
      "['Life', 'is', 'too', 'Good']\n",
      "================================================================================\n",
      "Life\n",
      "is\n",
      "too\n",
      "Good\n",
      "================================================================================\n",
      "Life\n",
      "is\n",
      "too\n",
      "Good\n",
      "================================================================================\n",
      "is\n",
      "too\n"
     ]
    }
   ],
   "source": [
    "a = ['Life' , 'is' , 'too' , 'Good']\n",
    "print(a)\n",
    "print('=' * 80)\n",
    "\n",
    "for i in a :\n",
    "    print(i)\n",
    "print('=' * 80)\n",
    "\n",
    "for i in range(len(a)) :\n",
    "    print(a[i])\n",
    "print('=' * 80)\n",
    "\n",
    "for i in a[1:3] :\n",
    "    print(i)"
   ]
  },
  {
   "cell_type": "markdown",
   "id": "57e0b33b",
   "metadata": {},
   "source": [
    "set과 함게 사용하는 for\n",
    "\n"
   ]
  },
  {
   "cell_type": "code",
   "execution_count": 7,
   "id": "522c3d9c",
   "metadata": {},
   "outputs": [
    {
     "name": "stdout",
     "output_type": "stream",
     "text": [
      "{'too', 'is', 'Life', 'Good'}\n",
      "================================================================================\n",
      "too\n",
      "is\n",
      "Life\n",
      "Good\n",
      "================================================================================\n"
     ]
    }
   ],
   "source": [
    "a = {'Life' , 'is' , 'too' , 'Good'}\n",
    "print(a)\n",
    "print('=' * 80)\n",
    "\n",
    "for i in a :\n",
    "    print(i)\n",
    "print('=' * 80)\n",
    "'''\n",
    "for i in range(len(a)) :\n",
    "    print(a[i]) #set은 입력되는 순서와 저장되는 순서가 달라서 인덱싱을 사용할 수 없으므로 에러가 발생한다.\n",
    "print('=' * 80)\n",
    "\n",
    "\n",
    "for i in a[1:3] :\n",
    "    print(i) #set은 입력되는 순서와 저장되는 순서가 달라서 슬라이싱을 사용할 수 없으므로 에러가 발생한다.\n",
    "'''\n",
    "pass\n"
   ]
  },
  {
   "cell_type": "markdown",
   "id": "fa4f041a",
   "metadata": {},
   "source": [
    "딕셔너리와 함께 사용하는 for"
   ]
  },
  {
   "cell_type": "code",
   "execution_count": 20,
   "id": "ffd43d43",
   "metadata": {},
   "outputs": [
    {
     "name": "stdout",
     "output_type": "stream",
     "text": [
      "{'apple': 1000, 'banana': 3500, 'starwberry': 1500, 'persimmon': 3000}\n",
      "dict_keys(['apple', 'banana', 'starwberry', 'persimmon'])\n",
      "dict_values([1000, 3500, 1500, 3000])\n",
      "dict_items([('apple', 1000), ('banana', 3500), ('starwberry', 1500), ('persimmon', 3000)])\n"
     ]
    }
   ],
   "source": [
    "a = {'apple' : 1000 , 'banana' : 3500 , 'starwberry' : 1500 , 'persimmon' : 3000}\n",
    "print(a)\n",
    "print(a.keys())\n",
    "print(a.values())\n",
    "print(a.items())"
   ]
  },
  {
   "cell_type": "code",
   "execution_count": 21,
   "id": "b0ed6aca",
   "metadata": {},
   "outputs": [
    {
     "name": "stdout",
     "output_type": "stream",
     "text": [
      "apple\n",
      "banana\n",
      "starwberry\n",
      "persimmon\n",
      "================================================================================\n",
      "apple\n",
      "banana\n",
      "starwberry\n",
      "persimmon\n",
      "================================================================================\n",
      "1000\n",
      "3500\n",
      "1500\n",
      "3000\n",
      "================================================================================\n",
      "('apple', 1000)\n",
      "('banana', 3500)\n",
      "('starwberry', 1500)\n",
      "('persimmon', 3000)\n",
      "================================================================================\n"
     ]
    }
   ],
   "source": [
    "for key in a : #딕셔너리 이름만 쓰면 딕셔너리이름.keys()와 같은 의미로 사용된다.\n",
    "    print(key)\n",
    "print('=' * 80)\n",
    "\n",
    "for key in a.keys():\n",
    "    print(key)\n",
    "print('=' * 80)\n",
    "\n",
    "for value in a.values() :\n",
    "    print(value)\n",
    "print('=' * 80)\n",
    "\n",
    "for item in a.items() :\n",
    "    print(item)\n",
    "print('=' * 80)"
   ]
  },
  {
   "cell_type": "code",
   "execution_count": 22,
   "id": "ad66fa3b",
   "metadata": {},
   "outputs": [
    {
     "name": "stdout",
     "output_type": "stream",
     "text": [
      "1000\n",
      "3500\n",
      "1500\n",
      "3000\n",
      "================================================================================\n",
      "1000\n",
      "3500\n",
      "1500\n",
      "3000\n"
     ]
    }
   ],
   "source": [
    "#key 값을 이용해서 value 얻어오기\n",
    "for key in a.keys() :\n",
    "    print(a[key]) #딕셔너리이름[key]\n",
    "print('=' * 80)\n",
    "\n",
    "for key in a.keys() :\n",
    "    print(a.get(key)) #딕셔너리이름.get(key)\n",
    "    "
   ]
  },
  {
   "cell_type": "code",
   "execution_count": 27,
   "id": "5641c311",
   "metadata": {},
   "outputs": [
    {
     "name": "stdout",
     "output_type": "stream",
     "text": [
      "('apple', 1000)\n",
      "('banana', 3500)\n",
      "('starwberry', 1500)\n",
      "('persimmon', 3000)\n",
      "================================================================================\n",
      "apple 은(는) 1000 원 입니다\n",
      "banana 은(는) 3500 원 입니다\n",
      "starwberry 은(는) 1500 원 입니다\n",
      "persimmon 은(는) 3000 원 입니다\n",
      "================================================================================\n",
      "apple 은(는) 1000 원 입니다\n",
      "banana 은(는) 3500 원 입니다\n",
      "starwberry 은(는) 1500 원 입니다\n",
      "persimmon 은(는) 3000 원 입니다\n"
     ]
    }
   ],
   "source": [
    "#item 값을 이용해서 key, value 얻어오기\n",
    "for item  in a.items() :\n",
    "    print(item)\n",
    "print('=' * 80)\n",
    "\n",
    "for item  in a.items() :\n",
    "    print(item[0], '은(는)', item[1], '원 입니다' )\n",
    "print('=' * 80)\n",
    "\n",
    "for key, value in a.items() :\n",
    "    print(item[0], '은(는)', item[1], '원 입니다' )"
   ]
  },
  {
   "cell_type": "markdown",
   "id": "80b9f33b",
   "metadata": {},
   "source": [
    "enumerate() 함수는 인수로 지정된 리스트, 튜플, 딕셔너리, set의 index와 value를 리턴한다."
   ]
  },
  {
   "cell_type": "code",
   "execution_count": 31,
   "id": "3f392149",
   "metadata": {},
   "outputs": [
    {
     "name": "stdout",
     "output_type": "stream",
     "text": [
      "0 ('apple', 1000)\n",
      "1 ('banana', 3500)\n",
      "2 ('starwberry', 1500)\n",
      "3 ('persimmon', 3000)\n"
     ]
    }
   ],
   "source": [
    "for index, data in enumerate(a.items()) :\n",
    "    print(index, data)"
   ]
  },
  {
   "cell_type": "markdown",
   "id": "4bb0a3db",
   "metadata": {},
   "source": [
    "zip() 함수는 서로 다른 데이터가 저장된 객체를 반복가능한 형태로 묶어준다."
   ]
  },
  {
   "cell_type": "code",
   "execution_count": 38,
   "id": "082d1648",
   "metadata": {},
   "outputs": [
    {
     "name": "stdout",
     "output_type": "stream",
     "text": [
      "1 java\n",
      "2 python\n",
      "3 C\n"
     ]
    }
   ],
   "source": [
    "a = [1, 2, 3]\n",
    "b = ['java' , 'python' , 'C']\n",
    "for index, data in zip(a , b) :\n",
    "    print(index , data)"
   ]
  },
  {
   "cell_type": "code",
   "execution_count": null,
   "id": "fd8c773d",
   "metadata": {},
   "outputs": [],
   "source": []
  },
  {
   "cell_type": "code",
   "execution_count": null,
   "id": "c80b7847",
   "metadata": {},
   "outputs": [],
   "source": []
  },
  {
   "cell_type": "code",
   "execution_count": null,
   "id": "041b4011",
   "metadata": {},
   "outputs": [],
   "source": []
  }
 ],
 "metadata": {
  "kernelspec": {
   "display_name": "Python 3 (ipykernel)",
   "language": "python",
   "name": "python3"
  },
  "language_info": {
   "codemirror_mode": {
    "name": "ipython",
    "version": 3
   },
   "file_extension": ".py",
   "mimetype": "text/x-python",
   "name": "python",
   "nbconvert_exporter": "python",
   "pygments_lexer": "ipython3",
   "version": "3.8.6"
  }
 },
 "nbformat": 4,
 "nbformat_minor": 5
}
