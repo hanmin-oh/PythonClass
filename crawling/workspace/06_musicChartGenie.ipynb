{
 "cells": [
  {
   "cell_type": "code",
   "execution_count": 1,
   "outputs": [],
   "source": [
    "import warnings\n",
    "warnings.filterwarnings(action='ignore')\n",
    "%config Computer.use_jedi = False\n",
    "import requests\n",
    "from bs4 import BeautifulSoup\n",
    "from datetime import datetime as dt\n",
    "import time # sleep() 메소드를 사용하기 위해 import 한다."
   ],
   "metadata": {
    "collapsed": false,
    "ExecuteTime": {
     "start_time": "2023-08-23T18:00:26.006432Z",
     "end_time": "2023-08-23T18:00:26.225178Z"
    }
   }
  },
  {
   "cell_type": "code",
   "execution_count": 7,
   "outputs": [
    {
     "name": "stdout",
     "output_type": "stream",
     "text": [
      "https://www.genie.co.kr/chart/top200?ditc=D&ymd=20230823&hh=18&rtm=Y&pg=1\n",
      "https://www.genie.co.kr/chart/top200?ditc=D&ymd=20230823&hh=18&rtm=Y&pg=2\n",
      "https://www.genie.co.kr/chart/top200?ditc=D&ymd=20230823&hh=18&rtm=Y&pg=3\n",
      "https://www.genie.co.kr/chart/top200?ditc=D&ymd=20230823&hh=18&rtm=Y&pg=4\n",
      "<Response [200]>\n"
     ]
    }
   ],
   "source": [
    "# 타겟 사이트 주소 만들기\n",
    "#'https://www.genie.co.kr/chart/top200?ditc=D&ymd=20230823&hh=18&rtm=Y&pg=1' => 1~50\n",
    "#'https://www.genie.co.kr/chart/top200?ditc=D&ymd=20230823&hh=18&rtm=Y&pg=2' => 50~100\n",
    "#'https://www.genie.co.kr/chart/top200?ditc=D&ymd=20230823&hh=18&rtm=Y&pg=3' => 100~150\n",
    "#'https://www.genie.co.kr/chart/top200?ditc=D&ymd=20230823&hh=18&rtm=Y&pg=4' => 150~200\n",
    "url = 'https://www.genie.co.kr/chart/top200?ditc=D&ymd=20230823&hh=18&rtm=Y&pg='\n",
    "for i in range(1 , 5):\n",
    "    targetSite = url + str(i)\n",
    "    print(targetSite)\n",
    "headers = {'User-agent': 'Mozilla/5.0 (Windows NT 6.3; WOW64; Trident/7.0; rv:11.0) like Gecko'}\n",
    "request = requests.get(targetSite , headers=headers)\n",
    "# 406(허용되지 않음) : 요청한 페이지가 요청한 콘텐츠의 특성으로 응답할 수 없다.\n",
    "print(request)\n",
    "html = request.text\n",
    "soup = BeautifulSoup(html , 'html.parser')\n",
    "# print(soup.text)"
   ],
   "metadata": {
    "collapsed": false,
    "ExecuteTime": {
     "start_time": "2023-08-23T18:09:28.757429Z",
     "end_time": "2023-08-23T18:09:29.117384Z"
    }
   }
  },
  {
   "cell_type": "code",
   "execution_count": null,
   "outputs": [],
   "source": [],
   "metadata": {
    "collapsed": false
   }
  },
  {
   "cell_type": "markdown",
   "source": [],
   "metadata": {
    "collapsed": false
   }
  }
 ],
 "metadata": {
  "kernelspec": {
   "display_name": "Python 3",
   "language": "python",
   "name": "python3"
  },
  "language_info": {
   "codemirror_mode": {
    "name": "ipython",
    "version": 2
   },
   "file_extension": ".py",
   "mimetype": "text/x-python",
   "name": "python",
   "nbconvert_exporter": "python",
   "pygments_lexer": "ipython2",
   "version": "2.7.6"
  }
 },
 "nbformat": 4,
 "nbformat_minor": 0
}
