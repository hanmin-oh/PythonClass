{
 "cells": [
  {
   "cell_type": "code",
   "execution_count": 98,
   "metadata": {
    "collapsed": true,
    "ExecuteTime": {
     "start_time": "2023-08-24T12:23:26.590901Z",
     "end_time": "2023-08-24T12:23:26.622145Z"
    }
   },
   "outputs": [],
   "source": [
    "import warnings\n",
    "warnings.filterwarnings(action='ignore')\n",
    "%config Computer.use_jedi = False\n",
    "import requests\n",
    "from bs4 import BeautifulSoup\n",
    "from datetime import datetime as dt"
   ]
  },
  {
   "cell_type": "code",
   "execution_count": 101,
   "outputs": [
    {
     "name": "stdout",
     "output_type": "stream",
     "text": [
      "6위 사는 난자 200만원 -\n",
      "[new]\n",
      "7위 철도노조 준법투쟁 -\n",
      "[new]\n",
      "8위 홈플러스 송도점 지하주차장 -\n",
      "[new]\n",
      "9위 프리고진 두번째 비행기 -\n",
      "[new]\n",
      "10위 트리튬 無 도쿄전력 -\n",
      "[new]\n"
     ]
    }
   ],
   "source": [
    "targetSite = 'https://www.nate.com/'\n",
    "header = {'User-agent': 'Mozilla/5.0 (Windows NT 6.3; WOW64; Trident/7.0; rv:11.0) like Gecko'}\n",
    "request = requests.get(targetSite, headers=header)\n",
    "# print(request)\n",
    "html = request.text\n",
    "soup = BeautifulSoup(html, 'html.parser')\n",
    "# print(soup)\n",
    "\n",
    "# 순위\n",
    "# ranks = soup.findAll('span' , {'class' , 'num_rank'})\n",
    "# ranks = soup.select('#olLiveIssueKeyword .num_rank')\n",
    "ranks = soup.select('#olLiveIssueKeyword > li > span')\n",
    "# olLiveIssueKeyword > li > span\n",
    "# print(ranks)\n",
    "# 실시간 이슈 키워드와 상승/하락 폭\n",
    "issues = soup.findAll('a' , {'class' , 'ik'})\n",
    "# print(issues)\n",
    "# for issue in issues:\n",
    "# print(issue.text.strip().split('\\n'))\n",
    "for i in range(5):\n",
    "    upDown = issues[i].text.strip().split()[1]\n",
    "    print('{}위 {} -'.format(ranks[i].text, issues[i].text.strip().split('\\n')[0]))\n",
    "    if upDown[:2] == '상승':\n",
    "        print('[{}{}]'.format('▲' , upDown[-1]))\n",
    "    elif upDown[:2] == '하락' :\n",
    "        print('[{}{}]'.format('▼'))\n",
    "    elif upDown[:2] == '동일' :\n",
    "        print('[-]')\n",
    "    else :\n",
    "        print('[new]')\n",
    "\n"
   ],
   "metadata": {
    "collapsed": false,
    "ExecuteTime": {
     "start_time": "2023-08-24T12:23:51.796208Z",
     "end_time": "2023-08-24T12:23:51.906132Z"
    }
   }
  },
  {
   "cell_type": "code",
   "execution_count": 99,
   "outputs": [],
   "source": [],
   "metadata": {
    "collapsed": false,
    "ExecuteTime": {
     "start_time": "2023-08-24T12:23:26.731534Z",
     "end_time": "2023-08-24T12:23:26.747293Z"
    }
   }
  },
  {
   "cell_type": "code",
   "execution_count": 99,
   "outputs": [],
   "source": [],
   "metadata": {
    "collapsed": false,
    "ExecuteTime": {
     "start_time": "2023-08-24T12:23:26.747293Z",
     "end_time": "2023-08-24T12:23:26.794160Z"
    }
   }
  },
  {
   "cell_type": "code",
   "execution_count": 99,
   "outputs": [],
   "source": [],
   "metadata": {
    "collapsed": false,
    "ExecuteTime": {
     "start_time": "2023-08-24T12:23:26.778433Z",
     "end_time": "2023-08-24T12:23:26.794160Z"
    }
   }
  },
  {
   "cell_type": "code",
   "execution_count": 99,
   "outputs": [],
   "source": [],
   "metadata": {
    "collapsed": false,
    "ExecuteTime": {
     "start_time": "2023-08-24T12:23:26.778433Z",
     "end_time": "2023-08-24T12:23:26.794160Z"
    }
   }
  },
  {
   "cell_type": "code",
   "execution_count": 99,
   "outputs": [],
   "source": [],
   "metadata": {
    "collapsed": false,
    "ExecuteTime": {
     "start_time": "2023-08-24T12:23:26.794160Z",
     "end_time": "2023-08-24T12:23:26.809685Z"
    }
   }
  }
 ],
 "metadata": {
  "kernelspec": {
   "display_name": "Python 3",
   "language": "python",
   "name": "python3"
  },
  "language_info": {
   "codemirror_mode": {
    "name": "ipython",
    "version": 2
   },
   "file_extension": ".py",
   "mimetype": "text/x-python",
   "name": "python",
   "nbconvert_exporter": "python",
   "pygments_lexer": "ipython2",
   "version": "2.7.6"
  }
 },
 "nbformat": 4,
 "nbformat_minor": 0
}
