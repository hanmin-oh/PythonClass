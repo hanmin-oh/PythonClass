{
 "cells": [
  {
   "cell_type": "code",
   "execution_count": null,
   "outputs": [],
   "source": [
    "import warnings\n",
    "warnings.filterwarnings(action='ignore')\n",
    "%config Computer.use_jedi = False\n",
    "import requests\n",
    "import folium\n",
    "# !pip install pandas # 파이썬 데이터 처리\n",
    "import pandas as pd"
   ],
   "metadata": {
    "collapsed": false,
    "ExecuteTime": {
     "start_time": "2023-08-24T17:46:04.340003Z",
     "end_time": "2023-08-24T17:46:04.413728Z"
    }
   }
  },
  {
   "cell_type": "markdown",
   "source": [
    "# 전국 또는 특정 지역의 스타벅스 매장 위치 정보를 가져와서 지도 위에 표시하기\n",
    "\n",
    "- requests 모듈로 스타벅스 매장의 위치 정보를 가져와서 딕셔너리 타입으로 변환한다.\n",
    "- json_normalize() 함수로 json 타입의 데이터가 변환된 딕셔너리를 판다스 데이터프레임으로 변환한다.\n",
    "- folium 모듈을 사용해서 표시하고 지도위에 스타벅스 매장 위치를 마커로 표시한다."
   ],
   "metadata": {
    "collapsed": false
   }
  },
  {
   "cell_type": "code",
   "execution_count": null,
   "outputs": [],
   "source": [
    "# 서울 스타벅스 전 지점\n",
    "targetSite = 'https://www.starbucks.co.kr/store/getStore.do?r=HBSCEBENZ1'\n",
    "request = requests.post(targetSite, data={\n",
    "    'ins_lat': 37.563398, # 위도\n",
    "    'ins_lng': 126.9863309, # 경도\n",
    "    'p_sido_cd': '01', # 시도코드\n",
    "    'p_gugun_cd': '', # 구군코드\n",
    "    'in_biz_cd': '', # ?\n",
    "    'iend': 1900, # 서버가 응답하는 최대 매장의 개수\n",
    "    'set_date': '' #?\n",
    "})\n",
    "starbucks = request.json()\n",
    "#print(type(starbucks))\n",
    "#print(starbucks)"
   ],
   "metadata": {
    "collapsed": false,
    "ExecuteTime": {
     "start_time": "2023-08-24T17:46:04.359823Z",
     "end_time": "2023-08-24T17:46:05.126592Z"
    }
   }
  },
  {
   "cell_type": "code",
   "execution_count": null,
   "outputs": [],
   "source": [
    "# pandas.io.json 모듈의 json_normalize() 함수로 json 타입의 데이터가 변환된 딕셔너리를 판다스 데이터프레임으로 변환한다.\n",
    "# json_nomalize(딕셔너리, '데이터프레임으로 변환할 데이터가 할당된 딕셔너리의 key')\n",
    "starbucks_df = pd.json_normalize(starbucks, 'list')\n",
    "print(type(starbucks_df)) # <class 'pandas.core.frame.DataFrame'>\n",
    "print(len(starbucks_df))\n",
    "print(starbucks_df.columns)"
   ],
   "metadata": {
    "collapsed": false,
    "ExecuteTime": {
     "start_time": "2023-08-24T17:46:05.126592Z",
     "end_time": "2023-08-24T17:46:05.220352Z"
    }
   }
  },
  {
   "cell_type": "markdown",
   "source": [
    "데이터프레임으로 변환하니 서울에 있는 스타벅스 지점은 601개고 각 지점당 131개의 컬럼으로 정보를 표시하고 있다.\n",
    "작업에 필요한 컬럼 몇 가지를 선택해서 지도에 마커를 표시할 때, 사용할 데이터가 저장된 데이터프레임을 만든다.\n",
    "s_name => 지점이름\n",
    "sido_code => 시도코드\n",
    "sido_name => 시도이름\n",
    "gugun_code => 구군코드\n",
    " gugun_name => 구군이름\n",
    " doro_address => 도로명주소\n",
    " lat => 위도\n",
    " lot => 경도"
   ],
   "metadata": {
    "collapsed": false
   }
  },
  {
   "cell_type": "code",
   "execution_count": null,
   "outputs": [],
   "source": [
    "# - 판다스 데이터프레임에서 특정 컬럼의 데이터를 얻어올 때 얻어올 컬럼이 1개라면 컬럼 이름만 적어도 되지만 얻어올 칼럼이 2개 이상일 경우\n",
    "# 얻어올 컬럼들을 반드시 리스트로 만들어서 얻어와야 한다.\n",
    "starbucks_df_map = starbucks_df[\n",
    "    [\n",
    "        's_name' ,\n",
    "        'sido_code',\n",
    "        'sido_name',\n",
    "        'gugun_code',\n",
    "        'gugun_name',\n",
    "        'doro_address',\n",
    "        'lat',\n",
    "        'lot'\n",
    "    ]\n",
    "]\n",
    "starbucks_df_map"
   ],
   "metadata": {
    "collapsed": false,
    "ExecuteTime": {
     "start_time": "2023-08-24T17:46:05.220352Z",
     "end_time": "2023-08-24T17:46:05.268389Z"
    }
   }
  },
  {
   "cell_type": "code",
   "execution_count": null,
   "outputs": [],
   "source": [
    "# dtype 속성으로 데이터 프레임을 구성하는 컬럼들의 자료형을 확인할 수 있다.\n",
    "starbucks_df_map.dtypes"
   ],
   "metadata": {
    "collapsed": false,
    "ExecuteTime": {
     "start_time": "2023-08-24T17:46:05.237832Z",
     "end_time": "2023-08-24T17:46:05.268389Z"
    }
   }
  },
  {
   "cell_type": "code",
   "execution_count": null,
   "outputs": [],
   "source": [
    "# info() 메소드를 사용해도 데이터프레임을 구성하는 컬럼들의 자료형을 확인할 수 있다.\n",
    "starbucks_df_map.info()"
   ],
   "metadata": {
    "collapsed": false,
    "ExecuteTime": {
     "start_time": "2023-08-24T17:46:05.252652Z",
     "end_time": "2023-08-24T17:46:05.268389Z"
    }
   }
  },
  {
   "cell_type": "code",
   "execution_count": null,
   "outputs": [],
   "source": [
    "# astype() 메소드로 위도, 경도 데이터 타입을 object에서 float으로 변환한다.\n",
    "starbucks_df_map['lat'] = starbucks_df_map['lat'].astype(float)\n",
    "starbucks_df_map['lot'] = starbucks_df_map['lot'].astype(float)\n",
    "starbucks_df_map.info()"
   ],
   "metadata": {
    "collapsed": false,
    "ExecuteTime": {
     "start_time": "2023-08-24T17:46:05.283413Z",
     "end_time": "2023-08-24T17:46:05.332517Z"
    }
   }
  },
  {
   "cell_type": "code",
   "execution_count": null,
   "outputs": [],
   "source": [
    "# 종각점\n",
    "starbucsk_df_map[starbucsk_df_map['s_name'] == '종로관철']"
   ],
   "metadata": {
    "collapsed": false,
    "ExecuteTime": {
     "start_time": "2023-08-24T17:47:30.900677Z",
     "end_time": "2023-08-24T17:47:30.947727Z"
    }
   }
  },
  {
   "cell_type": "code",
   "execution_count": null,
   "outputs": [],
   "source": [
    "starbucksMap = folium.Map(location=[37.56961146 , 126.9840133], zoom_start=17)\n",
    "popup = folium.Popup('종각점',max_width=300)\n",
    "folium.Marker(location=[37.569918,126.984528] , popup=popup).add_to(starbucksMap)\n",
    "popup = folium.Popup('종로관철',max_width=300)\n",
    "folium.Marker(location=[37.569058,126.986013] , popup=popup).add_to(starbucksMap)\n",
    "popup = folium.Popup('종로구청',max_width=300)\n",
    "folium.Marker(location=[37.572662,126.981138] , popup=popup).add_to(starbucksMap)\n",
    "starbucksMap.save('./starMap1.html')\n",
    "starbucksMap"
   ],
   "metadata": {
    "collapsed": false,
    "ExecuteTime": {
     "start_time": "2023-08-24T17:47:47.522777Z",
     "end_time": "2023-08-24T17:47:47.554123Z"
    }
   }
  },
  {
   "cell_type": "code",
   "execution_count": null,
   "outputs": [],
   "source": [
    "# - 서울특별시에 위치한 스타벅스 전 지점의 위치를 지도위에 표시한다.\n",
    "# - 지도를 작성할 때 지도의 중심으로 설정할 위치가 애매할 경우 지도위에 표시할 모든 스타벅스 지점에 위도와 경도의 평균을 중심으로 하는 지도를 만들어 사용하면 된다.\n",
    "# - 데이터프레임에 저장된 데이터의 평균은 maen() 메소드를 사용해 표시한다.\n",
    "starbucksMap = folium.Map(location=[starbucks_df_map['lat'].mean() , starbucks_df_map['lot'].mean()], zoom_start=17)\n",
    "\n",
    "# iterrows() 메소드는 데이터프레임에 저장된 데이터의 인덱스와 데이터를 리턴한다.\n",
    "for index, data in starbucks_df_map.iterrows():\n",
    "    # print(index, data)\n",
    "    popup = folium.Popup('{}. {} -{}'.format(index+1 , data['s_name'], data['doro_address']) , max_width=300)\n",
    "    folium.Marker(location=[data['lat'],data['lot']] , popup=popup).add_to(starbucksMap)\n",
    "starbucksMap.save('./starMap2.html')\n",
    "starbucksMap"
   ],
   "metadata": {
    "collapsed": false,
    "ExecuteTime": {
     "start_time": "2023-08-24T17:58:17.715462Z",
     "end_time": "2023-08-24T17:58:18.590240Z"
    }
   }
  },
  {
   "cell_type": "code",
   "execution_count": null,
   "outputs": [],
   "source": [],
   "metadata": {
    "collapsed": false
   }
  },
  {
   "cell_type": "code",
   "execution_count": 68,
   "outputs": [],
   "source": [
    "targetSite = 'https://www.starbucks.co.kr/store/getStore.do?r=HBSCEBENZ1'\n",
    "request = requests.post(targetSite, data={\n",
    "    'ins_lat': 37.563398, # 위도\n",
    "    'ins_lng': 126.9863309, # 경도\n",
    "    'p_sido_cd': '', # 시도코드\n",
    "    'p_gugun_cd': '', # 구군코드\n",
    "    'in_biz_cd': '', # ?\n",
    "    'iend': 1900, # 서버가 응답하는 최대 매장의 개수\n",
    "    'set_date': '' #?\n",
    "})\n",
    "starbucks = request.json()\n",
    "starbucks_df = pd.json_normalize(starbucks, 'list')\n",
    "starbucks_df_map = starbucks_df[ [ 's_name' ,   'sido_code',  'sido_name',  'gugun_code', 'gugun_name', 'doro_address', 'lat',  'lot' ]]\n",
    "starbucks_df_map['lat'] = starbucks_df_map['lat'].astype(float)\n",
    "starbucks_df_map['lot'] = starbucks_df_map['lot'].astype(float)\n",
    "\n",
    "starbucksMap = folium.Map(location=[starbucks_df_map['lat'].mean() , starbucks_df_map['lot'].mean()], zoom_start=17)\n",
    "for index, data in starbucks_df_map.iterrows():\n",
    "    popup = folium.Popup('{}. {} -{}'.format(index+1 , data['s_name'], data['doro_address']) , max_width=300)\n",
    "    folium.Marker(location=[data['lat'],data['lot']] , popup=popup).add_to(starbucksMap)\n",
    "starbucksMap.save('./starMap3.html')\n",
    "# starbucksMap"
   ],
   "metadata": {
    "collapsed": false,
    "ExecuteTime": {
     "start_time": "2023-08-24T18:09:56.935179Z",
     "end_time": "2023-08-24T18:10:00.210023Z"
    }
   }
  },
  {
   "cell_type": "code",
   "execution_count": 69,
   "outputs": [],
   "source": [
    "# 전국 스타벅스 지도\n",
    "targetSite = 'https://www.starbucks.co.kr/store/getStore.do?r=HBSCEBENZ1'\n",
    "request = requests.post(targetSite, data={\n",
    "    'ins_lat': 37.563398, # 위도\n",
    "    'ins_lng': 126.9863309, # 경도\n",
    "    'p_sido_cd': '', # 시도코드\n",
    "    'p_gugun_cd': '', # 구군코드\n",
    "    'in_biz_cd': '', # ?\n",
    "    'iend': 1900, # 서버가 응답하는 최대 매장의 개수\n",
    "    'set_date': '' #?\n",
    "})\n",
    "starbucks = request.json()\n",
    "starbucks_df = pd.json_normalize(starbucks, 'list')\n",
    "starbucks_df_map = starbucks_df[ [ 's_name' ,   'sido_code',  'sido_name',  'gugun_code', 'gugun_name', 'doro_address', 'lat',  'lot' ]]\n",
    "starbucks_df_map['lat'] = starbucks_df_map['lat'].astype(float)\n",
    "starbucks_df_map['lot'] = starbucks_df_map['lot'].astype(float)\n",
    "\n",
    "starbucksMap = folium.Map(location=[starbucks_df_map['lat'].mean() , starbucks_df_map['lot'].mean()], zoom_start=8)\n",
    "for index, data in starbucks_df_map.iterrows():\n",
    "    popup = folium.Popup('{}. {} -{}'.format(index+1 , data['s_name'], data['doro_address']) , max_width=300)\n",
    "    folium.Marker(location=[data['lat'],data['lot']] , popup=popup).add_to(starbucksMap)\n",
    "starbucksMap.save('./starMap3.html')\n",
    "# starbucksMap"
   ],
   "metadata": {
    "collapsed": false,
    "ExecuteTime": {
     "start_time": "2023-08-24T18:10:23.071885Z",
     "end_time": "2023-08-24T18:10:26.648579Z"
    }
   }
  }
 ],
 "metadata": {
  "kernelspec": {
   "display_name": "Python 3",
   "language": "python",
   "name": "python3"
  },
  "language_info": {
   "codemirror_mode": {
    "name": "ipython",
    "version": 2
   },
   "file_extension": ".py",
   "mimetype": "text/x-python",
   "name": "python",
   "nbconvert_exporter": "python",
   "pygments_lexer": "ipython2",
   "version": "2.7.6"
  }
 },
 "nbformat": 4,
 "nbformat_minor": 0
}
