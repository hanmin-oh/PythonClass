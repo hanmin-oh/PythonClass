{
 "cells": [
  {
   "cell_type": "code",
   "execution_count": 9,
   "outputs": [],
   "source": [
    "# !pip install folium\n",
    "# folium 라이브러리를 사용하면 지도를 이용한 시각화를 할 수 있다.\n",
    "# folium 라이브러리를 설치하고 import 한다.\n",
    "import folium"
   ],
   "metadata": {
    "collapsed": false,
    "ExecuteTime": {
     "start_time": "2023-08-24T16:21:48.903364Z",
     "end_time": "2023-08-24T16:21:48.921363Z"
    }
   }
  },
  {
   "cell_type": "code",
   "execution_count": 26,
   "outputs": [],
   "source": [
    "# folium 라이브러리의 Map() 메소드의 location 속성에 지정한 위치(위도, 경도)를 중심으로 하는 zoom_start 옵션으로 지정한 배율을 사용하는 지도를 만든다.\n",
    "foliumMap = folium.Map(location=[37.64918723 , 126.77714813], zoom_start=18)\n",
    "\n",
    "#  - folium 라이브러리의 Marker() 메소드의 location 속성으로 지정한 위치에 popup 속성으로 지정한 문자열을 표시하는 marker를 만든다.\n",
    "#  - 작성된 marker는 add_to() 메소드를 사용해서 folium 라이브러리로 생성한 지도에 추가한다.\n",
    "# folium.Marker(location=[37.735972140257, 126.759841042896] , popup='스타벅스 파주가람점').add_to(foliumMap)\n",
    "\n",
    "# marker를 클릭했을 때 팝업되는 말풍선의 크기가 마음에 들지 않으면 folium 라이브러리의 Popup() 메소드에서 max_width 속성으로 말풍선의 최대 가로 크기를 지정할 수 있다.\n",
    "popup = folium.Popup('스타벅스 파주가람점' , max_width=300)\n",
    "folium.Marker(location=[37.735972140257, 126.759841042896] , popup=popup).add_to(foliumMap)\n",
    "\n",
    "# jupyter notebook에서 popup으로 표시되는 한글이 깨져서 보일 수 있다.\n",
    "# save() 메소드로 folium을 사용해서 작성한 지도를 html 파일로 저장할 수 있고 html 파일에서는 popup 속성에 지정한 한글이 깨지지 않고 정상적으로 보인다.\n",
    "foliumMap.save('./foliumMap.html')\n",
    "\n",
    "# foliumMap"
   ],
   "metadata": {
    "collapsed": false,
    "ExecuteTime": {
     "start_time": "2023-08-24T16:45:36.735455Z",
     "end_time": "2023-08-24T16:45:36.751173Z"
    }
   }
  }
 ],
 "metadata": {
  "kernelspec": {
   "display_name": "Python 3",
   "language": "python",
   "name": "python3"
  },
  "language_info": {
   "codemirror_mode": {
    "name": "ipython",
    "version": 2
   },
   "file_extension": ".py",
   "mimetype": "text/x-python",
   "name": "python",
   "nbconvert_exporter": "python",
   "pygments_lexer": "ipython2",
   "version": "2.7.6"
  }
 },
 "nbformat": 4,
 "nbformat_minor": 0
}
