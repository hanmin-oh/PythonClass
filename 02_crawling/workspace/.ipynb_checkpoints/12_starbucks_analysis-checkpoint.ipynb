{
 "cells": [
  {
   "cell_type": "code",
   "execution_count": 1,
   "metadata": {
    "ExecuteTime": {
     "end_time": "2023-08-28T09:19:01.428992Z",
     "start_time": "2023-08-28T09:19:00.444586Z"
    }
   },
   "outputs": [],
   "source": [
    "import warnings\n",
    "warnings.filterwarnings(action='ignore')\n",
    "%config Computer.use_jedi = False\n",
    "import requests\n",
    "import folium\n",
    "# !pip install pandas # 파이썬 데이터 처리\n",
    "import pandas as pd"
   ]
  },
  {
   "cell_type": "markdown",
   "metadata": {},
   "source": [
    "# 전국 또는 특정 지역의 스타벅스 매장 위치 정보를 가져와서 지도 위에 표시하기\n",
    "\n",
    "- requests 모듈로 스타벅스 매장의 위치 정보를 가져와서 딕셔너리 타입으로 변환한다.\n",
    "- json_normalize() 함수로 json 타입의 데이터가 변환된 딕셔너리를 판다스 데이터프레임으로 변환한다.\n",
    "- folium 모듈을 사용해서 표시하고 지도위에 스타벅스 매장 위치를 마커로 표시한다."
   ]
  },
  {
   "cell_type": "code",
   "execution_count": 2,
   "metadata": {
    "ExecuteTime": {
     "end_time": "2023-08-28T09:19:04.493824Z",
     "start_time": "2023-08-28T09:19:01.433753Z"
    }
   },
   "outputs": [],
   "source": [
    "# 서울 스타벅스 전 지점\n",
    "targetSite = 'https://www.starbucks.co.kr/store/getStore.do?r=HBSCEBENZ1'\n",
    "request = requests.post(targetSite, data={\n",
    "    'ins_lat': 37.563398, # 위도\n",
    "    'ins_lng': 126.9863309, # 경도\n",
    "    'p_sido_cd': '', # 시도코드\n",
    "    'p_gugun_cd': '', # 구군코드\n",
    "    'in_biz_cd': '', # ?\n",
    "    'iend': 1900, # 서버가 응답하는 최대 매장의 개수\n",
    "    'set_date': '' #?\n",
    "})\n",
    "starbucks = request.json()\n",
    "#print(type(starbucks))\n",
    "#print(starbucks)"
   ]
  },
  {
   "cell_type": "code",
   "execution_count": 3,
   "metadata": {
    "ExecuteTime": {
     "end_time": "2023-08-28T09:19:04.802610Z",
     "start_time": "2023-08-28T09:19:04.493824Z"
    }
   },
   "outputs": [
    {
     "name": "stdout",
     "output_type": "stream",
     "text": [
      "<class 'pandas.core.frame.DataFrame'>\n",
      "1846\n",
      "Index(['seq', 'sido_cd', 'sido_nm', 'gugun_cd', 'gugun_nm', 'code_order',\n",
      "       'view_yn', 'store_num', 'sido', 'gugun',\n",
      "       ...\n",
      "       'p90', 'p01', 't05', 't30', 't36', 't27', 't29', 't43', 't48', 'z9999'],\n",
      "      dtype='object', length=131)\n"
     ]
    }
   ],
   "source": [
    "# pandas.io.json 모듈의 json_normalize() 함수로 json 타입의 데이터가 변환된 딕셔너리를 판다스 데이터프레임으로 변환한다.\n",
    "# json_nomalize(딕셔너리, '데이터프레임으로 변환할 데이터가 할당된 딕셔너리의 key')\n",
    "starbucks_df = pd.json_normalize(starbucks, 'list')\n",
    "print(type(starbucks_df)) # <class 'pandas.core.frame.DataFrame'>\n",
    "print(len(starbucks_df))\n",
    "print(starbucks_df.columns)"
   ]
  },
  {
   "cell_type": "markdown",
   "metadata": {},
   "source": [
    "데이터프레임으로 변환하니 서울에 있는 스타벅스 지점은 601개고 각 지점당 131개의 컬럼으로 정보를 표시하고 있다.\n",
    "작업에 필요한 컬럼 몇 가지를 선택해서 지도에 마커를 표시할 때, 사용할 데이터가 저장된 데이터프레임을 만든다.\n",
    "s_name => 지점이름\n",
    "sido_code => 시도코드\n",
    "sido_name => 시도이름\n",
    "gugun_code => 구군코드\n",
    " gugun_name => 구군이름\n",
    " doro_address => 도로명주소\n",
    " lat => 위도\n",
    " lot => 경도"
   ]
  },
  {
   "cell_type": "code",
   "execution_count": 4,
   "metadata": {
    "ExecuteTime": {
     "end_time": "2023-08-28T09:19:04.904233Z",
     "start_time": "2023-08-28T09:19:04.802610Z"
    }
   },
   "outputs": [
    {
     "data": {
      "text/html": [
       "<div>\n",
       "<style scoped>\n",
       "    .dataframe tbody tr th:only-of-type {\n",
       "        vertical-align: middle;\n",
       "    }\n",
       "\n",
       "    .dataframe tbody tr th {\n",
       "        vertical-align: top;\n",
       "    }\n",
       "\n",
       "    .dataframe thead th {\n",
       "        text-align: right;\n",
       "    }\n",
       "</style>\n",
       "<table border=\"1\" class=\"dataframe\">\n",
       "  <thead>\n",
       "    <tr style=\"text-align: right;\">\n",
       "      <th></th>\n",
       "      <th>s_name</th>\n",
       "      <th>sido_code</th>\n",
       "      <th>sido_name</th>\n",
       "      <th>gugun_code</th>\n",
       "      <th>gugun_name</th>\n",
       "      <th>doro_address</th>\n",
       "      <th>lat</th>\n",
       "      <th>lot</th>\n",
       "    </tr>\n",
       "  </thead>\n",
       "  <tbody>\n",
       "    <tr>\n",
       "      <th>0</th>\n",
       "      <td>현대동구5F</td>\n",
       "      <td>06</td>\n",
       "      <td>울산</td>\n",
       "      <td>0605</td>\n",
       "      <td>동구</td>\n",
       "      <td>울산광역시 동구 방어진순환도로 899 (서부동)</td>\n",
       "      <td>35.521660</td>\n",
       "      <td>129.431357</td>\n",
       "    </tr>\n",
       "    <tr>\n",
       "      <th>1</th>\n",
       "      <td>미금역사거리</td>\n",
       "      <td>08</td>\n",
       "      <td>경기</td>\n",
       "      <td>0811</td>\n",
       "      <td>성남시 분당구</td>\n",
       "      <td>경기도 성남시 분당구 성남대로 151 (구미동)</td>\n",
       "      <td>37.349605</td>\n",
       "      <td>127.108302</td>\n",
       "    </tr>\n",
       "    <tr>\n",
       "      <th>2</th>\n",
       "      <td>울산간절곶</td>\n",
       "      <td>06</td>\n",
       "      <td>울산</td>\n",
       "      <td>0603</td>\n",
       "      <td>울주군</td>\n",
       "      <td>울산광역시 울주군 서생면 대송리 25-18</td>\n",
       "      <td>35.3590048</td>\n",
       "      <td>129.3591978</td>\n",
       "    </tr>\n",
       "    <tr>\n",
       "      <th>3</th>\n",
       "      <td>송파마천사거리DT</td>\n",
       "      <td>01</td>\n",
       "      <td>서울</td>\n",
       "      <td>0114</td>\n",
       "      <td>송파구</td>\n",
       "      <td>서울특별시 송파구 거마로 78 (마천동)</td>\n",
       "      <td>37.499829</td>\n",
       "      <td>127.147672</td>\n",
       "    </tr>\n",
       "    <tr>\n",
       "      <th>4</th>\n",
       "      <td>그랜드조선 부산</td>\n",
       "      <td>05</td>\n",
       "      <td>부산</td>\n",
       "      <td>0516</td>\n",
       "      <td>해운대구</td>\n",
       "      <td>부산광역시 해운대구 해운대해변로 292 (중동)</td>\n",
       "      <td>35.1600338</td>\n",
       "      <td>129.1630512</td>\n",
       "    </tr>\n",
       "    <tr>\n",
       "      <th>...</th>\n",
       "      <td>...</td>\n",
       "      <td>...</td>\n",
       "      <td>...</td>\n",
       "      <td>...</td>\n",
       "      <td>...</td>\n",
       "      <td>...</td>\n",
       "      <td>...</td>\n",
       "      <td>...</td>\n",
       "    </tr>\n",
       "    <tr>\n",
       "      <th>1841</th>\n",
       "      <td>수원경수인계DT</td>\n",
       "      <td>08</td>\n",
       "      <td>경기</td>\n",
       "      <td>0815</td>\n",
       "      <td>수원시 팔달구</td>\n",
       "      <td>경기도 수원시 팔달구 경수대로 499 (인계동)</td>\n",
       "      <td>37.270568</td>\n",
       "      <td>127.027566</td>\n",
       "    </tr>\n",
       "    <tr>\n",
       "      <th>1842</th>\n",
       "      <td>호계지식산업센터</td>\n",
       "      <td>08</td>\n",
       "      <td>경기</td>\n",
       "      <td>0819</td>\n",
       "      <td>안양시 동안구</td>\n",
       "      <td>경기도 안양시 동안구 엘에스로 122 (호계동) 118~123호</td>\n",
       "      <td>37.372351</td>\n",
       "      <td>126.948665</td>\n",
       "    </tr>\n",
       "    <tr>\n",
       "      <th>1843</th>\n",
       "      <td>안동이마트</td>\n",
       "      <td>11</td>\n",
       "      <td>경북</td>\n",
       "      <td>1123</td>\n",
       "      <td>안동시</td>\n",
       "      <td>경상북도 안동시 옥동1길 2 (옥동)</td>\n",
       "      <td>36.558505</td>\n",
       "      <td>128.699308</td>\n",
       "    </tr>\n",
       "    <tr>\n",
       "      <th>1844</th>\n",
       "      <td>월계역</td>\n",
       "      <td>01</td>\n",
       "      <td>서울</td>\n",
       "      <td>0107</td>\n",
       "      <td>노원구</td>\n",
       "      <td>서울특별시 노원구 초안산로2라길26 월계동(104,105,106호)</td>\n",
       "      <td>37.6295</td>\n",
       "      <td>127.0574</td>\n",
       "    </tr>\n",
       "    <tr>\n",
       "      <th>1845</th>\n",
       "      <td>광교갤러리아9F</td>\n",
       "      <td>08</td>\n",
       "      <td>경기</td>\n",
       "      <td>0839</td>\n",
       "      <td>수원시 영통구</td>\n",
       "      <td>경기도 수원시 영통구 광교호수공원로 320 (하동)</td>\n",
       "      <td>37.2850653</td>\n",
       "      <td>127.0572660</td>\n",
       "    </tr>\n",
       "  </tbody>\n",
       "</table>\n",
       "<p>1846 rows × 8 columns</p>\n",
       "</div>"
      ],
      "text/plain": [
       "         s_name sido_code sido_name gugun_code gugun_name  \\\n",
       "0        현대동구5F        06        울산       0605         동구   \n",
       "1        미금역사거리        08        경기       0811    성남시 분당구   \n",
       "2         울산간절곶        06        울산       0603        울주군   \n",
       "3     송파마천사거리DT        01        서울       0114        송파구   \n",
       "4      그랜드조선 부산        05        부산       0516       해운대구   \n",
       "...         ...       ...       ...        ...        ...   \n",
       "1841   수원경수인계DT        08        경기       0815    수원시 팔달구   \n",
       "1842   호계지식산업센터        08        경기       0819    안양시 동안구   \n",
       "1843      안동이마트        11        경북       1123        안동시   \n",
       "1844        월계역        01        서울       0107        노원구   \n",
       "1845   광교갤러리아9F        08        경기       0839    수원시 영통구   \n",
       "\n",
       "                               doro_address         lat          lot  \n",
       "0                울산광역시 동구 방어진순환도로 899 (서부동)   35.521660   129.431357  \n",
       "1                경기도 성남시 분당구 성남대로 151 (구미동)   37.349605   127.108302  \n",
       "2                   울산광역시 울주군 서생면 대송리 25-18  35.3590048  129.3591978  \n",
       "3                    서울특별시 송파구 거마로 78 (마천동)   37.499829   127.147672  \n",
       "4                부산광역시 해운대구 해운대해변로 292 (중동)  35.1600338  129.1630512  \n",
       "...                                     ...         ...          ...  \n",
       "1841             경기도 수원시 팔달구 경수대로 499 (인계동)   37.270568   127.027566  \n",
       "1842    경기도 안양시 동안구 엘에스로 122 (호계동) 118~123호   37.372351   126.948665  \n",
       "1843                   경상북도 안동시 옥동1길 2 (옥동)   36.558505   128.699308  \n",
       "1844  서울특별시 노원구 초안산로2라길26 월계동(104,105,106호)     37.6295     127.0574  \n",
       "1845           경기도 수원시 영통구 광교호수공원로 320 (하동)  37.2850653  127.0572660  \n",
       "\n",
       "[1846 rows x 8 columns]"
      ]
     },
     "execution_count": 4,
     "metadata": {},
     "output_type": "execute_result"
    }
   ],
   "source": [
    "# - 판다스 데이터프레임에서 특정 컬럼의 데이터를 얻어올 때 얻어올 컬럼이 1개라면 컬럼 이름만 적어도 되지만 얻어올 칼럼이 2개 이상일 경우\n",
    "# 얻어올 컬럼들을 반드시 리스트로 만들어서 얻어와야 한다.\n",
    "starbucks_df_map = starbucks_df[\n",
    "    [\n",
    "        's_name' ,\n",
    "        'sido_code',\n",
    "        'sido_name',\n",
    "        'gugun_code',\n",
    "        'gugun_name',\n",
    "        'doro_address',\n",
    "        'lat',\n",
    "        'lot'\n",
    "    ]\n",
    "]\n",
    "starbucks_df_map"
   ]
  },
  {
   "cell_type": "code",
   "execution_count": 5,
   "metadata": {
    "ExecuteTime": {
     "end_time": "2023-08-28T09:19:04.904233Z",
     "start_time": "2023-08-28T09:19:04.877065Z"
    }
   },
   "outputs": [
    {
     "data": {
      "text/plain": [
       "s_name          object\n",
       "sido_code       object\n",
       "sido_name       object\n",
       "gugun_code      object\n",
       "gugun_name      object\n",
       "doro_address    object\n",
       "lat             object\n",
       "lot             object\n",
       "dtype: object"
      ]
     },
     "execution_count": 5,
     "metadata": {},
     "output_type": "execute_result"
    }
   ],
   "source": [
    "# dtype 속성으로 데이터 프레임을 구성하는 컬럼들의 자료형을 확인할 수 있다.\n",
    "starbucks_df_map.dtypes"
   ]
  },
  {
   "cell_type": "code",
   "execution_count": 6,
   "metadata": {
    "ExecuteTime": {
     "end_time": "2023-08-28T09:19:04.992068Z",
     "start_time": "2023-08-28T09:19:04.888521Z"
    }
   },
   "outputs": [
    {
     "name": "stdout",
     "output_type": "stream",
     "text": [
      "<class 'pandas.core.frame.DataFrame'>\n",
      "RangeIndex: 1846 entries, 0 to 1845\n",
      "Data columns (total 8 columns):\n",
      " #   Column        Non-Null Count  Dtype \n",
      "---  ------        --------------  ----- \n",
      " 0   s_name        1846 non-null   object\n",
      " 1   sido_code     1846 non-null   object\n",
      " 2   sido_name     1846 non-null   object\n",
      " 3   gugun_code    1846 non-null   object\n",
      " 4   gugun_name    1833 non-null   object\n",
      " 5   doro_address  1846 non-null   object\n",
      " 6   lat           1846 non-null   object\n",
      " 7   lot           1846 non-null   object\n",
      "dtypes: object(8)\n",
      "memory usage: 115.5+ KB\n"
     ]
    }
   ],
   "source": [
    "# info() 메소드를 사용해도 데이터프레임을 구성하는 컬럼들의 자료형을 확인할 수 있다.\n",
    "starbucks_df_map.info()"
   ]
  },
  {
   "cell_type": "code",
   "execution_count": 7,
   "metadata": {
    "ExecuteTime": {
     "end_time": "2023-08-28T09:19:05.048086Z",
     "start_time": "2023-08-28T09:19:04.916509Z"
    }
   },
   "outputs": [
    {
     "name": "stdout",
     "output_type": "stream",
     "text": [
      "<class 'pandas.core.frame.DataFrame'>\n",
      "RangeIndex: 1846 entries, 0 to 1845\n",
      "Data columns (total 8 columns):\n",
      " #   Column        Non-Null Count  Dtype  \n",
      "---  ------        --------------  -----  \n",
      " 0   s_name        1846 non-null   object \n",
      " 1   sido_code     1846 non-null   object \n",
      " 2   sido_name     1846 non-null   object \n",
      " 3   gugun_code    1846 non-null   object \n",
      " 4   gugun_name    1833 non-null   object \n",
      " 5   doro_address  1846 non-null   object \n",
      " 6   lat           1846 non-null   float64\n",
      " 7   lot           1846 non-null   float64\n",
      "dtypes: float64(2), object(6)\n",
      "memory usage: 115.5+ KB\n"
     ]
    }
   ],
   "source": [
    "# astype() 메소드로 위도, 경도 데이터 타입을 object에서 float으로 변환한다.\n",
    "starbucks_df_map['lat'] = starbucks_df_map['lat'].astype(float)\n",
    "starbucks_df_map['lot'] = starbucks_df_map['lot'].astype(float)\n",
    "starbucks_df_map.info()"
   ]
  },
  {
   "cell_type": "code",
   "execution_count": 8,
   "metadata": {
    "ExecuteTime": {
     "end_time": "2023-08-24T17:47:30.947727Z",
     "start_time": "2023-08-24T17:47:30.900677Z"
    }
   },
   "outputs": [
    {
     "ename": "NameError",
     "evalue": "name 'starbucsk_df_map' is not defined",
     "output_type": "error",
     "traceback": [
      "\u001b[1;31m---------------------------------------------------------------------------\u001b[0m",
      "\u001b[1;31mNameError\u001b[0m                                 Traceback (most recent call last)",
      "Cell \u001b[1;32mIn[8], line 2\u001b[0m\n\u001b[0;32m      1\u001b[0m \u001b[38;5;66;03m# 종각점\u001b[39;00m\n\u001b[1;32m----> 2\u001b[0m \u001b[43mstarbucsk_df_map\u001b[49m[starbucsk_df_map[\u001b[38;5;124m'\u001b[39m\u001b[38;5;124ms_name\u001b[39m\u001b[38;5;124m'\u001b[39m] \u001b[38;5;241m==\u001b[39m \u001b[38;5;124m'\u001b[39m\u001b[38;5;124m종로관철\u001b[39m\u001b[38;5;124m'\u001b[39m]\n",
      "\u001b[1;31mNameError\u001b[0m: name 'starbucsk_df_map' is not defined"
     ]
    }
   ],
   "source": [
    "# 종각점\n",
    "# starbucsk_df_map[starbucsk_df_map['s_name'] == '종로관철']"
   ]
  },
  {
   "cell_type": "code",
   "execution_count": null,
   "metadata": {
    "ExecuteTime": {
     "end_time": "2023-08-25T09:32:56.083749Z",
     "start_time": "2023-08-25T09:32:56.021832Z"
    }
   },
   "outputs": [],
   "source": [
    "starbucksMap = folium.Map(location=[37.56961146 , 126.9840133], zoom_start=17)\n",
    "popup = folium.Popup('종각점',max_width=300)\n",
    "folium.Marker(location=[37.569918,126.984528] , popup=popup).add_to(starbucksMap)\n",
    "popup = folium.Popup('종로관철',max_width=300)\n",
    "folium.Marker(location=[37.569058,126.986013] , popup=popup).add_to(starbucksMap)\n",
    "popup = folium.Popup('종로구청',max_width=300)\n",
    "folium.Marker(location=[37.572662,126.981138] , popup=popup).add_to(starbucksMap)\n",
    "starbucksMap.save('./starMap1.html')\n",
    "starbucksMap"
   ]
  },
  {
   "cell_type": "code",
   "execution_count": null,
   "metadata": {
    "ExecuteTime": {
     "end_time": "2023-08-25T09:33:04.324972Z",
     "start_time": "2023-08-25T09:33:01.094011Z"
    }
   },
   "outputs": [],
   "source": [
    "# - 서울특별시에 위치한 스타벅스 전 지점의 위치를 지도위에 표시한다.\n",
    "# - 지도를 작성할 때 지도의 중심으로 설정할 위치가 애매할 경우 지도위에 표시할 모든 스타벅스 지점에 위도와 경도의 평균을 중심으로 하는 지도를 만들어 사용하면 된다.\n",
    "# - 데이터프레임에 저장된 데이터의 평균은 maen() 메소드를 사용해 표시한다.\n",
    "starbucksMap = folium.Map(location=[starbucks_df_map['lat'].mean() , starbucks_df_map['lot'].mean()], zoom_start=17)\n",
    "\n",
    "# iterrows() 메소드는 데이터프레임에 저장된 데이터의 인덱스와 데이터를 리턴한다.\n",
    "for index, data in starbucks_df_map.iterrows():\n",
    "    # print(index, data)\n",
    "    popup = folium.Popup('{}. {} -{}'.format(index+1 , data['s_name'], data['doro_address']) , max_width=300)\n",
    "    folium.Marker(location=[data['lat'],data['lot']] , popup=popup).add_to(starbucksMap)\n",
    "starbucksMap.save('./starMap2.html')\n",
    "starbucksMap"
   ]
  },
  {
   "cell_type": "code",
   "execution_count": 9,
   "metadata": {
    "ExecuteTime": {
     "end_time": "2023-08-24T18:10:00.210023Z",
     "start_time": "2023-08-24T18:09:56.935179Z"
    }
   },
   "outputs": [],
   "source": [
    "targetSite = 'https://www.starbucks.co.kr/store/getStore.do?r=HBSCEBENZ1'\n",
    "request = requests.post(targetSite, data={\n",
    "    'ins_lat': 37.563398, # 위도\n",
    "    'ins_lng': 126.9863309, # 경도\n",
    "    'p_sido_cd': '', # 시도코드\n",
    "    'p_gugun_cd': '', # 구군코드\n",
    "    'in_biz_cd': '', # ?\n",
    "    'iend': 1900, # 서버가 응답하는 최대 매장의 개수\n",
    "    'set_date': '' #?\n",
    "})\n",
    "starbucks = request.json()\n",
    "starbucks_df = pd.json_normalize(starbucks, 'list')\n",
    "starbucks_df_map = starbucks_df[ [ 's_name' ,   'sido_code',  'sido_name',  'gugun_code', 'gugun_name', 'doro_address', 'lat',  'lot' ]]\n",
    "starbucks_df_map['lat'] = starbucks_df_map['lat'].astype(float)\n",
    "starbucks_df_map['lot'] = starbucks_df_map['lot'].astype(float)\n",
    "\n",
    "starbucksMap = folium.Map(location=[starbucks_df_map['lat'].mean() , starbucks_df_map['lot'].mean()], zoom_start=17)\n",
    "for index, data in starbucks_df_map.iterrows():\n",
    "    popup = folium.Popup('{}. {} -{}'.format(index+1 , data['s_name'], data['doro_address']) , max_width=300)\n",
    "    folium.Marker(location=[data['lat'],data['lot']] , popup=popup).add_to(starbucksMap)\n",
    "starbucksMap.save('./starMap3.html')\n",
    "# starbucksMap"
   ]
  },
  {
   "cell_type": "code",
   "execution_count": null,
   "metadata": {
    "ExecuteTime": {
     "end_time": "2023-08-24T18:10:26.648579Z",
     "start_time": "2023-08-24T18:10:23.071885Z"
    }
   },
   "outputs": [],
   "source": [
    "# 전국 스타벅스 지도\n",
    "targetSite = 'https://www.starbucks.co.kr/store/getStore.do?r=HBSCEBENZ1'\n",
    "request = requests.post(targetSite, data={\n",
    "    'ins_lat': 37.563398, # 위도\n",
    "    'ins_lng': 126.9863309, # 경도\n",
    "    'p_sido_cd': '', # 시도코드\n",
    "    'p_gugun_cd': '', # 구군코드\n",
    "    'in_biz_cd': '', # ?\n",
    "    'iend': 1900, # 서버가 응답하는 최대 매장의 개수\n",
    "    'set_date': '' #?\n",
    "})\n",
    "starbucks = request.json()\n",
    "starbucks_df = pd.json_normalize(starbucks, 'list')\n",
    "starbucks_df_map = starbucks_df[ [ 's_name' ,   'sido_code',  'sido_name',  'gugun_code', 'gugun_name', 'doro_address', 'lat',  'lot' ]]\n",
    "starbucks_df_map['lat'] = starbucks_df_map['lat'].astype(float)\n",
    "starbucks_df_map['lot'] = starbucks_df_map['lot'].astype(float)\n",
    "\n",
    "starbucksMap = folium.Map(location=[starbucks_df_map['lat'].mean() , starbucks_df_map['lot'].mean()], zoom_start=8)\n",
    "for index, data in starbucks_df_map.iterrows():\n",
    "    popup = folium.Popup('{}. {} -{}'.format(index+1 , data['s_name'], data['doro_address']) , max_width=300)\n",
    "    folium.Marker(location=[data['lat'],data['lot']] , popup=popup).add_to(starbucksMap)\n",
    "starbucksMap.save('./starMap3.html')\n",
    "# starbucksMap"
   ]
  }
 ],
 "metadata": {
  "kernelspec": {
   "display_name": "Python 3 (ipykernel)",
   "language": "python",
   "name": "python3"
  },
  "language_info": {
   "codemirror_mode": {
    "name": "ipython",
    "version": 3
   },
   "file_extension": ".py",
   "mimetype": "text/x-python",
   "name": "python",
   "nbconvert_exporter": "python",
   "pygments_lexer": "ipython3",
   "version": "3.8.6"
  }
 },
 "nbformat": 4,
 "nbformat_minor": 1
}
