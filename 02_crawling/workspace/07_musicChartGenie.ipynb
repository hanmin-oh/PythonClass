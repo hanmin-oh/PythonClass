{
 "cells": [
  {
   "cell_type": "code",
   "execution_count": null,
   "outputs": [],
   "source": [
    "import warnings\n",
    "warnings.filterwarnings(action='ignore')\n",
    "%config Computer.use_jedi = False\n",
    "import requests\n",
    "from bs4 import BeautifulSoup\n",
    "from datetime import datetime as dt\n",
    "import time # sleep() 메소드를 사용하기 위해 import 한다."
   ],
   "metadata": {
    "collapsed": false,
    "ExecuteTime": {
     "start_time": "2023-08-24T10:43:30.592850Z",
     "end_time": "2023-08-24T10:43:30.689506Z"
    }
   }
  },
  {
   "cell_type": "code",
   "execution_count": null,
   "outputs": [],
   "source": [
    "# 타겟 사이트 주소 만들기\n",
    "#'https://www.genie.co.kr/chart/top200?ditc=D&ymd=20230823&hh=18&rtm=Y&pg=1' => 1~50\n",
    "#'https://www.genie.co.kr/chart/top200?ditc=D&ymd=20230823&hh=18&rtm=Y&pg=2' => 50~100\n",
    "#'https://www.genie.co.kr/chart/top200?ditc=D&ymd=20230823&hh=18&rtm=Y&pg=3' => 100~150\n",
    "#'https://www.genie.co.kr/chart/top200?ditc=D&ymd=20230823&hh=18&rtm=Y&pg=4' => 150~200\n",
    "url = 'https://www.genie.co.kr/chart/top200?ditc=D&ymd=20230823&hh=18&rtm=Y&pg='\n",
    "for i in range(1 , 5):\n",
    "    targetSite = url + str(i)\n",
    "    print(targetSite)"
   ],
   "metadata": {
    "collapsed": false,
    "ExecuteTime": {
     "start_time": "2023-08-24T10:43:30.618352Z",
     "end_time": "2023-08-24T10:43:30.689506Z"
    }
   }
  },
  {
   "cell_type": "code",
   "execution_count": null,
   "outputs": [],
   "source": [
    "targetSite = 'https://www.genie.co.kr/chart/top200?ditc=D&ymd=20230823&hh=18&rtm=Y&pg=1'\n",
    "header = {'User-agent': 'Mozilla/5.0 (Windows NT 6.3; WOW64; Trident/7.0; rv:11.0) like Gecko'}\n",
    "request = requests.get(targetSite, headers=header)\n",
    "html = request.text\n",
    "soup = BeautifulSoup(html, 'html.parser')"
   ],
   "metadata": {
    "collapsed": false,
    "ExecuteTime": {
     "start_time": "2023-08-24T10:43:30.633963Z",
     "end_time": "2023-08-24T10:43:31.198820Z"
    }
   }
  },
  {
   "cell_type": "code",
   "execution_count": null,
   "outputs": [],
   "source": [
    "# 노래 제목 크롤링\n",
    "titles = soup.findAll('a', {'class': 'title ellipsis'})\n",
    "# print(len(titles))\n",
    "# print(titles)\n",
    "\n",
    "for i in range(len(titles)):\n",
    "    # print('{:3d}위 {}'.format(i + 1, titles[i].text.strip()))\n",
    "    # print('{:3d}위 {}'.format(i + 1, titles[i].text.split('\\n')[-1].strip()))\n",
    "    print('{:3d}위 {}'.format(i + 1, titles[i].text.strip().split('\\n')[0]))"
   ],
   "metadata": {
    "collapsed": false,
    "ExecuteTime": {
     "start_time": "2023-08-24T10:43:31.198820Z",
     "end_time": "2023-08-24T10:43:31.261640Z"
    }
   }
  },
  {
   "cell_type": "code",
   "execution_count": null,
   "outputs": [],
   "source": [
    "# 아티스트 크롤링\n",
    "artists = soup.findAll('a' , {'class' , 'artist ellipsis'})\n",
    "# print(artists)\n",
    "print(len(artists))\n",
    "\n",
    "i=1\n",
    "for artist in artists[5:] :\n",
    "    print('{:3d}위 {}'.format(i , artist.text.strip()))\n",
    "    i += 1"
   ],
   "metadata": {
    "collapsed": false,
    "ExecuteTime": {
     "start_time": "2023-08-24T10:43:31.245983Z",
     "end_time": "2023-08-24T10:43:31.261640Z"
    }
   }
  },
  {
   "cell_type": "code",
   "execution_count": null,
   "outputs": [],
   "source": [
    "for i in range(len(artists[5:])) :\n",
    "    print('{:3d}위 {}'.format(i + 1 , artists[i+5].text.split('\\n')[0]))\n",
    "    # print('{:3d}위 {}'.format(i + 1 , artists[i].text.strip().split('\\n')[0]))"
   ],
   "metadata": {
    "collapsed": false,
    "ExecuteTime": {
     "start_time": "2023-08-24T10:43:31.261640Z",
     "end_time": "2023-08-24T10:43:31.275467Z"
    }
   }
  },
  {
   "cell_type": "code",
   "execution_count": null,
   "outputs": [],
   "source": [
    "for i in range(5 , len(artists)) :\n",
    "    print('{:3d}위 {}'.format(i - 4 , artists[i].text.strip().split('\\n')[0]))"
   ],
   "metadata": {
    "collapsed": false,
    "ExecuteTime": {
     "start_time": "2023-08-24T10:43:31.275467Z",
     "end_time": "2023-08-24T10:43:31.353772Z"
    }
   }
  },
  {
   "cell_type": "code",
   "execution_count": null,
   "outputs": [],
   "source": [
    "# 4페이지를 크롤링해서 결과를 하나의 리스트에 모아준다.\n",
    "genie = []\n",
    "url = 'https://www.genie.co.kr/chart/top200?ditc=D&ymd=20230823&hh=18&rtm=Y&pg='\n",
    "header = {'User-agent': 'Mozilla/5.0 (Windows NT 6.3; WOW64; Trident/7.0; rv:11.0) like Gecko'}\n",
    "for i in range(1,5):\n",
    "    targetSite = '{}{}'.format(url , i)\n",
    "    request = requests.get(targetSite, headers=header)\n",
    "    html = request.text\n",
    "    soup = BeautifulSoup(html, 'html.parser')\n",
    "\n",
    "    titles = soup.findAll('a', {'class': 'title ellipsis'})\n",
    "    artists = soup.findAll('a' , {'class' , 'artist ellipsis'})\n",
    "\n",
    "    for j in range(50) :\n",
    "        genie.append(\n",
    "            (artists[j + 5].text.strip().split('\\n')[0] , titles[j].text.strip().split('\\n')[0])\n",
    "        )\n",
    "print(genie)"
   ],
   "metadata": {
    "collapsed": false,
    "ExecuteTime": {
     "start_time": "2023-08-24T10:43:31.291226Z",
     "end_time": "2023-08-24T10:43:32.753554Z"
    }
   }
  },
  {
   "cell_type": "code",
   "execution_count": null,
   "outputs": [],
   "source": [
    "print(dt.now())\n",
    "for i in range(200) :\n",
    "    print('{:3d}위 {} - {}'.format(i + 1 , genie[i][0] , genie[i][1]))"
   ],
   "metadata": {
    "collapsed": false,
    "ExecuteTime": {
     "start_time": "2023-08-24T10:43:32.753554Z",
     "end_time": "2023-08-24T10:43:32.769178Z"
    }
   }
  },
  {
   "cell_type": "code",
   "execution_count": null,
   "outputs": [],
   "source": [
    "with open('./output/genieTOP200.txt' , 'w' , -1 , 'utf-8') as file:\n",
    "    file.write(str(dt.now().strftime('%y-%m-%d %H:%M:%S\\n')))\n",
    "    for i in range(200):\n",
    "        file.write('{:3d}위. {} - {}\\n '.format(i + 1 , genie[i][0] , genie[i][1]))\n",
    "\n",
    "print('genieTOP200.txt 파일로 쓰기 완료')"
   ],
   "metadata": {
    "collapsed": false,
    "ExecuteTime": {
     "start_time": "2023-08-24T10:43:32.777043Z",
     "end_time": "2023-08-24T10:43:32.847972Z"
    }
   }
  },
  {
   "cell_type": "code",
   "execution_count": null,
   "outputs": [],
   "source": [
    "# 텍스트 파일에 저장된 데이터를 읽어서 화면에 출력한다.\n",
    "try:\n",
    "    file = open('./output/genieTOP200.txt' , 'r' , -1 , 'utf-8')\n",
    "    lines = file.readlines()\n",
    "    for line in lines:\n",
    "        print(line.strip())\n",
    "except FileNotFoundError:\n",
    "    print('디스크에 파일이 없습니다.')"
   ],
   "metadata": {
    "collapsed": false,
    "ExecuteTime": {
     "start_time": "2023-08-24T10:45:38.204433Z",
     "end_time": "2023-08-24T10:45:38.267192Z"
    }
   }
  },
  {
   "cell_type": "code",
   "execution_count": null,
   "outputs": [],
   "source": [],
   "metadata": {
    "collapsed": false,
    "ExecuteTime": {
     "start_time": "2023-08-24T10:43:32.800809Z",
     "end_time": "2023-08-24T10:43:32.863528Z"
    }
   }
  },
  {
   "cell_type": "code",
   "execution_count": null,
   "outputs": [],
   "source": [],
   "metadata": {
    "collapsed": false,
    "ExecuteTime": {
     "start_time": "2023-08-24T10:43:32.817170Z",
     "end_time": "2023-08-24T10:43:32.863528Z"
    }
   }
  },
  {
   "cell_type": "code",
   "execution_count": null,
   "outputs": [],
   "source": [],
   "metadata": {
    "collapsed": false,
    "ExecuteTime": {
     "start_time": "2023-08-24T10:43:32.832176Z",
     "end_time": "2023-08-24T10:43:32.863528Z"
    }
   }
  },
  {
   "cell_type": "code",
   "execution_count": null,
   "outputs": [],
   "source": [],
   "metadata": {
    "collapsed": false,
    "ExecuteTime": {
     "start_time": "2023-08-24T10:43:32.847972Z",
     "end_time": "2023-08-24T10:43:32.863528Z"
    }
   }
  }
 ],
 "metadata": {
  "kernelspec": {
   "display_name": "Python 3",
   "language": "python",
   "name": "python3"
  },
  "language_info": {
   "codemirror_mode": {
    "name": "ipython",
    "version": 2
   },
   "file_extension": ".py",
   "mimetype": "text/x-python",
   "name": "python",
   "nbconvert_exporter": "python",
   "pygments_lexer": "ipython2",
   "version": "2.7.6"
  }
 },
 "nbformat": 4,
 "nbformat_minor": 0
}
