{
 "cells": [
  {
   "cell_type": "code",
   "execution_count": 1,
   "metadata": {
    "ExecuteTime": {
     "end_time": "2023-08-28T09:18:08.569966Z",
     "start_time": "2023-08-28T09:18:05.417801Z"
    }
   },
   "outputs": [],
   "source": [
    "import warnings\n",
    "warnings.filterwarnings(action='ignore')\n",
    "%config Computer.use_jedi = False\n",
    "import requests\n",
    "import folium\n",
    "# !pip install pandas # 파이썬 데이터 처리\n",
    "import pandas as pd\n",
    "import matplotlib.pyplot as plt"
   ]
  },
  {
   "cell_type": "code",
   "execution_count": 2,
   "metadata": {},
   "outputs": [],
   "source": [
    "plt.rc('font', family='D2Coding')"
   ]
  },
  {
   "cell_type": "code",
   "execution_count": 90,
   "metadata": {
    "ExecuteTime": {
     "end_time": "2023-08-28T09:18:11.142798Z",
     "start_time": "2023-08-28T09:18:10.251470Z"
    },
    "scrolled": true
   },
   "outputs": [
    {
     "name": "stdout",
     "output_type": "stream",
     "text": [
      "<class 'dict'>\n",
      "{'data': [{'STD_DE': '2022-12-31', 'STATN_NO': 2, 'STATN_NM': '시청', 'TKALGHT_DIV_NM': '승차', 'TM05_PSNCNT': 35, 'TM06_PSNCNT': 53, 'TM07_PSNCNT': 80, 'TM08_PSNCNT': 113, 'TM09_PSNCNT': 232, 'TM10_PSNCNT': 351, 'TM11_PSNCNT': 503, 'TM12_PSNCNT': 565, 'TM13_PSNCNT': 629, 'TM14_PSNCNT': 714, 'TM15_PSNCNT': 967, 'TM16_PSNCNT': 1202, 'TM17_PSNCNT': 1337, 'TM18_PSNCNT': 1351, 'TM19_PSNCNT': 1626, 'TM20_PSNCNT': 1003, 'TM21_PSNCNT': 889, 'TM22_PSNCNT': 657, 'TM23_PSNCNT': 355, 'TM24_PSNCNT': 1149}], 'total': 2270, 'count': 2270, 'page': 1, 'rows': 1, 'pages': 2270}\n"
     ]
    }
   ],
   "source": [
    "# 서울 지하철 승하차량\n",
    "targetSite = 'https://data.gg.go.kr/portal/data/sheet/searchSheetData.do?page=1'\n",
    "request = requests.post(targetSite, data={\n",
    "    'rows': '1',\n",
    "    'infId': '7GZ08I0JWSNPY5NVMLLG24313533',\n",
    "    'infSeq': 1,\n",
    "    'STATN_NM': '시청',\n",
    "    'TKALGHT_DIV_NM' : '',\n",
    "    'STD_DE' : '', \n",
    "    'STATN_NO' : '',\n",
    "    'TM05_PSNCNT' : '',\n",
    "    'TM06_PSNCNT': '',\n",
    "    'TM07_PSNCNT': '',\n",
    "    'TM08_PSNCNT': '',\n",
    "    'TM09_PSNCNT': '',\n",
    "    'TM10_PSNCNT': '',\n",
    "    'TM11_PSNCNT': '',\n",
    "    'TM12_PSNCNT': '',\n",
    "    'TM13_PSNCNT': '',\n",
    "    'TM14_PSNCNT': '',\n",
    "    'TM15_PSNCNT': '',\n",
    "    'TM16_PSNCNT': '',\n",
    "    'TM17_PSNCNT': '',\n",
    "    'TM18_PSNCNT': '',\n",
    "    'TM19_PSNCNT': '',\n",
    "    'TM20_PSNCNT': '',\n",
    "    'TM21_PSNCNT': '',\n",
    "    'TM22_PSNCNT': '',\n",
    "    'TM23_PSNCNT': '',\n",
    "    'TM24_PSNCNT': ''\n",
    "})\n",
    "subway = request.json()\n",
    "print(type(subway))\n",
    "print(subway)"
   ]
  },
  {
   "cell_type": "code",
   "execution_count": 91,
   "metadata": {},
   "outputs": [
    {
     "name": "stdout",
     "output_type": "stream",
     "text": [
      "<class 'pandas.core.frame.DataFrame'>\n",
      "1\n",
      "Index(['data', 'total', 'count', 'page', 'rows', 'pages'], dtype='object')\n"
     ]
    }
   ],
   "source": [
    "# pandas.io.json 모듈의 json_normalize() 함수로 json 타입의 데이터가 변환된 딕셔너리를 판다스 데이터프레임으로 변환한다.\n",
    "# json_nomalize(딕셔너리, '데이터프레임으로 변환할 데이터가 할당된 딕셔너리의 key')\n",
    "subway_df = pd.json_normalize(subway)\n",
    "print(type(subway_df)) # <class 'pandas.core.frame.DataFrame'>\n",
    "print(len(subway_df))\n",
    "print(subway_df.columns)\n",
    "# print(subway_df.info)"
   ]
  },
  {
   "cell_type": "code",
   "execution_count": 92,
   "metadata": {},
   "outputs": [
    {
     "data": {
      "text/html": [
       "<div>\n",
       "<style scoped>\n",
       "    .dataframe tbody tr th:only-of-type {\n",
       "        vertical-align: middle;\n",
       "    }\n",
       "\n",
       "    .dataframe tbody tr th {\n",
       "        vertical-align: top;\n",
       "    }\n",
       "\n",
       "    .dataframe thead th {\n",
       "        text-align: right;\n",
       "    }\n",
       "</style>\n",
       "<table border=\"1\" class=\"dataframe\">\n",
       "  <thead>\n",
       "    <tr style=\"text-align: right;\">\n",
       "      <th></th>\n",
       "      <th>data</th>\n",
       "      <th>total</th>\n",
       "      <th>count</th>\n",
       "      <th>page</th>\n",
       "      <th>rows</th>\n",
       "      <th>pages</th>\n",
       "    </tr>\n",
       "  </thead>\n",
       "  <tbody>\n",
       "    <tr>\n",
       "      <th>0</th>\n",
       "      <td>[{'STD_DE': '2022-12-31', 'STATN_NO': 2, 'STAT...</td>\n",
       "      <td>2270</td>\n",
       "      <td>2270</td>\n",
       "      <td>1</td>\n",
       "      <td>1</td>\n",
       "      <td>2270</td>\n",
       "    </tr>\n",
       "  </tbody>\n",
       "</table>\n",
       "</div>"
      ],
      "text/plain": [
       "                                                data  total  count  page  \\\n",
       "0  [{'STD_DE': '2022-12-31', 'STATN_NO': 2, 'STAT...   2270   2270     1   \n",
       "\n",
       "   rows  pages  \n",
       "0     1   2270  "
      ]
     },
     "execution_count": 92,
     "metadata": {},
     "output_type": "execute_result"
    }
   ],
   "source": [
    "subway_df_map = subway_df[\n",
    "    [\n",
    "    'data',\n",
    "    'total',\n",
    "    'count',\n",
    "    'page',\n",
    "    'rows',\n",
    "    'pages',\n",
    "    ]\n",
    "]\n",
    "subway_df_map"
   ]
  },
  {
   "cell_type": "code",
   "execution_count": 1,
   "metadata": {},
   "outputs": [
    {
     "ename": "NameError",
     "evalue": "name 'pd' is not defined",
     "output_type": "error",
     "traceback": [
      "\u001b[1;31m---------------------------------------------------------------------------\u001b[0m",
      "\u001b[1;31mNameError\u001b[0m                                 Traceback (most recent call last)",
      "Cell \u001b[1;32mIn[1], line 12\u001b[0m\n\u001b[0;32m      2\u001b[0m subway_data \u001b[38;5;241m=\u001b[39m {\n\u001b[0;32m      3\u001b[0m     \u001b[38;5;124m'\u001b[39m\u001b[38;5;124mdata\u001b[39m\u001b[38;5;124m'\u001b[39m: [{\u001b[38;5;124m'\u001b[39m\u001b[38;5;124mSTD_DE\u001b[39m\u001b[38;5;124m'\u001b[39m: \u001b[38;5;124m'\u001b[39m\u001b[38;5;124m'\u001b[39m, \u001b[38;5;124m'\u001b[39m\u001b[38;5;124mSTATN_NM\u001b[39m\u001b[38;5;124m'\u001b[39m: \u001b[38;5;124m'\u001b[39m\u001b[38;5;124m종각\u001b[39m\u001b[38;5;124m'\u001b[39m, \u001b[38;5;124m'\u001b[39m\u001b[38;5;124mTKALGHT_DIV_NM\u001b[39m\u001b[38;5;124m'\u001b[39m: \u001b[38;5;124m'\u001b[39m\u001b[38;5;124m'\u001b[39m, \u001b[38;5;124m'\u001b[39m\u001b[38;5;124mTM05_PSNCNT\u001b[39m\u001b[38;5;124m'\u001b[39m: \u001b[38;5;241m152\u001b[39m, \u001b[38;5;124m'\u001b[39m\u001b[38;5;124mTM06_PSNCNT\u001b[39m\u001b[38;5;124m'\u001b[39m: \u001b[38;5;241m107\u001b[39m, \u001b[38;5;124m'\u001b[39m\u001b[38;5;124mTM07_PSNCNT\u001b[39m\u001b[38;5;124m'\u001b[39m: \u001b[38;5;241m155\u001b[39m, \u001b[38;5;124m'\u001b[39m\u001b[38;5;124mTM08_PSNCNT\u001b[39m\u001b[38;5;124m'\u001b[39m: \u001b[38;5;241m249\u001b[39m, \u001b[38;5;124m'\u001b[39m\u001b[38;5;124mTM09_PSNCNT\u001b[39m\u001b[38;5;124m'\u001b[39m: \u001b[38;5;241m307\u001b[39m, \u001b[38;5;124m'\u001b[39m\u001b[38;5;124mTM10_PSNCNT\u001b[39m\u001b[38;5;124m'\u001b[39m: \u001b[38;5;241m421\u001b[39m, \u001b[38;5;124m'\u001b[39m\u001b[38;5;124mTM11_PSNCNT\u001b[39m\u001b[38;5;124m'\u001b[39m: \u001b[38;5;241m683\u001b[39m, \u001b[38;5;124m'\u001b[39m\u001b[38;5;124mTM12_PSNCNT\u001b[39m\u001b[38;5;124m'\u001b[39m: \u001b[38;5;241m929\u001b[39m, \u001b[38;5;124m'\u001b[39m\u001b[38;5;124mTM13_PSNCNT\u001b[39m\u001b[38;5;124m'\u001b[39m: \u001b[38;5;241m1048\u001b[39m, \u001b[38;5;124m'\u001b[39m\u001b[38;5;124mTM14_PSNCNT\u001b[39m\u001b[38;5;124m'\u001b[39m: \u001b[38;5;241m1261\u001b[39m, \u001b[38;5;124m'\u001b[39m\u001b[38;5;124mTM15_PSNCNT\u001b[39m\u001b[38;5;124m'\u001b[39m: \u001b[38;5;241m1749\u001b[39m, \u001b[38;5;124m'\u001b[39m\u001b[38;5;124mTM16_PSNCNT\u001b[39m\u001b[38;5;124m'\u001b[39m: \u001b[38;5;241m2022\u001b[39m, \u001b[38;5;124m'\u001b[39m\u001b[38;5;124mTM17_PSNCNT\u001b[39m\u001b[38;5;124m'\u001b[39m: \u001b[38;5;241m2098\u001b[39m, \u001b[38;5;124m'\u001b[39m\u001b[38;5;124mTM18_PSNCNT\u001b[39m\u001b[38;5;124m'\u001b[39m: \u001b[38;5;241m2055\u001b[39m, \u001b[38;5;124m'\u001b[39m\u001b[38;5;124mTM19_PSNCNT\u001b[39m\u001b[38;5;124m'\u001b[39m: \u001b[38;5;241m1825\u001b[39m, \u001b[38;5;124m'\u001b[39m\u001b[38;5;124mTM20_PSNCNT\u001b[39m\u001b[38;5;124m'\u001b[39m: \u001b[38;5;241m1951\u001b[39m, \u001b[38;5;124m'\u001b[39m\u001b[38;5;124mTM21_PSNCNT\u001b[39m\u001b[38;5;124m'\u001b[39m: \u001b[38;5;241m2233\u001b[39m, \u001b[38;5;124m'\u001b[39m\u001b[38;5;124mTM22_PSNCNT\u001b[39m\u001b[38;5;124m'\u001b[39m: \u001b[38;5;241m1382\u001b[39m, \u001b[38;5;124m'\u001b[39m\u001b[38;5;124mTM23_PSNCNT\u001b[39m\u001b[38;5;124m'\u001b[39m: \u001b[38;5;241m6\u001b[39m, \u001b[38;5;124m'\u001b[39m\u001b[38;5;124mTM24_PSNCNT\u001b[39m\u001b[38;5;124m'\u001b[39m: \u001b[38;5;241m498\u001b[39m}],\n\u001b[0;32m      4\u001b[0m     \u001b[38;5;124m'\u001b[39m\u001b[38;5;124mtotal\u001b[39m\u001b[38;5;124m'\u001b[39m: \u001b[38;5;241m756\u001b[39m,\n\u001b[1;32m   (...)\u001b[0m\n\u001b[0;32m      8\u001b[0m     \u001b[38;5;124m'\u001b[39m\u001b[38;5;124mpages\u001b[39m\u001b[38;5;124m'\u001b[39m: \u001b[38;5;241m756\u001b[39m\n\u001b[0;32m      9\u001b[0m }\n\u001b[0;32m     11\u001b[0m \u001b[38;5;66;03m# 데이터프레임 생성\u001b[39;00m\n\u001b[1;32m---> 12\u001b[0m subway_df \u001b[38;5;241m=\u001b[39m \u001b[43mpd\u001b[49m\u001b[38;5;241m.\u001b[39mjson_normalize(subway_data, \u001b[38;5;124m'\u001b[39m\u001b[38;5;124mdata\u001b[39m\u001b[38;5;124m'\u001b[39m)\n\u001b[0;32m     13\u001b[0m \u001b[38;5;28mprint\u001b[39m(subway_df)\n\u001b[0;32m     14\u001b[0m \u001b[38;5;28mprint\u001b[39m(\u001b[38;5;28mtype\u001b[39m(subway_df))\n",
      "\u001b[1;31mNameError\u001b[0m: name 'pd' is not defined"
     ]
    }
   ],
   "source": [
    "# 주어진 데이터\n",
    "subway_data = {\n",
    "    'data': [{'STD_DE': '', 'STATN_NM': '종각', 'TKALGHT_DIV_NM': '', 'TM05_PSNCNT': 152, 'TM06_PSNCNT': 107, 'TM07_PSNCNT': 155, 'TM08_PSNCNT': 249, 'TM09_PSNCNT': 307, 'TM10_PSNCNT': 421, 'TM11_PSNCNT': 683, 'TM12_PSNCNT': 929, 'TM13_PSNCNT': 1048, 'TM14_PSNCNT': 1261, 'TM15_PSNCNT': 1749, 'TM16_PSNCNT': 2022, 'TM17_PSNCNT': 2098, 'TM18_PSNCNT': 2055, 'TM19_PSNCNT': 1825, 'TM20_PSNCNT': 1951, 'TM21_PSNCNT': 2233, 'TM22_PSNCNT': 1382, 'TM23_PSNCNT': 6, 'TM24_PSNCNT': 498}],\n",
    "    'total': 756,\n",
    "    'count': 756,\n",
    "    'page': 1,\n",
    "    'rows': 1,\n",
    "    'pages': 756\n",
    "}\n",
    "\n",
    "# 데이터프레임 생성\n",
    "subway_df = pd.json_normalize(subway_data, 'data')\n",
    "print(subway_df)\n",
    "print(type(subway_df))"
   ]
  },
  {
   "cell_type": "code",
   "execution_count": 86,
   "metadata": {},
   "outputs": [
    {
     "data": {
      "text/html": [
       "<div>\n",
       "<style scoped>\n",
       "    .dataframe tbody tr th:only-of-type {\n",
       "        vertical-align: middle;\n",
       "    }\n",
       "\n",
       "    .dataframe tbody tr th {\n",
       "        vertical-align: top;\n",
       "    }\n",
       "\n",
       "    .dataframe thead th {\n",
       "        text-align: right;\n",
       "    }\n",
       "</style>\n",
       "<table border=\"1\" class=\"dataframe\">\n",
       "  <thead>\n",
       "    <tr style=\"text-align: right;\">\n",
       "      <th></th>\n",
       "      <th>STD_DE</th>\n",
       "      <th>STATN_NO</th>\n",
       "      <th>STATN_NM</th>\n",
       "      <th>TKALGHT_DIV_NM</th>\n",
       "      <th>TM05_PSNCNT</th>\n",
       "      <th>TM06_PSNCNT</th>\n",
       "      <th>TM07_PSNCNT</th>\n",
       "      <th>TM08_PSNCNT</th>\n",
       "      <th>TM09_PSNCNT</th>\n",
       "      <th>TM10_PSNCNT</th>\n",
       "      <th>...</th>\n",
       "      <th>TM15_PSNCNT</th>\n",
       "      <th>TM16_PSNCNT</th>\n",
       "      <th>TM17_PSNCNT</th>\n",
       "      <th>TM18_PSNCNT</th>\n",
       "      <th>TM19_PSNCNT</th>\n",
       "      <th>TM20_PSNCNT</th>\n",
       "      <th>TM21_PSNCNT</th>\n",
       "      <th>TM22_PSNCNT</th>\n",
       "      <th>TM23_PSNCNT</th>\n",
       "      <th>TM24_PSNCNT</th>\n",
       "    </tr>\n",
       "  </thead>\n",
       "  <tbody>\n",
       "    <tr>\n",
       "      <th>0</th>\n",
       "      <td></td>\n",
       "      <td>0</td>\n",
       "      <td></td>\n",
       "      <td></td>\n",
       "      <td>152</td>\n",
       "      <td>107</td>\n",
       "      <td>155</td>\n",
       "      <td>249</td>\n",
       "      <td>307</td>\n",
       "      <td>421</td>\n",
       "      <td>...</td>\n",
       "      <td>1749</td>\n",
       "      <td>2022</td>\n",
       "      <td>2098</td>\n",
       "      <td>2055</td>\n",
       "      <td>1825</td>\n",
       "      <td>1951</td>\n",
       "      <td>2233</td>\n",
       "      <td>1382</td>\n",
       "      <td>6</td>\n",
       "      <td>498</td>\n",
       "    </tr>\n",
       "  </tbody>\n",
       "</table>\n",
       "<p>1 rows × 24 columns</p>\n",
       "</div>"
      ],
      "text/plain": [
       "  STD_DE  STATN_NO STATN_NM TKALGHT_DIV_NM  TM05_PSNCNT  TM06_PSNCNT  \\\n",
       "0                0                                  152          107   \n",
       "\n",
       "   TM07_PSNCNT  TM08_PSNCNT  TM09_PSNCNT  TM10_PSNCNT  ...  TM15_PSNCNT  \\\n",
       "0          155          249          307          421  ...         1749   \n",
       "\n",
       "   TM16_PSNCNT  TM17_PSNCNT  TM18_PSNCNT  TM19_PSNCNT  TM20_PSNCNT  \\\n",
       "0         2022         2098         2055         1825         1951   \n",
       "\n",
       "   TM21_PSNCNT  TM22_PSNCNT  TM23_PSNCNT  TM24_PSNCNT  \n",
       "0         2233         1382            6          498  \n",
       "\n",
       "[1 rows x 24 columns]"
      ]
     },
     "execution_count": 86,
     "metadata": {},
     "output_type": "execute_result"
    }
   ],
   "source": [
    "subway_df_map = subway_df[\n",
    "    [\n",
    "    'STD_DE',\n",
    "    'STATN_NO',\n",
    "    'STATN_NM',\n",
    "    'TKALGHT_DIV_NM',\n",
    "    'TM05_PSNCNT',\n",
    "    'TM06_PSNCNT',\n",
    "    'TM07_PSNCNT',\n",
    "    'TM08_PSNCNT',\n",
    "    'TM09_PSNCNT',\n",
    "    'TM10_PSNCNT',\n",
    "    'TM11_PSNCNT',\n",
    "    'TM12_PSNCNT',\n",
    "    'TM13_PSNCNT',\n",
    "    'TM14_PSNCNT',\n",
    "    'TM15_PSNCNT',\n",
    "    'TM16_PSNCNT',\n",
    "    'TM17_PSNCNT',\n",
    "    'TM18_PSNCNT',\n",
    "    'TM19_PSNCNT',\n",
    "    'TM20_PSNCNT',\n",
    "    'TM21_PSNCNT',\n",
    "    'TM22_PSNCNT',\n",
    "    'TM23_PSNCNT',\n",
    "    'TM24_PSNCNT'\n",
    "    ]\n",
    "]\n",
    "subway_df_map"
   ]
  },
  {
   "cell_type": "markdown",
   "metadata": {},
   "source": [
    "# STATN_NM에 데이터 넣기\n",
    "statn_name = '종각'  # 원하는 역명을 입력하세요\n",
    "subway_df['STATN_NM'] = statn_name"
   ]
  },
  {
   "cell_type": "code",
   "execution_count": 87,
   "metadata": {},
   "outputs": [
    {
     "data": {
      "text/html": [
       "<div>\n",
       "<style scoped>\n",
       "    .dataframe tbody tr th:only-of-type {\n",
       "        vertical-align: middle;\n",
       "    }\n",
       "\n",
       "    .dataframe tbody tr th {\n",
       "        vertical-align: top;\n",
       "    }\n",
       "\n",
       "    .dataframe thead th {\n",
       "        text-align: right;\n",
       "    }\n",
       "</style>\n",
       "<table border=\"1\" class=\"dataframe\">\n",
       "  <thead>\n",
       "    <tr style=\"text-align: right;\">\n",
       "      <th></th>\n",
       "      <th>STD_DE</th>\n",
       "      <th>STATN_NO</th>\n",
       "      <th>STATN_NM</th>\n",
       "      <th>TKALGHT_DIV_NM</th>\n",
       "      <th>TM05_PSNCNT</th>\n",
       "      <th>TM06_PSNCNT</th>\n",
       "      <th>TM07_PSNCNT</th>\n",
       "      <th>TM08_PSNCNT</th>\n",
       "      <th>TM09_PSNCNT</th>\n",
       "      <th>TM10_PSNCNT</th>\n",
       "      <th>...</th>\n",
       "      <th>TM15_PSNCNT</th>\n",
       "      <th>TM16_PSNCNT</th>\n",
       "      <th>TM17_PSNCNT</th>\n",
       "      <th>TM18_PSNCNT</th>\n",
       "      <th>TM19_PSNCNT</th>\n",
       "      <th>TM20_PSNCNT</th>\n",
       "      <th>TM21_PSNCNT</th>\n",
       "      <th>TM22_PSNCNT</th>\n",
       "      <th>TM23_PSNCNT</th>\n",
       "      <th>TM24_PSNCNT</th>\n",
       "    </tr>\n",
       "  </thead>\n",
       "  <tbody>\n",
       "  </tbody>\n",
       "</table>\n",
       "<p>0 rows × 24 columns</p>\n",
       "</div>"
      ],
      "text/plain": [
       "Empty DataFrame\n",
       "Columns: [STD_DE, STATN_NO, STATN_NM, TKALGHT_DIV_NM, TM05_PSNCNT, TM06_PSNCNT, TM07_PSNCNT, TM08_PSNCNT, TM09_PSNCNT, TM10_PSNCNT, TM11_PSNCNT, TM12_PSNCNT, TM13_PSNCNT, TM14_PSNCNT, TM15_PSNCNT, TM16_PSNCNT, TM17_PSNCNT, TM18_PSNCNT, TM19_PSNCNT, TM20_PSNCNT, TM21_PSNCNT, TM22_PSNCNT, TM23_PSNCNT, TM24_PSNCNT]\n",
       "Index: []\n",
       "\n",
       "[0 rows x 24 columns]"
      ]
     },
     "execution_count": 87,
     "metadata": {},
     "output_type": "execute_result"
    }
   ],
   "source": [
    "# 종각\n",
    "subway_df_map[subway_df_map['STATN_NM'] == '종각']"
   ]
  },
  {
   "cell_type": "code",
   "execution_count": 89,
   "metadata": {},
   "outputs": [
    {
     "data": {
      "text/plain": [
       "<Figure size 1000x600 with 0 Axes>"
      ]
     },
     "metadata": {},
     "output_type": "display_data"
    },
    {
     "data": {
      "image/png": "[encoded data removed]",
      "text/plain": [
       "<Figure size 640x480 with 1 Axes>"
      ]
     },
     "metadata": {},
     "output_type": "display_data"
    }
   ],
   "source": [
    "# 시간대별 데이터 추출\n",
    "time_columns = [f'TM{i:02d}_PSNCNT' for i in range(5, 25)]\n",
    "time_data = subway_df[time_columns]\n",
    "\n",
    "# 시간대별 데이터 시각화\n",
    "plt.figure(figsize=(10, 6))\n",
    "time_data.transpose().plot(marker='o')\n",
    "plt.title('시간대별 승객 수')\n",
    "plt.xlabel('시간대')\n",
    "plt.ylabel('승객 수')\n",
    "plt.legend(title='승객수', loc='upper left', bbox_to_anchor=(1, 1))\n",
    "plt.xticks(range(len(time_columns)), time_columns, rotation=45)\n",
    "plt.tight_layout()\n",
    "plt.show()"
   ]
  },
  {
   "cell_type": "code",
   "execution_count": null,
   "metadata": {},
   "outputs": [],
   "source": []
  }
 ],
 "metadata": {
  "kernelspec": {
   "display_name": "Python 3 (ipykernel)",
   "language": "python",
   "name": "python3"
  },
  "language_info": {
   "codemirror_mode": {
    "name": "ipython",
    "version": 3
   },
   "file_extension": ".py",
   "mimetype": "text/x-python",
   "name": "python",
   "nbconvert_exporter": "python",
   "pygments_lexer": "ipython3",
   "version": "3.8.6"
  }
 },
 "nbformat": 4,
 "nbformat_minor": 1
}
