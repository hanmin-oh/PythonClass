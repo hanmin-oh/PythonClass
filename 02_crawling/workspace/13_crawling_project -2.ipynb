{
 "cells": [
  {
   "cell_type": "code",
   "execution_count": 12,
   "metadata": {
    "ExecuteTime": {
     "end_time": "2023-08-28T09:18:08.569966Z",
     "start_time": "2023-08-28T09:18:05.417801Z"
    }
   },
   "outputs": [],
   "source": [
    "import warnings\n",
    "warnings.filterwarnings(action='ignore')\n",
    "%config Computer.use_jedi = False\n",
    "import requests\n",
    "import folium\n",
    "# !pip install pandas # 파이썬 데이터 처리\n",
    "import pandas as pd\n",
    "import matplotlib.pyplot as plt"
   ]
  },
  {
   "cell_type": "code",
   "execution_count": 13,
   "metadata": {},
   "outputs": [],
   "source": [
    "plt.rc('font', family='D2Coding')"
   ]
  },
  {
   "cell_type": "code",
   "execution_count": 17,
   "metadata": {
    "ExecuteTime": {
     "end_time": "2023-08-28T09:18:11.142798Z",
     "start_time": "2023-08-28T09:18:10.251470Z"
    },
    "scrolled": true
   },
   "outputs": [
    {
     "name": "stdout",
     "output_type": "stream",
     "text": [
      "<class 'dict'>\n",
      "{'data': [{'STD_DE': '2022-12-31', 'STATN_NO': 8, 'STATN_NM': '가락시장', 'TKALGHT_DIV_NM': '하차', 'TM05_PSNCNT': 90, 'TM06_PSNCNT': 202, 'TM07_PSNCNT': 206, 'TM08_PSNCNT': 331, 'TM09_PSNCNT': 332, 'TM10_PSNCNT': 307, 'TM11_PSNCNT': 371, 'TM12_PSNCNT': 381, 'TM13_PSNCNT': 382, 'TM14_PSNCNT': 405, 'TM15_PSNCNT': 392, 'TM16_PSNCNT': 504, 'TM17_PSNCNT': 515, 'TM18_PSNCNT': 385, 'TM19_PSNCNT': 299, 'TM20_PSNCNT': 224, 'TM21_PSNCNT': 183, 'TM22_PSNCNT': 158, 'TM23_PSNCNT': 97, 'TM24_PSNCNT': 106}], 'total': 206080, 'count': 206080, 'page': 1, 'rows': 1, 'pages': 206080}\n"
     ]
    }
   ],
   "source": [
    "# 서울 지하철 승하차량\n",
    "targetSite = 'https://data.gg.go.kr/portal/data/sheet/searchSheetData.do?page=1'\n",
    "request = requests.post(targetSite, data={\n",
    "    'rows': '1',\n",
    "    'infId': '7GZ08I0JWSNPY5NVMLLG24313533',\n",
    "    'infSeq': 1,\n",
    "    'STATN_NM': '',\n",
    "    'TKALGHT_DIV_NM' : '',\n",
    "    'STD_DE' : '', \n",
    "    'STATN_NO' : 3,\n",
    "    'TM05_PSNCNT' : '',\n",
    "    'TM06_PSNCNT': '',\n",
    "    'TM07_PSNCNT': '',\n",
    "    'TM08_PSNCNT': '',\n",
    "    'TM09_PSNCNT': '',\n",
    "    'TM10_PSNCNT': '',\n",
    "    'TM11_PSNCNT': '',\n",
    "    'TM12_PSNCNT': '',\n",
    "    'TM13_PSNCNT': '',\n",
    "    'TM14_PSNCNT': '',\n",
    "    'TM15_PSNCNT': '',\n",
    "    'TM16_PSNCNT': '',\n",
    "    'TM17_PSNCNT': '',\n",
    "    'TM18_PSNCNT': '',\n",
    "    'TM19_PSNCNT': '',\n",
    "    'TM20_PSNCNT': '',\n",
    "    'TM21_PSNCNT': '',\n",
    "    'TM22_PSNCNT': '',\n",
    "    'TM23_PSNCNT': '',\n",
    "    'TM24_PSNCNT': ''\n",
    "})\n",
    "subway = request.json()\n",
    "print(type(subway))\n",
    "print(subway)"
   ]
  },
  {
   "cell_type": "code",
   "execution_count": 28,
   "metadata": {},
   "outputs": [
    {
     "name": "stdout",
     "output_type": "stream",
     "text": [
      "<class 'pandas.core.frame.DataFrame'>\n",
      "1\n",
      "Index(['data', 'total', 'count', 'page', 'rows', 'pages'], dtype='object')\n",
      "<bound method DataFrame.info of                                                 data   total   count  page  \\\n",
      "0  [{'STD_DE': '2022-12-31', 'STATN_NO': 8, 'STAT...  206080  206080     1   \n",
      "\n",
      "   rows   pages  \n",
      "0     1  206080  >\n"
     ]
    }
   ],
   "source": [
    "# pandas.io.json 모듈의 json_normalize() 함수로 json 타입의 데이터가 변환된 딕셔너리를 판다스 데이터프레임으로 변환한다.\n",
    "# json_nomalize(딕셔너리, '데이터프레임으로 변환할 데이터가 할당된 딕셔너리의 key')\n",
    "subway_df = pd.json_normalize(subway)\n",
    "print(type(subway_df)) # <class 'pandas.core.frame.DataFrame'>\n",
    "print(len(subway_df))\n",
    "print(subway_df.columns)\n",
    "print(subway_df.info)"
   ]
  },
  {
   "cell_type": "code",
   "execution_count": 29,
   "metadata": {},
   "outputs": [
    {
     "data": {
      "text/html": [
       "<div>\n",
       "<style scoped>\n",
       "    .dataframe tbody tr th:only-of-type {\n",
       "        vertical-align: middle;\n",
       "    }\n",
       "\n",
       "    .dataframe tbody tr th {\n",
       "        vertical-align: top;\n",
       "    }\n",
       "\n",
       "    .dataframe thead th {\n",
       "        text-align: right;\n",
       "    }\n",
       "</style>\n",
       "<table border=\"1\" class=\"dataframe\">\n",
       "  <thead>\n",
       "    <tr style=\"text-align: right;\">\n",
       "      <th></th>\n",
       "      <th>data</th>\n",
       "      <th>total</th>\n",
       "    </tr>\n",
       "  </thead>\n",
       "  <tbody>\n",
       "    <tr>\n",
       "      <th>0</th>\n",
       "      <td>[{'STD_DE': '2022-12-31', 'STATN_NO': 8, 'STAT...</td>\n",
       "      <td>206080</td>\n",
       "    </tr>\n",
       "  </tbody>\n",
       "</table>\n",
       "</div>"
      ],
      "text/plain": [
       "                                                data   total\n",
       "0  [{'STD_DE': '2022-12-31', 'STATN_NO': 8, 'STAT...  206080"
      ]
     },
     "execution_count": 29,
     "metadata": {},
     "output_type": "execute_result"
    }
   ],
   "source": [
    "subway_df_map = subway_df[\n",
    "    [\n",
    "    'data',\n",
    "    'total',\n",
    "\n",
    "    ]\n",
    "]\n",
    "subway_df_map"
   ]
  },
  {
   "cell_type": "code",
   "execution_count": 30,
   "metadata": {},
   "outputs": [
    {
     "name": "stdout",
     "output_type": "stream",
     "text": [
      "  STD_DE STATN_NM TKALGHT_DIV_NM  TM05_PSNCNT  TM06_PSNCNT  TM07_PSNCNT  \\\n",
      "0                                         152          107          155   \n",
      "\n",
      "   TM08_PSNCNT  TM09_PSNCNT  TM10_PSNCNT  TM11_PSNCNT  ...  TM15_PSNCNT  \\\n",
      "0          249          307          421          683  ...         1749   \n",
      "\n",
      "   TM16_PSNCNT  TM17_PSNCNT  TM18_PSNCNT  TM19_PSNCNT  TM20_PSNCNT  \\\n",
      "0         2022         2098         2055         1825         1951   \n",
      "\n",
      "   TM21_PSNCNT  TM22_PSNCNT  TM23_PSNCNT  TM24_PSNCNT  \n",
      "0         2233         1382            6          498  \n",
      "\n",
      "[1 rows x 23 columns]\n",
      "<class 'pandas.core.frame.DataFrame'>\n"
     ]
    }
   ],
   "source": [
    "# 주어진 데이터\n",
    "subway_data = {\n",
    "    'data': [{'STD_DE': '', 'STATN_NM': '', 'TKALGHT_DIV_NM': '', 'TM05_PSNCNT': 152, 'TM06_PSNCNT': 107, 'TM07_PSNCNT': 155, 'TM08_PSNCNT': 249, 'TM09_PSNCNT': 307, 'TM10_PSNCNT': 421, 'TM11_PSNCNT': 683, 'TM12_PSNCNT': 929, 'TM13_PSNCNT': 1048, 'TM14_PSNCNT': 1261, 'TM15_PSNCNT': 1749, 'TM16_PSNCNT': 2022, 'TM17_PSNCNT': 2098, 'TM18_PSNCNT': 2055, 'TM19_PSNCNT': 1825, 'TM20_PSNCNT': 1951, 'TM21_PSNCNT': 2233, 'TM22_PSNCNT': 1382, 'TM23_PSNCNT': 6, 'TM24_PSNCNT': 498}],\n",
    "}\n",
    "\n",
    "# 데이터프레임 생성\n",
    "subway_df = pd.json_normalize(subway_data, 'data')\n",
    "print(subway_df)\n",
    "print(type(subway_df))"
   ]
  },
  {
   "cell_type": "markdown",
   "metadata": {},
   "source": [
    "# STATN_NM에 데이터 넣기\n",
    "statn_name = '종각'  # 원하는 역명을 입력하세요\n",
    "subway_df['STATN_NM'] = statn_name"
   ]
  },
  {
   "cell_type": "code",
   "execution_count": 31,
   "metadata": {},
   "outputs": [
    {
     "ename": "KeyError",
     "evalue": "'STATN_NM'",
     "output_type": "error",
     "traceback": [
      "\u001b[1;31m---------------------------------------------------------------------------\u001b[0m",
      "\u001b[1;31mKeyError\u001b[0m                                  Traceback (most recent call last)",
      "File \u001b[1;32mc:\\python\\lib\\site-packages\\pandas\\core\\indexes\\base.py:3653\u001b[0m, in \u001b[0;36mIndex.get_loc\u001b[1;34m(self, key)\u001b[0m\n\u001b[0;32m   3652\u001b[0m \u001b[38;5;28;01mtry\u001b[39;00m:\n\u001b[1;32m-> 3653\u001b[0m     \u001b[38;5;28;01mreturn\u001b[39;00m \u001b[38;5;28;43mself\u001b[39;49m\u001b[38;5;241;43m.\u001b[39;49m\u001b[43m_engine\u001b[49m\u001b[38;5;241;43m.\u001b[39;49m\u001b[43mget_loc\u001b[49m\u001b[43m(\u001b[49m\u001b[43mcasted_key\u001b[49m\u001b[43m)\u001b[49m\n\u001b[0;32m   3654\u001b[0m \u001b[38;5;28;01mexcept\u001b[39;00m \u001b[38;5;167;01mKeyError\u001b[39;00m \u001b[38;5;28;01mas\u001b[39;00m err:\n",
      "File \u001b[1;32mc:\\python\\lib\\site-packages\\pandas\\_libs\\index.pyx:147\u001b[0m, in \u001b[0;36mpandas._libs.index.IndexEngine.get_loc\u001b[1;34m()\u001b[0m\n",
      "File \u001b[1;32mc:\\python\\lib\\site-packages\\pandas\\_libs\\index.pyx:176\u001b[0m, in \u001b[0;36mpandas._libs.index.IndexEngine.get_loc\u001b[1;34m()\u001b[0m\n",
      "File \u001b[1;32mpandas\\_libs\\hashtable_class_helper.pxi:7080\u001b[0m, in \u001b[0;36mpandas._libs.hashtable.PyObjectHashTable.get_item\u001b[1;34m()\u001b[0m\n",
      "File \u001b[1;32mpandas\\_libs\\hashtable_class_helper.pxi:7088\u001b[0m, in \u001b[0;36mpandas._libs.hashtable.PyObjectHashTable.get_item\u001b[1;34m()\u001b[0m\n",
      "\u001b[1;31mKeyError\u001b[0m: 'STATN_NM'",
      "\nThe above exception was the direct cause of the following exception:\n",
      "\u001b[1;31mKeyError\u001b[0m                                  Traceback (most recent call last)",
      "Cell \u001b[1;32mIn[31], line 2\u001b[0m\n\u001b[0;32m      1\u001b[0m \u001b[38;5;66;03m# 종각\u001b[39;00m\n\u001b[1;32m----> 2\u001b[0m subway_df_map[\u001b[43msubway_df_map\u001b[49m\u001b[43m[\u001b[49m\u001b[38;5;124;43m'\u001b[39;49m\u001b[38;5;124;43mSTATN_NM\u001b[39;49m\u001b[38;5;124;43m'\u001b[39;49m\u001b[43m]\u001b[49m \u001b[38;5;241m==\u001b[39m \u001b[38;5;124m'\u001b[39m\u001b[38;5;124m종각\u001b[39m\u001b[38;5;124m'\u001b[39m]\n",
      "File \u001b[1;32mc:\\python\\lib\\site-packages\\pandas\\core\\frame.py:3761\u001b[0m, in \u001b[0;36mDataFrame.__getitem__\u001b[1;34m(self, key)\u001b[0m\n\u001b[0;32m   3759\u001b[0m \u001b[38;5;28;01mif\u001b[39;00m \u001b[38;5;28mself\u001b[39m\u001b[38;5;241m.\u001b[39mcolumns\u001b[38;5;241m.\u001b[39mnlevels \u001b[38;5;241m>\u001b[39m \u001b[38;5;241m1\u001b[39m:\n\u001b[0;32m   3760\u001b[0m     \u001b[38;5;28;01mreturn\u001b[39;00m \u001b[38;5;28mself\u001b[39m\u001b[38;5;241m.\u001b[39m_getitem_multilevel(key)\n\u001b[1;32m-> 3761\u001b[0m indexer \u001b[38;5;241m=\u001b[39m \u001b[38;5;28;43mself\u001b[39;49m\u001b[38;5;241;43m.\u001b[39;49m\u001b[43mcolumns\u001b[49m\u001b[38;5;241;43m.\u001b[39;49m\u001b[43mget_loc\u001b[49m\u001b[43m(\u001b[49m\u001b[43mkey\u001b[49m\u001b[43m)\u001b[49m\n\u001b[0;32m   3762\u001b[0m \u001b[38;5;28;01mif\u001b[39;00m is_integer(indexer):\n\u001b[0;32m   3763\u001b[0m     indexer \u001b[38;5;241m=\u001b[39m [indexer]\n",
      "File \u001b[1;32mc:\\python\\lib\\site-packages\\pandas\\core\\indexes\\base.py:3655\u001b[0m, in \u001b[0;36mIndex.get_loc\u001b[1;34m(self, key)\u001b[0m\n\u001b[0;32m   3653\u001b[0m     \u001b[38;5;28;01mreturn\u001b[39;00m \u001b[38;5;28mself\u001b[39m\u001b[38;5;241m.\u001b[39m_engine\u001b[38;5;241m.\u001b[39mget_loc(casted_key)\n\u001b[0;32m   3654\u001b[0m \u001b[38;5;28;01mexcept\u001b[39;00m \u001b[38;5;167;01mKeyError\u001b[39;00m \u001b[38;5;28;01mas\u001b[39;00m err:\n\u001b[1;32m-> 3655\u001b[0m     \u001b[38;5;28;01mraise\u001b[39;00m \u001b[38;5;167;01mKeyError\u001b[39;00m(key) \u001b[38;5;28;01mfrom\u001b[39;00m \u001b[38;5;21;01merr\u001b[39;00m\n\u001b[0;32m   3656\u001b[0m \u001b[38;5;28;01mexcept\u001b[39;00m \u001b[38;5;167;01mTypeError\u001b[39;00m:\n\u001b[0;32m   3657\u001b[0m     \u001b[38;5;66;03m# If we have a listlike key, _check_indexing_error will raise\u001b[39;00m\n\u001b[0;32m   3658\u001b[0m     \u001b[38;5;66;03m#  InvalidIndexError. Otherwise we fall through and re-raise\u001b[39;00m\n\u001b[0;32m   3659\u001b[0m     \u001b[38;5;66;03m#  the TypeError.\u001b[39;00m\n\u001b[0;32m   3660\u001b[0m     \u001b[38;5;28mself\u001b[39m\u001b[38;5;241m.\u001b[39m_check_indexing_error(key)\n",
      "\u001b[1;31mKeyError\u001b[0m: 'STATN_NM'"
     ]
    }
   ],
   "source": [
    "# 종각\n",
    "subway_df_map[subway_df_map['STATN_NM'] == '종각']"
   ]
  },
  {
   "cell_type": "code",
   "execution_count": 21,
   "metadata": {},
   "outputs": [
    {
     "data": {
      "text/plain": [
       "<Figure size 1000x600 with 0 Axes>"
      ]
     },
     "metadata": {},
     "output_type": "display_data"
    },
    {
     "data": {
      "image/png": "[encoded data removed]",
      "text/plain": [
       "<Figure size 640x480 with 1 Axes>"
      ]
     },
     "metadata": {},
     "output_type": "display_data"
    }
   ],
   "source": [
    "# 시간대별 데이터 추출\n",
    "time_columns = [f'TM{i:02d}_PSNCNT' for i in range(5, 25)]\n",
    "time_data = subway_df[time_columns]\n",
    "\n",
    "# 시간대별 데이터 시각화\n",
    "plt.figure(figsize=(10, 6))\n",
    "time_data.transpose().plot(marker='o')\n",
    "plt.title('시간대별 승객 수')\n",
    "plt.xlabel('시간대')\n",
    "plt.xticks(range(len(time_columns)), time_columns, rotation=45)\n",
    "plt.tight_layout()\n",
    "plt.show()"
   ]
  }
 ],
 "metadata": {
  "kernelspec": {
   "display_name": "Python 3 (ipykernel)",
   "language": "python",
   "name": "python3"
  },
  "language_info": {
   "codemirror_mode": {
    "name": "ipython",
    "version": 3
   },
   "file_extension": ".py",
   "mimetype": "text/x-python",
   "name": "python",
   "nbconvert_exporter": "python",
   "pygments_lexer": "ipython3",
   "version": "3.8.6"
  }
 },
 "nbformat": 4,
 "nbformat_minor": 1
}
