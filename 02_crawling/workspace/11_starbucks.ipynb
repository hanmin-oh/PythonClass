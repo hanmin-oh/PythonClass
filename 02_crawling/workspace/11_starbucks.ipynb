{
 "cells": [
  {
   "cell_type": "code",
   "execution_count": 33,
   "metadata": {
    "collapsed": true,
    "ExecuteTime": {
     "start_time": "2023-08-24T15:23:58.326222Z",
     "end_time": "2023-08-24T15:23:58.331668Z"
    }
   },
   "outputs": [],
   "source": [
    "import warnings\n",
    "warnings.filterwarnings(action='ignore')\n",
    "%config Computer.use_jedi = False\n",
    "import requests\n",
    "import json"
   ]
  },
  {
   "cell_type": "markdown",
   "source": [
    "시도 코드 크롤링"
   ],
   "metadata": {
    "collapsed": false
   }
  },
  {
   "cell_type": "code",
   "execution_count": 34,
   "outputs": [
    {
     "name": "stdout",
     "output_type": "stream",
     "text": [
      "{'01': '서울', '08': '경기', '02': '광주', '03': '대구', '04': '대전', '05': '부산', '06': '울산', '07': '인천', '09': '강원', '10': '경남', '11': '경북', '12': '전남', '13': '전북', '14': '충남', '15': '충북', '16': '제주', '17': '세종'}\n"
     ]
    }
   ],
   "source": [
    "tagetSite ='https://www.starbucks.co.kr/store/getSidoList.do' # Request Mtehod가 POST이다.\n",
    "#  - POST 방식으로 요청할 때는 data 속성에 딕셔너리 형태로 서버로 전송할 데이터를 넣어줘야 하는데 서버로 전송할 데이터가 없으면\n",
    "# data 속성은 생략해도 된다.\n",
    "# POST 방식으로 서버에 전송해야 할 데이터는 payload 탭에서 확인할 수 있다.\n",
    "request = requests.post(tagetSite , data={\n",
    "    'rndCod' : 'I4AMEL7TGN' #rndCod는 전달하지 않아도 상관없다.\n",
    "})\n",
    "# print(request)\n",
    "\n",
    "starbucks = request.text\n",
    "# print(type(starbucks))\n",
    "# print(starbucks)\n",
    "\n",
    "# json 모듈의 loads()나 requests 모듈의 json()을 사용해서 응답받은 문자열 데이터를 파이썬에서 사용할 수 있는 자료형(리스트,딕셔너리) 형태로 변환해서 작업한다.\n",
    "# sidoList = json.loads(starbucks)\n",
    "sidoList = request.json()\n",
    "# print(type(sidoList))\n",
    "# print(sidoList)\n",
    "\n",
    "# sidoList에는 문자열 형태의 json 데이터가 파이썬이 처리할 수 있는 딕셔너리 형태로 변환되서 저장되었다.\n",
    "# 딕셔너리로 변환된 데이터에서 'list'라는 key에 할당된 시도 정보를 얻어온다.\n",
    "# print(len(sidoList.get('list')))\n",
    "# print(sidoList.get('list')) # 리스트 형태\n",
    "\n",
    "# 시도코드의 개수만큼 반복하여 시도코드('sido_cd')를 key로 하고 시도이름('sido_nm')을 value로 딕셔너리를 만든다.\n",
    "sido_list = {}\n",
    "for sido in sidoList['list']:\n",
    "    # print('{} : {}'.format(sido.get('sido_cd'), sido['sido_nm']))\n",
    "    #딕셔너리이름[key] = value\n",
    "    sido_list[sido.get('sido_cd')] = sido['sido_nm']\n",
    "print(sido_list)\n"
   ],
   "metadata": {
    "collapsed": false,
    "ExecuteTime": {
     "start_time": "2023-08-24T15:24:05.285297Z",
     "end_time": "2023-08-24T15:24:05.368750Z"
    }
   }
  },
  {
   "cell_type": "markdown",
   "source": [
    "# 구군코드 크롤링"
   ],
   "metadata": {
    "collapsed": false
   }
  },
  {
   "cell_type": "code",
   "execution_count": 35,
   "outputs": [],
   "source": [
    "sido_cd = input('구군코드를 검색하려는 시도코드를 입력하세요: ')\n",
    "targetSite = 'https://www.starbucks.co.kr/store/getGugunList.do'\n",
    "request = requests.post(targetSite , data={\n",
    "    'sido_cd' : sido_cd\n",
    "})\n",
    "# print(type(request.text)) # <class 'str'>\n",
    "# print(type(request.json())) # <class 'dict'>\n",
    "gugunList = request.json()\n"
   ],
   "metadata": {
    "collapsed": false,
    "ExecuteTime": {
     "start_time": "2023-08-24T15:24:15.791406Z",
     "end_time": "2023-08-24T15:24:17.633018Z"
    }
   }
  }
 ],
 "metadata": {
  "kernelspec": {
   "display_name": "Python 3",
   "language": "python",
   "name": "python3"
  },
  "language_info": {
   "codemirror_mode": {
    "name": "ipython",
    "version": 2
   },
   "file_extension": ".py",
   "mimetype": "text/x-python",
   "name": "python",
   "nbconvert_exporter": "python",
   "pygments_lexer": "ipython2",
   "version": "2.7.6"
  }
 },
 "nbformat": 4,
 "nbformat_minor": 0
}
