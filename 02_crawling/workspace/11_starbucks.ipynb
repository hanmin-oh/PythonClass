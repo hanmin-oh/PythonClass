{
 "cells": [
  {
   "cell_type": "code",
   "execution_count": 43,
   "metadata": {
    "collapsed": true,
    "ExecuteTime": {
     "start_time": "2023-08-24T15:57:20.960880Z",
     "end_time": "2023-08-24T15:57:20.992116Z"
    }
   },
   "outputs": [],
   "source": [
    "import warnings\n",
    "warnings.filterwarnings(action='ignore')\n",
    "%config Computer.use_jedi = False\n",
    "import requests\n",
    "import json"
   ]
  },
  {
   "cell_type": "markdown",
   "source": [
    "# 시도코드 크롤링"
   ],
   "metadata": {
    "collapsed": false
   }
  },
  {
   "cell_type": "code",
   "execution_count": 44,
   "outputs": [
    {
     "name": "stdout",
     "output_type": "stream",
     "text": [
      "{'01': '서울', '08': '경기', '02': '광주', '03': '대구', '04': '대전', '05': '부산', '06': '울산', '07': '인천', '09': '강원', '10': '경남', '11': '경북', '12': '전남', '13': '전북', '14': '충남', '15': '충북', '16': '제주', '17': '세종'}\n"
     ]
    }
   ],
   "source": [
    "tagetSite ='https://www.starbucks.co.kr/store/getSidoList.do' # Request Mtehod가 POST이다.\n",
    "#  - POST 방식으로 요청할 때는 data 속성에 딕셔너리 형태로 서버로 전송할 데이터를 넣어줘야 하는데 서버로 전송할 데이터가 없으면\n",
    "# data 속성은 생략해도 된다.\n",
    "# POST 방식으로 서버에 전송해야 할 데이터는 payload 탭에서 확인할 수 있다.\n",
    "request = requests.post(tagetSite , data={\n",
    "    'rndCod' : 'I4AMEL7TGN' #rndCod는 전달하지 않아도 상관없다.\n",
    "})\n",
    "# print(request)\n",
    "\n",
    "starbucks = request.text\n",
    "# print(type(starbucks))\n",
    "# print(starbucks)\n",
    "\n",
    "# json 모듈의 loads()나 requests 모듈의 json()을 사용해서 응답받은 문자열 데이터를 파이썬에서 사용할 수 있는 자료형(리스트,딕셔너리) 형태로 변환해서 작업한다.\n",
    "# sidoList = json.loads(starbucks)\n",
    "sidoList = request.json()\n",
    "# print(type(sidoList))\n",
    "# print(sidoList)\n",
    "\n",
    "# sidoList에는 문자열 형태의 json 데이터가 파이썬이 처리할 수 있는 딕셔너리 형태로 변환되서 저장되었다.\n",
    "# 딕셔너리로 변환된 데이터에서 'list'라는 key에 할당된 시도 정보를 얻어온다.\n",
    "# print(len(sidoList.get('list')))\n",
    "# print(sidoList.get('list')) # 리스트 형태\n",
    "\n",
    "# 시도코드의 개수만큼 반복하여 시도코드('sido_cd')를 key로 하고 시도이름('sido_nm')을 value로 딕셔너리를 만든다.\n",
    "sido_list = {}\n",
    "for sido in sidoList['list']:\n",
    "    # print('{} : {}'.format(sido.get('sido_cd'), sido['sido_nm']))\n",
    "    #딕셔너리이름[key] = value\n",
    "    sido_list[sido.get('sido_cd')] = sido['sido_nm']\n",
    "print(sido_list)\n"
   ],
   "metadata": {
    "collapsed": false,
    "ExecuteTime": {
     "start_time": "2023-08-24T15:57:20.976490Z",
     "end_time": "2023-08-24T15:57:21.153788Z"
    }
   }
  },
  {
   "cell_type": "markdown",
   "source": [
    "# 구군코드 크롤링"
   ],
   "metadata": {
    "collapsed": false
   }
  },
  {
   "cell_type": "code",
   "execution_count": 45,
   "outputs": [
    {
     "name": "stdout",
     "output_type": "stream",
     "text": [
      "1\n",
      "dict_keys(['list'])\n",
      "5\n",
      "{'0201': '광산구 ', '0202': '남구', '0203': '동구', '0204': '북구', '0205': '서구'}\n"
     ]
    }
   ],
   "source": [
    "sido_cd = input('구군코드를 검색하려는 시도코드를 입력하세요: ')\n",
    "targetSite = 'https://www.starbucks.co.kr/store/getGugunList.do'\n",
    "request = requests.post(targetSite , data={\n",
    "    'sido_cd' : sido_cd\n",
    "})\n",
    "# print(type(request.text)) # <class 'str'>\n",
    "# print(type(request.json())) # <class 'dict'>\n",
    "gugunList = request.json()\n",
    "print(len(gugunList)) # 1\n",
    "print(gugunList.keys()) # dict_keys(['list'])\n",
    "print(len(gugunList['list'])) # 각 시도별 하위 시구군의 수\n",
    "\n",
    "# 구군코드의 개수만큼 반복하여 구군코드('gugun_cd')를 key로 하고 구군이름('gugun_nm')을 value로 딕셔너리를 만든다.\n",
    "gugun_list = {}\n",
    "for gugun in gugunList['list']:\n",
    "    gugun_list[gugun.get('gugun_cd')] = gugun['gugun_nm']\n",
    "print(gugun_list)"
   ],
   "metadata": {
    "collapsed": false,
    "ExecuteTime": {
     "start_time": "2023-08-24T15:57:21.157796Z",
     "end_time": "2023-08-24T15:57:23.197333Z"
    }
   }
  },
  {
   "cell_type": "markdown",
   "source": [
    "# 매장정보 크롤링"
   ],
   "metadata": {
    "collapsed": false
   }
  },
  {
   "cell_type": "code",
   "execution_count": 72,
   "outputs": [
    {
     "name": "stdout",
     "output_type": "stream",
     "text": [
      "<class 'dict'>\n",
      "11\n",
      "파주운정이마트: 경기도 파주시 한울로 123 (동패동)(37.710647, 126.74545)\n",
      "파주야당DT: 경기도 파주시 경의로 966 (야당동)(37.70346, 126.75964)\n",
      "파주산내: 경기도 파주시 청암로17번길 29 (목동동)(37.728707, 126.735514)\n",
      "파주가람: 경기도 파주시 가람로 89 (와동동)(37.735972140257, 126.759841042896)\n",
      "파주문산DT: 경기도 파주시 파주읍 통일로 1555 (봉서리)(37.8464380469309, 126.789040084356)\n",
      "파주P.아울렛3F: 경기도 파주시 탄현면 필승로 200 1312호(37.768974, 126.69632)\n",
      "파주운정: 경기도 파주시 와석순환로 135(37.71203, 126.744499)\n",
      "파주금릉역: 경기도 파주시 금릉역로 84, 청원센트럴타워 1층 (금촌동)(37.752207, 126.765613)\n",
      "파주금촌역: 경기도 파주시 문화로 109 (금촌동)(37.764081, 126.774205)\n",
      "파주야당역: 경기도 파주시 야당동 1066-3(37.712142, 126.759475)\n",
      "파주P.아울렛1F: 경기도 파주시 탄현면 필승로 200 (37.769258, 126.6947)\n"
     ]
    }
   ],
   "source": [
    "tagetSite = 'https://www.starbucks.co.kr/store/getStore.do?r=WS32LG98W6'\n",
    "request = requests.post(tagetSite, data={\n",
    "    'ins_lat': 37.563398, # 위도\n",
    "    'ins_lng': 126.9863309, # 경도\n",
    "    'p_sido_cd': '08', #시도코드\n",
    "    'p_gugun_cd': '0843', #구군코드\n",
    "    'in_biz_cd': '', # ?\n",
    "    'iend': 1900, #서버가 응답하는 최대 매장의 개수\n",
    "    'set_date': '' # ?\n",
    "})\n",
    "storeList = request.json()\n",
    "# print(storeList)\n",
    "print(type(storeList))\n",
    "print(len(storeList['list']))\n",
    "\n",
    "for store in storeList['list']:\n",
    "    print('{}: {}({}, {})'.format(store['s_name'], store['doro_address'], store['lat'], store['lot']))"
   ],
   "metadata": {
    "collapsed": false,
    "ExecuteTime": {
     "start_time": "2023-08-24T16:11:13.175242Z",
     "end_time": "2023-08-24T16:11:13.331575Z"
    }
   }
  }
 ],
 "metadata": {
  "kernelspec": {
   "display_name": "Python 3",
   "language": "python",
   "name": "python3"
  },
  "language_info": {
   "codemirror_mode": {
    "name": "ipython",
    "version": 2
   },
   "file_extension": ".py",
   "mimetype": "text/x-python",
   "name": "python",
   "nbconvert_exporter": "python",
   "pygments_lexer": "ipython2",
   "version": "2.7.6"
  }
 },
 "nbformat": 4,
 "nbformat_minor": 0
}
