{
 "cells": [
  {
   "cell_type": "code",
   "execution_count": 122,
   "outputs": [],
   "source": [
    "import warnings\n",
    "warnings.filterwarnings(action='ignore')\n",
    "%config Computer.use_jedi = False\n",
    "import requests\n",
    "from bs4 import BeautifulSoup\n",
    "from datetime import datetime as dt\n",
    "import time # sleep() 메소드를 사용하기 위해 import 한다."
   ],
   "metadata": {
    "collapsed": false,
    "ExecuteTime": {
     "start_time": "2023-08-23T17:04:52.816489Z",
     "end_time": "2023-08-23T17:04:52.816489Z"
    }
   }
  },
  {
   "cell_type": "code",
   "execution_count": 123,
   "outputs": [],
   "source": [
    "targetSite = 'https://music.bugs.co.kr/chart'\n",
    "request = requests.get(targetSite)\n",
    "html = request.text\n",
    "soup = BeautifulSoup(html , 'html.parser')"
   ],
   "metadata": {
    "collapsed": false,
    "ExecuteTime": {
     "start_time": "2023-08-23T17:04:52.816489Z",
     "end_time": "2023-08-23T17:04:53.150557Z"
    }
   }
  },
  {
   "cell_type": "code",
   "execution_count": 124,
   "outputs": [
    {
     "name": "stdout",
     "output_type": "stream",
     "text": [
      "100\n",
      "['Love Lee', 'ETA', '후라이의 꿈', 'Super Shy', 'Seven (feat. Latto) - Clean Ver.', 'Fast Forward', 'New Jeans', 'I AM', 'Summer (Feat. BE’O (비오))', 'Steal The Show (From “엘리멘탈”)', '헤어지자 말해요', '퀸카 (Queencard)', 'Underwater', 'Cool With You', '이브, 프시케 그리고 푸른 수염의 아내', 'Spicy', 'Hype Boy', 'Ditto', 'Kitsch', 'Bubble', 'Attention', '여름이 들려 (Summer Comes)', 'CAKE', 'After LIKE', 'UNFORGIVEN (feat. Nile Rodgers)', 'OMG', 'ASAP', '사막에서 꽃을 피우듯', 'LOVE DIVE', '건물 사이에 피어난 장미 (Rose Blossom)', 'Dangerously', '사건의 지평선', '한 페이지가 될 수 있게', 'I Don’t Think That I Like Her', 'Allergy', '꽃', '너의 모든 순간', 'Teddy Bear', '손오공', 'ANTIFRAGILE', 'Shine', 'When I Get Old', '잠깐 시간 될까', 'Cupid', 'Miracle (우리라는 기적)', 'STAY', 'ISTJ', '오르트구름', \"That's Hilarious\", '주저하는 연인들을 위해', '사실말야내가말야그게그러니까말이야', 'Off My Face', 'That’s Not How This Works (feat. Dan + Shay)', 'Shut Down', '심(心)', '모든 날, 모든 순간 (Every day, Every Moment)', 'KNOCK', 'I WANT', '파이팅 해야지 (Feat. 이영지)', 'TOMBOY', '취중고백', 'Thirsty', '다정히 내 이름을 부르면', 'Better Things', 'Monologue', 'INVU', '사랑인가 봐', 'Still With You', '그때 그 순간 그대로 (그그그)', 'Roller Coaster', '나의 바람 (Wind And Wish)', '민들레 (single ver.)', 'Cookie', '나의 X에게', 'Pink Venom', 'ELEVEN', '해요 (2022)', '그라데이션', '예뻤어 (여름날 우리 X 김민석 (멜로망스))', '나에게 그대만이', 'Candy', '도깨비불 (Illusion)', 'Dynamite', '빛이 나는 너에게', 'PERFORMER', 'Sugarcoat (NATTY Solo)', 'FEARLESS', '달빛에 그려지는', '사랑은 늘 도망가', '잘 지내자, 우리 (여름날 우리 X 로이킴)', 'HARD', 'Love Me Like This', 'Miracle (우리라는 기적) (Inst.)', '정이라고 하자 (Feat. 10CM)', '여름날 (feat. 하현상)', '물론', '그대만 있다면 (여름날 우리 X 너드커넥션 (Nerd Connection))', '특', 'Nxde', '미친 사랑의 노래']\n"
     ]
    }
   ],
   "source": [
    "# 노래 제목 크롤링\n",
    "titles =[]\n",
    "titles = soup.findAll('p' , {'class' : 'title'})\n",
    "print(len(titles))\n",
    "# print(titles)\n",
    "titleRanks = []\n",
    "i = 0\n",
    "for title in titles :\n",
    "    chapter = title.findAll('a')\n",
    "    for a in chapter:\n",
    "        titleRanks.append(a.text)\n",
    "print(titleRanks)"
   ],
   "metadata": {
    "collapsed": false,
    "ExecuteTime": {
     "start_time": "2023-08-23T17:04:53.150557Z",
     "end_time": "2023-08-23T17:04:53.166036Z"
    }
   }
  },
  {
   "cell_type": "code",
   "execution_count": 125,
   "outputs": [
    {
     "name": "stdout",
     "output_type": "stream",
     "text": [
      "100\n",
      "['AKMU(악뮤)', 'NewJeans', 'AKMU(악뮤)', 'NewJeans', '정국', '전소미', 'NewJeans', 'IVE (아이브)', 'Paul Blanco', 'Lauv(라우브)', '박재정', '(여자)아이들', '권은비', 'NewJeans', 'LE SSERAFIM (르세라핌)', 'aespa', 'NewJeans', 'NewJeans', 'IVE (아이브)', 'STAYC(스테이씨)', 'NewJeans', '오마이걸(OH MY GIRL)', 'ITZY (있지)', 'IVE (아이브)', 'LE SSERAFIM (르세라핌)', 'NewJeans', 'NewJeans', '우디(Woody)', 'IVE (아이브)', 'H1-KEY (하이키)', 'Charlie Puth(찰리 푸스)', '윤하(Younha/ユンナ)', 'DAY6 (데이식스)', 'Charlie Puth(찰리 푸스)', '(여자)아이들', '지수(JISOO)', '성시경', 'STAYC(스테이씨)', '세븐틴(SEVENTEEN)', 'LE SSERAFIM (르세라핌)', '리베란테(Libelante)', 'Christopher(크리스토퍼)', 'Christopher(크리스토퍼)', '이무진', 'FIFTY FIFTY', '포르테나 (Forténa)', 'The Kid LAROI', 'The Kid LAROI', 'NCT DREAM', '윤하(Younha/ユンナ)', 'Charlie Puth(찰리 푸스)', '잔나비', '케이시', 'Justin Bieber(저스틴 비버)', 'Charlie Puth(찰리 푸스)', 'BLACKPINK', 'DK(디셈버)', '폴킴(Paul Kim)', '이채연', 'IVE (아이브)', '부석순(SEVENTEEN)', '(여자)아이들', '김민석 (멜로망스)', 'aespa', '경서예지', '경서예지', 'aespa', '테이(Tei)', '태연 (TAEYEON)', '멜로망스(MeloMance)', '정국', 'WSG워너비 (가야G)', 'NMIXX', '비투비', '우효(Oohyo)', 'NewJeans', '경서', 'BLACKPINK', 'IVE (아이브)', '#안녕', '10CM', '김민석 (멜로망스)', '탑현', 'NCT DREAM', 'aespa', '방탄소년단', '던 (DAWN)', 'VANNER(배너)', 'KISS OF LIFE', 'LE SSERAFIM (르세라핌)', '미연 ((여자)아이들)', '임영웅', '로이킴', 'SHINee (샤이니)', 'NMIXX', '포르테나 (Forténa)', 'BIG Naughty (서동현)', '볼빨간사춘기', '허각', '너드커넥션(Nerd Connection)', 'Stray Kids (스트레이 키즈)', '(여자)아이들', '김연지', '김연지']\n"
     ]
    }
   ],
   "source": [
    "artists =[]\n",
    "artists = soup.findAll('p' , {'class' : 'artist'})\n",
    "print(len(artists))\n",
    "artistRanks = []\n",
    "i = 0\n",
    "for artist in artists :\n",
    "    chapter = artist.findAll('a')\n",
    "    for a in chapter:\n",
    "        i += 1\n",
    "        artistRanks.append(a.text)\n",
    "# print(artistRanks)\n",
    "\n",
    "artistRanks = [item.replace('\\r\\n', '') for item in artistRanks]\n",
    "print(artistRanks)"
   ],
   "metadata": {
    "collapsed": false,
    "ExecuteTime": {
     "start_time": "2023-08-23T17:04:53.171503Z",
     "end_time": "2023-08-23T17:04:53.213281Z"
    }
   }
  },
  {
   "cell_type": "code",
   "execution_count": 126,
   "outputs": [
    {
     "name": "stdout",
     "output_type": "stream",
     "text": [
      "<p class=\"artist\">\n",
      "<!-- a tag title -->\n",
      "<a class=\"artistTitle\" href=\"https://music.bugs.co.kr/artist/80015694?wl_ref=list_tr_10_chart\" title=\"김연지\">김연지</a>\n",
      "<!-- a tag link -->\n",
      "<a class=\"more\" href=\"javascript:void(0);\" name=\"atag_martist_list\" onclick=\"bugs.layermenu.openMultiArtistSearchResultPopLayer(this, '김연지||김연지||80015694||OK\\\\nDK(디셈버)||DK(디셈버)||80094970||OK', ''); return false;\" title=\"아티스트 전체보기\" wise_log_str=\"?wl_ref=list_tr_10_chart\">\r\n",
      "김연지\r\n",
      "</a> </p>\n",
      "9\n",
      "  1위 AKMU(악뮤)\n",
      "  2위 NewJeans\n",
      "  3위 AKMU(악뮤)\n",
      "  4위 NewJeans\n",
      "  5위 정국\n",
      "  6위 전소미\n",
      "  7위 NewJeans\n",
      "  8위 IVE (아이브)\n",
      "  9위 Paul Blanco\n",
      " 10위 Lauv(라우브)\n",
      " 11위 박재정\n",
      " 12위 (여자)아이들\n",
      " 13위 권은비\n",
      " 14위 NewJeans\n",
      " 15위 LE SSERAFIM (르세라핌)\n",
      " 16위 aespa\n",
      " 17위 NewJeans\n",
      " 18위 NewJeans\n",
      " 19위 IVE (아이브)\n",
      " 20위 STAYC(스테이씨)\n",
      " 21위 NewJeans\n",
      " 22위 오마이걸(OH MY GIRL)\n",
      " 23위 ITZY (있지)\n",
      " 24위 IVE (아이브)\n",
      " 25위 LE SSERAFIM (르세라핌)\n",
      " 26위 NewJeans\n",
      " 27위 NewJeans\n",
      " 28위 우디(Woody)\n",
      " 29위 IVE (아이브)\n",
      " 30위 H1-KEY (하이키)\n",
      " 31위 Charlie Puth(찰리 푸스)\n",
      " 32위 윤하(Younha/ユンナ)\n",
      " 33위 DAY6 (데이식스)\n",
      " 34위 Charlie Puth(찰리 푸스)\n",
      " 35위 (여자)아이들\n",
      " 36위 지수(JISOO)\n",
      " 37위 성시경\n",
      " 38위 STAYC(스테이씨)\n",
      " 39위 세븐틴(SEVENTEEN)\n",
      " 40위 LE SSERAFIM (르세라핌)\n",
      " 41위 리베란테(Libelante)\n",
      " 42위 Christopher(크리스토퍼)\n",
      " 43위 이무진\n",
      " 44위 FIFTY FIFTY\n",
      " 45위 포르테나 (Forténa)\n",
      " 46위 The Kid LAROI\n",
      " 47위 NCT DREAM\n",
      " 48위 윤하(Younha/ユンナ)\n",
      " 49위 Charlie Puth(찰리 푸스)\n",
      " 50위 잔나비\n",
      " 51위 케이시\n",
      " 52위 Justin Bieber(저스틴 비버)\n",
      " 53위 Charlie Puth(찰리 푸스)\n",
      " 54위 BLACKPINK\n",
      " 55위 DK(디셈버)\n",
      " 56위 폴킴(Paul Kim)\n",
      " 57위 이채연\n",
      " 58위 IVE (아이브)\n",
      " 59위 부석순(SEVENTEEN)\n",
      " 60위 (여자)아이들\n",
      " 61위 김민석 (멜로망스)\n",
      " 62위 aespa\n",
      " 63위 경서예지\n",
      " 64위 aespa\n",
      " 65위 테이(Tei)\n",
      " 66위 태연 (TAEYEON)\n",
      " 67위 멜로망스(MeloMance)\n",
      " 68위 정국\n",
      " 69위 WSG워너비 (가야G)\n",
      " 70위 NMIXX\n",
      " 71위 비투비\n",
      " 72위 우효(Oohyo)\n",
      " 73위 NewJeans\n",
      " 74위 경서\n",
      " 75위 BLACKPINK\n",
      " 76위 IVE (아이브)\n",
      " 77위 #안녕\n",
      " 78위 10CM\n",
      " 79위 김민석 (멜로망스)\n",
      " 80위 탑현\n",
      " 81위 NCT DREAM\n",
      " 82위 aespa\n",
      " 83위 방탄소년단\n",
      " 84위 던 (DAWN)\n",
      " 85위 VANNER(배너)\n",
      " 86위 KISS OF LIFE\n",
      " 87위 LE SSERAFIM (르세라핌)\n",
      " 88위 미연 ((여자)아이들)\n",
      " 89위 임영웅\n",
      " 90위 로이킴\n",
      " 91위 SHINee (샤이니)\n",
      " 92위 NMIXX\n",
      " 93위 포르테나 (Forténa)\n",
      " 94위 BIG Naughty (서동현)\n",
      " 95위 볼빨간사춘기\n",
      " 96위 허각\n",
      " 97위 너드커넥션(Nerd Connection)\n",
      " 98위 Stray Kids (스트레이 키즈)\n",
      " 99위 (여자)아이들\n",
      "100위 김연지\n"
     ]
    }
   ],
   "source": [
    "# 아티스트 크롤링\n",
    "artists = soup.findAll('p' , {'class' , 'artist'})\n",
    "print(artist)\n",
    "print(len(artist))\n",
    "\n",
    "for i in range(len(artists)) :\n",
    "    # print('{:3d}위 {}'.format(i + 1 , artists[i].text.split()))\n",
    "    # print('{:3d}위 {}'.format(i + 1 , artists[i].text.split('\\n')[1]))\n",
    "    print('{:3d}위 {}'.format(i + 1 , artists[i].text.strip().split('\\n')[0]))"
   ],
   "metadata": {
    "collapsed": false,
    "ExecuteTime": {
     "start_time": "2023-08-23T17:04:53.213281Z",
     "end_time": "2023-08-23T17:04:53.228919Z"
    }
   }
  },
  {
   "cell_type": "code",
   "execution_count": 127,
   "outputs": [],
   "source": [
    "# # print(df.now())\n",
    "# for i in range(100) :\n",
    "#     print('{:3d}위 {} - {}'.format(i + 1 , artist , titleRanks)"
   ],
   "metadata": {
    "collapsed": false,
    "ExecuteTime": {
     "start_time": "2023-08-23T17:04:53.228919Z",
     "end_time": "2023-08-23T17:04:53.323088Z"
    }
   }
  },
  {
   "cell_type": "code",
   "execution_count": 128,
   "outputs": [
    {
     "name": "stdout",
     "output_type": "stream",
     "text": [
      " 1등. 가수 : AKMU(악뮤), 제목 : Love Lee\n",
      " 2등. 가수 : NewJeans, 제목 : ETA\n",
      " 3등. 가수 : AKMU(악뮤), 제목 : 후라이의 꿈\n",
      " 4등. 가수 : NewJeans, 제목 : Super Shy\n",
      " 5등. 가수 : 정국, 제목 : Seven (feat. Latto) - Clean Ver.\n",
      " 6등. 가수 : 전소미, 제목 : Fast Forward\n",
      " 7등. 가수 : NewJeans, 제목 : New Jeans\n",
      " 8등. 가수 : IVE (아이브), 제목 : I AM\n",
      " 9등. 가수 : Paul Blanco, 제목 : Summer (Feat. BE’O (비오))\n",
      "10등. 가수 : Lauv(라우브), 제목 : Steal The Show (From “엘리멘탈”)\n",
      "11등. 가수 : 박재정, 제목 : 헤어지자 말해요\n",
      "12등. 가수 : (여자)아이들, 제목 : 퀸카 (Queencard)\n",
      "13등. 가수 : 권은비, 제목 : Underwater\n",
      "14등. 가수 : NewJeans, 제목 : Cool With You\n",
      "15등. 가수 : LE SSERAFIM (르세라핌), 제목 : 이브, 프시케 그리고 푸른 수염의 아내\n",
      "16등. 가수 : aespa, 제목 : Spicy\n",
      "17등. 가수 : NewJeans, 제목 : Hype Boy\n",
      "18등. 가수 : NewJeans, 제목 : Ditto\n",
      "19등. 가수 : IVE (아이브), 제목 : Kitsch\n",
      "20등. 가수 : STAYC(스테이씨), 제목 : Bubble\n",
      "21등. 가수 : NewJeans, 제목 : Attention\n",
      "22등. 가수 : 오마이걸(OH MY GIRL), 제목 : 여름이 들려 (Summer Comes)\n",
      "23등. 가수 : ITZY (있지), 제목 : CAKE\n",
      "24등. 가수 : IVE (아이브), 제목 : After LIKE\n",
      "25등. 가수 : LE SSERAFIM (르세라핌), 제목 : UNFORGIVEN (feat. Nile Rodgers)\n",
      "26등. 가수 : NewJeans, 제목 : OMG\n",
      "27등. 가수 : NewJeans, 제목 : ASAP\n",
      "28등. 가수 : 우디(Woody), 제목 : 사막에서 꽃을 피우듯\n",
      "29등. 가수 : IVE (아이브), 제목 : LOVE DIVE\n",
      "30등. 가수 : H1-KEY (하이키), 제목 : 건물 사이에 피어난 장미 (Rose Blossom)\n",
      "31등. 가수 : Charlie Puth(찰리 푸스), 제목 : Dangerously\n",
      "32등. 가수 : 윤하(Younha/ユンナ), 제목 : 사건의 지평선\n",
      "33등. 가수 : DAY6 (데이식스), 제목 : 한 페이지가 될 수 있게\n",
      "34등. 가수 : Charlie Puth(찰리 푸스), 제목 : I Don’t Think That I Like Her\n",
      "35등. 가수 : (여자)아이들, 제목 : Allergy\n",
      "36등. 가수 : 지수(JISOO), 제목 : 꽃\n",
      "37등. 가수 : 성시경, 제목 : 너의 모든 순간\n",
      "38등. 가수 : STAYC(스테이씨), 제목 : Teddy Bear\n",
      "39등. 가수 : 세븐틴(SEVENTEEN), 제목 : 손오공\n",
      "40등. 가수 : LE SSERAFIM (르세라핌), 제목 : ANTIFRAGILE\n",
      "41등. 가수 : 리베란테(Libelante), 제목 : Shine\n",
      "42등. 가수 : Christopher(크리스토퍼), 제목 : When I Get Old\n",
      "43등. 가수 : Christopher(크리스토퍼), 제목 : 잠깐 시간 될까\n",
      "44등. 가수 : 이무진, 제목 : Cupid\n",
      "45등. 가수 : FIFTY FIFTY, 제목 : Miracle (우리라는 기적)\n",
      "46등. 가수 : 포르테나 (Forténa), 제목 : STAY\n",
      "47등. 가수 : The Kid LAROI, 제목 : ISTJ\n",
      "48등. 가수 : The Kid LAROI, 제목 : 오르트구름\n",
      "49등. 가수 : NCT DREAM, 제목 : That's Hilarious\n",
      "50등. 가수 : 윤하(Younha/ユンナ), 제목 : 주저하는 연인들을 위해\n",
      "51등. 가수 : Charlie Puth(찰리 푸스), 제목 : 사실말야내가말야그게그러니까말이야\n",
      "52등. 가수 : 잔나비, 제목 : Off My Face\n",
      "53등. 가수 : 케이시, 제목 : That’s Not How This Works (feat. Dan + Shay)\n",
      "54등. 가수 : Justin Bieber(저스틴 비버), 제목 : Shut Down\n",
      "55등. 가수 : Charlie Puth(찰리 푸스), 제목 : 심(心)\n",
      "56등. 가수 : BLACKPINK, 제목 : 모든 날, 모든 순간 (Every day, Every Moment)\n",
      "57등. 가수 : DK(디셈버), 제목 : KNOCK\n",
      "58등. 가수 : 폴킴(Paul Kim), 제목 : I WANT\n",
      "59등. 가수 : 이채연, 제목 : 파이팅 해야지 (Feat. 이영지)\n",
      "60등. 가수 : IVE (아이브), 제목 : TOMBOY\n",
      "61등. 가수 : 부석순(SEVENTEEN), 제목 : 취중고백\n",
      "62등. 가수 : (여자)아이들, 제목 : Thirsty\n",
      "63등. 가수 : 김민석 (멜로망스), 제목 : 다정히 내 이름을 부르면\n",
      "64등. 가수 : aespa, 제목 : Better Things\n",
      "65등. 가수 : 경서예지, 제목 : Monologue\n",
      "66등. 가수 : 경서예지, 제목 : INVU\n",
      "67등. 가수 : aespa, 제목 : 사랑인가 봐\n",
      "68등. 가수 : 테이(Tei), 제목 : Still With You\n",
      "69등. 가수 : 태연 (TAEYEON), 제목 : 그때 그 순간 그대로 (그그그)\n",
      "70등. 가수 : 멜로망스(MeloMance), 제목 : Roller Coaster\n",
      "71등. 가수 : 정국, 제목 : 나의 바람 (Wind And Wish)\n",
      "72등. 가수 : WSG워너비 (가야G), 제목 : 민들레 (single ver.)\n",
      "73등. 가수 : NMIXX, 제목 : Cookie\n",
      "74등. 가수 : 비투비, 제목 : 나의 X에게\n",
      "75등. 가수 : 우효(Oohyo), 제목 : Pink Venom\n",
      "76등. 가수 : NewJeans, 제목 : ELEVEN\n",
      "77등. 가수 : 경서, 제목 : 해요 (2022)\n",
      "78등. 가수 : BLACKPINK, 제목 : 그라데이션\n",
      "79등. 가수 : IVE (아이브), 제목 : 예뻤어 (여름날 우리 X 김민석 (멜로망스))\n",
      "80등. 가수 : #안녕, 제목 : 나에게 그대만이\n",
      "81등. 가수 : 10CM, 제목 : Candy\n",
      "82등. 가수 : 김민석 (멜로망스), 제목 : 도깨비불 (Illusion)\n",
      "83등. 가수 : 탑현, 제목 : Dynamite\n",
      "84등. 가수 : NCT DREAM, 제목 : 빛이 나는 너에게\n",
      "85등. 가수 : aespa, 제목 : PERFORMER\n",
      "86등. 가수 : 방탄소년단, 제목 : Sugarcoat (NATTY Solo)\n",
      "87등. 가수 : 던 (DAWN), 제목 : FEARLESS\n",
      "88등. 가수 : VANNER(배너), 제목 : 달빛에 그려지는\n",
      "89등. 가수 : KISS OF LIFE, 제목 : 사랑은 늘 도망가\n",
      "90등. 가수 : LE SSERAFIM (르세라핌), 제목 : 잘 지내자, 우리 (여름날 우리 X 로이킴)\n",
      "91등. 가수 : 미연 ((여자)아이들), 제목 : HARD\n",
      "92등. 가수 : 임영웅, 제목 : Love Me Like This\n",
      "93등. 가수 : 로이킴, 제목 : Miracle (우리라는 기적) (Inst.)\n",
      "94등. 가수 : SHINee (샤이니), 제목 : 정이라고 하자 (Feat. 10CM)\n",
      "95등. 가수 : NMIXX, 제목 : 여름날 (feat. 하현상)\n",
      "96등. 가수 : 포르테나 (Forténa), 제목 : 물론\n",
      "97등. 가수 : BIG Naughty (서동현), 제목 : 그대만 있다면 (여름날 우리 X 너드커넥션 (Nerd Connection))\n",
      "98등. 가수 : 볼빨간사춘기, 제목 : 특\n",
      "99등. 가수 : 허각, 제목 : Nxde\n",
      "100등. 가수 : 너드커넥션(Nerd Connection), 제목 : 미친 사랑의 노래\n",
      "101등. 가수 : Stray Kids (스트레이 키즈), 제목 : No title found\n",
      "102등. 가수 : (여자)아이들, 제목 : No title found\n",
      "103등. 가수 : 김연지, 제목 : No title found\n",
      "104등. 가수 : 김연지, 제목 : No title found\n"
     ]
    }
   ],
   "source": [
    "# for i in  :\n",
    "#     print('{:2d]. 가수 : {} , 제목 : {}'.format(i , artistRanks.index(i) , ranks.index(i)))\n",
    "# Pair artists with song titles and print\n",
    "for i, artist in enumerate(artistRanks):\n",
    "    song_title = titleRanks[i] if i < len(titleRanks) else \"No title found\"\n",
    "    print('{:2d}등. 가수 : {}, 제목 : {}'.format(i + 1, artist, song_title))"
   ],
   "metadata": {
    "collapsed": false,
    "ExecuteTime": {
     "start_time": "2023-08-23T17:04:53.244619Z",
     "end_time": "2023-08-23T17:04:53.323088Z"
    }
   }
  },
  {
   "cell_type": "code",
   "execution_count": 129,
   "outputs": [
    {
     "name": "stdout",
     "output_type": "stream",
     "text": [
      "bugsTOP100.txt 파일로 쓰기 완료\n"
     ]
    }
   ],
   "source": [
    "# 크롤링한 결과를 텍스트 파일에 저장한다.\n",
    "# file = open('C:\\\\coding\\\\Tjoeun\\\\04_python\\\\crawling\\\\output\\\\bugsTOP100.txt' , 'w') # 절대 경로\n",
    "# file = open('C:/coding/Tjoeun/04_python/crawling/output/bugsTOP100.txt' , 'w') # 절대 경로\n",
    "file = open('./output/bugsTOP100.txt' , 'w' , -1 , 'utf-8') # 절대 경로\n",
    "\n",
    "file.write(str(dt.now().strftime('%y-%m-%d %H:%M:%S\\n')))\n",
    "for i, artist in enumerate(artistRanks):\n",
    "    song_title = titleRanks[i] if i < len(titleRanks) else \"No title found\"\n",
    "    file.write('{:2d}등. {} - {}\\n '.format(i + 1, artist, song_title))\n",
    "file.close()\n",
    "print('bugsTOP100.txt 파일로 쓰기 완료')\n",
    "\n"
   ],
   "metadata": {
    "collapsed": false,
    "ExecuteTime": {
     "start_time": "2023-08-23T17:04:53.260157Z",
     "end_time": "2023-08-23T17:04:53.323088Z"
    }
   }
  },
  {
   "cell_type": "code",
   "execution_count": 130,
   "outputs": [],
   "source": [
    "# #with 구문을 사용해서 파일을 open하면 with 블록의 내용이 모두 실행된 후 자동으로 파일을 닫는다.\n",
    "# with open('./output/bugsTOP100.txt' , 'w' , -1 , 'urf-8') as file:\n",
    "#     file.write(str(dt.now().strftime('%y-%m-%d %H:%M:%S\\n')))\n",
    "#     for i in range(100):\n",
    "#         song_title = titleRanks[i] if i < len(titleRanks) else \"No title found\"\n",
    "#         file.write('{:2d}등. {} - {}\\n '.format(i + 1, artist, song_title))"
   ],
   "metadata": {
    "collapsed": false,
    "ExecuteTime": {
     "start_time": "2023-08-23T17:04:53.275846Z",
     "end_time": "2023-08-23T17:04:53.323088Z"
    }
   }
  },
  {
   "cell_type": "code",
   "execution_count": 131,
   "outputs": [
    {
     "name": "stdout",
     "output_type": "stream",
     "text": [
      "['bugsTOP100.txt']\n",
      "bugsTOP100\n"
     ]
    }
   ],
   "source": [
    "# 폴더에 저장된 파일 이름 가져오기\n",
    "import os\n",
    "fileList = os.listdir('./output/')\n",
    "print(fileList)\n",
    "\n",
    "for file in fileList:\n",
    "    #print(file[:-4]) # 확장명이 무조건 3글자일 때\n",
    "    print(file[:file.rindex('.')])\n"
   ],
   "metadata": {
    "collapsed": false,
    "ExecuteTime": {
     "start_time": "2023-08-23T17:04:53.298934Z",
     "end_time": "2023-08-23T17:04:53.323088Z"
    }
   }
  },
  {
   "cell_type": "code",
   "execution_count": 132,
   "outputs": [
    {
     "name": "stdout",
     "output_type": "stream",
     "text": [
      "23-08-23 17:04:53\n",
      "1등. AKMU(악뮤) - Love Lee\n",
      "2등. NewJeans - ETA\n",
      "3등. AKMU(악뮤) - 후라이의 꿈\n",
      "4등. NewJeans - Super Shy\n",
      "5등. 정국 - Seven (feat. Latto) - Clean Ver.\n",
      "6등. 전소미 - Fast Forward\n",
      "7등. NewJeans - New Jeans\n",
      "8등. IVE (아이브) - I AM\n",
      "9등. Paul Blanco - Summer (Feat. BE’O (비오))\n",
      "10등. Lauv(라우브) - Steal The Show (From “엘리멘탈”)\n",
      "11등. 박재정 - 헤어지자 말해요\n",
      "12등. (여자)아이들 - 퀸카 (Queencard)\n",
      "13등. 권은비 - Underwater\n",
      "14등. NewJeans - Cool With You\n",
      "15등. LE SSERAFIM (르세라핌) - 이브, 프시케 그리고 푸른 수염의 아내\n",
      "16등. aespa - Spicy\n",
      "17등. NewJeans - Hype Boy\n",
      "18등. NewJeans - Ditto\n",
      "19등. IVE (아이브) - Kitsch\n",
      "20등. STAYC(스테이씨) - Bubble\n",
      "21등. NewJeans - Attention\n",
      "22등. 오마이걸(OH MY GIRL) - 여름이 들려 (Summer Comes)\n",
      "23등. ITZY (있지) - CAKE\n",
      "24등. IVE (아이브) - After LIKE\n",
      "25등. LE SSERAFIM (르세라핌) - UNFORGIVEN (feat. Nile Rodgers)\n",
      "26등. NewJeans - OMG\n",
      "27등. NewJeans - ASAP\n",
      "28등. 우디(Woody) - 사막에서 꽃을 피우듯\n",
      "29등. IVE (아이브) - LOVE DIVE\n",
      "30등. H1-KEY (하이키) - 건물 사이에 피어난 장미 (Rose Blossom)\n",
      "31등. Charlie Puth(찰리 푸스) - Dangerously\n",
      "32등. 윤하(Younha/ユンナ) - 사건의 지평선\n",
      "33등. DAY6 (데이식스) - 한 페이지가 될 수 있게\n",
      "34등. Charlie Puth(찰리 푸스) - I Don’t Think That I Like Her\n",
      "35등. (여자)아이들 - Allergy\n",
      "36등. 지수(JISOO) - 꽃\n",
      "37등. 성시경 - 너의 모든 순간\n",
      "38등. STAYC(스테이씨) - Teddy Bear\n",
      "39등. 세븐틴(SEVENTEEN) - 손오공\n",
      "40등. LE SSERAFIM (르세라핌) - ANTIFRAGILE\n",
      "41등. 리베란테(Libelante) - Shine\n",
      "42등. Christopher(크리스토퍼) - When I Get Old\n",
      "43등. Christopher(크리스토퍼) - 잠깐 시간 될까\n",
      "44등. 이무진 - Cupid\n",
      "45등. FIFTY FIFTY - Miracle (우리라는 기적)\n",
      "46등. 포르테나 (Forténa) - STAY\n",
      "47등. The Kid LAROI - ISTJ\n",
      "48등. The Kid LAROI - 오르트구름\n",
      "49등. NCT DREAM - That's Hilarious\n",
      "50등. 윤하(Younha/ユンナ) - 주저하는 연인들을 위해\n",
      "51등. Charlie Puth(찰리 푸스) - 사실말야내가말야그게그러니까말이야\n",
      "52등. 잔나비 - Off My Face\n",
      "53등. 케이시 - That’s Not How This Works (feat. Dan + Shay)\n",
      "54등. Justin Bieber(저스틴 비버) - Shut Down\n",
      "55등. Charlie Puth(찰리 푸스) - 심(心)\n",
      "56등. BLACKPINK - 모든 날, 모든 순간 (Every day, Every Moment)\n",
      "57등. DK(디셈버) - KNOCK\n",
      "58등. 폴킴(Paul Kim) - I WANT\n",
      "59등. 이채연 - 파이팅 해야지 (Feat. 이영지)\n",
      "60등. IVE (아이브) - TOMBOY\n",
      "61등. 부석순(SEVENTEEN) - 취중고백\n",
      "62등. (여자)아이들 - Thirsty\n",
      "63등. 김민석 (멜로망스) - 다정히 내 이름을 부르면\n",
      "64등. aespa - Better Things\n",
      "65등. 경서예지 - Monologue\n",
      "66등. 경서예지 - INVU\n",
      "67등. aespa - 사랑인가 봐\n",
      "68등. 테이(Tei) - Still With You\n",
      "69등. 태연 (TAEYEON) - 그때 그 순간 그대로 (그그그)\n",
      "70등. 멜로망스(MeloMance) - Roller Coaster\n",
      "71등. 정국 - 나의 바람 (Wind And Wish)\n",
      "72등. WSG워너비 (가야G) - 민들레 (single ver.)\n",
      "73등. NMIXX - Cookie\n",
      "74등. 비투비 - 나의 X에게\n",
      "75등. 우효(Oohyo) - Pink Venom\n",
      "76등. NewJeans - ELEVEN\n",
      "77등. 경서 - 해요 (2022)\n",
      "78등. BLACKPINK - 그라데이션\n",
      "79등. IVE (아이브) - 예뻤어 (여름날 우리 X 김민석 (멜로망스))\n",
      "80등. #안녕 - 나에게 그대만이\n",
      "81등. 10CM - Candy\n",
      "82등. 김민석 (멜로망스) - 도깨비불 (Illusion)\n",
      "83등. 탑현 - Dynamite\n",
      "84등. NCT DREAM - 빛이 나는 너에게\n",
      "85등. aespa - PERFORMER\n",
      "86등. 방탄소년단 - Sugarcoat (NATTY Solo)\n",
      "87등. 던 (DAWN) - FEARLESS\n",
      "88등. VANNER(배너) - 달빛에 그려지는\n",
      "89등. KISS OF LIFE - 사랑은 늘 도망가\n",
      "90등. LE SSERAFIM (르세라핌) - 잘 지내자, 우리 (여름날 우리 X 로이킴)\n",
      "91등. 미연 ((여자)아이들) - HARD\n",
      "92등. 임영웅 - Love Me Like This\n",
      "93등. 로이킴 - Miracle (우리라는 기적) (Inst.)\n",
      "94등. SHINee (샤이니) - 정이라고 하자 (Feat. 10CM)\n",
      "95등. NMIXX - 여름날 (feat. 하현상)\n",
      "96등. 포르테나 (Forténa) - 물론\n",
      "97등. BIG Naughty (서동현) - 그대만 있다면 (여름날 우리 X 너드커넥션 (Nerd Connection))\n",
      "98등. 볼빨간사춘기 - 특\n",
      "99등. 허각 - Nxde\n",
      "100등. 너드커넥션(Nerd Connection) - 미친 사랑의 노래\n",
      "101등. Stray Kids (스트레이 키즈) - No title found\n",
      "102등. (여자)아이들 - No title found\n",
      "103등. 김연지 - No title found\n",
      "104등. 김연지 - No title found\n",
      "\n"
     ]
    }
   ],
   "source": [
    "# 텍스트 파일에 저장된 데이터를 읽어서 화면에 출력한다.\n",
    "try:\n",
    "    file = open('./output/bugsTOP100.txt' , 'r' , -1 , 'utf-8')\n",
    "    lines = file.readlines()\n",
    "    for line in lines:\n",
    "        print(line.strip())\n",
    "except FileNotFoundError:\n",
    "    print('디스크에 파일이 없습니다.')"
   ],
   "metadata": {
    "collapsed": false,
    "ExecuteTime": {
     "start_time": "2023-08-23T17:04:53.307442Z",
     "end_time": "2023-08-23T17:04:53.338795Z"
    }
   }
  }
 ],
 "metadata": {
  "kernelspec": {
   "display_name": "Python 3",
   "language": "python",
   "name": "python3"
  },
  "language_info": {
   "codemirror_mode": {
    "name": "ipython",
    "version": 2
   },
   "file_extension": ".py",
   "mimetype": "text/x-python",
   "name": "python",
   "nbconvert_exporter": "python",
   "pygments_lexer": "ipython2",
   "version": "2.7.6"
  }
 },
 "nbformat": 4,
 "nbformat_minor": 0
}
