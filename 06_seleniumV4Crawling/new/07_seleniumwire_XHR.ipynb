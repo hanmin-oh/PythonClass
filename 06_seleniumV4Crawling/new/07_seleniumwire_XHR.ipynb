{
 "cells": [
  {
   "cell_type": "code",
   "execution_count": 5,
   "id": "c1c0a6fd",
   "metadata": {},
   "outputs": [],
   "source": [
    "import warnings\n",
    "warnings.filterwarnings(action='ignore')\n",
    "%config Completer.use_jedi = False\n",
    "from selenium.webdriver.chrome.options import Options\n",
    "from selenium.webdriver.chrome.service import Service\n",
    "from selenium.webdriver.common.by import By\n",
    "from webdriver_manager.chrome import ChromeDriverManager\n",
    "from seleniumwire import webdriver\n",
    "import json\n",
    "import time"
   ]
  },
  {
   "cell_type": "markdown",
   "id": "25108a5b",
   "metadata": {},
   "source": [
    "seleniumwire를 이용한 스타벅스 시도 코드 크롤링"
   ]
  },
  {
   "cell_type": "code",
   "execution_count": 17,
   "id": "63295a85",
   "metadata": {},
   "outputs": [
    {
     "name": "stdout",
     "output_type": "stream",
     "text": [
      "https://www.starbucks.co.kr/store/getSidoList.do\n",
      "{'서울': '01', '경기': '08', '광주': '02', '대구': '03', '대전': '04', '부산': '05', '울산': '06', '인천': '07', '강원': '09', '경남': '10', '경북': '11', '전남': '12', '전북': '13', '충남': '14', '충북': '15', '제주': '16', '세종': '17'}\n"
     ]
    }
   ],
   "source": [
    "options = webdriver.ChromeOptions() \n",
    "options.add_argument('--window-size=1890,1030')  # 너비 1890 픽셀, 높이 1030 픽셀로 설정\n",
    "service = Service(executable_path=ChromeDriverManager().install())\n",
    "driver = webdriver.Chrome(service=service, options=options)\n",
    "driver.implicitly_wait(5)\n",
    "driver.get('https://www.starbucks.co.kr/store/store_map.do?disp=locale')\n",
    "\n",
    "request = driver.wait_for_request('https://www.starbucks.co.kr/store/getSidoList.do', timeout=10)\n",
    "print(request.url)\n",
    "# print(request.response)\n",
    "# print(request.response.status_code)\n",
    "# print(request.response.headers)\n",
    "# print(type(request.response.body.decode('utf-8'))) # <class 'str'>\n",
    "\n",
    "starbucks = json.loads(request.response.body.decode('utf-8'))\n",
    "# print(starbucks) # <class 'dict'>\n",
    "\n",
    "sido_list = {}\n",
    "for star in starbucks['list']: # dict의 list키에 할당되어 있는 데이터 \n",
    "    sido_list[star.get('sido_nm')] = star['sido_cd']\n",
    "print(sido_list)"
   ]
  },
  {
   "cell_type": "markdown",
   "id": "ab133f29",
   "metadata": {},
   "source": [
    "seleniumwire를 이용한 스타벅스 구군 코드 크롤링"
   ]
  },
  {
   "cell_type": "code",
   "execution_count": 28,
   "id": "7bcf355b",
   "metadata": {},
   "outputs": [
    {
     "name": "stdout",
     "output_type": "stream",
     "text": [
      "시도 : 경기\n",
      "{'가평군': '0801', '고양시 덕양구': '0832', '고양시 일산동구': '0802', '고양시 일산서구': '0836', '과천시': '0803', '광명시': '0804', '광주시': '0805', '구리시': '0806', '군포시': '0807', '김포시': '0837', '남양주시': '0808', '동두천시': '0844', '부천시': '0838', '성남시 분당구': '0811', '성남시 수정구': '0833', '성남시 중원구': '0812', '수원시 권선구': '0813', '수원시 영통구': '0839', '수원시 장안구': '0814', '수원시 팔달구': '0815', '시흥시': '0816', '안산시 단원구': '0817', '안산시 상록구': '0840', '안성시': '0818', '안양시 동안구': '0819', '안양시 만안구': '0820', '양주시': '0821', '양평군': '0841', '여주시': '0834', '연천군': '0822', '오산시': '0823', '용인시 기흥구': '0824', '용인시 수지구': '0842', '용인시 처인구': '0825', '의왕시': '0826', '의정부시': '0827', '이천시': '0828', '파주시': '0843', '평택시': '0835', '포천시': '0829', '하남시': '0830', '화성시': '0831'}\n"
     ]
    }
   ],
   "source": [
    "options = webdriver.ChromeOptions() \n",
    "options.add_argument('--window-size=1890,1030')  # 너비 1890 픽셀, 높이 1030 픽셀로 설정\n",
    "service = Service(executable_path=ChromeDriverManager().install())\n",
    "driver = webdriver.Chrome(service=service, options=options)\n",
    "driver.implicitly_wait(5)\n",
    "driver.get('https://www.starbucks.co.kr/store/store_map.do?disp=locale')\n",
    "\n",
    "sido_list = {'서울': '01', '경기': '02', '광주': '03', '대구': '04', '대전': '05', '부산': '06', '울산': '07', \n",
    "             '인천': '08', '강원': '09', '경남': '10', '경북': '11', '전남': '12', '전북': '13', '충남': '14', \n",
    "             '충북': '15', '제주': '16', '세종': '17'}\n",
    "sido = input('시도 : ')\n",
    "\n",
    "driver.find_element(By.XPATH, '//*[@id=\"container\"]/div/form/fieldset/div/section/article[1]/article/article[2]/div[1]/div[2]/ul/li[' +\n",
    "                    str(int(sido_list[sido])) + ']/a').click()\n",
    "time.sleep(1)\n",
    "\n",
    "request = driver.wait_for_request('https://www.starbucks.co.kr/store/getGugunList.do', timeout=10)\n",
    "starbucks = json.loads(request.response.body.decode('utf-8'))\n",
    "# print(starbucks)\n",
    "\n",
    "gugun_list = {}\n",
    "for star in starbucks['list']:  \n",
    "    gugun_list[star.get('gugun_nm')] = star['gugun_cd']\n",
    "print(gugun_list)\n"
   ]
  },
  {
   "cell_type": "markdown",
   "id": "b0382e12",
   "metadata": {},
   "source": [
    "selenium-wire를 이용한 스타벅스 지역별 매장 정보 크롤링"
   ]
  },
  {
   "cell_type": "code",
   "execution_count": 40,
   "id": "89c5f275",
   "metadata": {},
   "outputs": [
    {
     "name": "stdout",
     "output_type": "stream",
     "text": [
      "시도 : 경기\n",
      "{'가평군': 2, '고양시 덕양구': 3, '고양시 일산동구': 4, '고양시 일산서구': 5, '과천시': 6, '광명시': 7, '광주시': 8, '구리시': 9, '군포시': 10, '김포시': 11, '남양주시': 12, '동두천시': 13, '부천시': 14, '성남시 분당구': 15, '성남시 수정구': 16, '성남시 중원구': 17, '수원시 권선구': 18, '수원시 영통구': 19, '수원시 장안구': 20, '수원시 팔달구': 21, '시흥시': 22, '안산시 단원구': 23, '안산시 상록구': 24, '안성시': 25, '안양시 동안구': 26, '안양시 만안구': 27, '양주시': 28, '양평군': 29, '여주시': 30, '연천군': 31, '오산시': 32, '용인시 기흥구': 33, '용인시 수지구': 34, '용인시 처인구': 35, '의왕시': 36, '의정부시': 37, '이천시': 38, '파주시': 39, '평택시': 40, '포천시': 41, '하남시': 42, '화성시': 43}\n",
      "구군: 고양시 일산동구\n",
      "  1, 일산하늘마을: 경기도 고양시 일산동구 중산로 61 (중산동)(37.6775295741821, 126.78206550066666)\n",
      "  2, 고양대로DT: 경기도 고양시 일산동구 고양대로 910 (풍동)(37.677601, 126.7961618)\n",
      "  3, 일산동구청: 경기도 고양시 일산동구 정발산로 38 (장항동)(37.65665, 126.772598)\n",
      "  4, 마두역: 경기도 고양시 일산동구 중앙로 1191 (장항동)(37.652965, 126.776768)\n",
      "  5, 웨스턴돔B: 경기도 고양시 일산동구 정발산로 24 (장항동)(37.654744, 126.77261900000007)\n",
      "  6, 일산백마: 경기도 고양시 일산동구 일산로 237 (마두동)(37.6570742, 126.7880695)\n",
      "  7, 라페스타광장: 경기도 고양시 일산동구 중앙로1275번길 38-9 (장항동)(37.659671, 126.770161)\n",
      "  8, 백석: 경기도 고양시 일산동구 중앙로 1059 (백석동)(37.643888, 126.786153)\n",
      "  9, 백석역DT: 경기도 고양시 일산동구 중앙로 1054, 1층 (백석동)(37.6439377, 126.7873856)\n",
      " 10, 풍산이마트: 경기도 고양시 일산동구 무궁화로 237 (중산동)(37.673769, 126.786883)\n",
      " 11, 일산식사: 경기도 고양시 일산동구 위시티2로11번길 31 (식사동)(37.6779381, 126.812161)\n",
      " 12, 백석중앙로: 경기도 고양시 일산동구 강송로 33 (백석동)(37.6411, 126.790987)\n",
      " 13, 일산풍동DT: 경기도 고양시 일산동구 백마로 475 (풍동)(37.662091, 126.800900)\n",
      " 14, 동국대일산병원: 경기도 고양시 일산동구 동국로 27 (식사동)(37.676411, 126.806405)\n",
      " 15, 일산애니골DT: 경기도 고양시 일산동구 무궁화로 294 (풍동)(37.6748, 126.793181)\n",
      " 16, 소노캄고양: 경기도 고양시 일산동구 태극로 18 (장항동)(37.662855441267716, 126.75051316953129)\n"
     ]
    }
   ],
   "source": [
    "options = webdriver.ChromeOptions() \n",
    "options.add_argument('--window-size=1890,1030')  # 너비 1890 픽셀, 높이 1030 픽셀로 설정\n",
    "service = Service(executable_path=ChromeDriverManager().install())\n",
    "driver = webdriver.Chrome(service=service, options=options)\n",
    "driver.implicitly_wait(5)\n",
    "driver.get('https://www.starbucks.co.kr/store/store_map.do?disp=locale')\n",
    "\n",
    "sido_list = {'서울': '01', '경기': '02', '광주': '03', '대구': '04', '대전': '05', '부산': '06', '울산': '07', \n",
    "             '인천': '08', '강원': '09', '경남': '10', '경북': '11', '전남': '12', '전북': '13', '충남': '14', \n",
    "             '충북': '15', '제주': '16', '세종': '17'}\n",
    "sido = input('시도 : ')\n",
    "\n",
    "driver.find_element(By.XPATH, '//*[@id=\"container\"]/div/form/fieldset/div/section/article[1]/article/article[2]/div[1]/div[2]/ul/li[' +\n",
    "                    str(int(sido_list[sido])) + ']/a').click()\n",
    "time.sleep(1)\n",
    "\n",
    "request = driver.wait_for_request('https://www.starbucks.co.kr/store/getGugunList.do', timeout=10)\n",
    "starbucks = json.loads(request.response.body.decode('utf-8'))\n",
    "gugun_list = {}\n",
    "for i, star in zip(range(2, (len(starbucks['list']) + 2)), starbucks['list']):  \n",
    "    gugun_list[star.get('gugun_nm')] = i\n",
    "print(gugun_list)\n",
    "\n",
    "gugun = input('구군: ')\n",
    "driver.find_element(By.XPATH, '//*[@id=\"mCSB_2_container\"]/ul/li['+ str(gugun_list[gugun]) + ']/a').click()\n",
    "time.sleep(1)\n",
    "\n",
    "request = driver.wait_for_request('https://www.starbucks.co.kr/store/getStore.do', timeout=10)\n",
    "starbucks = json.loads(request.response.body.decode('utf-8'))\n",
    "store_list = {}\n",
    "for i, star in zip(range(1, len(starbucks['list']) + 1), starbucks['list']):\n",
    "    print('{:3d}, {}: {}({}, {})'.format(i, star['s_name'], star['doro_address'], star['lat'], star['lot']))\n"
   ]
  },
  {
   "cell_type": "code",
   "execution_count": null,
   "id": "df38f09c",
   "metadata": {},
   "outputs": [],
   "source": []
  },
  {
   "cell_type": "code",
   "execution_count": null,
   "id": "90da3b8c",
   "metadata": {},
   "outputs": [],
   "source": []
  },
  {
   "cell_type": "code",
   "execution_count": null,
   "id": "b65103d1",
   "metadata": {},
   "outputs": [],
   "source": []
  },
  {
   "cell_type": "code",
   "execution_count": null,
   "id": "fc773e40",
   "metadata": {},
   "outputs": [],
   "source": []
  },
  {
   "cell_type": "code",
   "execution_count": null,
   "id": "bdfeb450",
   "metadata": {},
   "outputs": [],
   "source": []
  },
  {
   "cell_type": "code",
   "execution_count": null,
   "id": "0223e4b9",
   "metadata": {},
   "outputs": [],
   "source": []
  },
  {
   "cell_type": "markdown",
   "id": "2339c536",
   "metadata": {},
   "source": [
    "sido_list = {'서울': '01', '경기': '02', '광주': '03', '대구': '04', '대전': '05', '부산': '06', '울산': '07', \n",
    "             '인천': '08', '강원': '09', '경남': '10', '경북': '11', '전남': '12', '전북': '13', '충남': '14', \n",
    "             '충북': '15', '제주': '16', '세종': '17'}\n",
    "user_input = input('시도 : ')\n",
    "\n",
    "if user_input in sido_list:\n",
    "    sido = sido_list[user_input]\n",
    "    print(f\"'{user_input}'의 코드는 '{sido}'입니다.\")\n",
    "else:\n",
    "    print(\"해당 시도를 찾을 수 없습니다.\")\n",
    "\n",
    "driver.find_element(By.XPATH, '//*[@id=\"container\"]/div/form/fieldset/div/section/article[1]/article/article[2]/div[1]/div[2]/ul/li[' + sido + ']/a').click()\n",
    "time.sleep(1)"
   ]
  },
  {
   "cell_type": "code",
   "execution_count": null,
   "id": "f8772ab6",
   "metadata": {},
   "outputs": [],
   "source": []
  },
  {
   "cell_type": "code",
   "execution_count": null,
   "id": "530b5257",
   "metadata": {},
   "outputs": [],
   "source": []
  },
  {
   "cell_type": "code",
   "execution_count": null,
   "id": "b722c032",
   "metadata": {},
   "outputs": [],
   "source": []
  },
  {
   "cell_type": "code",
   "execution_count": null,
   "id": "0a6315d5",
   "metadata": {},
   "outputs": [],
   "source": []
  },
  {
   "cell_type": "code",
   "execution_count": null,
   "id": "78779d46",
   "metadata": {},
   "outputs": [],
   "source": []
  },
  {
   "cell_type": "code",
   "execution_count": null,
   "id": "3cce8092",
   "metadata": {},
   "outputs": [],
   "source": []
  },
  {
   "cell_type": "code",
   "execution_count": null,
   "id": "c1d60ed3",
   "metadata": {},
   "outputs": [],
   "source": []
  },
  {
   "cell_type": "code",
   "execution_count": null,
   "id": "73d74b3b",
   "metadata": {},
   "outputs": [],
   "source": []
  },
  {
   "cell_type": "code",
   "execution_count": null,
   "id": "78b215b4",
   "metadata": {},
   "outputs": [],
   "source": []
  },
  {
   "cell_type": "code",
   "execution_count": null,
   "id": "fc5409d4",
   "metadata": {},
   "outputs": [],
   "source": []
  },
  {
   "cell_type": "code",
   "execution_count": null,
   "id": "e7bbd799",
   "metadata": {},
   "outputs": [],
   "source": []
  },
  {
   "cell_type": "code",
   "execution_count": null,
   "id": "81ba0381",
   "metadata": {},
   "outputs": [],
   "source": []
  },
  {
   "cell_type": "code",
   "execution_count": null,
   "id": "79c523d2",
   "metadata": {},
   "outputs": [],
   "source": []
  },
  {
   "cell_type": "code",
   "execution_count": null,
   "id": "430a38d9",
   "metadata": {},
   "outputs": [],
   "source": []
  },
  {
   "cell_type": "code",
   "execution_count": null,
   "id": "265bd0bc",
   "metadata": {},
   "outputs": [],
   "source": []
  },
  {
   "cell_type": "code",
   "execution_count": null,
   "id": "f6b48b75",
   "metadata": {},
   "outputs": [],
   "source": []
  },
  {
   "cell_type": "code",
   "execution_count": null,
   "id": "b7f1dafe",
   "metadata": {},
   "outputs": [],
   "source": []
  },
  {
   "cell_type": "code",
   "execution_count": null,
   "id": "2cb89d93",
   "metadata": {},
   "outputs": [],
   "source": []
  },
  {
   "cell_type": "code",
   "execution_count": null,
   "id": "7451d6af",
   "metadata": {},
   "outputs": [],
   "source": []
  }
 ],
 "metadata": {
  "kernelspec": {
   "display_name": "py37",
   "language": "python",
   "name": "py37"
  },
  "language_info": {
   "codemirror_mode": {
    "name": "ipython",
    "version": 3
   },
   "file_extension": ".py",
   "mimetype": "text/x-python",
   "name": "python",
   "nbconvert_exporter": "python",
   "pygments_lexer": "ipython3",
   "version": "3.7.16"
  }
 },
 "nbformat": 4,
 "nbformat_minor": 5
}
