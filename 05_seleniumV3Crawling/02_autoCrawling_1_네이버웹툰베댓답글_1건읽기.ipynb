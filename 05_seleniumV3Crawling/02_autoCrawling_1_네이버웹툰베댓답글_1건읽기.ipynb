{
 "cells": [
  {
   "cell_type": "code",
   "execution_count": 7,
   "id": "5966b170",
   "metadata": {},
   "outputs": [],
   "source": [
    "import warnings\n",
    "warnings.filterwarnings(action='ignore')\n",
    "%config Computer.use_jedi = False\n",
    "from bs4 import BeautifulSoup\n",
    "from selenium import webdriver\n",
    "from selenium.webdriver.chrome.service import Service"
   ]
  },
  {
   "cell_type": "markdown",
   "id": "74f247c3",
   "metadata": {},
   "source": [
    "service = Service(executable_path=r\".\\chromedriver.exe\") \n",
    "\n",
    "driver = webdriver.Chrome(service=service)\n",
    "driver.implicitly_wait(5)\n",
    "driver.get('https://comic.naver.com/webtoon/detail?titleId=812354&no=22&week=thu')\n",
    "\n",
    "# 특정 베댓 1건을 읽는다.\n",
    "html = driver.page_source # 가상 크롬에 실행된 사이트의 html 정보를 얻어온다.\n",
    "# print(html)\n",
    "soup = BeautifulSoup(html, 'html.parser')\n",
    "reviews = soup.select('span.u_cbox_contents')\n",
    "print(len(reviews))\n",
    "print('{:2d}. {}'.format(1, reviews[0].text))\n",
    "print('=' * 80)\n",
    "# 답글 링크를 클릭해서 답글을 연다. \n",
    "driver.find_element_by_xpath(\n",
    "    '//*[@id=\"cbox_module_wai_u_cbox_content_wrap_tabpanel\"]/ul/li[1]/div[1]/div/div[4]/a' # 1번째 베댓의 댓글 버튼\n",
    ").click()\n",
    "time.sleep(0.5)\n",
    "\n",
    "# 더보기 링크가 더이상 나오지 않을때 까지 반복하며 답글의 더보기 버튼을 클릭해서 답글을 표시한다. \n",
    "while True:\n",
    "    driver.find_element_by_xpath(\n",
    "        '//*[@id=\"cbox_module_wai_u_cbox_content_wrap_tabpanel\"]/ul/li[1]/div[2]/div/div[2]/a'\n",
    "    )\n",
    "time.sleep(0.5)"
   ]
  },
  {
   "cell_type": "code",
   "execution_count": 8,
   "id": "3b8f6664",
   "metadata": {},
   "outputs": [
    {
     "ename": "TypeError",
     "evalue": "__init__() got multiple values for argument 'options'",
     "output_type": "error",
     "traceback": [
      "\u001b[1;31m---------------------------------------------------------------------------\u001b[0m",
      "\u001b[1;31mTypeError\u001b[0m                                 Traceback (most recent call last)",
      "Cell \u001b[1;32mIn[8], line 4\u001b[0m\n\u001b[0;32m      2\u001b[0m option \u001b[38;5;241m=\u001b[39m Options()\n\u001b[0;32m      3\u001b[0m option\u001b[38;5;241m.\u001b[39madd_argument(\u001b[38;5;124m'\u001b[39m\u001b[38;5;124m--window-size=1890,1030\u001b[39m\u001b[38;5;124m'\u001b[39m)\n\u001b[1;32m----> 4\u001b[0m driver \u001b[38;5;241m=\u001b[39m \u001b[43mwebdriver\u001b[49m\u001b[38;5;241;43m.\u001b[39;49m\u001b[43mChrome\u001b[49m\u001b[43m(\u001b[49m\u001b[38;5;124;43m'\u001b[39;49m\u001b[38;5;124;43m./chromedriver.exe\u001b[39;49m\u001b[38;5;124;43m'\u001b[39;49m\u001b[43m,\u001b[49m\u001b[43m \u001b[49m\u001b[43moptions\u001b[49m\u001b[38;5;241;43m=\u001b[39;49m\u001b[43moption\u001b[49m\u001b[43m)\u001b[49m \u001b[38;5;66;03m# 가상 크롬을 실행한다.\u001b[39;00m\n\u001b[0;32m      5\u001b[0m \u001b[38;5;66;03m# 지정된 시간 동안 로딩 되기를 기다리며 대기한다. 로딩이 완료되면 즉시 다음 단계로 진행한다. \u001b[39;00m\n\u001b[0;32m      6\u001b[0m driver\u001b[38;5;241m.\u001b[39mimplicitly_wait(\u001b[38;5;241m5\u001b[39m)\n",
      "\u001b[1;31mTypeError\u001b[0m: __init__() got multiple values for argument 'options'"
     ]
    }
   ],
   "source": [
    "from selenium.webdriver.chrome.options import Options\n",
    "option = Options()\n",
    "option.add_argument('--window-size=1890,1030')\n",
    "driver = webdriver.Chrome('./chromedriver.exe', options=option) # 가상 크롬을 실행한다.\n",
    "# 지정된 시간 동안 로딩 되기를 기다리며 대기한다. 로딩이 완료되면 즉시 다음 단계로 진행한다. \n",
    "driver.implicitly_wait(5)\n",
    "\n",
    "# 네이버 웹툰 신혼일기 22화 다이어트 편을 보여주는 페이지\n",
    "driver.get('https://comic.naver.com/webtoon/detail?titleId=812354&no=22&week=thu')\n",
    "\n",
    "# 특정 베댓 1건을 읽는다.\n",
    "html = driver.page_source # 가상 크롬에 실행된 사이트의 html 정보를 얻어온다.\n",
    "# print(html)\n",
    "soup = BeautifulSoup(html, 'html.parser')\n",
    "reviews = soup.select('span.u_cbox_contents')\n",
    "print(len(reviews))\n",
    "print('{:2d}. {}'.format(1, reviews[0].text))\n",
    "print('=' * 80)\n",
    "# 답글 링크를 클릭해서 답글을 연다. \n",
    "driver.find_element_by_xpath(\n",
    "    '//*[@id=\"cbox_module_wai_u_cbox_content_wrap_tabpanel\"]/ul/li[1]/div[1]/div/div[4]/a' # 1번째 베댓의 댓글 버튼\n",
    ").click()\n",
    "time.sleep(0.5)\n",
    "\n",
    "# 더보기 링크가 더이상 나오지 않을때 까지 반복하며 답글의 더보기 버튼을 클릭해서 답글을 표시한다. \n",
    "while True:\n",
    "    driver.find_element_by_xpath(\n",
    "        '//*[@id=\"cbox_module_wai_u_cbox_content_wrap_tabpanel\"]/ul/li[1]/div[2]/div/div[2]/a'\n",
    "    )\n",
    "time.sleep(0.5)\n"
   ]
  },
  {
   "cell_type": "code",
   "execution_count": null,
   "id": "19db65a6",
   "metadata": {},
   "outputs": [],
   "source": []
  },
  {
   "cell_type": "code",
   "execution_count": null,
   "id": "84060f54",
   "metadata": {},
   "outputs": [],
   "source": []
  },
  {
   "cell_type": "code",
   "execution_count": null,
   "id": "b83990c8",
   "metadata": {},
   "outputs": [],
   "source": []
  },
  {
   "cell_type": "code",
   "execution_count": null,
   "id": "d04307e3",
   "metadata": {},
   "outputs": [],
   "source": []
  },
  {
   "cell_type": "code",
   "execution_count": null,
   "id": "220534f7",
   "metadata": {},
   "outputs": [],
   "source": []
  },
  {
   "cell_type": "code",
   "execution_count": null,
   "id": "5974d78c",
   "metadata": {},
   "outputs": [],
   "source": []
  },
  {
   "cell_type": "code",
   "execution_count": null,
   "id": "1db4f468",
   "metadata": {},
   "outputs": [],
   "source": []
  },
  {
   "cell_type": "code",
   "execution_count": null,
   "id": "7f66186e",
   "metadata": {},
   "outputs": [],
   "source": []
  },
  {
   "cell_type": "code",
   "execution_count": null,
   "id": "bc988aff",
   "metadata": {},
   "outputs": [],
   "source": []
  },
  {
   "cell_type": "code",
   "execution_count": null,
   "id": "a2e7c80a",
   "metadata": {},
   "outputs": [],
   "source": []
  },
  {
   "cell_type": "code",
   "execution_count": null,
   "id": "1ff70567",
   "metadata": {},
   "outputs": [],
   "source": []
  },
  {
   "cell_type": "code",
   "execution_count": null,
   "id": "8920697e",
   "metadata": {},
   "outputs": [],
   "source": []
  },
  {
   "cell_type": "code",
   "execution_count": null,
   "id": "24568a6a",
   "metadata": {},
   "outputs": [],
   "source": []
  },
  {
   "cell_type": "code",
   "execution_count": null,
   "id": "7248f4fe",
   "metadata": {},
   "outputs": [],
   "source": []
  },
  {
   "cell_type": "code",
   "execution_count": null,
   "id": "62b29f69",
   "metadata": {},
   "outputs": [],
   "source": []
  },
  {
   "cell_type": "code",
   "execution_count": null,
   "id": "f3aa6a1f",
   "metadata": {},
   "outputs": [],
   "source": []
  },
  {
   "cell_type": "code",
   "execution_count": null,
   "id": "13ce70c8",
   "metadata": {},
   "outputs": [],
   "source": []
  },
  {
   "cell_type": "code",
   "execution_count": null,
   "id": "c7a171d0",
   "metadata": {},
   "outputs": [],
   "source": []
  },
  {
   "cell_type": "code",
   "execution_count": null,
   "id": "e5404d48",
   "metadata": {},
   "outputs": [],
   "source": []
  },
  {
   "cell_type": "code",
   "execution_count": null,
   "id": "7b39d0d4",
   "metadata": {},
   "outputs": [],
   "source": []
  },
  {
   "cell_type": "code",
   "execution_count": null,
   "id": "28636c1b",
   "metadata": {},
   "outputs": [],
   "source": []
  }
 ],
 "metadata": {
  "kernelspec": {
   "display_name": "Python 3 (ipykernel)",
   "language": "python",
   "name": "python3"
  },
  "language_info": {
   "codemirror_mode": {
    "name": "ipython",
    "version": 3
   },
   "file_extension": ".py",
   "mimetype": "text/x-python",
   "name": "python",
   "nbconvert_exporter": "python",
   "pygments_lexer": "ipython3",
   "version": "3.8.6"
  }
 },
 "nbformat": 4,
 "nbformat_minor": 5
}
