{
 "cells": [
  {
   "cell_type": "code",
   "execution_count": 4,
   "id": "374a661c",
   "metadata": {},
   "outputs": [],
   "source": [
    "import warnings\n",
    "warnings.filterwarnings(action='ignore')\n",
    "%config Completer.use_jedi = False\n",
    "from bs4 import BeautifulSoup\n",
    "from selenium import webdriver\n",
    "from selenium.webdriver.chrome.options import Options\n",
    "from selenium.webdriver.chrome.service import Service\n",
    "from webdriver_manager.chrome import ChromeDriverManager"
   ]
  },
  {
   "cell_type": "code",
   "execution_count": 5,
   "id": "ac9381c6",
   "metadata": {
    "scrolled": false
   },
   "outputs": [
    {
     "name": "stdout",
     "output_type": "stream",
     "text": [
      "15\n",
      " 1. 냥군 어떻게 한거야 제발 알려줘\n",
      "================================================================================\n"
     ]
    },
    {
     "ename": "AttributeError",
     "evalue": "'WebDriver' object has no attribute 'find_element_by_xpath'",
     "output_type": "error",
     "traceback": [
      "\u001b[1;31m---------------------------------------------------------------------------\u001b[0m",
      "\u001b[1;31mAttributeError\u001b[0m                            Traceback (most recent call last)",
      "\u001b[1;32m~\\AppData\\Local\\Temp\\ipykernel_19396\\671146276.py\u001b[0m in \u001b[0;36m<module>\u001b[1;34m\u001b[0m\n\u001b[0;32m     13\u001b[0m \u001b[1;33m\u001b[0m\u001b[0m\n\u001b[0;32m     14\u001b[0m \u001b[1;31m# 답글 링크를 선택한 후 클릭해서 답글을 연다.\u001b[0m\u001b[1;33m\u001b[0m\u001b[1;33m\u001b[0m\u001b[1;33m\u001b[0m\u001b[0m\n\u001b[1;32m---> 15\u001b[1;33m driver.find_element_by_xpath(\n\u001b[0m\u001b[0;32m     16\u001b[0m     \u001b[1;31m# '//*[@id=\"cbox_module_wai_u_cbox_content_wrap_tabpanel\"]/ul/li[1]/div[1]/div/div[4]/a' # 1번째 베댓의 댓글 버튼\u001b[0m\u001b[1;33m\u001b[0m\u001b[1;33m\u001b[0m\u001b[1;33m\u001b[0m\u001b[0m\n\u001b[0;32m     17\u001b[0m     \u001b[1;31m# '//*[@id=\"cbox_module_wai_u_cbox_content_wrap_tabpanel\"]/ul/li[2]/div[1]/div/div[4]/a' # 2번째 베댓의 댓글 버튼\u001b[0m\u001b[1;33m\u001b[0m\u001b[1;33m\u001b[0m\u001b[1;33m\u001b[0m\u001b[0m\n",
      "\u001b[1;31mAttributeError\u001b[0m: 'WebDriver' object has no attribute 'find_element_by_xpath'"
     ]
    }
   ],
   "source": [
    "options = webdriver.ChromeOptions\n",
    "option.add_argument('--window-size=1890,1030')\n",
    "service = Service(executable_path=ChromeDriverManager().install())\n",
    "driver = webdriver.Chrome(service=service)\n",
    "\n",
    "driver.get('https://comic.naver.com/webtoon/detail?titleId=812354&no=22')\n",
    "html = driver.page_source\n",
    "soup = BeautifulSoup(html, 'html.parser')\n",
    "reviews = soup.select('span.u_cbox_contents')\n",
    "print(len(reviews))\n",
    "print('{:2d}. {}'.format(1, reviews[0].text))\n",
    "print('=' * 80)\n",
    "\n",
    "# 답글 링크를 선택한 후 클릭해서 답글을 연다.\n",
    "driver.find_element_by_xpath(\n",
    "    # '//*[@id=\"cbox_module_wai_u_cbox_content_wrap_tabpanel\"]/ul/li[1]/div[1]/div/div[4]/a' # 1번째 베댓의 댓글 버튼\n",
    "    # '//*[@id=\"cbox_module_wai_u_cbox_content_wrap_tabpanel\"]/ul/li[2]/div[1]/div/div[4]/a' # 2번째 베댓의 댓글 버튼\n",
    "    # '//*[@id=\"cbox_module_wai_u_cbox_content_wrap_tabpanel\"]/ul/li[3]/div[1]/div/div[4]/a' # 3번째 베댓의 댓글 버튼\n",
    "    # ...\n",
    "    # '//*[@id=\"cbox_module_wai_u_cbox_content_wrap_tabpanel\"]/ul/li[15]/div[1]/div/div[4]/a' # 15번째 베댓의 댓글 버튼\n",
    "    '//*[@id=\"cbox_module_wai_u_cbox_content_wrap_tabpanel\"]/ul/li[1]/div[1]/div/div[4]/a'\n",
    ").click()\n",
    "time.sleep(0.5)\n",
    "\n",
    "# 더보기 링크가 더이상 나오지 않을때 까지 반복하며 답글의 더보기 버튼을 클릭해서 답글을 표시한다.\n",
    "while True:\n",
    "    try:\n",
    "        driver.find_element_by_xpath(\n",
    "            '//*[@id=\"cbox_module_wai_u_cbox_content_wrap_tabpanel\"]/ul/li[1]/div[2]/div[2]/a' # 1번째 베댓의 더보기 링크\n",
    "        ).click()\n",
    "        time.sleep(0.5)\n",
    "    except:\n",
    "        break\n",
    "        \n",
    "# selenium의 새로고침 방법\n",
    "# 1. driver.refresh() # 새로고침을 실행한다.\n",
    "# 2. driver.get(driver.current_url) # get() 메소드에 현재 페이지의 주소를 넣어주는 방법으로 새로고침을 할 수 있다.\n",
    "# execute_script() 메소드로 selenium에서 자바스크립트 코드를 실행시킬 수 있다.\n",
    "# 3. driver.execute_script('location.reload()') # 자바스크립트 location 객체의 reloaf() 함수를 실행해서 새로고침을 할 수 있다.\n",
    "        \n",
    "# 페이지의 내용이 변경되면 다시 읽어와야 한다.\n",
    "html = driver.page_source\n",
    "soup = BeautifulSoup(html, 'html.parser')\n",
    "\n",
    "# 답글을 읽는다.\n",
    "replys = soup.select('#cbox_module_wai_u_cbox_content_wrap_tabpanel div.u_cbox_reply_area span.u_cbox_contents')\n",
    "print(len(replys))\n",
    "for reply in replys:\n",
    "    print(reply.text.split('\\n'))\n",
    "    \n",
    "# 답글 접기 링크를 클릭해서 읽은 베댓의 답글을 닫는다.\n",
    "driver.find_element_by_xpath(\n",
    "    '//*[@id=\"cbox_module_wai_u_cbox_content_wrap_tabpanel\"]/ul/li[1]/div[2]/a'\n",
    ").click()\n",
    "time.sleep(0.5)"
   ]
  },
  {
   "cell_type": "code",
   "execution_count": null,
   "id": "fa1afe18",
   "metadata": {},
   "outputs": [],
   "source": []
  },
  {
   "cell_type": "code",
   "execution_count": null,
   "id": "798bc7c0",
   "metadata": {},
   "outputs": [],
   "source": []
  },
  {
   "cell_type": "code",
   "execution_count": null,
   "id": "db946783",
   "metadata": {},
   "outputs": [],
   "source": []
  },
  {
   "cell_type": "code",
   "execution_count": null,
   "id": "2fc900f8",
   "metadata": {},
   "outputs": [],
   "source": []
  },
  {
   "cell_type": "code",
   "execution_count": null,
   "id": "ff0590b6",
   "metadata": {},
   "outputs": [],
   "source": []
  },
  {
   "cell_type": "code",
   "execution_count": null,
   "id": "ab6e742c",
   "metadata": {},
   "outputs": [],
   "source": []
  }
 ],
 "metadata": {
  "kernelspec": {
   "display_name": "Python 3 (ipykernel)",
   "language": "python",
   "name": "python3"
  },
  "language_info": {
   "codemirror_mode": {
    "name": "ipython",
    "version": 3
   },
   "file_extension": ".py",
   "mimetype": "text/x-python",
   "name": "python",
   "nbconvert_exporter": "python",
   "pygments_lexer": "ipython3",
   "version": "3.7.16"
  }
 },
 "nbformat": 4,
 "nbformat_minor": 5
}
