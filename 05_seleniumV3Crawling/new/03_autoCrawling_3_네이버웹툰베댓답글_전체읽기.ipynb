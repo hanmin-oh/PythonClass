{
 "cells": [
  {
   "cell_type": "code",
   "execution_count": 4,
   "id": "ca29798d",
   "metadata": {},
   "outputs": [],
   "source": [
    "import warnings\n",
    "warnings.filterwarnings(action='ignore')\n",
    "%config Completer.use_jedi = False\n",
    "from bs4 import BeautifulSoup\n",
    "from selenium import webdriver\n",
    "from selenium.webdriver.chrome.options import Options\n",
    "from selenium.webdriver.chrome.service import Service\n",
    "# from webdriver_manager.chrome import ChromeDriverManager\n",
    "from selenium.webdriver.common.by import By\n",
    "from selenium.webdriver.chrome.service import Service\n",
    "import time"
   ]
  },
  {
   "cell_type": "code",
   "execution_count": 6,
   "id": "61665f8f",
   "metadata": {},
   "outputs": [],
   "source": [
    "# pip install selenium-wire"
   ]
  },
  {
   "cell_type": "code",
   "execution_count": 2,
   "id": "3c42bb4c",
   "metadata": {
    "scrolled": false
   },
   "outputs": [
    {
     "ename": "NameError",
     "evalue": "name 'webdriver' is not defined",
     "output_type": "error",
     "traceback": [
      "\u001b[1;31m---------------------------------------------------------------------------\u001b[0m",
      "\u001b[1;31mNameError\u001b[0m                                 Traceback (most recent call last)",
      "\u001b[1;32m~\\AppData\\Local\\Temp\\ipykernel_13472\\3094623950.py\u001b[0m in \u001b[0;36m<module>\u001b[1;34m\u001b[0m\n\u001b[1;32m----> 1\u001b[1;33m \u001b[0moption\u001b[0m \u001b[1;33m=\u001b[0m \u001b[0mwebdriver\u001b[0m\u001b[1;33m.\u001b[0m\u001b[0mChromeOptions\u001b[0m\u001b[1;33m(\u001b[0m\u001b[1;33m)\u001b[0m\u001b[1;33m\u001b[0m\u001b[1;33m\u001b[0m\u001b[0m\n\u001b[0m\u001b[0;32m      2\u001b[0m \u001b[0moption\u001b[0m\u001b[1;33m.\u001b[0m\u001b[0madd_argument\u001b[0m\u001b[1;33m(\u001b[0m\u001b[1;34m'--window-size=1890,1030'\u001b[0m\u001b[1;33m)\u001b[0m\u001b[1;33m\u001b[0m\u001b[1;33m\u001b[0m\u001b[0m\n\u001b[0;32m      3\u001b[0m \u001b[0mservice\u001b[0m \u001b[1;33m=\u001b[0m \u001b[0mChromeService\u001b[0m\u001b[1;33m(\u001b[0m\u001b[0mexecutable_path\u001b[0m\u001b[1;33m=\u001b[0m\u001b[1;34m'chromedriver.exe'\u001b[0m\u001b[1;33m)\u001b[0m\u001b[1;33m\u001b[0m\u001b[1;33m\u001b[0m\u001b[0m\n\u001b[0;32m      4\u001b[0m \u001b[0mdriver\u001b[0m \u001b[1;33m=\u001b[0m \u001b[0mwebdriver\u001b[0m\u001b[1;33m.\u001b[0m\u001b[0mChrome\u001b[0m\u001b[1;33m(\u001b[0m\u001b[0mservice\u001b[0m\u001b[1;33m=\u001b[0m\u001b[0mservice\u001b[0m\u001b[1;33m,\u001b[0m \u001b[0moptions\u001b[0m\u001b[1;33m=\u001b[0m\u001b[0moption\u001b[0m\u001b[1;33m)\u001b[0m\u001b[1;33m\u001b[0m\u001b[1;33m\u001b[0m\u001b[0m\n\u001b[0;32m      5\u001b[0m \u001b[1;31m# driver = webdriver.Chrome(service=Service(executable_path=ChromeDriverManager().install()))\u001b[0m\u001b[1;33m\u001b[0m\u001b[1;33m\u001b[0m\u001b[1;33m\u001b[0m\u001b[0m\n",
      "\u001b[1;31mNameError\u001b[0m: name 'webdriver' is not defined"
     ]
    }
   ],
   "source": [
    "option = webdriver.ChromeOptions()\n",
    "option.add_argument('--window-size=1890,1030')\n",
    "service = ChromeService(executable_path='chromedriver.exe')\n",
    "driver = webdriver.Chrome(service=service, options=option)\n",
    "# driver = webdriver.Chrome(service=Service(executable_path=ChromeDriverManager().install()))\n",
    "driver.implicitly_wait(5)\n",
    "\n",
    "driver.get('https://comic.naver.com/webtoon/detail?titleId=812354&no=22')\n",
    "html = driver.page_source\n",
    "soup = BeautifulSoup(html, 'html.parser')\n",
    "reviews = soup.select('span.u_cbox_contents')\n",
    "print(len(reviews))\n",
    "\n",
    "# 베댓의 개수 만큼 반복하며 베댓과 베댓의 답글을 읽는다. \n",
    "for i in range(len(reviews)):\n",
    "    print('{:2d}. {}'.format(i, reviews[i].text))\n",
    "    print('=' * 80)\n",
    "    \n",
    "    driver.find_element(by=By.XPATH, value='//*[@id=\"cbox_module_wai_u_cbox_content_wrap_tabpanel\"]/ul/li[' + str(i + 1) + ']/div[1]/div/div[4]/a').click()\n",
    "#     driver.find_element(By.XPATH, '//*[@id=\"cbox_module_wai_u_cbox_content_wrap_tabpanel\"]/ul/li[' + str(i + 1) + ']/div[1]/div/div[4]/a')\n",
    "        # '//*[@id=\"cbox_module_wai_u_cbox_content_wrap_tabpanel\"]/ul/li[1]/div[1]/div/div[4]/a' # 1번째 베댓의 댓글 버튼\n",
    "        # '//*[@id=\"cbox_module_wai_u_cbox_content_wrap_tabpanel\"]/ul/li[2]/div[1]/div/div[4]/a' # 2번째 베댓의 댓글 버튼\n",
    "        # '//*[@id=\"cbox_module_wai_u_cbox_content_wrap_tabpanel\"]/ul/li[3]/div[1]/div/div[4]/a' # 3번째 베댓의 댓글 버튼\n",
    "        # ...\n",
    "        # '//*[@id=\"cbox_module_wai_u_cbox_content_wrap_tabpanel\"]/ul/li[15]/div[1]/div/div[4]/a' # 15번째 베댓의 댓글 버튼\n",
    "#         '//*[@id=\"cbox_module_wai_u_cbox_content_wrap_tabpanel\"]/ul/li[' + str(i + 1) + ']/div[1]/div/div[4]/a'\n",
    "#     element.click()\n",
    "    time.sleep(0.5)\n",
    "\n"
   ]
  },
  {
   "cell_type": "code",
   "execution_count": null,
   "id": "73af61a9",
   "metadata": {},
   "outputs": [],
   "source": []
  },
  {
   "cell_type": "code",
   "execution_count": null,
   "id": "74da3706",
   "metadata": {},
   "outputs": [],
   "source": []
  }
 ],
 "metadata": {
  "kernelspec": {
   "display_name": "Python 3 (ipykernel)",
   "language": "python",
   "name": "python3"
  },
  "language_info": {
   "codemirror_mode": {
    "name": "ipython",
    "version": 3
   },
   "file_extension": ".py",
   "mimetype": "text/x-python",
   "name": "python",
   "nbconvert_exporter": "python",
   "pygments_lexer": "ipython3",
   "version": "3.7.16"
  }
 },
 "nbformat": 4,
 "nbformat_minor": 5
}
